{
 "cells": [
  {
   "cell_type": "markdown",
   "id": "e45b7128-b955-437b-a285-50e3ed2a077e",
   "metadata": {},
   "source": [
    "# Introduction"
   ]
  },
  {
   "cell_type": "markdown",
   "id": "bba19574-b7ac-4313-920e-6fb387e23d4e",
   "metadata": {},
   "source": [
    "## Purpose of this Notebook\n",
    "This notebook shows a comparison between two Vector Databases, `Qdrant` and `Milvus` based on the benchmarking repository [vector-db-benchmark](https://github.com/qdrant/vector-db-benchmark).\n",
    "- The main section contains a comparison of the two DataBases based on the benchmarking of some big datasets.\n",
    "- Another section illustrates the performance differencies between filtered and regular vector search using the corresponding datasets with and without filters."
   ]
  },
  {
   "cell_type": "markdown",
   "id": "baf4d4ba-aa94-4f67-bb2c-f23fef31115d",
   "metadata": {},
   "source": [
    "## Datasets\n",
    "The datasets benchmarked for the comparison are listed here. They are a subset of [datasets.json](https://github.com/qdrant/vector-db-benchmark/blob/master/datasets/datasets.json)\n",
    "\n",
    "**random-100-euclidean**\n",
    "- Size: 218 KB\n",
    "- vectors.jsonl , queries.jsonl , neighbours.jsonl\n",
    "- distance: l2\n",
    "  \n",
    "**glove-25-angular**\n",
    "- Size: 121 MB\n",
    "- HDF5 file \n",
    "- distance: cosine\n",
    "\n",
    "**glove-100-angular**\n",
    "- Size: 462 MB\n",
    "- HDF5 file\n",
    "- distance: cosine\n",
    "  \n",
    "**random-match-keyword-100-angular-no-filters**\n",
    "- Size: 404 MB\n",
    "- vectors.npy , tests.jsonl\n",
    "- distance: cosine\n",
    "\n",
    "**random-match-keyword-100-angular-filters** \n",
    "- Size: 434 MB\n",
    "- vectors.npy , tests.jsonl, payloads.jsonl\n",
    "- distance: cosine\n",
    "\n",
    "**h-and-m-2048-angular-no-filters**\n",
    "- Size: 1.23 GB\n",
    "- vectors.npy , tests.jsonl\n",
    "- distance: cosine\n",
    "  \n",
    "**h-and-m-2048-angular-filters**\n",
    "- Size: 1.29 GB\n",
    "- vectors.npy , tests.jsonl , payloads.jsonl , filters.jsonl\n",
    "- distance: cosine\n",
    "\n",
    "**gist-960-euclidean** \n",
    "- Size: 3.58 GB\n",
    "- HDF5 file\n",
    "- distance: l2\n",
    "\n",
    "**laion-small-clip**\n",
    "- Size: 195 MB\n",
    "- vectors.npy , tests.jsonl, payloads.jsonl\n",
    "- distance: cosine\n",
    "\n",
    "**dbpedia-openai-1M-1536-angular** \n",
    "- Size: 5.74 GB\n",
    "- vectors.npy , tests.jsonl\n",
    "- distance: cosine\n",
    "\n",
    "**deep-image-96-angular**\n",
    "- Size: 3.58 GB\n",
    "- HDF5 file\n",
    "- distance: cosine\n"
   ]
  },
  {
   "cell_type": "code",
   "execution_count": 1,
   "id": "3ff11490-d1df-444a-9d65-fc11c3217208",
   "metadata": {},
   "outputs": [],
   "source": [
    "tested_datasets = [\n",
    "\t# \"random-100-euclidean\", \n",
    "\t# \"glove-25-angular\",\n",
    "    \"glove-100-angular\",\n",
    "\t\"random-match-keyword-100-angular-no-filters\",\n",
    "\t# \"random-match-keyword-100-angular-filters\", \n",
    "\t\"h-and-m-2048-angular-no-filters\",\n",
    "\t# \"h-and-m-2048-angular-filters\",\n",
    "\t\"gist-960-euclidean\",\n",
    "\t# \"laion-small-clip\",\n",
    "\t# \"dbpedia-openai-1M-1536-angular\",\n",
    "    # \"deep-image-96-angular\"\n",
    "]\n",
    "\n",
    "fil_datasets = [\n",
    "\t# \"random-match-keyword-100-angular-no-filters\",\n",
    "\t# \"random-match-keyword-100-angular-filters\", \n",
    "\t# \"h-and-m-2048-angular-no-filters\",\n",
    "\t# \"h-and-m-2048-angular-filters\",\n",
    "]"
   ]
  },
  {
   "cell_type": "markdown",
   "id": "ec13033f-597c-44cd-8187-e750cd0813c3",
   "metadata": {},
   "source": [
    "## Results CSV Load"
   ]
  },
  {
   "cell_type": "code",
   "execution_count": 2,
   "id": "715ab121-6169-4cb7-b87d-ec9d4a80f688",
   "metadata": {},
   "outputs": [],
   "source": [
    "from IPython.display import display\n",
    "import pandas as pd\n",
    "from sqlite3 import connect\n",
    "conn = connect(':memory:')\n",
    "\n",
    "tested_upload_df = pd.read_csv(\"upload_results_24_Jan_2025.csv\")\n",
    "tested_search_df = pd.read_csv(\"search_results_24_Jan_2025.csv\")\n",
    "\n",
    "# drop unused dataset_size column\n",
    "tested_upload_df = tested_upload_df.drop(columns=['dataset_size'])\n",
    "tested_search_df = tested_search_df.drop(columns=['dataset_size'])\n",
    "# add index time column for upload info\n",
    "tested_upload_df['qdrant_index_time'] = ( tested_upload_df['qdrant_total_time'] - tested_upload_df['qdrant_upload_time'] )\n",
    "tested_upload_df['milvus_index_time'] = ( tested_upload_df['milvus_total_time'] - tested_upload_df['milvus_upload_time'] )\n",
    "# drop rows with ef_search = 64 (it is available only in Qdrant, not in Milvus)\n",
    "tested_search_df = tested_search_df[tested_search_df[\"ef_search\"] != 64]\n",
    "# add a config column for search df\n",
    "tested_search_df['config'] = (\n",
    "    'm-' + tested_search_df['m'].astype(str) + \n",
    "    '-ef-' + tested_search_df['ef_construct'].astype(str) +\n",
    "    '-parallel-' + tested_search_df['parallel_search'].astype(str) +\n",
    "    '-ef-search-' + tested_search_df['ef_search'].astype(str)\n",
    ")\n",
    "\n",
    "# separate tables for Qdrant and Milvus\n",
    "qdrant_upload_df = tested_upload_df.drop(columns=[col for col in tested_upload_df.columns if 'milvus' in col])\n",
    "milvus_upload_df = tested_upload_df.drop(columns=[col for col in tested_upload_df.columns if 'qdrant' in col])\n",
    "qdrant_search_df = tested_search_df.drop(columns=[col for col in tested_search_df.columns if 'milvus' in col])\n",
    "milvus_search_df = tested_search_df.drop(columns=[col for col in tested_search_df.columns if 'qdrant' in col])\n",
    "\n",
    "# add rounded mean precisions column for each DB and config description column\n",
    "qdrant_search_df['mean_precisions_rounded'] = qdrant_search_df['qdrant_mean_precisions'].round(2)\n",
    "milvus_search_df['mean_precisions_rounded'] = milvus_search_df['milvus_mean_precisions'].round(2)\n",
    "# add database prefix in config\n",
    "qdrant_search_df['config'] = 'qdrant-' + qdrant_search_df['config'].astype(str)\n",
    "milvus_search_df['config'] = 'milvus-' + milvus_search_df['config'].astype(str)\n",
    "# replace total_time with import_time\n",
    "for df in [qdrant_upload_df, milvus_upload_df]:\n",
    "    df.rename(columns={col: col.replace('total', 'import') for col in df.columns if 'total' in col},\n",
    "            inplace=True\n",
    "    )\n",
    "\n",
    "# remove prefixes for the two DB dataframes\n",
    "for prefix, df in [('qdrant_', qdrant_upload_df), ('qdrant_', qdrant_search_df), ('milvus_', milvus_upload_df), ('milvus_', milvus_search_df)]:\n",
    "    df.rename(\n",
    "        columns={col: col.replace(prefix, '') for col in df.columns if col.startswith(prefix)},\n",
    "        inplace=True\n",
    "    )\n",
    "# merge the search dataframe with the upload to get upload and index time \n",
    "qdrant_search_df = pd.merge(\n",
    "    qdrant_search_df,                  # Left DataFrame\n",
    "    qdrant_upload_df,                  # Right DataFrame\n",
    "    on=['m', 'ef_construct', 'dataset'],  # Keys\n",
    "    how='inner',                       # Type of join\n",
    ")\n",
    "milvus_search_df = pd.merge(\n",
    "    milvus_search_df,                  # Left DataFrame\n",
    "    milvus_upload_df,                  # Right DataFrame\n",
    "    on=['m', 'ef_construct', 'dataset'],  # Keys\n",
    "    how='inner',                       # Type of join\n",
    ")   \n",
    "\n",
    "# Register as SQL tables\n",
    "tested_upload_df.to_sql(name='tested_upload_df', con=conn)\n",
    "tested_search_df.to_sql(name='tested_search_df', con=conn)\n",
    "\n",
    "qdrant_upload_df.to_sql(name='qdrant_upload_df', con=conn)\n",
    "milvus_upload_df.to_sql(name='milvus_upload_df', con=conn)\n",
    "qdrant_search_df.to_sql(name='qdrant_search_df', con=conn)\n",
    "milvus_search_df.to_sql(name='milvus_search_df', con=conn)"
   ]
  },
  {
   "cell_type": "code",
   "execution_count": 3,
   "id": "5edb7bbf-9131-43a1-a678-ef7f7ce5bc60",
   "metadata": {},
   "outputs": [
    {
     "data": {
      "text/html": [
       "<div>\n",
       "<style scoped>\n",
       "    .dataframe tbody tr th:only-of-type {\n",
       "        vertical-align: middle;\n",
       "    }\n",
       "\n",
       "    .dataframe tbody tr th {\n",
       "        vertical-align: top;\n",
       "    }\n",
       "\n",
       "    .dataframe thead th {\n",
       "        text-align: right;\n",
       "    }\n",
       "</style>\n",
       "<table border=\"1\" class=\"dataframe\">\n",
       "  <thead>\n",
       "    <tr style=\"text-align: right;\">\n",
       "      <th></th>\n",
       "      <th>m</th>\n",
       "      <th>ef_construct</th>\n",
       "      <th>dataset</th>\n",
       "      <th>qdrant_upload_time</th>\n",
       "      <th>milvus_upload_time</th>\n",
       "      <th>qdrant_total_time</th>\n",
       "      <th>milvus_total_time</th>\n",
       "      <th>qdrant_index_time</th>\n",
       "      <th>milvus_index_time</th>\n",
       "    </tr>\n",
       "  </thead>\n",
       "  <tbody>\n",
       "    <tr>\n",
       "      <th>0</th>\n",
       "      <td>16</td>\n",
       "      <td>128</td>\n",
       "      <td>gist-960-euclidean</td>\n",
       "      <td>180.069424</td>\n",
       "      <td>198.857859</td>\n",
       "      <td>590.885089</td>\n",
       "      <td>1148.785398</td>\n",
       "      <td>410.815665</td>\n",
       "      <td>949.927539</td>\n",
       "    </tr>\n",
       "    <tr>\n",
       "      <th>1</th>\n",
       "      <td>16</td>\n",
       "      <td>128</td>\n",
       "      <td>glove-100-angular</td>\n",
       "      <td>126.881057</td>\n",
       "      <td>126.880983</td>\n",
       "      <td>277.223096</td>\n",
       "      <td>402.612144</td>\n",
       "      <td>150.342039</td>\n",
       "      <td>275.731161</td>\n",
       "    </tr>\n",
       "  </tbody>\n",
       "</table>\n",
       "</div>"
      ],
      "text/plain": [
       "    m  ef_construct             dataset  qdrant_upload_time  \\\n",
       "0  16           128  gist-960-euclidean          180.069424   \n",
       "1  16           128   glove-100-angular          126.881057   \n",
       "\n",
       "   milvus_upload_time  qdrant_total_time  milvus_total_time  \\\n",
       "0          198.857859         590.885089        1148.785398   \n",
       "1          126.880983         277.223096         402.612144   \n",
       "\n",
       "   qdrant_index_time  milvus_index_time  \n",
       "0         410.815665         949.927539  \n",
       "1         150.342039         275.731161  "
      ]
     },
     "execution_count": 3,
     "metadata": {},
     "output_type": "execute_result"
    }
   ],
   "source": [
    "tested_upload_df.head(2)"
   ]
  },
  {
   "cell_type": "code",
   "execution_count": 4,
   "id": "2c510f95-78e1-4397-b6b1-801088c0c6f7",
   "metadata": {},
   "outputs": [
    {
     "name": "stdout",
     "output_type": "stream",
     "text": [
      "<class 'pandas.core.frame.DataFrame'>\n",
      "Int64Index: 324 entries, 0 to 422\n",
      "Data columns (total 24 columns):\n",
      " #   Column                  Non-Null Count  Dtype  \n",
      "---  ------                  --------------  -----  \n",
      " 0   m                       324 non-null    int64  \n",
      " 1   ef_construct            324 non-null    int64  \n",
      " 2   parallel_search         324 non-null    int64  \n",
      " 3   ef_search               324 non-null    int64  \n",
      " 4   dataset                 324 non-null    object \n",
      " 5   qdrant_total_time       324 non-null    float64\n",
      " 6   milvus_total_time       324 non-null    float64\n",
      " 7   qdrant_mean_time        324 non-null    float64\n",
      " 8   milvus_mean_time        324 non-null    float64\n",
      " 9   qdrant_mean_precisions  324 non-null    float64\n",
      " 10  milvus_mean_precisions  324 non-null    float64\n",
      " 11  qdrant_std_time         324 non-null    float64\n",
      " 12  milvus_std_time         324 non-null    float64\n",
      " 13  qdrant_min_time         324 non-null    float64\n",
      " 14  milvus_min_time         324 non-null    float64\n",
      " 15  qdrant_max_time         324 non-null    float64\n",
      " 16  milvus_max_time         324 non-null    float64\n",
      " 17  qdrant_rps              324 non-null    float64\n",
      " 18  milvus_rps              324 non-null    float64\n",
      " 19  qdrant_p95_time         324 non-null    float64\n",
      " 20  milvus_p95_time         324 non-null    float64\n",
      " 21  qdrant_p99_time         324 non-null    float64\n",
      " 22  milvus_p99_time         324 non-null    float64\n",
      " 23  config                  324 non-null    object \n",
      "dtypes: float64(18), int64(4), object(2)\n",
      "memory usage: 63.3+ KB\n"
     ]
    }
   ],
   "source": [
    "tested_search_df.info()"
   ]
  },
  {
   "cell_type": "code",
   "execution_count": 5,
   "id": "55f8f056-d88f-440d-b7ce-15a430857516",
   "metadata": {},
   "outputs": [
    {
     "data": {
      "text/html": [
       "<div>\n",
       "<style scoped>\n",
       "    .dataframe tbody tr th:only-of-type {\n",
       "        vertical-align: middle;\n",
       "    }\n",
       "\n",
       "    .dataframe tbody tr th {\n",
       "        vertical-align: top;\n",
       "    }\n",
       "\n",
       "    .dataframe thead th {\n",
       "        text-align: right;\n",
       "    }\n",
       "</style>\n",
       "<table border=\"1\" class=\"dataframe\">\n",
       "  <thead>\n",
       "    <tr style=\"text-align: right;\">\n",
       "      <th></th>\n",
       "      <th>m</th>\n",
       "      <th>ef_construct</th>\n",
       "      <th>dataset</th>\n",
       "      <th>upload_time</th>\n",
       "      <th>import_time</th>\n",
       "      <th>index_time</th>\n",
       "    </tr>\n",
       "  </thead>\n",
       "  <tbody>\n",
       "    <tr>\n",
       "      <th>0</th>\n",
       "      <td>16</td>\n",
       "      <td>128</td>\n",
       "      <td>gist-960-euclidean</td>\n",
       "      <td>180.069424</td>\n",
       "      <td>590.885089</td>\n",
       "      <td>410.815665</td>\n",
       "    </tr>\n",
       "    <tr>\n",
       "      <th>1</th>\n",
       "      <td>16</td>\n",
       "      <td>128</td>\n",
       "      <td>glove-100-angular</td>\n",
       "      <td>126.881057</td>\n",
       "      <td>277.223096</td>\n",
       "      <td>150.342039</td>\n",
       "    </tr>\n",
       "  </tbody>\n",
       "</table>\n",
       "</div>"
      ],
      "text/plain": [
       "    m  ef_construct             dataset  upload_time  import_time  index_time\n",
       "0  16           128  gist-960-euclidean   180.069424   590.885089  410.815665\n",
       "1  16           128   glove-100-angular   126.881057   277.223096  150.342039"
      ]
     },
     "execution_count": 5,
     "metadata": {},
     "output_type": "execute_result"
    }
   ],
   "source": [
    "qdrant_upload_df.head(2)"
   ]
  },
  {
   "cell_type": "code",
   "execution_count": 6,
   "id": "5200baa7-9da7-48fa-867a-e9b7f65d7a1c",
   "metadata": {},
   "outputs": [
    {
     "data": {
      "text/html": [
       "<div>\n",
       "<style scoped>\n",
       "    .dataframe tbody tr th:only-of-type {\n",
       "        vertical-align: middle;\n",
       "    }\n",
       "\n",
       "    .dataframe tbody tr th {\n",
       "        vertical-align: top;\n",
       "    }\n",
       "\n",
       "    .dataframe thead th {\n",
       "        text-align: right;\n",
       "    }\n",
       "</style>\n",
       "<table border=\"1\" class=\"dataframe\">\n",
       "  <thead>\n",
       "    <tr style=\"text-align: right;\">\n",
       "      <th></th>\n",
       "      <th>m</th>\n",
       "      <th>ef_construct</th>\n",
       "      <th>dataset</th>\n",
       "      <th>upload_time</th>\n",
       "      <th>import_time</th>\n",
       "      <th>index_time</th>\n",
       "    </tr>\n",
       "  </thead>\n",
       "  <tbody>\n",
       "    <tr>\n",
       "      <th>0</th>\n",
       "      <td>16</td>\n",
       "      <td>128</td>\n",
       "      <td>gist-960-euclidean</td>\n",
       "      <td>198.857859</td>\n",
       "      <td>1148.785398</td>\n",
       "      <td>949.927539</td>\n",
       "    </tr>\n",
       "    <tr>\n",
       "      <th>1</th>\n",
       "      <td>16</td>\n",
       "      <td>128</td>\n",
       "      <td>glove-100-angular</td>\n",
       "      <td>126.880983</td>\n",
       "      <td>402.612144</td>\n",
       "      <td>275.731161</td>\n",
       "    </tr>\n",
       "  </tbody>\n",
       "</table>\n",
       "</div>"
      ],
      "text/plain": [
       "    m  ef_construct             dataset  upload_time  import_time  index_time\n",
       "0  16           128  gist-960-euclidean   198.857859  1148.785398  949.927539\n",
       "1  16           128   glove-100-angular   126.880983   402.612144  275.731161"
      ]
     },
     "execution_count": 6,
     "metadata": {},
     "output_type": "execute_result"
    }
   ],
   "source": [
    "milvus_upload_df.head(2)"
   ]
  },
  {
   "cell_type": "code",
   "execution_count": 7,
   "id": "5be9244a-63bc-4e07-8cf2-bff00d15c176",
   "metadata": {},
   "outputs": [
    {
     "name": "stdout",
     "output_type": "stream",
     "text": [
      "<class 'pandas.core.frame.DataFrame'>\n",
      "Int64Index: 324 entries, 0 to 323\n",
      "Data columns (total 19 columns):\n",
      " #   Column                   Non-Null Count  Dtype  \n",
      "---  ------                   --------------  -----  \n",
      " 0   m                        324 non-null    int64  \n",
      " 1   ef_construct             324 non-null    int64  \n",
      " 2   parallel_search          324 non-null    int64  \n",
      " 3   ef_search                324 non-null    int64  \n",
      " 4   dataset                  324 non-null    object \n",
      " 5   total_time               324 non-null    float64\n",
      " 6   mean_time                324 non-null    float64\n",
      " 7   mean_precisions          324 non-null    float64\n",
      " 8   std_time                 324 non-null    float64\n",
      " 9   min_time                 324 non-null    float64\n",
      " 10  max_time                 324 non-null    float64\n",
      " 11  rps                      324 non-null    float64\n",
      " 12  p95_time                 324 non-null    float64\n",
      " 13  p99_time                 324 non-null    float64\n",
      " 14  config                   324 non-null    object \n",
      " 15  mean_precisions_rounded  324 non-null    float64\n",
      " 16  upload_time              324 non-null    float64\n",
      " 17  import_time              324 non-null    float64\n",
      " 18  index_time               324 non-null    float64\n",
      "dtypes: float64(13), int64(4), object(2)\n",
      "memory usage: 50.6+ KB\n"
     ]
    }
   ],
   "source": [
    "qdrant_search_df.info()"
   ]
  },
  {
   "cell_type": "code",
   "execution_count": 8,
   "id": "131ab00d-f76c-4008-80de-bba1173054fc",
   "metadata": {},
   "outputs": [
    {
     "name": "stdout",
     "output_type": "stream",
     "text": [
      "<class 'pandas.core.frame.DataFrame'>\n",
      "Int64Index: 324 entries, 0 to 323\n",
      "Data columns (total 19 columns):\n",
      " #   Column                   Non-Null Count  Dtype  \n",
      "---  ------                   --------------  -----  \n",
      " 0   m                        324 non-null    int64  \n",
      " 1   ef_construct             324 non-null    int64  \n",
      " 2   parallel_search          324 non-null    int64  \n",
      " 3   ef_search                324 non-null    int64  \n",
      " 4   dataset                  324 non-null    object \n",
      " 5   total_time               324 non-null    float64\n",
      " 6   mean_time                324 non-null    float64\n",
      " 7   mean_precisions          324 non-null    float64\n",
      " 8   std_time                 324 non-null    float64\n",
      " 9   min_time                 324 non-null    float64\n",
      " 10  max_time                 324 non-null    float64\n",
      " 11  rps                      324 non-null    float64\n",
      " 12  p95_time                 324 non-null    float64\n",
      " 13  p99_time                 324 non-null    float64\n",
      " 14  config                   324 non-null    object \n",
      " 15  mean_precisions_rounded  324 non-null    float64\n",
      " 16  upload_time              324 non-null    float64\n",
      " 17  import_time              324 non-null    float64\n",
      " 18  index_time               324 non-null    float64\n",
      "dtypes: float64(13), int64(4), object(2)\n",
      "memory usage: 50.6+ KB\n"
     ]
    }
   ],
   "source": [
    "milvus_search_df.info()"
   ]
  },
  {
   "cell_type": "markdown",
   "id": "90e849e1-4bab-484d-8822-298b6afcedd7",
   "metadata": {},
   "source": [
    "## Utils"
   ]
  },
  {
   "cell_type": "code",
   "execution_count": 9,
   "id": "a04f4599-5cf0-405c-926b-b6098743cd8a",
   "metadata": {},
   "outputs": [],
   "source": [
    "class Query:\n",
    "    def __init__(self, select_columns: str = \"*\", where_condition: str = \"true\", description = None):\n",
    "        self.columns : str = select_columns\n",
    "        self.condition : str = where_condition\n",
    "        self.description : str = description if description else self.condition"
   ]
  },
  {
   "cell_type": "code",
   "execution_count": 10,
   "id": "43077b98-c3b9-4159-9d15-0925ad4f00d5",
   "metadata": {},
   "outputs": [],
   "source": [
    "def print_h2(text: str):\n",
    "    delimiter = 100*\"*\"\n",
    "    line_text = f\" {text} \"\n",
    "    half_delimiter = ( (len(delimiter) - len(line_text))//2 ) * \"*\"\n",
    "    print(\"\\n\")\n",
    "    print(half_delimiter + line_text + half_delimiter)\n",
    "    print()\n",
    "    \n",
    "def print_h1(value: str, title: str = \"Dataset\"):\n",
    "    delimiter = 100*\"*\"\n",
    "    line_text = f\" {title}: {value} \"\n",
    "    half_delimiter = ( (len(delimiter) - len(line_text))//2 ) * \"*\"\n",
    "    print(\"\\n\")\n",
    "    print(delimiter)\n",
    "    print(half_delimiter + line_text + half_delimiter)\n",
    "    print(delimiter)\n",
    "    "
   ]
  },
  {
   "cell_type": "markdown",
   "id": "c83d60d3-efc3-4aa1-be45-45f6675a37a7",
   "metadata": {},
   "source": [
    "## Filter results based on condition"
   ]
  },
  {
   "cell_type": "code",
   "execution_count": 11,
   "id": "9990f4bb-663f-484c-88fe-f527170a3942",
   "metadata": {},
   "outputs": [],
   "source": [
    "def results_on_condition(q: Query, selected_datasets: list):\n",
    "    for dataset in selected_datasets:\n",
    "        print_h1(dataset)\n",
    "        print_h2(q.description)\n",
    "        display(pd.read_sql(f\"select {q.columns} from tested_search_df where {q.condition} and dataset='{dataset}'\", con=conn))"
   ]
  },
  {
   "cell_type": "code",
   "execution_count": 12,
   "id": "44d52e00-0ca7-42c2-936f-941161811ba4",
   "metadata": {},
   "outputs": [
    {
     "name": "stdout",
     "output_type": "stream",
     "text": [
      "\n",
      "\n",
      "****************************************************************************************************\n",
      "************************************ Dataset: glove-100-angular ************************************\n",
      "****************************************************************************************************\n",
      "\n",
      "\n",
      "******************************** precisions between 0.01 threshold ********************************\n",
      "\n"
     ]
    },
    {
     "data": {
      "text/html": [
       "<div>\n",
       "<style scoped>\n",
       "    .dataframe tbody tr th:only-of-type {\n",
       "        vertical-align: middle;\n",
       "    }\n",
       "\n",
       "    .dataframe tbody tr th {\n",
       "        vertical-align: top;\n",
       "    }\n",
       "\n",
       "    .dataframe thead th {\n",
       "        text-align: right;\n",
       "    }\n",
       "</style>\n",
       "<table border=\"1\" class=\"dataframe\">\n",
       "  <thead>\n",
       "    <tr style=\"text-align: right;\">\n",
       "      <th></th>\n",
       "      <th>m</th>\n",
       "      <th>ef_construct</th>\n",
       "      <th>parallel_search</th>\n",
       "      <th>ef_search</th>\n",
       "      <th>qdrant_total_time</th>\n",
       "      <th>milvus_total_time</th>\n",
       "      <th>qdrant_mean_precisions</th>\n",
       "      <th>milvus_mean_precisions</th>\n",
       "    </tr>\n",
       "  </thead>\n",
       "  <tbody>\n",
       "  </tbody>\n",
       "</table>\n",
       "</div>"
      ],
      "text/plain": [
       "Empty DataFrame\n",
       "Columns: [m, ef_construct, parallel_search, ef_search, qdrant_total_time, milvus_total_time, qdrant_mean_precisions, milvus_mean_precisions]\n",
       "Index: []"
      ]
     },
     "metadata": {},
     "output_type": "display_data"
    },
    {
     "name": "stdout",
     "output_type": "stream",
     "text": [
      "\n",
      "\n",
      "****************************************************************************************************\n",
      "*********************** Dataset: random-match-keyword-100-angular-no-filters ***********************\n",
      "****************************************************************************************************\n",
      "\n",
      "\n",
      "******************************** precisions between 0.01 threshold ********************************\n",
      "\n"
     ]
    },
    {
     "data": {
      "text/html": [
       "<div>\n",
       "<style scoped>\n",
       "    .dataframe tbody tr th:only-of-type {\n",
       "        vertical-align: middle;\n",
       "    }\n",
       "\n",
       "    .dataframe tbody tr th {\n",
       "        vertical-align: top;\n",
       "    }\n",
       "\n",
       "    .dataframe thead th {\n",
       "        text-align: right;\n",
       "    }\n",
       "</style>\n",
       "<table border=\"1\" class=\"dataframe\">\n",
       "  <thead>\n",
       "    <tr style=\"text-align: right;\">\n",
       "      <th></th>\n",
       "      <th>m</th>\n",
       "      <th>ef_construct</th>\n",
       "      <th>parallel_search</th>\n",
       "      <th>ef_search</th>\n",
       "      <th>qdrant_total_time</th>\n",
       "      <th>milvus_total_time</th>\n",
       "      <th>qdrant_mean_precisions</th>\n",
       "      <th>milvus_mean_precisions</th>\n",
       "    </tr>\n",
       "  </thead>\n",
       "  <tbody>\n",
       "    <tr>\n",
       "      <th>0</th>\n",
       "      <td>64</td>\n",
       "      <td>512</td>\n",
       "      <td>1</td>\n",
       "      <td>512</td>\n",
       "      <td>117.443732</td>\n",
       "      <td>97.927966</td>\n",
       "      <td>0.9994</td>\n",
       "      <td>0.99156</td>\n",
       "    </tr>\n",
       "    <tr>\n",
       "      <th>1</th>\n",
       "      <td>64</td>\n",
       "      <td>512</td>\n",
       "      <td>100</td>\n",
       "      <td>512</td>\n",
       "      <td>98.404297</td>\n",
       "      <td>42.804713</td>\n",
       "      <td>0.9994</td>\n",
       "      <td>0.99156</td>\n",
       "    </tr>\n",
       "  </tbody>\n",
       "</table>\n",
       "</div>"
      ],
      "text/plain": [
       "    m  ef_construct  parallel_search  ef_search  qdrant_total_time  \\\n",
       "0  64           512                1        512         117.443732   \n",
       "1  64           512              100        512          98.404297   \n",
       "\n",
       "   milvus_total_time  qdrant_mean_precisions  milvus_mean_precisions  \n",
       "0          97.927966                  0.9994                 0.99156  \n",
       "1          42.804713                  0.9994                 0.99156  "
      ]
     },
     "metadata": {},
     "output_type": "display_data"
    },
    {
     "name": "stdout",
     "output_type": "stream",
     "text": [
      "\n",
      "\n",
      "****************************************************************************************************\n",
      "***************************** Dataset: h-and-m-2048-angular-no-filters *****************************\n",
      "****************************************************************************************************\n",
      "\n",
      "\n",
      "******************************** precisions between 0.01 threshold ********************************\n",
      "\n"
     ]
    },
    {
     "data": {
      "text/html": [
       "<div>\n",
       "<style scoped>\n",
       "    .dataframe tbody tr th:only-of-type {\n",
       "        vertical-align: middle;\n",
       "    }\n",
       "\n",
       "    .dataframe tbody tr th {\n",
       "        vertical-align: top;\n",
       "    }\n",
       "\n",
       "    .dataframe thead th {\n",
       "        text-align: right;\n",
       "    }\n",
       "</style>\n",
       "<table border=\"1\" class=\"dataframe\">\n",
       "  <thead>\n",
       "    <tr style=\"text-align: right;\">\n",
       "      <th></th>\n",
       "      <th>m</th>\n",
       "      <th>ef_construct</th>\n",
       "      <th>parallel_search</th>\n",
       "      <th>ef_search</th>\n",
       "      <th>qdrant_total_time</th>\n",
       "      <th>milvus_total_time</th>\n",
       "      <th>qdrant_mean_precisions</th>\n",
       "      <th>milvus_mean_precisions</th>\n",
       "    </tr>\n",
       "  </thead>\n",
       "  <tbody>\n",
       "    <tr>\n",
       "      <th>0</th>\n",
       "      <td>16</td>\n",
       "      <td>128</td>\n",
       "      <td>1</td>\n",
       "      <td>128</td>\n",
       "      <td>54.078531</td>\n",
       "      <td>77.556569</td>\n",
       "      <td>0.99941</td>\n",
       "      <td>0.99915</td>\n",
       "    </tr>\n",
       "    <tr>\n",
       "      <th>1</th>\n",
       "      <td>16</td>\n",
       "      <td>128</td>\n",
       "      <td>1</td>\n",
       "      <td>256</td>\n",
       "      <td>65.203710</td>\n",
       "      <td>79.762774</td>\n",
       "      <td>0.99971</td>\n",
       "      <td>0.99926</td>\n",
       "    </tr>\n",
       "    <tr>\n",
       "      <th>2</th>\n",
       "      <td>16</td>\n",
       "      <td>128</td>\n",
       "      <td>1</td>\n",
       "      <td>512</td>\n",
       "      <td>84.281343</td>\n",
       "      <td>100.473559</td>\n",
       "      <td>0.99976</td>\n",
       "      <td>0.99945</td>\n",
       "    </tr>\n",
       "    <tr>\n",
       "      <th>3</th>\n",
       "      <td>16</td>\n",
       "      <td>128</td>\n",
       "      <td>100</td>\n",
       "      <td>128</td>\n",
       "      <td>26.737228</td>\n",
       "      <td>19.423637</td>\n",
       "      <td>0.99941</td>\n",
       "      <td>0.99819</td>\n",
       "    </tr>\n",
       "    <tr>\n",
       "      <th>4</th>\n",
       "      <td>16</td>\n",
       "      <td>128</td>\n",
       "      <td>100</td>\n",
       "      <td>256</td>\n",
       "      <td>36.675307</td>\n",
       "      <td>21.551324</td>\n",
       "      <td>0.99971</td>\n",
       "      <td>0.99914</td>\n",
       "    </tr>\n",
       "    <tr>\n",
       "      <th>5</th>\n",
       "      <td>16</td>\n",
       "      <td>128</td>\n",
       "      <td>100</td>\n",
       "      <td>512</td>\n",
       "      <td>54.897648</td>\n",
       "      <td>24.656901</td>\n",
       "      <td>0.99976</td>\n",
       "      <td>0.99937</td>\n",
       "    </tr>\n",
       "    <tr>\n",
       "      <th>6</th>\n",
       "      <td>32</td>\n",
       "      <td>128</td>\n",
       "      <td>1</td>\n",
       "      <td>128</td>\n",
       "      <td>55.923913</td>\n",
       "      <td>68.290376</td>\n",
       "      <td>0.99940</td>\n",
       "      <td>0.99914</td>\n",
       "    </tr>\n",
       "    <tr>\n",
       "      <th>7</th>\n",
       "      <td>32</td>\n",
       "      <td>128</td>\n",
       "      <td>1</td>\n",
       "      <td>256</td>\n",
       "      <td>66.869194</td>\n",
       "      <td>109.448547</td>\n",
       "      <td>0.99962</td>\n",
       "      <td>0.99950</td>\n",
       "    </tr>\n",
       "    <tr>\n",
       "      <th>8</th>\n",
       "      <td>32</td>\n",
       "      <td>128</td>\n",
       "      <td>1</td>\n",
       "      <td>512</td>\n",
       "      <td>88.057550</td>\n",
       "      <td>61.048402</td>\n",
       "      <td>0.99971</td>\n",
       "      <td>0.99958</td>\n",
       "    </tr>\n",
       "    <tr>\n",
       "      <th>9</th>\n",
       "      <td>32</td>\n",
       "      <td>128</td>\n",
       "      <td>100</td>\n",
       "      <td>128</td>\n",
       "      <td>29.654456</td>\n",
       "      <td>19.780167</td>\n",
       "      <td>0.99940</td>\n",
       "      <td>0.99883</td>\n",
       "    </tr>\n",
       "    <tr>\n",
       "      <th>10</th>\n",
       "      <td>32</td>\n",
       "      <td>128</td>\n",
       "      <td>100</td>\n",
       "      <td>256</td>\n",
       "      <td>39.760404</td>\n",
       "      <td>21.544593</td>\n",
       "      <td>0.99962</td>\n",
       "      <td>0.99930</td>\n",
       "    </tr>\n",
       "    <tr>\n",
       "      <th>11</th>\n",
       "      <td>32</td>\n",
       "      <td>128</td>\n",
       "      <td>100</td>\n",
       "      <td>512</td>\n",
       "      <td>59.483923</td>\n",
       "      <td>24.725372</td>\n",
       "      <td>0.99971</td>\n",
       "      <td>0.99958</td>\n",
       "    </tr>\n",
       "    <tr>\n",
       "      <th>12</th>\n",
       "      <td>32</td>\n",
       "      <td>256</td>\n",
       "      <td>1</td>\n",
       "      <td>128</td>\n",
       "      <td>58.529722</td>\n",
       "      <td>105.231544</td>\n",
       "      <td>0.99973</td>\n",
       "      <td>0.99948</td>\n",
       "    </tr>\n",
       "    <tr>\n",
       "      <th>13</th>\n",
       "      <td>32</td>\n",
       "      <td>256</td>\n",
       "      <td>1</td>\n",
       "      <td>256</td>\n",
       "      <td>71.773530</td>\n",
       "      <td>85.638192</td>\n",
       "      <td>0.99976</td>\n",
       "      <td>0.99961</td>\n",
       "    </tr>\n",
       "    <tr>\n",
       "      <th>14</th>\n",
       "      <td>32</td>\n",
       "      <td>256</td>\n",
       "      <td>1</td>\n",
       "      <td>512</td>\n",
       "      <td>92.206738</td>\n",
       "      <td>140.071689</td>\n",
       "      <td>0.99977</td>\n",
       "      <td>0.99973</td>\n",
       "    </tr>\n",
       "    <tr>\n",
       "      <th>15</th>\n",
       "      <td>32</td>\n",
       "      <td>256</td>\n",
       "      <td>100</td>\n",
       "      <td>128</td>\n",
       "      <td>31.279131</td>\n",
       "      <td>20.485482</td>\n",
       "      <td>0.99973</td>\n",
       "      <td>0.99945</td>\n",
       "    </tr>\n",
       "    <tr>\n",
       "      <th>16</th>\n",
       "      <td>32</td>\n",
       "      <td>256</td>\n",
       "      <td>100</td>\n",
       "      <td>256</td>\n",
       "      <td>43.440900</td>\n",
       "      <td>22.331264</td>\n",
       "      <td>0.99976</td>\n",
       "      <td>0.99964</td>\n",
       "    </tr>\n",
       "    <tr>\n",
       "      <th>17</th>\n",
       "      <td>32</td>\n",
       "      <td>256</td>\n",
       "      <td>100</td>\n",
       "      <td>512</td>\n",
       "      <td>64.023827</td>\n",
       "      <td>26.080808</td>\n",
       "      <td>0.99977</td>\n",
       "      <td>0.99973</td>\n",
       "    </tr>\n",
       "    <tr>\n",
       "      <th>18</th>\n",
       "      <td>32</td>\n",
       "      <td>512</td>\n",
       "      <td>1</td>\n",
       "      <td>128</td>\n",
       "      <td>60.014287</td>\n",
       "      <td>101.328905</td>\n",
       "      <td>0.99979</td>\n",
       "      <td>0.99961</td>\n",
       "    </tr>\n",
       "    <tr>\n",
       "      <th>19</th>\n",
       "      <td>32</td>\n",
       "      <td>512</td>\n",
       "      <td>1</td>\n",
       "      <td>256</td>\n",
       "      <td>74.635514</td>\n",
       "      <td>147.006704</td>\n",
       "      <td>0.99982</td>\n",
       "      <td>0.99966</td>\n",
       "    </tr>\n",
       "    <tr>\n",
       "      <th>20</th>\n",
       "      <td>32</td>\n",
       "      <td>512</td>\n",
       "      <td>1</td>\n",
       "      <td>512</td>\n",
       "      <td>96.905451</td>\n",
       "      <td>144.804806</td>\n",
       "      <td>0.99982</td>\n",
       "      <td>0.99977</td>\n",
       "    </tr>\n",
       "    <tr>\n",
       "      <th>21</th>\n",
       "      <td>32</td>\n",
       "      <td>512</td>\n",
       "      <td>100</td>\n",
       "      <td>128</td>\n",
       "      <td>33.229307</td>\n",
       "      <td>39.802102</td>\n",
       "      <td>0.99979</td>\n",
       "      <td>0.99967</td>\n",
       "    </tr>\n",
       "    <tr>\n",
       "      <th>22</th>\n",
       "      <td>32</td>\n",
       "      <td>512</td>\n",
       "      <td>100</td>\n",
       "      <td>256</td>\n",
       "      <td>47.082675</td>\n",
       "      <td>43.084696</td>\n",
       "      <td>0.99982</td>\n",
       "      <td>0.99975</td>\n",
       "    </tr>\n",
       "    <tr>\n",
       "      <th>23</th>\n",
       "      <td>32</td>\n",
       "      <td>512</td>\n",
       "      <td>100</td>\n",
       "      <td>512</td>\n",
       "      <td>69.926114</td>\n",
       "      <td>31.635731</td>\n",
       "      <td>0.99982</td>\n",
       "      <td>0.99979</td>\n",
       "    </tr>\n",
       "    <tr>\n",
       "      <th>24</th>\n",
       "      <td>64</td>\n",
       "      <td>256</td>\n",
       "      <td>1</td>\n",
       "      <td>128</td>\n",
       "      <td>58.882203</td>\n",
       "      <td>108.406207</td>\n",
       "      <td>0.99969</td>\n",
       "      <td>0.99961</td>\n",
       "    </tr>\n",
       "    <tr>\n",
       "      <th>25</th>\n",
       "      <td>64</td>\n",
       "      <td>256</td>\n",
       "      <td>1</td>\n",
       "      <td>256</td>\n",
       "      <td>72.791528</td>\n",
       "      <td>83.080295</td>\n",
       "      <td>0.99980</td>\n",
       "      <td>0.99963</td>\n",
       "    </tr>\n",
       "    <tr>\n",
       "      <th>26</th>\n",
       "      <td>64</td>\n",
       "      <td>256</td>\n",
       "      <td>1</td>\n",
       "      <td>512</td>\n",
       "      <td>95.313186</td>\n",
       "      <td>144.167583</td>\n",
       "      <td>0.99980</td>\n",
       "      <td>0.99973</td>\n",
       "    </tr>\n",
       "    <tr>\n",
       "      <th>27</th>\n",
       "      <td>64</td>\n",
       "      <td>256</td>\n",
       "      <td>100</td>\n",
       "      <td>128</td>\n",
       "      <td>30.685976</td>\n",
       "      <td>20.214760</td>\n",
       "      <td>0.99969</td>\n",
       "      <td>0.99946</td>\n",
       "    </tr>\n",
       "    <tr>\n",
       "      <th>28</th>\n",
       "      <td>64</td>\n",
       "      <td>256</td>\n",
       "      <td>100</td>\n",
       "      <td>256</td>\n",
       "      <td>42.260736</td>\n",
       "      <td>22.479072</td>\n",
       "      <td>0.99980</td>\n",
       "      <td>0.99959</td>\n",
       "    </tr>\n",
       "    <tr>\n",
       "      <th>29</th>\n",
       "      <td>64</td>\n",
       "      <td>256</td>\n",
       "      <td>100</td>\n",
       "      <td>512</td>\n",
       "      <td>61.850634</td>\n",
       "      <td>26.513444</td>\n",
       "      <td>0.99980</td>\n",
       "      <td>0.99967</td>\n",
       "    </tr>\n",
       "    <tr>\n",
       "      <th>30</th>\n",
       "      <td>64</td>\n",
       "      <td>512</td>\n",
       "      <td>1</td>\n",
       "      <td>128</td>\n",
       "      <td>63.374321</td>\n",
       "      <td>61.827096</td>\n",
       "      <td>0.99977</td>\n",
       "      <td>0.99961</td>\n",
       "    </tr>\n",
       "    <tr>\n",
       "      <th>31</th>\n",
       "      <td>64</td>\n",
       "      <td>512</td>\n",
       "      <td>1</td>\n",
       "      <td>256</td>\n",
       "      <td>81.196557</td>\n",
       "      <td>154.676339</td>\n",
       "      <td>0.99980</td>\n",
       "      <td>0.99970</td>\n",
       "    </tr>\n",
       "    <tr>\n",
       "      <th>32</th>\n",
       "      <td>64</td>\n",
       "      <td>512</td>\n",
       "      <td>1</td>\n",
       "      <td>512</td>\n",
       "      <td>104.816448</td>\n",
       "      <td>113.573808</td>\n",
       "      <td>0.99982</td>\n",
       "      <td>0.99975</td>\n",
       "    </tr>\n",
       "    <tr>\n",
       "      <th>33</th>\n",
       "      <td>64</td>\n",
       "      <td>512</td>\n",
       "      <td>100</td>\n",
       "      <td>128</td>\n",
       "      <td>36.830119</td>\n",
       "      <td>20.809401</td>\n",
       "      <td>0.99977</td>\n",
       "      <td>0.99946</td>\n",
       "    </tr>\n",
       "    <tr>\n",
       "      <th>34</th>\n",
       "      <td>64</td>\n",
       "      <td>512</td>\n",
       "      <td>100</td>\n",
       "      <td>256</td>\n",
       "      <td>49.810604</td>\n",
       "      <td>23.299772</td>\n",
       "      <td>0.99980</td>\n",
       "      <td>0.99968</td>\n",
       "    </tr>\n",
       "    <tr>\n",
       "      <th>35</th>\n",
       "      <td>64</td>\n",
       "      <td>512</td>\n",
       "      <td>100</td>\n",
       "      <td>512</td>\n",
       "      <td>74.408881</td>\n",
       "      <td>27.811078</td>\n",
       "      <td>0.99982</td>\n",
       "      <td>0.99973</td>\n",
       "    </tr>\n",
       "  </tbody>\n",
       "</table>\n",
       "</div>"
      ],
      "text/plain": [
       "     m  ef_construct  parallel_search  ef_search  qdrant_total_time  \\\n",
       "0   16           128                1        128          54.078531   \n",
       "1   16           128                1        256          65.203710   \n",
       "2   16           128                1        512          84.281343   \n",
       "3   16           128              100        128          26.737228   \n",
       "4   16           128              100        256          36.675307   \n",
       "5   16           128              100        512          54.897648   \n",
       "6   32           128                1        128          55.923913   \n",
       "7   32           128                1        256          66.869194   \n",
       "8   32           128                1        512          88.057550   \n",
       "9   32           128              100        128          29.654456   \n",
       "10  32           128              100        256          39.760404   \n",
       "11  32           128              100        512          59.483923   \n",
       "12  32           256                1        128          58.529722   \n",
       "13  32           256                1        256          71.773530   \n",
       "14  32           256                1        512          92.206738   \n",
       "15  32           256              100        128          31.279131   \n",
       "16  32           256              100        256          43.440900   \n",
       "17  32           256              100        512          64.023827   \n",
       "18  32           512                1        128          60.014287   \n",
       "19  32           512                1        256          74.635514   \n",
       "20  32           512                1        512          96.905451   \n",
       "21  32           512              100        128          33.229307   \n",
       "22  32           512              100        256          47.082675   \n",
       "23  32           512              100        512          69.926114   \n",
       "24  64           256                1        128          58.882203   \n",
       "25  64           256                1        256          72.791528   \n",
       "26  64           256                1        512          95.313186   \n",
       "27  64           256              100        128          30.685976   \n",
       "28  64           256              100        256          42.260736   \n",
       "29  64           256              100        512          61.850634   \n",
       "30  64           512                1        128          63.374321   \n",
       "31  64           512                1        256          81.196557   \n",
       "32  64           512                1        512         104.816448   \n",
       "33  64           512              100        128          36.830119   \n",
       "34  64           512              100        256          49.810604   \n",
       "35  64           512              100        512          74.408881   \n",
       "\n",
       "    milvus_total_time  qdrant_mean_precisions  milvus_mean_precisions  \n",
       "0           77.556569                 0.99941                 0.99915  \n",
       "1           79.762774                 0.99971                 0.99926  \n",
       "2          100.473559                 0.99976                 0.99945  \n",
       "3           19.423637                 0.99941                 0.99819  \n",
       "4           21.551324                 0.99971                 0.99914  \n",
       "5           24.656901                 0.99976                 0.99937  \n",
       "6           68.290376                 0.99940                 0.99914  \n",
       "7          109.448547                 0.99962                 0.99950  \n",
       "8           61.048402                 0.99971                 0.99958  \n",
       "9           19.780167                 0.99940                 0.99883  \n",
       "10          21.544593                 0.99962                 0.99930  \n",
       "11          24.725372                 0.99971                 0.99958  \n",
       "12         105.231544                 0.99973                 0.99948  \n",
       "13          85.638192                 0.99976                 0.99961  \n",
       "14         140.071689                 0.99977                 0.99973  \n",
       "15          20.485482                 0.99973                 0.99945  \n",
       "16          22.331264                 0.99976                 0.99964  \n",
       "17          26.080808                 0.99977                 0.99973  \n",
       "18         101.328905                 0.99979                 0.99961  \n",
       "19         147.006704                 0.99982                 0.99966  \n",
       "20         144.804806                 0.99982                 0.99977  \n",
       "21          39.802102                 0.99979                 0.99967  \n",
       "22          43.084696                 0.99982                 0.99975  \n",
       "23          31.635731                 0.99982                 0.99979  \n",
       "24         108.406207                 0.99969                 0.99961  \n",
       "25          83.080295                 0.99980                 0.99963  \n",
       "26         144.167583                 0.99980                 0.99973  \n",
       "27          20.214760                 0.99969                 0.99946  \n",
       "28          22.479072                 0.99980                 0.99959  \n",
       "29          26.513444                 0.99980                 0.99967  \n",
       "30          61.827096                 0.99977                 0.99961  \n",
       "31         154.676339                 0.99980                 0.99970  \n",
       "32         113.573808                 0.99982                 0.99975  \n",
       "33          20.809401                 0.99977                 0.99946  \n",
       "34          23.299772                 0.99980                 0.99968  \n",
       "35          27.811078                 0.99982                 0.99973  "
      ]
     },
     "metadata": {},
     "output_type": "display_data"
    },
    {
     "name": "stdout",
     "output_type": "stream",
     "text": [
      "\n",
      "\n",
      "****************************************************************************************************\n",
      "*********************************** Dataset: gist-960-euclidean ***********************************\n",
      "****************************************************************************************************\n",
      "\n",
      "\n",
      "******************************** precisions between 0.01 threshold ********************************\n",
      "\n"
     ]
    },
    {
     "data": {
      "text/html": [
       "<div>\n",
       "<style scoped>\n",
       "    .dataframe tbody tr th:only-of-type {\n",
       "        vertical-align: middle;\n",
       "    }\n",
       "\n",
       "    .dataframe tbody tr th {\n",
       "        vertical-align: top;\n",
       "    }\n",
       "\n",
       "    .dataframe thead th {\n",
       "        text-align: right;\n",
       "    }\n",
       "</style>\n",
       "<table border=\"1\" class=\"dataframe\">\n",
       "  <thead>\n",
       "    <tr style=\"text-align: right;\">\n",
       "      <th></th>\n",
       "      <th>m</th>\n",
       "      <th>ef_construct</th>\n",
       "      <th>parallel_search</th>\n",
       "      <th>ef_search</th>\n",
       "      <th>qdrant_total_time</th>\n",
       "      <th>milvus_total_time</th>\n",
       "      <th>qdrant_mean_precisions</th>\n",
       "      <th>milvus_mean_precisions</th>\n",
       "    </tr>\n",
       "  </thead>\n",
       "  <tbody>\n",
       "    <tr>\n",
       "      <th>0</th>\n",
       "      <td>16</td>\n",
       "      <td>128</td>\n",
       "      <td>1</td>\n",
       "      <td>512</td>\n",
       "      <td>10.542911</td>\n",
       "      <td>21.708135</td>\n",
       "      <td>0.98574</td>\n",
       "      <td>0.97756</td>\n",
       "    </tr>\n",
       "    <tr>\n",
       "      <th>1</th>\n",
       "      <td>16</td>\n",
       "      <td>128</td>\n",
       "      <td>100</td>\n",
       "      <td>512</td>\n",
       "      <td>7.416244</td>\n",
       "      <td>7.994969</td>\n",
       "      <td>0.98574</td>\n",
       "      <td>0.97756</td>\n",
       "    </tr>\n",
       "    <tr>\n",
       "      <th>2</th>\n",
       "      <td>32</td>\n",
       "      <td>128</td>\n",
       "      <td>1</td>\n",
       "      <td>256</td>\n",
       "      <td>8.710409</td>\n",
       "      <td>20.098074</td>\n",
       "      <td>0.98299</td>\n",
       "      <td>0.97341</td>\n",
       "    </tr>\n",
       "    <tr>\n",
       "      <th>3</th>\n",
       "      <td>32</td>\n",
       "      <td>128</td>\n",
       "      <td>1</td>\n",
       "      <td>512</td>\n",
       "      <td>12.527048</td>\n",
       "      <td>27.456987</td>\n",
       "      <td>0.99354</td>\n",
       "      <td>0.98989</td>\n",
       "    </tr>\n",
       "    <tr>\n",
       "      <th>4</th>\n",
       "      <td>32</td>\n",
       "      <td>128</td>\n",
       "      <td>100</td>\n",
       "      <td>256</td>\n",
       "      <td>5.560345</td>\n",
       "      <td>6.901620</td>\n",
       "      <td>0.98299</td>\n",
       "      <td>0.97379</td>\n",
       "    </tr>\n",
       "    <tr>\n",
       "      <th>5</th>\n",
       "      <td>32</td>\n",
       "      <td>128</td>\n",
       "      <td>100</td>\n",
       "      <td>512</td>\n",
       "      <td>9.095007</td>\n",
       "      <td>10.736340</td>\n",
       "      <td>0.99354</td>\n",
       "      <td>0.98989</td>\n",
       "    </tr>\n",
       "    <tr>\n",
       "      <th>6</th>\n",
       "      <td>32</td>\n",
       "      <td>256</td>\n",
       "      <td>1</td>\n",
       "      <td>512</td>\n",
       "      <td>88.734770</td>\n",
       "      <td>27.331275</td>\n",
       "      <td>0.99827</td>\n",
       "      <td>0.99420</td>\n",
       "    </tr>\n",
       "    <tr>\n",
       "      <th>7</th>\n",
       "      <td>32</td>\n",
       "      <td>256</td>\n",
       "      <td>100</td>\n",
       "      <td>512</td>\n",
       "      <td>83.905027</td>\n",
       "      <td>10.277726</td>\n",
       "      <td>0.99827</td>\n",
       "      <td>0.99420</td>\n",
       "    </tr>\n",
       "    <tr>\n",
       "      <th>8</th>\n",
       "      <td>32</td>\n",
       "      <td>512</td>\n",
       "      <td>1</td>\n",
       "      <td>256</td>\n",
       "      <td>11.048630</td>\n",
       "      <td>22.158104</td>\n",
       "      <td>0.99422</td>\n",
       "      <td>0.98957</td>\n",
       "    </tr>\n",
       "    <tr>\n",
       "      <th>9</th>\n",
       "      <td>32</td>\n",
       "      <td>512</td>\n",
       "      <td>1</td>\n",
       "      <td>512</td>\n",
       "      <td>16.261084</td>\n",
       "      <td>31.195319</td>\n",
       "      <td>0.99816</td>\n",
       "      <td>0.99698</td>\n",
       "    </tr>\n",
       "    <tr>\n",
       "      <th>10</th>\n",
       "      <td>32</td>\n",
       "      <td>512</td>\n",
       "      <td>100</td>\n",
       "      <td>256</td>\n",
       "      <td>7.594702</td>\n",
       "      <td>7.413355</td>\n",
       "      <td>0.99422</td>\n",
       "      <td>0.98967</td>\n",
       "    </tr>\n",
       "    <tr>\n",
       "      <th>11</th>\n",
       "      <td>32</td>\n",
       "      <td>512</td>\n",
       "      <td>100</td>\n",
       "      <td>512</td>\n",
       "      <td>11.990057</td>\n",
       "      <td>13.111441</td>\n",
       "      <td>0.99816</td>\n",
       "      <td>0.99698</td>\n",
       "    </tr>\n",
       "    <tr>\n",
       "      <th>12</th>\n",
       "      <td>64</td>\n",
       "      <td>256</td>\n",
       "      <td>1</td>\n",
       "      <td>256</td>\n",
       "      <td>88.700601</td>\n",
       "      <td>25.425907</td>\n",
       "      <td>0.99696</td>\n",
       "      <td>0.98914</td>\n",
       "    </tr>\n",
       "    <tr>\n",
       "      <th>13</th>\n",
       "      <td>64</td>\n",
       "      <td>256</td>\n",
       "      <td>1</td>\n",
       "      <td>512</td>\n",
       "      <td>92.157945</td>\n",
       "      <td>34.943208</td>\n",
       "      <td>0.99909</td>\n",
       "      <td>0.99664</td>\n",
       "    </tr>\n",
       "    <tr>\n",
       "      <th>14</th>\n",
       "      <td>64</td>\n",
       "      <td>256</td>\n",
       "      <td>100</td>\n",
       "      <td>256</td>\n",
       "      <td>79.367943</td>\n",
       "      <td>9.003764</td>\n",
       "      <td>0.99696</td>\n",
       "      <td>0.98934</td>\n",
       "    </tr>\n",
       "    <tr>\n",
       "      <th>15</th>\n",
       "      <td>64</td>\n",
       "      <td>256</td>\n",
       "      <td>100</td>\n",
       "      <td>512</td>\n",
       "      <td>79.694217</td>\n",
       "      <td>13.619137</td>\n",
       "      <td>0.99909</td>\n",
       "      <td>0.99664</td>\n",
       "    </tr>\n",
       "    <tr>\n",
       "      <th>16</th>\n",
       "      <td>64</td>\n",
       "      <td>512</td>\n",
       "      <td>1</td>\n",
       "      <td>128</td>\n",
       "      <td>8.190583</td>\n",
       "      <td>19.778569</td>\n",
       "      <td>0.98587</td>\n",
       "      <td>0.98007</td>\n",
       "    </tr>\n",
       "    <tr>\n",
       "      <th>17</th>\n",
       "      <td>64</td>\n",
       "      <td>512</td>\n",
       "      <td>1</td>\n",
       "      <td>256</td>\n",
       "      <td>11.416482</td>\n",
       "      <td>25.379757</td>\n",
       "      <td>0.99585</td>\n",
       "      <td>0.99433</td>\n",
       "    </tr>\n",
       "    <tr>\n",
       "      <th>18</th>\n",
       "      <td>64</td>\n",
       "      <td>512</td>\n",
       "      <td>1</td>\n",
       "      <td>512</td>\n",
       "      <td>16.236917</td>\n",
       "      <td>35.560883</td>\n",
       "      <td>0.99877</td>\n",
       "      <td>0.99839</td>\n",
       "    </tr>\n",
       "    <tr>\n",
       "      <th>19</th>\n",
       "      <td>64</td>\n",
       "      <td>512</td>\n",
       "      <td>100</td>\n",
       "      <td>128</td>\n",
       "      <td>5.578980</td>\n",
       "      <td>6.380816</td>\n",
       "      <td>0.98587</td>\n",
       "      <td>0.98021</td>\n",
       "    </tr>\n",
       "    <tr>\n",
       "      <th>20</th>\n",
       "      <td>64</td>\n",
       "      <td>512</td>\n",
       "      <td>100</td>\n",
       "      <td>256</td>\n",
       "      <td>8.318999</td>\n",
       "      <td>9.507221</td>\n",
       "      <td>0.99585</td>\n",
       "      <td>0.99441</td>\n",
       "    </tr>\n",
       "    <tr>\n",
       "      <th>21</th>\n",
       "      <td>64</td>\n",
       "      <td>512</td>\n",
       "      <td>100</td>\n",
       "      <td>512</td>\n",
       "      <td>12.802223</td>\n",
       "      <td>16.451944</td>\n",
       "      <td>0.99877</td>\n",
       "      <td>0.99839</td>\n",
       "    </tr>\n",
       "  </tbody>\n",
       "</table>\n",
       "</div>"
      ],
      "text/plain": [
       "     m  ef_construct  parallel_search  ef_search  qdrant_total_time  \\\n",
       "0   16           128                1        512          10.542911   \n",
       "1   16           128              100        512           7.416244   \n",
       "2   32           128                1        256           8.710409   \n",
       "3   32           128                1        512          12.527048   \n",
       "4   32           128              100        256           5.560345   \n",
       "5   32           128              100        512           9.095007   \n",
       "6   32           256                1        512          88.734770   \n",
       "7   32           256              100        512          83.905027   \n",
       "8   32           512                1        256          11.048630   \n",
       "9   32           512                1        512          16.261084   \n",
       "10  32           512              100        256           7.594702   \n",
       "11  32           512              100        512          11.990057   \n",
       "12  64           256                1        256          88.700601   \n",
       "13  64           256                1        512          92.157945   \n",
       "14  64           256              100        256          79.367943   \n",
       "15  64           256              100        512          79.694217   \n",
       "16  64           512                1        128           8.190583   \n",
       "17  64           512                1        256          11.416482   \n",
       "18  64           512                1        512          16.236917   \n",
       "19  64           512              100        128           5.578980   \n",
       "20  64           512              100        256           8.318999   \n",
       "21  64           512              100        512          12.802223   \n",
       "\n",
       "    milvus_total_time  qdrant_mean_precisions  milvus_mean_precisions  \n",
       "0           21.708135                 0.98574                 0.97756  \n",
       "1            7.994969                 0.98574                 0.97756  \n",
       "2           20.098074                 0.98299                 0.97341  \n",
       "3           27.456987                 0.99354                 0.98989  \n",
       "4            6.901620                 0.98299                 0.97379  \n",
       "5           10.736340                 0.99354                 0.98989  \n",
       "6           27.331275                 0.99827                 0.99420  \n",
       "7           10.277726                 0.99827                 0.99420  \n",
       "8           22.158104                 0.99422                 0.98957  \n",
       "9           31.195319                 0.99816                 0.99698  \n",
       "10           7.413355                 0.99422                 0.98967  \n",
       "11          13.111441                 0.99816                 0.99698  \n",
       "12          25.425907                 0.99696                 0.98914  \n",
       "13          34.943208                 0.99909                 0.99664  \n",
       "14           9.003764                 0.99696                 0.98934  \n",
       "15          13.619137                 0.99909                 0.99664  \n",
       "16          19.778569                 0.98587                 0.98007  \n",
       "17          25.379757                 0.99585                 0.99433  \n",
       "18          35.560883                 0.99877                 0.99839  \n",
       "19           6.380816                 0.98587                 0.98021  \n",
       "20           9.507221                 0.99585                 0.99441  \n",
       "21          16.451944                 0.99877                 0.99839  "
      ]
     },
     "metadata": {},
     "output_type": "display_data"
    }
   ],
   "source": [
    "search_default_select_columns = \"m, ef_construct, parallel_search, ef_search, qdrant_total_time, milvus_total_time, qdrant_mean_precisions, milvus_mean_precisions\"\n",
    "# filter results so that mean_precisions percentage of Qdrant and Milvus (with same m, ef, ef_search configs) is closer than 1%\n",
    "precision_threshold = 0.01 \n",
    "query_list = [ \\\n",
    "    # Query(select_columns = search_default_select_columns, where_condition = \"qdrant_total_time < milvus_total_time\"), \\\n",
    "    Query(select_columns = search_default_select_columns, where_condition = f\"qdrant_mean_precisions - milvus_mean_precisions < {precision_threshold} and \\\n",
    "                                                                                qdrant_mean_precisions - milvus_mean_precisions > -{precision_threshold}\", \\\n",
    "                                                                                description = f\"precisions between {precision_threshold} threshold\"), \\\n",
    "]\n",
    "for q in query_list:\n",
    "    results_on_condition(q,tested_datasets)"
   ]
  },
  {
   "cell_type": "markdown",
   "id": "86e397ff-9545-4db5-92ce-5be24177c335",
   "metadata": {},
   "source": [
    "# Single Node Benchmarks"
   ]
  },
  {
   "cell_type": "code",
   "execution_count": 13,
   "id": "857495f3-fae1-4b40-bf1c-b9dcb2ea1e10",
   "metadata": {},
   "outputs": [],
   "source": [
    "def show_results(selected_datasets: list = None, selected_parallel: int = 100, upload_info: bool = False, search_info: bool = True) -> None:\n",
    "    selected_m = [16, 32, 64]                    # m: possible values [16, 32, 64]\n",
    "    selected_ef_construct = [128, 256, 512]      # ef_construct: possible values [128, 256, 512]\n",
    "    selected_ef_search = [64, 128, 256, 512]     # ef_search: possible values [64, 128, 256, 512] - 64 only for Qdrant\n",
    "\n",
    "    for dataset in selected_datasets:\n",
    "        print_h1(dataset)\n",
    "        if upload_info:\n",
    "            filtered_df = tested_upload_df[ (tested_upload_df['dataset'] == dataset) ]\n",
    "            print_h2(\"Upload info\")    \n",
    "            display(filtered_df)\n",
    "            print_h2(\"Upload Statistics\")\n",
    "            display(filtered_df.describe())\n",
    "            \n",
    "        if search_info:\n",
    "            filtered_df = tested_search_df[\n",
    "                (tested_search_df['dataset'] == dataset) & \n",
    "                (tested_search_df['parallel_search'] == selected_parallel)\n",
    "            ]\n",
    "            selected_columns = filtered_df[['m', 'ef_construct', 'ef_search', 'qdrant_total_time', 'milvus_total_time', 'qdrant_mean_time', 'milvus_mean_time', 'qdrant_p95_time', 'milvus_p95_time', 'qdrant_rps', 'milvus_rps', 'qdrant_mean_precisions', 'milvus_mean_precisions']]\n",
    "            print_h2(f\"search parallel {selected_parallel}\")\n",
    "            display(selected_columns)\n",
    "            print_h2(\"Search Statistics\")\n",
    "            display(selected_columns.describe())"
   ]
  },
  {
   "cell_type": "markdown",
   "id": "55f873db-a7cf-49e2-9b3f-49d34b4d4974",
   "metadata": {},
   "source": [
    "## Upload Results\n",
    "This section compares the upload time and index time for Qdrant and Milvus under identical configurations (`m` and `ef_construct` values). A subset of the tested datasets is examined."
   ]
  },
  {
   "cell_type": "code",
   "execution_count": 14,
   "id": "0e91b6b1-045e-4a83-8126-c671a87ef61b",
   "metadata": {},
   "outputs": [
    {
     "name": "stdout",
     "output_type": "stream",
     "text": [
      "\n",
      "\n",
      "****************************************************************************************************\n",
      "************************************ Dataset: glove-100-angular ************************************\n",
      "****************************************************************************************************\n",
      "\n",
      "\n",
      "******************************************* Upload info *******************************************\n",
      "\n"
     ]
    },
    {
     "data": {
      "text/html": [
       "<div>\n",
       "<style scoped>\n",
       "    .dataframe tbody tr th:only-of-type {\n",
       "        vertical-align: middle;\n",
       "    }\n",
       "\n",
       "    .dataframe tbody tr th {\n",
       "        vertical-align: top;\n",
       "    }\n",
       "\n",
       "    .dataframe thead th {\n",
       "        text-align: right;\n",
       "    }\n",
       "</style>\n",
       "<table border=\"1\" class=\"dataframe\">\n",
       "  <thead>\n",
       "    <tr style=\"text-align: right;\">\n",
       "      <th></th>\n",
       "      <th>m</th>\n",
       "      <th>ef_construct</th>\n",
       "      <th>dataset</th>\n",
       "      <th>qdrant_upload_time</th>\n",
       "      <th>milvus_upload_time</th>\n",
       "      <th>qdrant_total_time</th>\n",
       "      <th>milvus_total_time</th>\n",
       "      <th>qdrant_index_time</th>\n",
       "      <th>milvus_index_time</th>\n",
       "    </tr>\n",
       "  </thead>\n",
       "  <tbody>\n",
       "    <tr>\n",
       "      <th>1</th>\n",
       "      <td>16</td>\n",
       "      <td>128</td>\n",
       "      <td>glove-100-angular</td>\n",
       "      <td>126.881057</td>\n",
       "      <td>126.880983</td>\n",
       "      <td>277.223096</td>\n",
       "      <td>402.612144</td>\n",
       "      <td>150.342039</td>\n",
       "      <td>275.731161</td>\n",
       "    </tr>\n",
       "    <tr>\n",
       "      <th>10</th>\n",
       "      <td>32</td>\n",
       "      <td>128</td>\n",
       "      <td>glove-100-angular</td>\n",
       "      <td>128.901699</td>\n",
       "      <td>157.245702</td>\n",
       "      <td>309.238316</td>\n",
       "      <td>534.176123</td>\n",
       "      <td>180.336617</td>\n",
       "      <td>376.930421</td>\n",
       "    </tr>\n",
       "    <tr>\n",
       "      <th>19</th>\n",
       "      <td>32</td>\n",
       "      <td>256</td>\n",
       "      <td>glove-100-angular</td>\n",
       "      <td>129.391592</td>\n",
       "      <td>169.467621</td>\n",
       "      <td>485.102856</td>\n",
       "      <td>834.453757</td>\n",
       "      <td>355.711265</td>\n",
       "      <td>664.986136</td>\n",
       "    </tr>\n",
       "    <tr>\n",
       "      <th>28</th>\n",
       "      <td>32</td>\n",
       "      <td>512</td>\n",
       "      <td>glove-100-angular</td>\n",
       "      <td>129.146873</td>\n",
       "      <td>150.364454</td>\n",
       "      <td>835.529079</td>\n",
       "      <td>1386.106456</td>\n",
       "      <td>706.382207</td>\n",
       "      <td>1235.742002</td>\n",
       "    </tr>\n",
       "    <tr>\n",
       "      <th>37</th>\n",
       "      <td>64</td>\n",
       "      <td>256</td>\n",
       "      <td>glove-100-angular</td>\n",
       "      <td>129.279932</td>\n",
       "      <td>150.507552</td>\n",
       "      <td>530.075626</td>\n",
       "      <td>1056.233621</td>\n",
       "      <td>400.795694</td>\n",
       "      <td>905.726069</td>\n",
       "    </tr>\n",
       "    <tr>\n",
       "      <th>46</th>\n",
       "      <td>64</td>\n",
       "      <td>512</td>\n",
       "      <td>glove-100-angular</td>\n",
       "      <td>129.061302</td>\n",
       "      <td>152.203415</td>\n",
       "      <td>910.713256</td>\n",
       "      <td>1932.768503</td>\n",
       "      <td>781.651954</td>\n",
       "      <td>1780.565088</td>\n",
       "    </tr>\n",
       "  </tbody>\n",
       "</table>\n",
       "</div>"
      ],
      "text/plain": [
       "     m  ef_construct            dataset  qdrant_upload_time  \\\n",
       "1   16           128  glove-100-angular          126.881057   \n",
       "10  32           128  glove-100-angular          128.901699   \n",
       "19  32           256  glove-100-angular          129.391592   \n",
       "28  32           512  glove-100-angular          129.146873   \n",
       "37  64           256  glove-100-angular          129.279932   \n",
       "46  64           512  glove-100-angular          129.061302   \n",
       "\n",
       "    milvus_upload_time  qdrant_total_time  milvus_total_time  \\\n",
       "1           126.880983         277.223096         402.612144   \n",
       "10          157.245702         309.238316         534.176123   \n",
       "19          169.467621         485.102856         834.453757   \n",
       "28          150.364454         835.529079        1386.106456   \n",
       "37          150.507552         530.075626        1056.233621   \n",
       "46          152.203415         910.713256        1932.768503   \n",
       "\n",
       "    qdrant_index_time  milvus_index_time  \n",
       "1          150.342039         275.731161  \n",
       "10         180.336617         376.930421  \n",
       "19         355.711265         664.986136  \n",
       "28         706.382207        1235.742002  \n",
       "37         400.795694         905.726069  \n",
       "46         781.651954        1780.565088  "
      ]
     },
     "metadata": {},
     "output_type": "display_data"
    },
    {
     "name": "stdout",
     "output_type": "stream",
     "text": [
      "\n",
      "\n",
      "**************************************** Upload Statistics ****************************************\n",
      "\n"
     ]
    },
    {
     "data": {
      "text/html": [
       "<div>\n",
       "<style scoped>\n",
       "    .dataframe tbody tr th:only-of-type {\n",
       "        vertical-align: middle;\n",
       "    }\n",
       "\n",
       "    .dataframe tbody tr th {\n",
       "        vertical-align: top;\n",
       "    }\n",
       "\n",
       "    .dataframe thead th {\n",
       "        text-align: right;\n",
       "    }\n",
       "</style>\n",
       "<table border=\"1\" class=\"dataframe\">\n",
       "  <thead>\n",
       "    <tr style=\"text-align: right;\">\n",
       "      <th></th>\n",
       "      <th>m</th>\n",
       "      <th>ef_construct</th>\n",
       "      <th>qdrant_upload_time</th>\n",
       "      <th>milvus_upload_time</th>\n",
       "      <th>qdrant_total_time</th>\n",
       "      <th>milvus_total_time</th>\n",
       "      <th>qdrant_index_time</th>\n",
       "      <th>milvus_index_time</th>\n",
       "    </tr>\n",
       "  </thead>\n",
       "  <tbody>\n",
       "    <tr>\n",
       "      <th>count</th>\n",
       "      <td>6.000000</td>\n",
       "      <td>6.000000</td>\n",
       "      <td>6.000000</td>\n",
       "      <td>6.000000</td>\n",
       "      <td>6.000000</td>\n",
       "      <td>6.000000</td>\n",
       "      <td>6.000000</td>\n",
       "      <td>6.000000</td>\n",
       "    </tr>\n",
       "    <tr>\n",
       "      <th>mean</th>\n",
       "      <td>40.000000</td>\n",
       "      <td>298.666667</td>\n",
       "      <td>128.777076</td>\n",
       "      <td>151.111621</td>\n",
       "      <td>557.980372</td>\n",
       "      <td>1024.391767</td>\n",
       "      <td>429.203296</td>\n",
       "      <td>873.280146</td>\n",
       "    </tr>\n",
       "    <tr>\n",
       "      <th>std</th>\n",
       "      <td>19.595918</td>\n",
       "      <td>174.881293</td>\n",
       "      <td>0.944293</td>\n",
       "      <td>13.883866</td>\n",
       "      <td>263.909393</td>\n",
       "      <td>569.209529</td>\n",
       "      <td>263.421525</td>\n",
       "      <td>566.111567</td>\n",
       "    </tr>\n",
       "    <tr>\n",
       "      <th>min</th>\n",
       "      <td>16.000000</td>\n",
       "      <td>128.000000</td>\n",
       "      <td>126.881057</td>\n",
       "      <td>126.880983</td>\n",
       "      <td>277.223096</td>\n",
       "      <td>402.612144</td>\n",
       "      <td>150.342039</td>\n",
       "      <td>275.731161</td>\n",
       "    </tr>\n",
       "    <tr>\n",
       "      <th>25%</th>\n",
       "      <td>32.000000</td>\n",
       "      <td>160.000000</td>\n",
       "      <td>128.941599</td>\n",
       "      <td>150.400229</td>\n",
       "      <td>353.204451</td>\n",
       "      <td>609.245531</td>\n",
       "      <td>224.180279</td>\n",
       "      <td>448.944350</td>\n",
       "    </tr>\n",
       "    <tr>\n",
       "      <th>50%</th>\n",
       "      <td>32.000000</td>\n",
       "      <td>256.000000</td>\n",
       "      <td>129.104087</td>\n",
       "      <td>151.355483</td>\n",
       "      <td>507.589241</td>\n",
       "      <td>945.343689</td>\n",
       "      <td>378.253479</td>\n",
       "      <td>785.356103</td>\n",
       "    </tr>\n",
       "    <tr>\n",
       "      <th>75%</th>\n",
       "      <td>56.000000</td>\n",
       "      <td>448.000000</td>\n",
       "      <td>129.246667</td>\n",
       "      <td>155.985130</td>\n",
       "      <td>759.165716</td>\n",
       "      <td>1303.638247</td>\n",
       "      <td>629.985578</td>\n",
       "      <td>1153.238019</td>\n",
       "    </tr>\n",
       "    <tr>\n",
       "      <th>max</th>\n",
       "      <td>64.000000</td>\n",
       "      <td>512.000000</td>\n",
       "      <td>129.391592</td>\n",
       "      <td>169.467621</td>\n",
       "      <td>910.713256</td>\n",
       "      <td>1932.768503</td>\n",
       "      <td>781.651954</td>\n",
       "      <td>1780.565088</td>\n",
       "    </tr>\n",
       "  </tbody>\n",
       "</table>\n",
       "</div>"
      ],
      "text/plain": [
       "               m  ef_construct  qdrant_upload_time  milvus_upload_time  \\\n",
       "count   6.000000      6.000000            6.000000            6.000000   \n",
       "mean   40.000000    298.666667          128.777076          151.111621   \n",
       "std    19.595918    174.881293            0.944293           13.883866   \n",
       "min    16.000000    128.000000          126.881057          126.880983   \n",
       "25%    32.000000    160.000000          128.941599          150.400229   \n",
       "50%    32.000000    256.000000          129.104087          151.355483   \n",
       "75%    56.000000    448.000000          129.246667          155.985130   \n",
       "max    64.000000    512.000000          129.391592          169.467621   \n",
       "\n",
       "       qdrant_total_time  milvus_total_time  qdrant_index_time  \\\n",
       "count           6.000000           6.000000           6.000000   \n",
       "mean          557.980372        1024.391767         429.203296   \n",
       "std           263.909393         569.209529         263.421525   \n",
       "min           277.223096         402.612144         150.342039   \n",
       "25%           353.204451         609.245531         224.180279   \n",
       "50%           507.589241         945.343689         378.253479   \n",
       "75%           759.165716        1303.638247         629.985578   \n",
       "max           910.713256        1932.768503         781.651954   \n",
       "\n",
       "       milvus_index_time  \n",
       "count           6.000000  \n",
       "mean          873.280146  \n",
       "std           566.111567  \n",
       "min           275.731161  \n",
       "25%           448.944350  \n",
       "50%           785.356103  \n",
       "75%          1153.238019  \n",
       "max          1780.565088  "
      ]
     },
     "metadata": {},
     "output_type": "display_data"
    },
    {
     "name": "stdout",
     "output_type": "stream",
     "text": [
      "\n",
      "\n",
      "****************************************************************************************************\n",
      "*********************** Dataset: random-match-keyword-100-angular-no-filters ***********************\n",
      "****************************************************************************************************\n",
      "\n",
      "\n",
      "******************************************* Upload info *******************************************\n",
      "\n"
     ]
    },
    {
     "data": {
      "text/html": [
       "<div>\n",
       "<style scoped>\n",
       "    .dataframe tbody tr th:only-of-type {\n",
       "        vertical-align: middle;\n",
       "    }\n",
       "\n",
       "    .dataframe tbody tr th {\n",
       "        vertical-align: top;\n",
       "    }\n",
       "\n",
       "    .dataframe thead th {\n",
       "        text-align: right;\n",
       "    }\n",
       "</style>\n",
       "<table border=\"1\" class=\"dataframe\">\n",
       "  <thead>\n",
       "    <tr style=\"text-align: right;\">\n",
       "      <th></th>\n",
       "      <th>m</th>\n",
       "      <th>ef_construct</th>\n",
       "      <th>dataset</th>\n",
       "      <th>qdrant_upload_time</th>\n",
       "      <th>milvus_upload_time</th>\n",
       "      <th>qdrant_total_time</th>\n",
       "      <th>milvus_total_time</th>\n",
       "      <th>qdrant_index_time</th>\n",
       "      <th>milvus_index_time</th>\n",
       "    </tr>\n",
       "  </thead>\n",
       "  <tbody>\n",
       "    <tr>\n",
       "      <th>8</th>\n",
       "      <td>16</td>\n",
       "      <td>128</td>\n",
       "      <td>random-match-keyword-100-angular-no-filters</td>\n",
       "      <td>108.040096</td>\n",
       "      <td>107.722379</td>\n",
       "      <td>263.333032</td>\n",
       "      <td>389.329047</td>\n",
       "      <td>155.292936</td>\n",
       "      <td>281.606668</td>\n",
       "    </tr>\n",
       "    <tr>\n",
       "      <th>17</th>\n",
       "      <td>32</td>\n",
       "      <td>128</td>\n",
       "      <td>random-match-keyword-100-angular-no-filters</td>\n",
       "      <td>110.367189</td>\n",
       "      <td>125.651996</td>\n",
       "      <td>370.838451</td>\n",
       "      <td>471.339411</td>\n",
       "      <td>260.471262</td>\n",
       "      <td>345.687415</td>\n",
       "    </tr>\n",
       "    <tr>\n",
       "      <th>26</th>\n",
       "      <td>32</td>\n",
       "      <td>256</td>\n",
       "      <td>random-match-keyword-100-angular-no-filters</td>\n",
       "      <td>109.965632</td>\n",
       "      <td>169.567497</td>\n",
       "      <td>580.944621</td>\n",
       "      <td>691.483062</td>\n",
       "      <td>470.978989</td>\n",
       "      <td>521.915565</td>\n",
       "    </tr>\n",
       "    <tr>\n",
       "      <th>35</th>\n",
       "      <td>32</td>\n",
       "      <td>512</td>\n",
       "      <td>random-match-keyword-100-angular-no-filters</td>\n",
       "      <td>110.932404</td>\n",
       "      <td>243.167213</td>\n",
       "      <td>897.490801</td>\n",
       "      <td>1839.475358</td>\n",
       "      <td>786.558396</td>\n",
       "      <td>1596.308145</td>\n",
       "    </tr>\n",
       "    <tr>\n",
       "      <th>44</th>\n",
       "      <td>64</td>\n",
       "      <td>256</td>\n",
       "      <td>random-match-keyword-100-angular-no-filters</td>\n",
       "      <td>111.119222</td>\n",
       "      <td>131.279889</td>\n",
       "      <td>692.239552</td>\n",
       "      <td>1779.135985</td>\n",
       "      <td>581.120330</td>\n",
       "      <td>1647.856096</td>\n",
       "    </tr>\n",
       "    <tr>\n",
       "      <th>53</th>\n",
       "      <td>64</td>\n",
       "      <td>512</td>\n",
       "      <td>random-match-keyword-100-angular-no-filters</td>\n",
       "      <td>110.128950</td>\n",
       "      <td>134.288684</td>\n",
       "      <td>1107.209395</td>\n",
       "      <td>2742.023748</td>\n",
       "      <td>997.080445</td>\n",
       "      <td>2607.735064</td>\n",
       "    </tr>\n",
       "  </tbody>\n",
       "</table>\n",
       "</div>"
      ],
      "text/plain": [
       "     m  ef_construct                                      dataset  \\\n",
       "8   16           128  random-match-keyword-100-angular-no-filters   \n",
       "17  32           128  random-match-keyword-100-angular-no-filters   \n",
       "26  32           256  random-match-keyword-100-angular-no-filters   \n",
       "35  32           512  random-match-keyword-100-angular-no-filters   \n",
       "44  64           256  random-match-keyword-100-angular-no-filters   \n",
       "53  64           512  random-match-keyword-100-angular-no-filters   \n",
       "\n",
       "    qdrant_upload_time  milvus_upload_time  qdrant_total_time  \\\n",
       "8           108.040096          107.722379         263.333032   \n",
       "17          110.367189          125.651996         370.838451   \n",
       "26          109.965632          169.567497         580.944621   \n",
       "35          110.932404          243.167213         897.490801   \n",
       "44          111.119222          131.279889         692.239552   \n",
       "53          110.128950          134.288684        1107.209395   \n",
       "\n",
       "    milvus_total_time  qdrant_index_time  milvus_index_time  \n",
       "8          389.329047         155.292936         281.606668  \n",
       "17         471.339411         260.471262         345.687415  \n",
       "26         691.483062         470.978989         521.915565  \n",
       "35        1839.475358         786.558396        1596.308145  \n",
       "44        1779.135985         581.120330        1647.856096  \n",
       "53        2742.023748         997.080445        2607.735064  "
      ]
     },
     "metadata": {},
     "output_type": "display_data"
    },
    {
     "name": "stdout",
     "output_type": "stream",
     "text": [
      "\n",
      "\n",
      "**************************************** Upload Statistics ****************************************\n",
      "\n"
     ]
    },
    {
     "data": {
      "text/html": [
       "<div>\n",
       "<style scoped>\n",
       "    .dataframe tbody tr th:only-of-type {\n",
       "        vertical-align: middle;\n",
       "    }\n",
       "\n",
       "    .dataframe tbody tr th {\n",
       "        vertical-align: top;\n",
       "    }\n",
       "\n",
       "    .dataframe thead th {\n",
       "        text-align: right;\n",
       "    }\n",
       "</style>\n",
       "<table border=\"1\" class=\"dataframe\">\n",
       "  <thead>\n",
       "    <tr style=\"text-align: right;\">\n",
       "      <th></th>\n",
       "      <th>m</th>\n",
       "      <th>ef_construct</th>\n",
       "      <th>qdrant_upload_time</th>\n",
       "      <th>milvus_upload_time</th>\n",
       "      <th>qdrant_total_time</th>\n",
       "      <th>milvus_total_time</th>\n",
       "      <th>qdrant_index_time</th>\n",
       "      <th>milvus_index_time</th>\n",
       "    </tr>\n",
       "  </thead>\n",
       "  <tbody>\n",
       "    <tr>\n",
       "      <th>count</th>\n",
       "      <td>6.000000</td>\n",
       "      <td>6.000000</td>\n",
       "      <td>6.000000</td>\n",
       "      <td>6.000000</td>\n",
       "      <td>6.000000</td>\n",
       "      <td>6.000000</td>\n",
       "      <td>6.000000</td>\n",
       "      <td>6.000000</td>\n",
       "    </tr>\n",
       "    <tr>\n",
       "      <th>mean</th>\n",
       "      <td>40.000000</td>\n",
       "      <td>298.666667</td>\n",
       "      <td>110.092249</td>\n",
       "      <td>151.946276</td>\n",
       "      <td>652.009308</td>\n",
       "      <td>1318.797769</td>\n",
       "      <td>541.917060</td>\n",
       "      <td>1166.851492</td>\n",
       "    </tr>\n",
       "    <tr>\n",
       "      <th>std</th>\n",
       "      <td>19.595918</td>\n",
       "      <td>174.881293</td>\n",
       "      <td>1.101348</td>\n",
       "      <td>49.026114</td>\n",
       "      <td>317.573060</td>\n",
       "      <td>947.017437</td>\n",
       "      <td>316.948623</td>\n",
       "      <td>934.436205</td>\n",
       "    </tr>\n",
       "    <tr>\n",
       "      <th>min</th>\n",
       "      <td>16.000000</td>\n",
       "      <td>128.000000</td>\n",
       "      <td>108.040096</td>\n",
       "      <td>107.722379</td>\n",
       "      <td>263.333032</td>\n",
       "      <td>389.329047</td>\n",
       "      <td>155.292936</td>\n",
       "      <td>281.606668</td>\n",
       "    </tr>\n",
       "    <tr>\n",
       "      <th>25%</th>\n",
       "      <td>32.000000</td>\n",
       "      <td>160.000000</td>\n",
       "      <td>110.006461</td>\n",
       "      <td>127.058969</td>\n",
       "      <td>423.364993</td>\n",
       "      <td>526.375324</td>\n",
       "      <td>313.098193</td>\n",
       "      <td>389.744453</td>\n",
       "    </tr>\n",
       "    <tr>\n",
       "      <th>50%</th>\n",
       "      <td>32.000000</td>\n",
       "      <td>256.000000</td>\n",
       "      <td>110.248069</td>\n",
       "      <td>132.784287</td>\n",
       "      <td>636.592086</td>\n",
       "      <td>1235.309523</td>\n",
       "      <td>526.049659</td>\n",
       "      <td>1059.111855</td>\n",
       "    </tr>\n",
       "    <tr>\n",
       "      <th>75%</th>\n",
       "      <td>56.000000</td>\n",
       "      <td>448.000000</td>\n",
       "      <td>110.791101</td>\n",
       "      <td>160.747793</td>\n",
       "      <td>846.177989</td>\n",
       "      <td>1824.390515</td>\n",
       "      <td>735.198880</td>\n",
       "      <td>1634.969108</td>\n",
       "    </tr>\n",
       "    <tr>\n",
       "      <th>max</th>\n",
       "      <td>64.000000</td>\n",
       "      <td>512.000000</td>\n",
       "      <td>111.119222</td>\n",
       "      <td>243.167213</td>\n",
       "      <td>1107.209395</td>\n",
       "      <td>2742.023748</td>\n",
       "      <td>997.080445</td>\n",
       "      <td>2607.735064</td>\n",
       "    </tr>\n",
       "  </tbody>\n",
       "</table>\n",
       "</div>"
      ],
      "text/plain": [
       "               m  ef_construct  qdrant_upload_time  milvus_upload_time  \\\n",
       "count   6.000000      6.000000            6.000000            6.000000   \n",
       "mean   40.000000    298.666667          110.092249          151.946276   \n",
       "std    19.595918    174.881293            1.101348           49.026114   \n",
       "min    16.000000    128.000000          108.040096          107.722379   \n",
       "25%    32.000000    160.000000          110.006461          127.058969   \n",
       "50%    32.000000    256.000000          110.248069          132.784287   \n",
       "75%    56.000000    448.000000          110.791101          160.747793   \n",
       "max    64.000000    512.000000          111.119222          243.167213   \n",
       "\n",
       "       qdrant_total_time  milvus_total_time  qdrant_index_time  \\\n",
       "count           6.000000           6.000000           6.000000   \n",
       "mean          652.009308        1318.797769         541.917060   \n",
       "std           317.573060         947.017437         316.948623   \n",
       "min           263.333032         389.329047         155.292936   \n",
       "25%           423.364993         526.375324         313.098193   \n",
       "50%           636.592086        1235.309523         526.049659   \n",
       "75%           846.177989        1824.390515         735.198880   \n",
       "max          1107.209395        2742.023748         997.080445   \n",
       "\n",
       "       milvus_index_time  \n",
       "count           6.000000  \n",
       "mean         1166.851492  \n",
       "std           934.436205  \n",
       "min           281.606668  \n",
       "25%           389.744453  \n",
       "50%          1059.111855  \n",
       "75%          1634.969108  \n",
       "max          2607.735064  "
      ]
     },
     "metadata": {},
     "output_type": "display_data"
    },
    {
     "name": "stdout",
     "output_type": "stream",
     "text": [
      "\n",
      "\n",
      "****************************************************************************************************\n",
      "***************************** Dataset: h-and-m-2048-angular-no-filters *****************************\n",
      "****************************************************************************************************\n",
      "\n",
      "\n",
      "******************************************* Upload info *******************************************\n",
      "\n"
     ]
    },
    {
     "data": {
      "text/html": [
       "<div>\n",
       "<style scoped>\n",
       "    .dataframe tbody tr th:only-of-type {\n",
       "        vertical-align: middle;\n",
       "    }\n",
       "\n",
       "    .dataframe tbody tr th {\n",
       "        vertical-align: top;\n",
       "    }\n",
       "\n",
       "    .dataframe thead th {\n",
       "        text-align: right;\n",
       "    }\n",
       "</style>\n",
       "<table border=\"1\" class=\"dataframe\">\n",
       "  <thead>\n",
       "    <tr style=\"text-align: right;\">\n",
       "      <th></th>\n",
       "      <th>m</th>\n",
       "      <th>ef_construct</th>\n",
       "      <th>dataset</th>\n",
       "      <th>qdrant_upload_time</th>\n",
       "      <th>milvus_upload_time</th>\n",
       "      <th>qdrant_total_time</th>\n",
       "      <th>milvus_total_time</th>\n",
       "      <th>qdrant_index_time</th>\n",
       "      <th>milvus_index_time</th>\n",
       "    </tr>\n",
       "  </thead>\n",
       "  <tbody>\n",
       "    <tr>\n",
       "      <th>4</th>\n",
       "      <td>16</td>\n",
       "      <td>128</td>\n",
       "      <td>h-and-m-2048-angular-no-filters</td>\n",
       "      <td>23.284005</td>\n",
       "      <td>27.967654</td>\n",
       "      <td>58.386913</td>\n",
       "      <td>77.015230</td>\n",
       "      <td>35.102908</td>\n",
       "      <td>49.047576</td>\n",
       "    </tr>\n",
       "    <tr>\n",
       "      <th>13</th>\n",
       "      <td>32</td>\n",
       "      <td>128</td>\n",
       "      <td>h-and-m-2048-angular-no-filters</td>\n",
       "      <td>28.249834</td>\n",
       "      <td>34.812421</td>\n",
       "      <td>73.386633</td>\n",
       "      <td>83.187050</td>\n",
       "      <td>45.136799</td>\n",
       "      <td>48.374629</td>\n",
       "    </tr>\n",
       "    <tr>\n",
       "      <th>22</th>\n",
       "      <td>32</td>\n",
       "      <td>256</td>\n",
       "      <td>h-and-m-2048-angular-no-filters</td>\n",
       "      <td>28.173027</td>\n",
       "      <td>34.423272</td>\n",
       "      <td>88.394668</td>\n",
       "      <td>108.816306</td>\n",
       "      <td>60.221641</td>\n",
       "      <td>74.393034</td>\n",
       "    </tr>\n",
       "    <tr>\n",
       "      <th>31</th>\n",
       "      <td>32</td>\n",
       "      <td>512</td>\n",
       "      <td>h-and-m-2048-angular-no-filters</td>\n",
       "      <td>29.491558</td>\n",
       "      <td>37.955274</td>\n",
       "      <td>124.713258</td>\n",
       "      <td>148.826834</td>\n",
       "      <td>95.221700</td>\n",
       "      <td>110.871561</td>\n",
       "    </tr>\n",
       "    <tr>\n",
       "      <th>40</th>\n",
       "      <td>64</td>\n",
       "      <td>256</td>\n",
       "      <td>h-and-m-2048-angular-no-filters</td>\n",
       "      <td>28.642110</td>\n",
       "      <td>37.954680</td>\n",
       "      <td>88.791800</td>\n",
       "      <td>114.750911</td>\n",
       "      <td>60.149690</td>\n",
       "      <td>76.796232</td>\n",
       "    </tr>\n",
       "    <tr>\n",
       "      <th>49</th>\n",
       "      <td>64</td>\n",
       "      <td>512</td>\n",
       "      <td>h-and-m-2048-angular-no-filters</td>\n",
       "      <td>29.622981</td>\n",
       "      <td>35.385721</td>\n",
       "      <td>119.894386</td>\n",
       "      <td>293.621136</td>\n",
       "      <td>90.271405</td>\n",
       "      <td>258.235415</td>\n",
       "    </tr>\n",
       "  </tbody>\n",
       "</table>\n",
       "</div>"
      ],
      "text/plain": [
       "     m  ef_construct                          dataset  qdrant_upload_time  \\\n",
       "4   16           128  h-and-m-2048-angular-no-filters           23.284005   \n",
       "13  32           128  h-and-m-2048-angular-no-filters           28.249834   \n",
       "22  32           256  h-and-m-2048-angular-no-filters           28.173027   \n",
       "31  32           512  h-and-m-2048-angular-no-filters           29.491558   \n",
       "40  64           256  h-and-m-2048-angular-no-filters           28.642110   \n",
       "49  64           512  h-and-m-2048-angular-no-filters           29.622981   \n",
       "\n",
       "    milvus_upload_time  qdrant_total_time  milvus_total_time  \\\n",
       "4            27.967654          58.386913          77.015230   \n",
       "13           34.812421          73.386633          83.187050   \n",
       "22           34.423272          88.394668         108.816306   \n",
       "31           37.955274         124.713258         148.826834   \n",
       "40           37.954680          88.791800         114.750911   \n",
       "49           35.385721         119.894386         293.621136   \n",
       "\n",
       "    qdrant_index_time  milvus_index_time  \n",
       "4           35.102908          49.047576  \n",
       "13          45.136799          48.374629  \n",
       "22          60.221641          74.393034  \n",
       "31          95.221700         110.871561  \n",
       "40          60.149690          76.796232  \n",
       "49          90.271405         258.235415  "
      ]
     },
     "metadata": {},
     "output_type": "display_data"
    },
    {
     "name": "stdout",
     "output_type": "stream",
     "text": [
      "\n",
      "\n",
      "**************************************** Upload Statistics ****************************************\n",
      "\n"
     ]
    },
    {
     "data": {
      "text/html": [
       "<div>\n",
       "<style scoped>\n",
       "    .dataframe tbody tr th:only-of-type {\n",
       "        vertical-align: middle;\n",
       "    }\n",
       "\n",
       "    .dataframe tbody tr th {\n",
       "        vertical-align: top;\n",
       "    }\n",
       "\n",
       "    .dataframe thead th {\n",
       "        text-align: right;\n",
       "    }\n",
       "</style>\n",
       "<table border=\"1\" class=\"dataframe\">\n",
       "  <thead>\n",
       "    <tr style=\"text-align: right;\">\n",
       "      <th></th>\n",
       "      <th>m</th>\n",
       "      <th>ef_construct</th>\n",
       "      <th>qdrant_upload_time</th>\n",
       "      <th>milvus_upload_time</th>\n",
       "      <th>qdrant_total_time</th>\n",
       "      <th>milvus_total_time</th>\n",
       "      <th>qdrant_index_time</th>\n",
       "      <th>milvus_index_time</th>\n",
       "    </tr>\n",
       "  </thead>\n",
       "  <tbody>\n",
       "    <tr>\n",
       "      <th>count</th>\n",
       "      <td>6.000000</td>\n",
       "      <td>6.000000</td>\n",
       "      <td>6.000000</td>\n",
       "      <td>6.000000</td>\n",
       "      <td>6.000000</td>\n",
       "      <td>6.000000</td>\n",
       "      <td>6.000000</td>\n",
       "      <td>6.000000</td>\n",
       "    </tr>\n",
       "    <tr>\n",
       "      <th>mean</th>\n",
       "      <td>40.000000</td>\n",
       "      <td>298.666667</td>\n",
       "      <td>27.910586</td>\n",
       "      <td>34.749837</td>\n",
       "      <td>92.261276</td>\n",
       "      <td>137.702911</td>\n",
       "      <td>64.350691</td>\n",
       "      <td>102.953074</td>\n",
       "    </tr>\n",
       "    <tr>\n",
       "      <th>std</th>\n",
       "      <td>19.595918</td>\n",
       "      <td>174.881293</td>\n",
       "      <td>2.347599</td>\n",
       "      <td>3.662206</td>\n",
       "      <td>25.874437</td>\n",
       "      <td>80.561081</td>\n",
       "      <td>24.017521</td>\n",
       "      <td>79.447811</td>\n",
       "    </tr>\n",
       "    <tr>\n",
       "      <th>min</th>\n",
       "      <td>16.000000</td>\n",
       "      <td>128.000000</td>\n",
       "      <td>23.284005</td>\n",
       "      <td>27.967654</td>\n",
       "      <td>58.386913</td>\n",
       "      <td>77.015230</td>\n",
       "      <td>35.102908</td>\n",
       "      <td>48.374629</td>\n",
       "    </tr>\n",
       "    <tr>\n",
       "      <th>25%</th>\n",
       "      <td>32.000000</td>\n",
       "      <td>160.000000</td>\n",
       "      <td>28.192229</td>\n",
       "      <td>34.520559</td>\n",
       "      <td>77.138641</td>\n",
       "      <td>89.594364</td>\n",
       "      <td>48.890022</td>\n",
       "      <td>55.383940</td>\n",
       "    </tr>\n",
       "    <tr>\n",
       "      <th>50%</th>\n",
       "      <td>32.000000</td>\n",
       "      <td>256.000000</td>\n",
       "      <td>28.445972</td>\n",
       "      <td>35.099071</td>\n",
       "      <td>88.593234</td>\n",
       "      <td>111.783609</td>\n",
       "      <td>60.185665</td>\n",
       "      <td>75.594633</td>\n",
       "    </tr>\n",
       "    <tr>\n",
       "      <th>75%</th>\n",
       "      <td>56.000000</td>\n",
       "      <td>448.000000</td>\n",
       "      <td>29.279196</td>\n",
       "      <td>37.312440</td>\n",
       "      <td>112.118740</td>\n",
       "      <td>140.307854</td>\n",
       "      <td>82.758964</td>\n",
       "      <td>102.352728</td>\n",
       "    </tr>\n",
       "    <tr>\n",
       "      <th>max</th>\n",
       "      <td>64.000000</td>\n",
       "      <td>512.000000</td>\n",
       "      <td>29.622981</td>\n",
       "      <td>37.955274</td>\n",
       "      <td>124.713258</td>\n",
       "      <td>293.621136</td>\n",
       "      <td>95.221700</td>\n",
       "      <td>258.235415</td>\n",
       "    </tr>\n",
       "  </tbody>\n",
       "</table>\n",
       "</div>"
      ],
      "text/plain": [
       "               m  ef_construct  qdrant_upload_time  milvus_upload_time  \\\n",
       "count   6.000000      6.000000            6.000000            6.000000   \n",
       "mean   40.000000    298.666667           27.910586           34.749837   \n",
       "std    19.595918    174.881293            2.347599            3.662206   \n",
       "min    16.000000    128.000000           23.284005           27.967654   \n",
       "25%    32.000000    160.000000           28.192229           34.520559   \n",
       "50%    32.000000    256.000000           28.445972           35.099071   \n",
       "75%    56.000000    448.000000           29.279196           37.312440   \n",
       "max    64.000000    512.000000           29.622981           37.955274   \n",
       "\n",
       "       qdrant_total_time  milvus_total_time  qdrant_index_time  \\\n",
       "count           6.000000           6.000000           6.000000   \n",
       "mean           92.261276         137.702911          64.350691   \n",
       "std            25.874437          80.561081          24.017521   \n",
       "min            58.386913          77.015230          35.102908   \n",
       "25%            77.138641          89.594364          48.890022   \n",
       "50%            88.593234         111.783609          60.185665   \n",
       "75%           112.118740         140.307854          82.758964   \n",
       "max           124.713258         293.621136          95.221700   \n",
       "\n",
       "       milvus_index_time  \n",
       "count           6.000000  \n",
       "mean          102.953074  \n",
       "std            79.447811  \n",
       "min            48.374629  \n",
       "25%            55.383940  \n",
       "50%            75.594633  \n",
       "75%           102.352728  \n",
       "max           258.235415  "
      ]
     },
     "metadata": {},
     "output_type": "display_data"
    },
    {
     "name": "stdout",
     "output_type": "stream",
     "text": [
      "\n",
      "\n",
      "****************************************************************************************************\n",
      "*********************************** Dataset: gist-960-euclidean ***********************************\n",
      "****************************************************************************************************\n",
      "\n",
      "\n",
      "******************************************* Upload info *******************************************\n",
      "\n"
     ]
    },
    {
     "data": {
      "text/html": [
       "<div>\n",
       "<style scoped>\n",
       "    .dataframe tbody tr th:only-of-type {\n",
       "        vertical-align: middle;\n",
       "    }\n",
       "\n",
       "    .dataframe tbody tr th {\n",
       "        vertical-align: top;\n",
       "    }\n",
       "\n",
       "    .dataframe thead th {\n",
       "        text-align: right;\n",
       "    }\n",
       "</style>\n",
       "<table border=\"1\" class=\"dataframe\">\n",
       "  <thead>\n",
       "    <tr style=\"text-align: right;\">\n",
       "      <th></th>\n",
       "      <th>m</th>\n",
       "      <th>ef_construct</th>\n",
       "      <th>dataset</th>\n",
       "      <th>qdrant_upload_time</th>\n",
       "      <th>milvus_upload_time</th>\n",
       "      <th>qdrant_total_time</th>\n",
       "      <th>milvus_total_time</th>\n",
       "      <th>qdrant_index_time</th>\n",
       "      <th>milvus_index_time</th>\n",
       "    </tr>\n",
       "  </thead>\n",
       "  <tbody>\n",
       "    <tr>\n",
       "      <th>0</th>\n",
       "      <td>16</td>\n",
       "      <td>128</td>\n",
       "      <td>gist-960-euclidean</td>\n",
       "      <td>180.069424</td>\n",
       "      <td>198.857859</td>\n",
       "      <td>590.885089</td>\n",
       "      <td>1148.785398</td>\n",
       "      <td>410.815665</td>\n",
       "      <td>949.927539</td>\n",
       "    </tr>\n",
       "    <tr>\n",
       "      <th>9</th>\n",
       "      <td>32</td>\n",
       "      <td>128</td>\n",
       "      <td>gist-960-euclidean</td>\n",
       "      <td>199.331032</td>\n",
       "      <td>187.953994</td>\n",
       "      <td>660.447450</td>\n",
       "      <td>1131.742193</td>\n",
       "      <td>461.116418</td>\n",
       "      <td>943.788200</td>\n",
       "    </tr>\n",
       "    <tr>\n",
       "      <th>18</th>\n",
       "      <td>32</td>\n",
       "      <td>256</td>\n",
       "      <td>gist-960-euclidean</td>\n",
       "      <td>182.348457</td>\n",
       "      <td>259.872250</td>\n",
       "      <td>437.876495</td>\n",
       "      <td>1993.712799</td>\n",
       "      <td>255.528038</td>\n",
       "      <td>1733.840549</td>\n",
       "    </tr>\n",
       "    <tr>\n",
       "      <th>27</th>\n",
       "      <td>32</td>\n",
       "      <td>512</td>\n",
       "      <td>gist-960-euclidean</td>\n",
       "      <td>194.569386</td>\n",
       "      <td>310.625955</td>\n",
       "      <td>1602.688582</td>\n",
       "      <td>3357.715450</td>\n",
       "      <td>1408.119196</td>\n",
       "      <td>3047.089495</td>\n",
       "    </tr>\n",
       "    <tr>\n",
       "      <th>36</th>\n",
       "      <td>64</td>\n",
       "      <td>256</td>\n",
       "      <td>gist-960-euclidean</td>\n",
       "      <td>209.092898</td>\n",
       "      <td>257.759821</td>\n",
       "      <td>494.700031</td>\n",
       "      <td>1736.447483</td>\n",
       "      <td>285.607134</td>\n",
       "      <td>1478.687662</td>\n",
       "    </tr>\n",
       "    <tr>\n",
       "      <th>45</th>\n",
       "      <td>64</td>\n",
       "      <td>512</td>\n",
       "      <td>gist-960-euclidean</td>\n",
       "      <td>191.571573</td>\n",
       "      <td>325.616016</td>\n",
       "      <td>1690.252603</td>\n",
       "      <td>3639.353541</td>\n",
       "      <td>1498.681031</td>\n",
       "      <td>3313.737526</td>\n",
       "    </tr>\n",
       "  </tbody>\n",
       "</table>\n",
       "</div>"
      ],
      "text/plain": [
       "     m  ef_construct             dataset  qdrant_upload_time  \\\n",
       "0   16           128  gist-960-euclidean          180.069424   \n",
       "9   32           128  gist-960-euclidean          199.331032   \n",
       "18  32           256  gist-960-euclidean          182.348457   \n",
       "27  32           512  gist-960-euclidean          194.569386   \n",
       "36  64           256  gist-960-euclidean          209.092898   \n",
       "45  64           512  gist-960-euclidean          191.571573   \n",
       "\n",
       "    milvus_upload_time  qdrant_total_time  milvus_total_time  \\\n",
       "0           198.857859         590.885089        1148.785398   \n",
       "9           187.953994         660.447450        1131.742193   \n",
       "18          259.872250         437.876495        1993.712799   \n",
       "27          310.625955        1602.688582        3357.715450   \n",
       "36          257.759821         494.700031        1736.447483   \n",
       "45          325.616016        1690.252603        3639.353541   \n",
       "\n",
       "    qdrant_index_time  milvus_index_time  \n",
       "0          410.815665         949.927539  \n",
       "9          461.116418         943.788200  \n",
       "18         255.528038        1733.840549  \n",
       "27        1408.119196        3047.089495  \n",
       "36         285.607134        1478.687662  \n",
       "45        1498.681031        3313.737526  "
      ]
     },
     "metadata": {},
     "output_type": "display_data"
    },
    {
     "name": "stdout",
     "output_type": "stream",
     "text": [
      "\n",
      "\n",
      "**************************************** Upload Statistics ****************************************\n",
      "\n"
     ]
    },
    {
     "data": {
      "text/html": [
       "<div>\n",
       "<style scoped>\n",
       "    .dataframe tbody tr th:only-of-type {\n",
       "        vertical-align: middle;\n",
       "    }\n",
       "\n",
       "    .dataframe tbody tr th {\n",
       "        vertical-align: top;\n",
       "    }\n",
       "\n",
       "    .dataframe thead th {\n",
       "        text-align: right;\n",
       "    }\n",
       "</style>\n",
       "<table border=\"1\" class=\"dataframe\">\n",
       "  <thead>\n",
       "    <tr style=\"text-align: right;\">\n",
       "      <th></th>\n",
       "      <th>m</th>\n",
       "      <th>ef_construct</th>\n",
       "      <th>qdrant_upload_time</th>\n",
       "      <th>milvus_upload_time</th>\n",
       "      <th>qdrant_total_time</th>\n",
       "      <th>milvus_total_time</th>\n",
       "      <th>qdrant_index_time</th>\n",
       "      <th>milvus_index_time</th>\n",
       "    </tr>\n",
       "  </thead>\n",
       "  <tbody>\n",
       "    <tr>\n",
       "      <th>count</th>\n",
       "      <td>6.000000</td>\n",
       "      <td>6.000000</td>\n",
       "      <td>6.000000</td>\n",
       "      <td>6.000000</td>\n",
       "      <td>6.000000</td>\n",
       "      <td>6.000000</td>\n",
       "      <td>6.000000</td>\n",
       "      <td>6.000000</td>\n",
       "    </tr>\n",
       "    <tr>\n",
       "      <th>mean</th>\n",
       "      <td>40.000000</td>\n",
       "      <td>298.666667</td>\n",
       "      <td>192.830462</td>\n",
       "      <td>256.780982</td>\n",
       "      <td>912.808375</td>\n",
       "      <td>2167.959477</td>\n",
       "      <td>719.977914</td>\n",
       "      <td>1911.178495</td>\n",
       "    </tr>\n",
       "    <tr>\n",
       "      <th>std</th>\n",
       "      <td>19.595918</td>\n",
       "      <td>174.881293</td>\n",
       "      <td>10.807862</td>\n",
       "      <td>56.107574</td>\n",
       "      <td>574.116668</td>\n",
       "      <td>1087.156505</td>\n",
       "      <td>573.916231</td>\n",
       "      <td>1033.035342</td>\n",
       "    </tr>\n",
       "    <tr>\n",
       "      <th>min</th>\n",
       "      <td>16.000000</td>\n",
       "      <td>128.000000</td>\n",
       "      <td>180.069424</td>\n",
       "      <td>187.953994</td>\n",
       "      <td>437.876495</td>\n",
       "      <td>1131.742193</td>\n",
       "      <td>255.528038</td>\n",
       "      <td>943.788200</td>\n",
       "    </tr>\n",
       "    <tr>\n",
       "      <th>25%</th>\n",
       "      <td>32.000000</td>\n",
       "      <td>160.000000</td>\n",
       "      <td>184.654236</td>\n",
       "      <td>213.583349</td>\n",
       "      <td>518.746296</td>\n",
       "      <td>1295.700919</td>\n",
       "      <td>316.909266</td>\n",
       "      <td>1082.117570</td>\n",
       "    </tr>\n",
       "    <tr>\n",
       "      <th>50%</th>\n",
       "      <td>32.000000</td>\n",
       "      <td>256.000000</td>\n",
       "      <td>193.070479</td>\n",
       "      <td>258.816035</td>\n",
       "      <td>625.666270</td>\n",
       "      <td>1865.080141</td>\n",
       "      <td>435.966042</td>\n",
       "      <td>1606.264106</td>\n",
       "    </tr>\n",
       "    <tr>\n",
       "      <th>75%</th>\n",
       "      <td>56.000000</td>\n",
       "      <td>448.000000</td>\n",
       "      <td>198.140620</td>\n",
       "      <td>297.937529</td>\n",
       "      <td>1367.128299</td>\n",
       "      <td>3016.714787</td>\n",
       "      <td>1171.368502</td>\n",
       "      <td>2718.777258</td>\n",
       "    </tr>\n",
       "    <tr>\n",
       "      <th>max</th>\n",
       "      <td>64.000000</td>\n",
       "      <td>512.000000</td>\n",
       "      <td>209.092898</td>\n",
       "      <td>325.616016</td>\n",
       "      <td>1690.252603</td>\n",
       "      <td>3639.353541</td>\n",
       "      <td>1498.681031</td>\n",
       "      <td>3313.737526</td>\n",
       "    </tr>\n",
       "  </tbody>\n",
       "</table>\n",
       "</div>"
      ],
      "text/plain": [
       "               m  ef_construct  qdrant_upload_time  milvus_upload_time  \\\n",
       "count   6.000000      6.000000            6.000000            6.000000   \n",
       "mean   40.000000    298.666667          192.830462          256.780982   \n",
       "std    19.595918    174.881293           10.807862           56.107574   \n",
       "min    16.000000    128.000000          180.069424          187.953994   \n",
       "25%    32.000000    160.000000          184.654236          213.583349   \n",
       "50%    32.000000    256.000000          193.070479          258.816035   \n",
       "75%    56.000000    448.000000          198.140620          297.937529   \n",
       "max    64.000000    512.000000          209.092898          325.616016   \n",
       "\n",
       "       qdrant_total_time  milvus_total_time  qdrant_index_time  \\\n",
       "count           6.000000           6.000000           6.000000   \n",
       "mean          912.808375        2167.959477         719.977914   \n",
       "std           574.116668        1087.156505         573.916231   \n",
       "min           437.876495        1131.742193         255.528038   \n",
       "25%           518.746296        1295.700919         316.909266   \n",
       "50%           625.666270        1865.080141         435.966042   \n",
       "75%          1367.128299        3016.714787        1171.368502   \n",
       "max          1690.252603        3639.353541        1498.681031   \n",
       "\n",
       "       milvus_index_time  \n",
       "count           6.000000  \n",
       "mean         1911.178495  \n",
       "std          1033.035342  \n",
       "min           943.788200  \n",
       "25%          1082.117570  \n",
       "50%          1606.264106  \n",
       "75%          2718.777258  \n",
       "max          3313.737526  "
      ]
     },
     "metadata": {},
     "output_type": "display_data"
    }
   ],
   "source": [
    "show_results(tested_datasets, upload_info = True, search_info = False)"
   ]
  },
  {
   "cell_type": "markdown",
   "id": "ff460b35-5a36-4ba6-9895-747370a7e9ae",
   "metadata": {},
   "source": [
    "### Observations\n",
    "- **glove-100-angular**: Milvus needs a little more upload time (~15%), but requires the double index time than Qdrant in most configurations\n",
    "- **random-match-keyword-100-angular-no-filters**: Milvus needs more upload time (~35%) and requires the double index time than Qdrant  in most configurations\n",
    "- **h-and-m-2048-angular-no-filters**: Milvus needs a little more upload time (~25%) and requires index time up to a 50% more than Qdrant in most configurations \n",
    "- **gist-960-euclidean**: Milvus needs more upload time (~35%) and requires the double or more index time than Qdrant in most configurations\n",
    "\n",
    "Taking into consideration the above observations we can summarize:\n",
    "- `upload_time`: Milvus needs about 20-30% more time for upload than Qdrant in most configurations\n",
    "- `index_time`: In most cases, Milvus needs at least the double of the corresponding Qdrant time for index\n",
    "- As `m` and `ef` values increase, `upload_time` and `index_time` for the two Databases differ more"
   ]
  },
  {
   "cell_type": "markdown",
   "id": "2a9c3352-be5a-42b2-b0b0-d34c24c36799",
   "metadata": {},
   "source": [
    "## Search Results\n",
    "This section compares the search latency (`total_time`, `mean_time`, `p95_time`), throughput (`rps`) and precision (`mean_precisions`) for Qdrant and Milvus under identical configurations (`m` and `ef_construct` and `ef_search` values). A subset of the tested datasets is examined for a specific value for parallel search threads (here 100)."
   ]
  },
  {
   "cell_type": "code",
   "execution_count": 15,
   "id": "74db42c9-260d-4db0-936b-99daf87a690e",
   "metadata": {},
   "outputs": [
    {
     "name": "stdout",
     "output_type": "stream",
     "text": [
      "\n",
      "\n",
      "****************************************************************************************************\n",
      "************************************ Dataset: glove-100-angular ************************************\n",
      "****************************************************************************************************\n",
      "\n",
      "\n",
      "*************************************** search parallel 100 ***************************************\n",
      "\n"
     ]
    },
    {
     "data": {
      "text/html": [
       "<div>\n",
       "<style scoped>\n",
       "    .dataframe tbody tr th:only-of-type {\n",
       "        vertical-align: middle;\n",
       "    }\n",
       "\n",
       "    .dataframe tbody tr th {\n",
       "        vertical-align: top;\n",
       "    }\n",
       "\n",
       "    .dataframe thead th {\n",
       "        text-align: right;\n",
       "    }\n",
       "</style>\n",
       "<table border=\"1\" class=\"dataframe\">\n",
       "  <thead>\n",
       "    <tr style=\"text-align: right;\">\n",
       "      <th></th>\n",
       "      <th>m</th>\n",
       "      <th>ef_construct</th>\n",
       "      <th>ef_search</th>\n",
       "      <th>qdrant_total_time</th>\n",
       "      <th>milvus_total_time</th>\n",
       "      <th>qdrant_mean_time</th>\n",
       "      <th>milvus_mean_time</th>\n",
       "      <th>qdrant_p95_time</th>\n",
       "      <th>milvus_p95_time</th>\n",
       "      <th>qdrant_rps</th>\n",
       "      <th>milvus_rps</th>\n",
       "      <th>qdrant_mean_precisions</th>\n",
       "      <th>milvus_mean_precisions</th>\n",
       "    </tr>\n",
       "  </thead>\n",
       "  <tbody>\n",
       "    <tr>\n",
       "      <th>37</th>\n",
       "      <td>16</td>\n",
       "      <td>128</td>\n",
       "      <td>128</td>\n",
       "      <td>15.252267</td>\n",
       "      <td>11.312494</td>\n",
       "      <td>0.011746</td>\n",
       "      <td>0.008582</td>\n",
       "      <td>0.016072</td>\n",
       "      <td>0.012134</td>\n",
       "      <td>655.640223</td>\n",
       "      <td>883.978330</td>\n",
       "      <td>0.875369</td>\n",
       "      <td>0.757702</td>\n",
       "    </tr>\n",
       "    <tr>\n",
       "      <th>46</th>\n",
       "      <td>16</td>\n",
       "      <td>128</td>\n",
       "      <td>256</td>\n",
       "      <td>20.159014</td>\n",
       "      <td>12.511192</td>\n",
       "      <td>0.015628</td>\n",
       "      <td>0.009563</td>\n",
       "      <td>0.019160</td>\n",
       "      <td>0.013440</td>\n",
       "      <td>496.056017</td>\n",
       "      <td>799.284327</td>\n",
       "      <td>0.927245</td>\n",
       "      <td>0.828429</td>\n",
       "    </tr>\n",
       "    <tr>\n",
       "      <th>55</th>\n",
       "      <td>16</td>\n",
       "      <td>128</td>\n",
       "      <td>512</td>\n",
       "      <td>31.796166</td>\n",
       "      <td>15.217270</td>\n",
       "      <td>0.024913</td>\n",
       "      <td>0.011735</td>\n",
       "      <td>0.028318</td>\n",
       "      <td>0.016311</td>\n",
       "      <td>314.503323</td>\n",
       "      <td>657.148078</td>\n",
       "      <td>0.963212</td>\n",
       "      <td>0.884985</td>\n",
       "    </tr>\n",
       "    <tr>\n",
       "      <th>109</th>\n",
       "      <td>32</td>\n",
       "      <td>128</td>\n",
       "      <td>128</td>\n",
       "      <td>18.197656</td>\n",
       "      <td>11.466082</td>\n",
       "      <td>0.014039</td>\n",
       "      <td>0.008679</td>\n",
       "      <td>0.019196</td>\n",
       "      <td>0.011903</td>\n",
       "      <td>549.521329</td>\n",
       "      <td>872.137462</td>\n",
       "      <td>0.916376</td>\n",
       "      <td>0.823282</td>\n",
       "    </tr>\n",
       "    <tr>\n",
       "      <th>118</th>\n",
       "      <td>32</td>\n",
       "      <td>128</td>\n",
       "      <td>256</td>\n",
       "      <td>26.449038</td>\n",
       "      <td>14.267616</td>\n",
       "      <td>0.020618</td>\n",
       "      <td>0.010929</td>\n",
       "      <td>0.024340</td>\n",
       "      <td>0.015223</td>\n",
       "      <td>378.085589</td>\n",
       "      <td>700.887931</td>\n",
       "      <td>0.959478</td>\n",
       "      <td>0.887004</td>\n",
       "    </tr>\n",
       "    <tr>\n",
       "      <th>127</th>\n",
       "      <td>32</td>\n",
       "      <td>128</td>\n",
       "      <td>512</td>\n",
       "      <td>42.384065</td>\n",
       "      <td>19.956903</td>\n",
       "      <td>0.033364</td>\n",
       "      <td>0.015466</td>\n",
       "      <td>0.038325</td>\n",
       "      <td>0.022283</td>\n",
       "      <td>235.937727</td>\n",
       "      <td>501.079754</td>\n",
       "      <td>0.984413</td>\n",
       "      <td>0.934825</td>\n",
       "    </tr>\n",
       "    <tr>\n",
       "      <th>181</th>\n",
       "      <td>32</td>\n",
       "      <td>256</td>\n",
       "      <td>128</td>\n",
       "      <td>19.192246</td>\n",
       "      <td>10.577161</td>\n",
       "      <td>0.014829</td>\n",
       "      <td>0.008014</td>\n",
       "      <td>0.018375</td>\n",
       "      <td>0.010847</td>\n",
       "      <td>521.043767</td>\n",
       "      <td>945.433278</td>\n",
       "      <td>0.934769</td>\n",
       "      <td>0.841231</td>\n",
       "    </tr>\n",
       "    <tr>\n",
       "      <th>190</th>\n",
       "      <td>32</td>\n",
       "      <td>256</td>\n",
       "      <td>256</td>\n",
       "      <td>30.786126</td>\n",
       "      <td>13.937474</td>\n",
       "      <td>0.024068</td>\n",
       "      <td>0.010714</td>\n",
       "      <td>0.027970</td>\n",
       "      <td>0.014726</td>\n",
       "      <td>324.821639</td>\n",
       "      <td>717.490153</td>\n",
       "      <td>0.973668</td>\n",
       "      <td>0.905525</td>\n",
       "    </tr>\n",
       "    <tr>\n",
       "      <th>199</th>\n",
       "      <td>32</td>\n",
       "      <td>256</td>\n",
       "      <td>512</td>\n",
       "      <td>48.927453</td>\n",
       "      <td>20.010878</td>\n",
       "      <td>0.038598</td>\n",
       "      <td>0.015552</td>\n",
       "      <td>0.043796</td>\n",
       "      <td>0.022141</td>\n",
       "      <td>204.384234</td>\n",
       "      <td>499.728203</td>\n",
       "      <td>0.992094</td>\n",
       "      <td>0.951028</td>\n",
       "    </tr>\n",
       "    <tr>\n",
       "      <th>253</th>\n",
       "      <td>32</td>\n",
       "      <td>512</td>\n",
       "      <td>128</td>\n",
       "      <td>20.595951</td>\n",
       "      <td>10.973320</td>\n",
       "      <td>0.015945</td>\n",
       "      <td>0.008278</td>\n",
       "      <td>0.019482</td>\n",
       "      <td>0.011331</td>\n",
       "      <td>485.532314</td>\n",
       "      <td>911.301229</td>\n",
       "      <td>0.941837</td>\n",
       "      <td>0.842867</td>\n",
       "    </tr>\n",
       "    <tr>\n",
       "      <th>262</th>\n",
       "      <td>32</td>\n",
       "      <td>512</td>\n",
       "      <td>256</td>\n",
       "      <td>32.800423</td>\n",
       "      <td>14.507474</td>\n",
       "      <td>0.025697</td>\n",
       "      <td>0.011168</td>\n",
       "      <td>0.029208</td>\n",
       "      <td>0.015585</td>\n",
       "      <td>304.874121</td>\n",
       "      <td>689.299860</td>\n",
       "      <td>0.979419</td>\n",
       "      <td>0.908696</td>\n",
       "    </tr>\n",
       "    <tr>\n",
       "      <th>271</th>\n",
       "      <td>32</td>\n",
       "      <td>512</td>\n",
       "      <td>512</td>\n",
       "      <td>54.094361</td>\n",
       "      <td>21.186450</td>\n",
       "      <td>0.042735</td>\n",
       "      <td>0.016494</td>\n",
       "      <td>0.048307</td>\n",
       "      <td>0.023575</td>\n",
       "      <td>184.862151</td>\n",
       "      <td>471.999792</td>\n",
       "      <td>0.994934</td>\n",
       "      <td>0.954262</td>\n",
       "    </tr>\n",
       "    <tr>\n",
       "      <th>325</th>\n",
       "      <td>64</td>\n",
       "      <td>256</td>\n",
       "      <td>128</td>\n",
       "      <td>22.917388</td>\n",
       "      <td>12.361385</td>\n",
       "      <td>0.017804</td>\n",
       "      <td>0.009455</td>\n",
       "      <td>0.021389</td>\n",
       "      <td>0.012785</td>\n",
       "      <td>436.349896</td>\n",
       "      <td>808.970826</td>\n",
       "      <td>0.955880</td>\n",
       "      <td>0.880369</td>\n",
       "    </tr>\n",
       "    <tr>\n",
       "      <th>334</th>\n",
       "      <td>64</td>\n",
       "      <td>256</td>\n",
       "      <td>256</td>\n",
       "      <td>36.405090</td>\n",
       "      <td>17.331873</td>\n",
       "      <td>0.028539</td>\n",
       "      <td>0.013414</td>\n",
       "      <td>0.032939</td>\n",
       "      <td>0.019105</td>\n",
       "      <td>274.686867</td>\n",
       "      <td>576.971683</td>\n",
       "      <td>0.984471</td>\n",
       "      <td>0.936215</td>\n",
       "    </tr>\n",
       "    <tr>\n",
       "      <th>343</th>\n",
       "      <td>64</td>\n",
       "      <td>256</td>\n",
       "      <td>512</td>\n",
       "      <td>59.623147</td>\n",
       "      <td>26.008987</td>\n",
       "      <td>0.047153</td>\n",
       "      <td>0.020293</td>\n",
       "      <td>0.054227</td>\n",
       "      <td>0.029142</td>\n",
       "      <td>167.720096</td>\n",
       "      <td>384.482482</td>\n",
       "      <td>0.996063</td>\n",
       "      <td>0.971402</td>\n",
       "    </tr>\n",
       "    <tr>\n",
       "      <th>397</th>\n",
       "      <td>64</td>\n",
       "      <td>512</td>\n",
       "      <td>128</td>\n",
       "      <td>25.711508</td>\n",
       "      <td>13.094551</td>\n",
       "      <td>0.020028</td>\n",
       "      <td>0.010048</td>\n",
       "      <td>0.023435</td>\n",
       "      <td>0.013658</td>\n",
       "      <td>388.930904</td>\n",
       "      <td>763.676410</td>\n",
       "      <td>0.966909</td>\n",
       "      <td>0.896798</td>\n",
       "    </tr>\n",
       "    <tr>\n",
       "      <th>406</th>\n",
       "      <td>64</td>\n",
       "      <td>512</td>\n",
       "      <td>256</td>\n",
       "      <td>41.407652</td>\n",
       "      <td>20.160666</td>\n",
       "      <td>0.032583</td>\n",
       "      <td>0.015683</td>\n",
       "      <td>0.037389</td>\n",
       "      <td>0.023813</td>\n",
       "      <td>241.501260</td>\n",
       "      <td>496.015367</td>\n",
       "      <td>0.990476</td>\n",
       "      <td>0.951033</td>\n",
       "    </tr>\n",
       "    <tr>\n",
       "      <th>415</th>\n",
       "      <td>64</td>\n",
       "      <td>512</td>\n",
       "      <td>512</td>\n",
       "      <td>68.919277</td>\n",
       "      <td>30.410603</td>\n",
       "      <td>0.054586</td>\n",
       "      <td>0.023851</td>\n",
       "      <td>0.062540</td>\n",
       "      <td>0.037059</td>\n",
       "      <td>145.097285</td>\n",
       "      <td>328.832683</td>\n",
       "      <td>0.998266</td>\n",
       "      <td>0.981965</td>\n",
       "    </tr>\n",
       "  </tbody>\n",
       "</table>\n",
       "</div>"
      ],
      "text/plain": [
       "      m  ef_construct  ef_search  qdrant_total_time  milvus_total_time  \\\n",
       "37   16           128        128          15.252267          11.312494   \n",
       "46   16           128        256          20.159014          12.511192   \n",
       "55   16           128        512          31.796166          15.217270   \n",
       "109  32           128        128          18.197656          11.466082   \n",
       "118  32           128        256          26.449038          14.267616   \n",
       "127  32           128        512          42.384065          19.956903   \n",
       "181  32           256        128          19.192246          10.577161   \n",
       "190  32           256        256          30.786126          13.937474   \n",
       "199  32           256        512          48.927453          20.010878   \n",
       "253  32           512        128          20.595951          10.973320   \n",
       "262  32           512        256          32.800423          14.507474   \n",
       "271  32           512        512          54.094361          21.186450   \n",
       "325  64           256        128          22.917388          12.361385   \n",
       "334  64           256        256          36.405090          17.331873   \n",
       "343  64           256        512          59.623147          26.008987   \n",
       "397  64           512        128          25.711508          13.094551   \n",
       "406  64           512        256          41.407652          20.160666   \n",
       "415  64           512        512          68.919277          30.410603   \n",
       "\n",
       "     qdrant_mean_time  milvus_mean_time  qdrant_p95_time  milvus_p95_time  \\\n",
       "37           0.011746          0.008582         0.016072         0.012134   \n",
       "46           0.015628          0.009563         0.019160         0.013440   \n",
       "55           0.024913          0.011735         0.028318         0.016311   \n",
       "109          0.014039          0.008679         0.019196         0.011903   \n",
       "118          0.020618          0.010929         0.024340         0.015223   \n",
       "127          0.033364          0.015466         0.038325         0.022283   \n",
       "181          0.014829          0.008014         0.018375         0.010847   \n",
       "190          0.024068          0.010714         0.027970         0.014726   \n",
       "199          0.038598          0.015552         0.043796         0.022141   \n",
       "253          0.015945          0.008278         0.019482         0.011331   \n",
       "262          0.025697          0.011168         0.029208         0.015585   \n",
       "271          0.042735          0.016494         0.048307         0.023575   \n",
       "325          0.017804          0.009455         0.021389         0.012785   \n",
       "334          0.028539          0.013414         0.032939         0.019105   \n",
       "343          0.047153          0.020293         0.054227         0.029142   \n",
       "397          0.020028          0.010048         0.023435         0.013658   \n",
       "406          0.032583          0.015683         0.037389         0.023813   \n",
       "415          0.054586          0.023851         0.062540         0.037059   \n",
       "\n",
       "     qdrant_rps  milvus_rps  qdrant_mean_precisions  milvus_mean_precisions  \n",
       "37   655.640223  883.978330                0.875369                0.757702  \n",
       "46   496.056017  799.284327                0.927245                0.828429  \n",
       "55   314.503323  657.148078                0.963212                0.884985  \n",
       "109  549.521329  872.137462                0.916376                0.823282  \n",
       "118  378.085589  700.887931                0.959478                0.887004  \n",
       "127  235.937727  501.079754                0.984413                0.934825  \n",
       "181  521.043767  945.433278                0.934769                0.841231  \n",
       "190  324.821639  717.490153                0.973668                0.905525  \n",
       "199  204.384234  499.728203                0.992094                0.951028  \n",
       "253  485.532314  911.301229                0.941837                0.842867  \n",
       "262  304.874121  689.299860                0.979419                0.908696  \n",
       "271  184.862151  471.999792                0.994934                0.954262  \n",
       "325  436.349896  808.970826                0.955880                0.880369  \n",
       "334  274.686867  576.971683                0.984471                0.936215  \n",
       "343  167.720096  384.482482                0.996063                0.971402  \n",
       "397  388.930904  763.676410                0.966909                0.896798  \n",
       "406  241.501260  496.015367                0.990476                0.951033  \n",
       "415  145.097285  328.832683                0.998266                0.981965  "
      ]
     },
     "metadata": {},
     "output_type": "display_data"
    },
    {
     "name": "stdout",
     "output_type": "stream",
     "text": [
      "\n",
      "\n",
      "**************************************** Search Statistics ****************************************\n",
      "\n"
     ]
    },
    {
     "data": {
      "text/html": [
       "<div>\n",
       "<style scoped>\n",
       "    .dataframe tbody tr th:only-of-type {\n",
       "        vertical-align: middle;\n",
       "    }\n",
       "\n",
       "    .dataframe tbody tr th {\n",
       "        vertical-align: top;\n",
       "    }\n",
       "\n",
       "    .dataframe thead th {\n",
       "        text-align: right;\n",
       "    }\n",
       "</style>\n",
       "<table border=\"1\" class=\"dataframe\">\n",
       "  <thead>\n",
       "    <tr style=\"text-align: right;\">\n",
       "      <th></th>\n",
       "      <th>m</th>\n",
       "      <th>ef_construct</th>\n",
       "      <th>ef_search</th>\n",
       "      <th>qdrant_total_time</th>\n",
       "      <th>milvus_total_time</th>\n",
       "      <th>qdrant_mean_time</th>\n",
       "      <th>milvus_mean_time</th>\n",
       "      <th>qdrant_p95_time</th>\n",
       "      <th>milvus_p95_time</th>\n",
       "      <th>qdrant_rps</th>\n",
       "      <th>milvus_rps</th>\n",
       "      <th>qdrant_mean_precisions</th>\n",
       "      <th>milvus_mean_precisions</th>\n",
       "    </tr>\n",
       "  </thead>\n",
       "  <tbody>\n",
       "    <tr>\n",
       "      <th>count</th>\n",
       "      <td>18.00000</td>\n",
       "      <td>18.000000</td>\n",
       "      <td>18.000000</td>\n",
       "      <td>18.000000</td>\n",
       "      <td>18.000000</td>\n",
       "      <td>18.000000</td>\n",
       "      <td>18.000000</td>\n",
       "      <td>18.000000</td>\n",
       "      <td>18.000000</td>\n",
       "      <td>18.000000</td>\n",
       "      <td>18.000000</td>\n",
       "      <td>18.000000</td>\n",
       "      <td>18.000000</td>\n",
       "    </tr>\n",
       "    <tr>\n",
       "      <th>mean</th>\n",
       "      <td>40.00000</td>\n",
       "      <td>298.666667</td>\n",
       "      <td>298.666667</td>\n",
       "      <td>34.201046</td>\n",
       "      <td>16.405132</td>\n",
       "      <td>0.026826</td>\n",
       "      <td>0.012662</td>\n",
       "      <td>0.031359</td>\n",
       "      <td>0.018059</td>\n",
       "      <td>350.530486</td>\n",
       "      <td>667.150992</td>\n",
       "      <td>0.963049</td>\n",
       "      <td>0.896534</td>\n",
       "    </tr>\n",
       "    <tr>\n",
       "      <th>std</th>\n",
       "      <td>18.40716</td>\n",
       "      <td>164.272371</td>\n",
       "      <td>164.272371</td>\n",
       "      <td>15.510157</td>\n",
       "      <td>5.550684</td>\n",
       "      <td>0.012395</td>\n",
       "      <td>0.004432</td>\n",
       "      <td>0.013507</td>\n",
       "      <td>0.007071</td>\n",
       "      <td>147.530217</td>\n",
       "      <td>188.291156</td>\n",
       "      <td>0.033180</td>\n",
       "      <td>0.059975</td>\n",
       "    </tr>\n",
       "    <tr>\n",
       "      <th>min</th>\n",
       "      <td>16.00000</td>\n",
       "      <td>128.000000</td>\n",
       "      <td>128.000000</td>\n",
       "      <td>15.252267</td>\n",
       "      <td>10.577161</td>\n",
       "      <td>0.011746</td>\n",
       "      <td>0.008014</td>\n",
       "      <td>0.016072</td>\n",
       "      <td>0.010847</td>\n",
       "      <td>145.097285</td>\n",
       "      <td>328.832683</td>\n",
       "      <td>0.875369</td>\n",
       "      <td>0.757702</td>\n",
       "    </tr>\n",
       "    <tr>\n",
       "      <th>25%</th>\n",
       "      <td>32.00000</td>\n",
       "      <td>128.000000</td>\n",
       "      <td>128.000000</td>\n",
       "      <td>21.176311</td>\n",
       "      <td>12.398837</td>\n",
       "      <td>0.016410</td>\n",
       "      <td>0.009482</td>\n",
       "      <td>0.019958</td>\n",
       "      <td>0.012949</td>\n",
       "      <td>237.328610</td>\n",
       "      <td>500.066091</td>\n",
       "      <td>0.945348</td>\n",
       "      <td>0.852243</td>\n",
       "    </tr>\n",
       "    <tr>\n",
       "      <th>50%</th>\n",
       "      <td>32.00000</td>\n",
       "      <td>256.000000</td>\n",
       "      <td>256.000000</td>\n",
       "      <td>31.291146</td>\n",
       "      <td>14.387545</td>\n",
       "      <td>0.024490</td>\n",
       "      <td>0.011049</td>\n",
       "      <td>0.028144</td>\n",
       "      <td>0.015404</td>\n",
       "      <td>319.662481</td>\n",
       "      <td>695.093895</td>\n",
       "      <td>0.970288</td>\n",
       "      <td>0.901161</td>\n",
       "    </tr>\n",
       "    <tr>\n",
       "      <th>75%</th>\n",
       "      <td>64.00000</td>\n",
       "      <td>512.000000</td>\n",
       "      <td>512.000000</td>\n",
       "      <td>42.139962</td>\n",
       "      <td>19.997384</td>\n",
       "      <td>0.033169</td>\n",
       "      <td>0.015530</td>\n",
       "      <td>0.038091</td>\n",
       "      <td>0.022247</td>\n",
       "      <td>473.236710</td>\n",
       "      <td>806.549202</td>\n",
       "      <td>0.988975</td>\n",
       "      <td>0.947325</td>\n",
       "    </tr>\n",
       "    <tr>\n",
       "      <th>max</th>\n",
       "      <td>64.00000</td>\n",
       "      <td>512.000000</td>\n",
       "      <td>512.000000</td>\n",
       "      <td>68.919277</td>\n",
       "      <td>30.410603</td>\n",
       "      <td>0.054586</td>\n",
       "      <td>0.023851</td>\n",
       "      <td>0.062540</td>\n",
       "      <td>0.037059</td>\n",
       "      <td>655.640223</td>\n",
       "      <td>945.433278</td>\n",
       "      <td>0.998266</td>\n",
       "      <td>0.981965</td>\n",
       "    </tr>\n",
       "  </tbody>\n",
       "</table>\n",
       "</div>"
      ],
      "text/plain": [
       "              m  ef_construct   ef_search  qdrant_total_time  \\\n",
       "count  18.00000     18.000000   18.000000          18.000000   \n",
       "mean   40.00000    298.666667  298.666667          34.201046   \n",
       "std    18.40716    164.272371  164.272371          15.510157   \n",
       "min    16.00000    128.000000  128.000000          15.252267   \n",
       "25%    32.00000    128.000000  128.000000          21.176311   \n",
       "50%    32.00000    256.000000  256.000000          31.291146   \n",
       "75%    64.00000    512.000000  512.000000          42.139962   \n",
       "max    64.00000    512.000000  512.000000          68.919277   \n",
       "\n",
       "       milvus_total_time  qdrant_mean_time  milvus_mean_time  qdrant_p95_time  \\\n",
       "count          18.000000         18.000000         18.000000        18.000000   \n",
       "mean           16.405132          0.026826          0.012662         0.031359   \n",
       "std             5.550684          0.012395          0.004432         0.013507   \n",
       "min            10.577161          0.011746          0.008014         0.016072   \n",
       "25%            12.398837          0.016410          0.009482         0.019958   \n",
       "50%            14.387545          0.024490          0.011049         0.028144   \n",
       "75%            19.997384          0.033169          0.015530         0.038091   \n",
       "max            30.410603          0.054586          0.023851         0.062540   \n",
       "\n",
       "       milvus_p95_time  qdrant_rps  milvus_rps  qdrant_mean_precisions  \\\n",
       "count        18.000000   18.000000   18.000000               18.000000   \n",
       "mean          0.018059  350.530486  667.150992                0.963049   \n",
       "std           0.007071  147.530217  188.291156                0.033180   \n",
       "min           0.010847  145.097285  328.832683                0.875369   \n",
       "25%           0.012949  237.328610  500.066091                0.945348   \n",
       "50%           0.015404  319.662481  695.093895                0.970288   \n",
       "75%           0.022247  473.236710  806.549202                0.988975   \n",
       "max           0.037059  655.640223  945.433278                0.998266   \n",
       "\n",
       "       milvus_mean_precisions  \n",
       "count               18.000000  \n",
       "mean                 0.896534  \n",
       "std                  0.059975  \n",
       "min                  0.757702  \n",
       "25%                  0.852243  \n",
       "50%                  0.901161  \n",
       "75%                  0.947325  \n",
       "max                  0.981965  "
      ]
     },
     "metadata": {},
     "output_type": "display_data"
    },
    {
     "name": "stdout",
     "output_type": "stream",
     "text": [
      "\n",
      "\n",
      "****************************************************************************************************\n",
      "*********************** Dataset: random-match-keyword-100-angular-no-filters ***********************\n",
      "****************************************************************************************************\n",
      "\n",
      "\n",
      "*************************************** search parallel 100 ***************************************\n",
      "\n"
     ]
    },
    {
     "data": {
      "text/html": [
       "<div>\n",
       "<style scoped>\n",
       "    .dataframe tbody tr th:only-of-type {\n",
       "        vertical-align: middle;\n",
       "    }\n",
       "\n",
       "    .dataframe tbody tr th {\n",
       "        vertical-align: top;\n",
       "    }\n",
       "\n",
       "    .dataframe thead th {\n",
       "        text-align: right;\n",
       "    }\n",
       "</style>\n",
       "<table border=\"1\" class=\"dataframe\">\n",
       "  <thead>\n",
       "    <tr style=\"text-align: right;\">\n",
       "      <th></th>\n",
       "      <th>m</th>\n",
       "      <th>ef_construct</th>\n",
       "      <th>ef_search</th>\n",
       "      <th>qdrant_total_time</th>\n",
       "      <th>milvus_total_time</th>\n",
       "      <th>qdrant_mean_time</th>\n",
       "      <th>milvus_mean_time</th>\n",
       "      <th>qdrant_p95_time</th>\n",
       "      <th>milvus_p95_time</th>\n",
       "      <th>qdrant_rps</th>\n",
       "      <th>milvus_rps</th>\n",
       "      <th>qdrant_mean_precisions</th>\n",
       "      <th>milvus_mean_precisions</th>\n",
       "    </tr>\n",
       "  </thead>\n",
       "  <tbody>\n",
       "    <tr>\n",
       "      <th>44</th>\n",
       "      <td>16</td>\n",
       "      <td>128</td>\n",
       "      <td>128</td>\n",
       "      <td>13.326425</td>\n",
       "      <td>9.702307</td>\n",
       "      <td>0.010232</td>\n",
       "      <td>0.007382</td>\n",
       "      <td>0.012771</td>\n",
       "      <td>0.009991</td>\n",
       "      <td>750.388806</td>\n",
       "      <td>1030.682649</td>\n",
       "      <td>0.69804</td>\n",
       "      <td>0.51119</td>\n",
       "    </tr>\n",
       "    <tr>\n",
       "      <th>53</th>\n",
       "      <td>16</td>\n",
       "      <td>128</td>\n",
       "      <td>256</td>\n",
       "      <td>21.472595</td>\n",
       "      <td>12.737364</td>\n",
       "      <td>0.016732</td>\n",
       "      <td>0.009792</td>\n",
       "      <td>0.018982</td>\n",
       "      <td>0.013639</td>\n",
       "      <td>465.709903</td>\n",
       "      <td>785.091822</td>\n",
       "      <td>0.81618</td>\n",
       "      <td>0.60283</td>\n",
       "    </tr>\n",
       "    <tr>\n",
       "      <th>62</th>\n",
       "      <td>16</td>\n",
       "      <td>128</td>\n",
       "      <td>512</td>\n",
       "      <td>35.450237</td>\n",
       "      <td>17.751701</td>\n",
       "      <td>0.027924</td>\n",
       "      <td>0.013786</td>\n",
       "      <td>0.030222</td>\n",
       "      <td>0.019511</td>\n",
       "      <td>282.085559</td>\n",
       "      <td>563.326301</td>\n",
       "      <td>0.89881</td>\n",
       "      <td>0.69596</td>\n",
       "    </tr>\n",
       "    <tr>\n",
       "      <th>116</th>\n",
       "      <td>32</td>\n",
       "      <td>128</td>\n",
       "      <td>128</td>\n",
       "      <td>20.959702</td>\n",
       "      <td>25.574113</td>\n",
       "      <td>0.016295</td>\n",
       "      <td>0.020007</td>\n",
       "      <td>0.018608</td>\n",
       "      <td>0.031055</td>\n",
       "      <td>477.106022</td>\n",
       "      <td>391.020398</td>\n",
       "      <td>0.86614</td>\n",
       "      <td>0.81362</td>\n",
       "    </tr>\n",
       "    <tr>\n",
       "      <th>125</th>\n",
       "      <td>32</td>\n",
       "      <td>128</td>\n",
       "      <td>256</td>\n",
       "      <td>34.183424</td>\n",
       "      <td>36.592034</td>\n",
       "      <td>0.026900</td>\n",
       "      <td>0.028824</td>\n",
       "      <td>0.029303</td>\n",
       "      <td>0.044473</td>\n",
       "      <td>292.539452</td>\n",
       "      <td>273.283528</td>\n",
       "      <td>0.94356</td>\n",
       "      <td>0.89320</td>\n",
       "    </tr>\n",
       "    <tr>\n",
       "      <th>134</th>\n",
       "      <td>32</td>\n",
       "      <td>128</td>\n",
       "      <td>512</td>\n",
       "      <td>56.547487</td>\n",
       "      <td>53.135879</td>\n",
       "      <td>0.044783</td>\n",
       "      <td>0.042027</td>\n",
       "      <td>0.048067</td>\n",
       "      <td>0.063912</td>\n",
       "      <td>176.842517</td>\n",
       "      <td>188.196755</td>\n",
       "      <td>0.98043</td>\n",
       "      <td>0.94667</td>\n",
       "    </tr>\n",
       "    <tr>\n",
       "      <th>188</th>\n",
       "      <td>32</td>\n",
       "      <td>256</td>\n",
       "      <td>128</td>\n",
       "      <td>21.879821</td>\n",
       "      <td>25.410535</td>\n",
       "      <td>0.017027</td>\n",
       "      <td>0.019862</td>\n",
       "      <td>0.019407</td>\n",
       "      <td>0.030572</td>\n",
       "      <td>457.042132</td>\n",
       "      <td>393.537568</td>\n",
       "      <td>0.89802</td>\n",
       "      <td>0.85350</td>\n",
       "    </tr>\n",
       "    <tr>\n",
       "      <th>197</th>\n",
       "      <td>32</td>\n",
       "      <td>256</td>\n",
       "      <td>256</td>\n",
       "      <td>35.903485</td>\n",
       "      <td>35.827484</td>\n",
       "      <td>0.028259</td>\n",
       "      <td>0.028096</td>\n",
       "      <td>0.030563</td>\n",
       "      <td>0.043568</td>\n",
       "      <td>278.524493</td>\n",
       "      <td>279.115328</td>\n",
       "      <td>0.96242</td>\n",
       "      <td>0.91926</td>\n",
       "    </tr>\n",
       "    <tr>\n",
       "      <th>206</th>\n",
       "      <td>32</td>\n",
       "      <td>256</td>\n",
       "      <td>512</td>\n",
       "      <td>60.004322</td>\n",
       "      <td>53.577440</td>\n",
       "      <td>0.047538</td>\n",
       "      <td>0.042398</td>\n",
       "      <td>0.051399</td>\n",
       "      <td>0.065729</td>\n",
       "      <td>166.654662</td>\n",
       "      <td>186.645723</td>\n",
       "      <td>0.98883</td>\n",
       "      <td>0.96173</td>\n",
       "    </tr>\n",
       "    <tr>\n",
       "      <th>260</th>\n",
       "      <td>32</td>\n",
       "      <td>512</td>\n",
       "      <td>128</td>\n",
       "      <td>22.644774</td>\n",
       "      <td>13.126700</td>\n",
       "      <td>0.017643</td>\n",
       "      <td>0.010103</td>\n",
       "      <td>0.019789</td>\n",
       "      <td>0.013735</td>\n",
       "      <td>441.602990</td>\n",
       "      <td>761.806061</td>\n",
       "      <td>0.90740</td>\n",
       "      <td>0.85207</td>\n",
       "    </tr>\n",
       "    <tr>\n",
       "      <th>269</th>\n",
       "      <td>32</td>\n",
       "      <td>512</td>\n",
       "      <td>256</td>\n",
       "      <td>37.539708</td>\n",
       "      <td>18.027381</td>\n",
       "      <td>0.029575</td>\n",
       "      <td>0.013992</td>\n",
       "      <td>0.031823</td>\n",
       "      <td>0.019707</td>\n",
       "      <td>266.384598</td>\n",
       "      <td>554.711762</td>\n",
       "      <td>0.96984</td>\n",
       "      <td>0.90456</td>\n",
       "    </tr>\n",
       "    <tr>\n",
       "      <th>278</th>\n",
       "      <td>32</td>\n",
       "      <td>512</td>\n",
       "      <td>512</td>\n",
       "      <td>63.540944</td>\n",
       "      <td>27.257646</td>\n",
       "      <td>0.050318</td>\n",
       "      <td>0.021372</td>\n",
       "      <td>0.054232</td>\n",
       "      <td>0.029913</td>\n",
       "      <td>157.378840</td>\n",
       "      <td>366.869544</td>\n",
       "      <td>0.99231</td>\n",
       "      <td>0.94107</td>\n",
       "    </tr>\n",
       "    <tr>\n",
       "      <th>332</th>\n",
       "      <td>64</td>\n",
       "      <td>256</td>\n",
       "      <td>128</td>\n",
       "      <td>33.679423</td>\n",
       "      <td>18.241186</td>\n",
       "      <td>0.026468</td>\n",
       "      <td>0.014160</td>\n",
       "      <td>0.028775</td>\n",
       "      <td>0.019780</td>\n",
       "      <td>296.917203</td>\n",
       "      <td>548.209968</td>\n",
       "      <td>0.96360</td>\n",
       "      <td>0.85726</td>\n",
       "    </tr>\n",
       "    <tr>\n",
       "      <th>341</th>\n",
       "      <td>64</td>\n",
       "      <td>256</td>\n",
       "      <td>256</td>\n",
       "      <td>56.089397</td>\n",
       "      <td>27.783579</td>\n",
       "      <td>0.044384</td>\n",
       "      <td>0.021772</td>\n",
       "      <td>0.048078</td>\n",
       "      <td>0.030528</td>\n",
       "      <td>178.286815</td>\n",
       "      <td>359.924834</td>\n",
       "      <td>0.99225</td>\n",
       "      <td>0.93658</td>\n",
       "    </tr>\n",
       "    <tr>\n",
       "      <th>350</th>\n",
       "      <td>64</td>\n",
       "      <td>256</td>\n",
       "      <td>512</td>\n",
       "      <td>92.183448</td>\n",
       "      <td>42.533256</td>\n",
       "      <td>0.073253</td>\n",
       "      <td>0.033555</td>\n",
       "      <td>0.078939</td>\n",
       "      <td>0.044395</td>\n",
       "      <td>108.479345</td>\n",
       "      <td>235.110146</td>\n",
       "      <td>0.99878</td>\n",
       "      <td>0.97998</td>\n",
       "    </tr>\n",
       "    <tr>\n",
       "      <th>404</th>\n",
       "      <td>64</td>\n",
       "      <td>512</td>\n",
       "      <td>128</td>\n",
       "      <td>35.548747</td>\n",
       "      <td>17.527593</td>\n",
       "      <td>0.027969</td>\n",
       "      <td>0.013559</td>\n",
       "      <td>0.030660</td>\n",
       "      <td>0.018891</td>\n",
       "      <td>281.303868</td>\n",
       "      <td>570.528991</td>\n",
       "      <td>0.96983</td>\n",
       "      <td>0.95208</td>\n",
       "    </tr>\n",
       "    <tr>\n",
       "      <th>413</th>\n",
       "      <td>64</td>\n",
       "      <td>512</td>\n",
       "      <td>256</td>\n",
       "      <td>59.594162</td>\n",
       "      <td>27.739127</td>\n",
       "      <td>0.047195</td>\n",
       "      <td>0.021731</td>\n",
       "      <td>0.050827</td>\n",
       "      <td>0.030654</td>\n",
       "      <td>167.801672</td>\n",
       "      <td>360.501616</td>\n",
       "      <td>0.99520</td>\n",
       "      <td>0.98034</td>\n",
       "    </tr>\n",
       "    <tr>\n",
       "      <th>422</th>\n",
       "      <td>64</td>\n",
       "      <td>512</td>\n",
       "      <td>512</td>\n",
       "      <td>98.404297</td>\n",
       "      <td>42.804713</td>\n",
       "      <td>0.078232</td>\n",
       "      <td>0.033773</td>\n",
       "      <td>0.084150</td>\n",
       "      <td>0.045624</td>\n",
       "      <td>101.621578</td>\n",
       "      <td>233.619132</td>\n",
       "      <td>0.99940</td>\n",
       "      <td>0.99156</td>\n",
       "    </tr>\n",
       "  </tbody>\n",
       "</table>\n",
       "</div>"
      ],
      "text/plain": [
       "      m  ef_construct  ef_search  qdrant_total_time  milvus_total_time  \\\n",
       "44   16           128        128          13.326425           9.702307   \n",
       "53   16           128        256          21.472595          12.737364   \n",
       "62   16           128        512          35.450237          17.751701   \n",
       "116  32           128        128          20.959702          25.574113   \n",
       "125  32           128        256          34.183424          36.592034   \n",
       "134  32           128        512          56.547487          53.135879   \n",
       "188  32           256        128          21.879821          25.410535   \n",
       "197  32           256        256          35.903485          35.827484   \n",
       "206  32           256        512          60.004322          53.577440   \n",
       "260  32           512        128          22.644774          13.126700   \n",
       "269  32           512        256          37.539708          18.027381   \n",
       "278  32           512        512          63.540944          27.257646   \n",
       "332  64           256        128          33.679423          18.241186   \n",
       "341  64           256        256          56.089397          27.783579   \n",
       "350  64           256        512          92.183448          42.533256   \n",
       "404  64           512        128          35.548747          17.527593   \n",
       "413  64           512        256          59.594162          27.739127   \n",
       "422  64           512        512          98.404297          42.804713   \n",
       "\n",
       "     qdrant_mean_time  milvus_mean_time  qdrant_p95_time  milvus_p95_time  \\\n",
       "44           0.010232          0.007382         0.012771         0.009991   \n",
       "53           0.016732          0.009792         0.018982         0.013639   \n",
       "62           0.027924          0.013786         0.030222         0.019511   \n",
       "116          0.016295          0.020007         0.018608         0.031055   \n",
       "125          0.026900          0.028824         0.029303         0.044473   \n",
       "134          0.044783          0.042027         0.048067         0.063912   \n",
       "188          0.017027          0.019862         0.019407         0.030572   \n",
       "197          0.028259          0.028096         0.030563         0.043568   \n",
       "206          0.047538          0.042398         0.051399         0.065729   \n",
       "260          0.017643          0.010103         0.019789         0.013735   \n",
       "269          0.029575          0.013992         0.031823         0.019707   \n",
       "278          0.050318          0.021372         0.054232         0.029913   \n",
       "332          0.026468          0.014160         0.028775         0.019780   \n",
       "341          0.044384          0.021772         0.048078         0.030528   \n",
       "350          0.073253          0.033555         0.078939         0.044395   \n",
       "404          0.027969          0.013559         0.030660         0.018891   \n",
       "413          0.047195          0.021731         0.050827         0.030654   \n",
       "422          0.078232          0.033773         0.084150         0.045624   \n",
       "\n",
       "     qdrant_rps   milvus_rps  qdrant_mean_precisions  milvus_mean_precisions  \n",
       "44   750.388806  1030.682649                 0.69804                 0.51119  \n",
       "53   465.709903   785.091822                 0.81618                 0.60283  \n",
       "62   282.085559   563.326301                 0.89881                 0.69596  \n",
       "116  477.106022   391.020398                 0.86614                 0.81362  \n",
       "125  292.539452   273.283528                 0.94356                 0.89320  \n",
       "134  176.842517   188.196755                 0.98043                 0.94667  \n",
       "188  457.042132   393.537568                 0.89802                 0.85350  \n",
       "197  278.524493   279.115328                 0.96242                 0.91926  \n",
       "206  166.654662   186.645723                 0.98883                 0.96173  \n",
       "260  441.602990   761.806061                 0.90740                 0.85207  \n",
       "269  266.384598   554.711762                 0.96984                 0.90456  \n",
       "278  157.378840   366.869544                 0.99231                 0.94107  \n",
       "332  296.917203   548.209968                 0.96360                 0.85726  \n",
       "341  178.286815   359.924834                 0.99225                 0.93658  \n",
       "350  108.479345   235.110146                 0.99878                 0.97998  \n",
       "404  281.303868   570.528991                 0.96983                 0.95208  \n",
       "413  167.801672   360.501616                 0.99520                 0.98034  \n",
       "422  101.621578   233.619132                 0.99940                 0.99156  "
      ]
     },
     "metadata": {},
     "output_type": "display_data"
    },
    {
     "name": "stdout",
     "output_type": "stream",
     "text": [
      "\n",
      "\n",
      "**************************************** Search Statistics ****************************************\n",
      "\n"
     ]
    },
    {
     "data": {
      "text/html": [
       "<div>\n",
       "<style scoped>\n",
       "    .dataframe tbody tr th:only-of-type {\n",
       "        vertical-align: middle;\n",
       "    }\n",
       "\n",
       "    .dataframe tbody tr th {\n",
       "        vertical-align: top;\n",
       "    }\n",
       "\n",
       "    .dataframe thead th {\n",
       "        text-align: right;\n",
       "    }\n",
       "</style>\n",
       "<table border=\"1\" class=\"dataframe\">\n",
       "  <thead>\n",
       "    <tr style=\"text-align: right;\">\n",
       "      <th></th>\n",
       "      <th>m</th>\n",
       "      <th>ef_construct</th>\n",
       "      <th>ef_search</th>\n",
       "      <th>qdrant_total_time</th>\n",
       "      <th>milvus_total_time</th>\n",
       "      <th>qdrant_mean_time</th>\n",
       "      <th>milvus_mean_time</th>\n",
       "      <th>qdrant_p95_time</th>\n",
       "      <th>milvus_p95_time</th>\n",
       "      <th>qdrant_rps</th>\n",
       "      <th>milvus_rps</th>\n",
       "      <th>qdrant_mean_precisions</th>\n",
       "      <th>milvus_mean_precisions</th>\n",
       "    </tr>\n",
       "  </thead>\n",
       "  <tbody>\n",
       "    <tr>\n",
       "      <th>count</th>\n",
       "      <td>18.00000</td>\n",
       "      <td>18.000000</td>\n",
       "      <td>18.000000</td>\n",
       "      <td>18.000000</td>\n",
       "      <td>18.000000</td>\n",
       "      <td>18.000000</td>\n",
       "      <td>18.000000</td>\n",
       "      <td>18.000000</td>\n",
       "      <td>18.000000</td>\n",
       "      <td>18.000000</td>\n",
       "      <td>18.000000</td>\n",
       "      <td>18.000000</td>\n",
       "      <td>18.000000</td>\n",
       "    </tr>\n",
       "    <tr>\n",
       "      <th>mean</th>\n",
       "      <td>40.00000</td>\n",
       "      <td>298.666667</td>\n",
       "      <td>298.666667</td>\n",
       "      <td>44.386244</td>\n",
       "      <td>28.075002</td>\n",
       "      <td>0.035040</td>\n",
       "      <td>0.022011</td>\n",
       "      <td>0.038144</td>\n",
       "      <td>0.031982</td>\n",
       "      <td>297.037248</td>\n",
       "      <td>449.010118</td>\n",
       "      <td>0.935613</td>\n",
       "      <td>0.866303</td>\n",
       "    </tr>\n",
       "    <tr>\n",
       "      <th>std</th>\n",
       "      <td>18.40716</td>\n",
       "      <td>164.272371</td>\n",
       "      <td>164.272371</td>\n",
       "      <td>24.062163</td>\n",
       "      <td>13.423017</td>\n",
       "      <td>0.019237</td>\n",
       "      <td>0.010712</td>\n",
       "      <td>0.020344</td>\n",
       "      <td>0.016413</td>\n",
       "      <td>166.304656</td>\n",
       "      <td>232.086430</td>\n",
       "      <td>0.078917</td>\n",
       "      <td>0.134563</td>\n",
       "    </tr>\n",
       "    <tr>\n",
       "      <th>min</th>\n",
       "      <td>16.00000</td>\n",
       "      <td>128.000000</td>\n",
       "      <td>128.000000</td>\n",
       "      <td>13.326425</td>\n",
       "      <td>9.702307</td>\n",
       "      <td>0.010232</td>\n",
       "      <td>0.007382</td>\n",
       "      <td>0.012771</td>\n",
       "      <td>0.009991</td>\n",
       "      <td>101.621578</td>\n",
       "      <td>186.645723</td>\n",
       "      <td>0.698040</td>\n",
       "      <td>0.511190</td>\n",
       "    </tr>\n",
       "    <tr>\n",
       "      <th>25%</th>\n",
       "      <td>32.00000</td>\n",
       "      <td>128.000000</td>\n",
       "      <td>128.000000</td>\n",
       "      <td>25.403436</td>\n",
       "      <td>17.820621</td>\n",
       "      <td>0.019849</td>\n",
       "      <td>0.013837</td>\n",
       "      <td>0.022036</td>\n",
       "      <td>0.019560</td>\n",
       "      <td>170.061883</td>\n",
       "      <td>274.741478</td>\n",
       "      <td>0.900957</td>\n",
       "      <td>0.852428</td>\n",
       "    </tr>\n",
       "    <tr>\n",
       "      <th>50%</th>\n",
       "      <td>32.00000</td>\n",
       "      <td>256.000000</td>\n",
       "      <td>256.000000</td>\n",
       "      <td>35.726116</td>\n",
       "      <td>26.415880</td>\n",
       "      <td>0.028114</td>\n",
       "      <td>0.020690</td>\n",
       "      <td>0.030612</td>\n",
       "      <td>0.030550</td>\n",
       "      <td>279.914181</td>\n",
       "      <td>378.944971</td>\n",
       "      <td>0.966715</td>\n",
       "      <td>0.911910</td>\n",
       "    </tr>\n",
       "    <tr>\n",
       "      <th>75%</th>\n",
       "      <td>64.00000</td>\n",
       "      <td>512.000000</td>\n",
       "      <td>512.000000</td>\n",
       "      <td>58.832493</td>\n",
       "      <td>36.400896</td>\n",
       "      <td>0.046592</td>\n",
       "      <td>0.028642</td>\n",
       "      <td>0.050140</td>\n",
       "      <td>0.044188</td>\n",
       "      <td>405.431543</td>\n",
       "      <td>561.172666</td>\n",
       "      <td>0.991395</td>\n",
       "      <td>0.950728</td>\n",
       "    </tr>\n",
       "    <tr>\n",
       "      <th>max</th>\n",
       "      <td>64.00000</td>\n",
       "      <td>512.000000</td>\n",
       "      <td>512.000000</td>\n",
       "      <td>98.404297</td>\n",
       "      <td>53.577440</td>\n",
       "      <td>0.078232</td>\n",
       "      <td>0.042398</td>\n",
       "      <td>0.084150</td>\n",
       "      <td>0.065729</td>\n",
       "      <td>750.388806</td>\n",
       "      <td>1030.682649</td>\n",
       "      <td>0.999400</td>\n",
       "      <td>0.991560</td>\n",
       "    </tr>\n",
       "  </tbody>\n",
       "</table>\n",
       "</div>"
      ],
      "text/plain": [
       "              m  ef_construct   ef_search  qdrant_total_time  \\\n",
       "count  18.00000     18.000000   18.000000          18.000000   \n",
       "mean   40.00000    298.666667  298.666667          44.386244   \n",
       "std    18.40716    164.272371  164.272371          24.062163   \n",
       "min    16.00000    128.000000  128.000000          13.326425   \n",
       "25%    32.00000    128.000000  128.000000          25.403436   \n",
       "50%    32.00000    256.000000  256.000000          35.726116   \n",
       "75%    64.00000    512.000000  512.000000          58.832493   \n",
       "max    64.00000    512.000000  512.000000          98.404297   \n",
       "\n",
       "       milvus_total_time  qdrant_mean_time  milvus_mean_time  qdrant_p95_time  \\\n",
       "count          18.000000         18.000000         18.000000        18.000000   \n",
       "mean           28.075002          0.035040          0.022011         0.038144   \n",
       "std            13.423017          0.019237          0.010712         0.020344   \n",
       "min             9.702307          0.010232          0.007382         0.012771   \n",
       "25%            17.820621          0.019849          0.013837         0.022036   \n",
       "50%            26.415880          0.028114          0.020690         0.030612   \n",
       "75%            36.400896          0.046592          0.028642         0.050140   \n",
       "max            53.577440          0.078232          0.042398         0.084150   \n",
       "\n",
       "       milvus_p95_time  qdrant_rps   milvus_rps  qdrant_mean_precisions  \\\n",
       "count        18.000000   18.000000    18.000000               18.000000   \n",
       "mean          0.031982  297.037248   449.010118                0.935613   \n",
       "std           0.016413  166.304656   232.086430                0.078917   \n",
       "min           0.009991  101.621578   186.645723                0.698040   \n",
       "25%           0.019560  170.061883   274.741478                0.900957   \n",
       "50%           0.030550  279.914181   378.944971                0.966715   \n",
       "75%           0.044188  405.431543   561.172666                0.991395   \n",
       "max           0.065729  750.388806  1030.682649                0.999400   \n",
       "\n",
       "       milvus_mean_precisions  \n",
       "count               18.000000  \n",
       "mean                 0.866303  \n",
       "std                  0.134563  \n",
       "min                  0.511190  \n",
       "25%                  0.852428  \n",
       "50%                  0.911910  \n",
       "75%                  0.950728  \n",
       "max                  0.991560  "
      ]
     },
     "metadata": {},
     "output_type": "display_data"
    },
    {
     "name": "stdout",
     "output_type": "stream",
     "text": [
      "\n",
      "\n",
      "****************************************************************************************************\n",
      "***************************** Dataset: h-and-m-2048-angular-no-filters *****************************\n",
      "****************************************************************************************************\n",
      "\n",
      "\n",
      "*************************************** search parallel 100 ***************************************\n",
      "\n"
     ]
    },
    {
     "data": {
      "text/html": [
       "<div>\n",
       "<style scoped>\n",
       "    .dataframe tbody tr th:only-of-type {\n",
       "        vertical-align: middle;\n",
       "    }\n",
       "\n",
       "    .dataframe tbody tr th {\n",
       "        vertical-align: top;\n",
       "    }\n",
       "\n",
       "    .dataframe thead th {\n",
       "        text-align: right;\n",
       "    }\n",
       "</style>\n",
       "<table border=\"1\" class=\"dataframe\">\n",
       "  <thead>\n",
       "    <tr style=\"text-align: right;\">\n",
       "      <th></th>\n",
       "      <th>m</th>\n",
       "      <th>ef_construct</th>\n",
       "      <th>ef_search</th>\n",
       "      <th>qdrant_total_time</th>\n",
       "      <th>milvus_total_time</th>\n",
       "      <th>qdrant_mean_time</th>\n",
       "      <th>milvus_mean_time</th>\n",
       "      <th>qdrant_p95_time</th>\n",
       "      <th>milvus_p95_time</th>\n",
       "      <th>qdrant_rps</th>\n",
       "      <th>milvus_rps</th>\n",
       "      <th>qdrant_mean_precisions</th>\n",
       "      <th>milvus_mean_precisions</th>\n",
       "    </tr>\n",
       "  </thead>\n",
       "  <tbody>\n",
       "    <tr>\n",
       "      <th>40</th>\n",
       "      <td>16</td>\n",
       "      <td>128</td>\n",
       "      <td>128</td>\n",
       "      <td>26.737228</td>\n",
       "      <td>19.423637</td>\n",
       "      <td>0.009824</td>\n",
       "      <td>0.005269</td>\n",
       "      <td>0.019172</td>\n",
       "      <td>0.006586</td>\n",
       "      <td>374.010356</td>\n",
       "      <td>514.836642</td>\n",
       "      <td>0.99941</td>\n",
       "      <td>0.99819</td>\n",
       "    </tr>\n",
       "    <tr>\n",
       "      <th>49</th>\n",
       "      <td>16</td>\n",
       "      <td>128</td>\n",
       "      <td>256</td>\n",
       "      <td>36.675307</td>\n",
       "      <td>21.551324</td>\n",
       "      <td>0.024495</td>\n",
       "      <td>0.006770</td>\n",
       "      <td>0.032406</td>\n",
       "      <td>0.008870</td>\n",
       "      <td>272.663022</td>\n",
       "      <td>464.008615</td>\n",
       "      <td>0.99971</td>\n",
       "      <td>0.99914</td>\n",
       "    </tr>\n",
       "    <tr>\n",
       "      <th>58</th>\n",
       "      <td>16</td>\n",
       "      <td>128</td>\n",
       "      <td>512</td>\n",
       "      <td>54.897648</td>\n",
       "      <td>24.656901</td>\n",
       "      <td>0.042869</td>\n",
       "      <td>0.009824</td>\n",
       "      <td>0.050627</td>\n",
       "      <td>0.013628</td>\n",
       "      <td>182.157167</td>\n",
       "      <td>405.565976</td>\n",
       "      <td>0.99976</td>\n",
       "      <td>0.99937</td>\n",
       "    </tr>\n",
       "    <tr>\n",
       "      <th>112</th>\n",
       "      <td>32</td>\n",
       "      <td>128</td>\n",
       "      <td>128</td>\n",
       "      <td>29.654456</td>\n",
       "      <td>19.780167</td>\n",
       "      <td>0.009491</td>\n",
       "      <td>0.005422</td>\n",
       "      <td>0.015691</td>\n",
       "      <td>0.006755</td>\n",
       "      <td>337.217455</td>\n",
       "      <td>505.556907</td>\n",
       "      <td>0.99940</td>\n",
       "      <td>0.99883</td>\n",
       "    </tr>\n",
       "    <tr>\n",
       "      <th>121</th>\n",
       "      <td>32</td>\n",
       "      <td>128</td>\n",
       "      <td>256</td>\n",
       "      <td>39.760404</td>\n",
       "      <td>21.544593</td>\n",
       "      <td>0.028637</td>\n",
       "      <td>0.006886</td>\n",
       "      <td>0.036057</td>\n",
       "      <td>0.008899</td>\n",
       "      <td>251.506497</td>\n",
       "      <td>464.153588</td>\n",
       "      <td>0.99962</td>\n",
       "      <td>0.99930</td>\n",
       "    </tr>\n",
       "    <tr>\n",
       "      <th>130</th>\n",
       "      <td>32</td>\n",
       "      <td>128</td>\n",
       "      <td>512</td>\n",
       "      <td>59.483923</td>\n",
       "      <td>24.725372</td>\n",
       "      <td>0.046536</td>\n",
       "      <td>0.010392</td>\n",
       "      <td>0.056753</td>\n",
       "      <td>0.014325</td>\n",
       "      <td>168.112653</td>\n",
       "      <td>404.442848</td>\n",
       "      <td>0.99971</td>\n",
       "      <td>0.99958</td>\n",
       "    </tr>\n",
       "    <tr>\n",
       "      <th>184</th>\n",
       "      <td>32</td>\n",
       "      <td>256</td>\n",
       "      <td>128</td>\n",
       "      <td>31.279131</td>\n",
       "      <td>20.485482</td>\n",
       "      <td>0.011849</td>\n",
       "      <td>0.005861</td>\n",
       "      <td>0.022224</td>\n",
       "      <td>0.007346</td>\n",
       "      <td>319.701975</td>\n",
       "      <td>488.150577</td>\n",
       "      <td>0.99973</td>\n",
       "      <td>0.99945</td>\n",
       "    </tr>\n",
       "    <tr>\n",
       "      <th>193</th>\n",
       "      <td>32</td>\n",
       "      <td>256</td>\n",
       "      <td>256</td>\n",
       "      <td>43.440900</td>\n",
       "      <td>22.331264</td>\n",
       "      <td>0.032963</td>\n",
       "      <td>0.007726</td>\n",
       "      <td>0.039847</td>\n",
       "      <td>0.010163</td>\n",
       "      <td>230.197810</td>\n",
       "      <td>447.802680</td>\n",
       "      <td>0.99976</td>\n",
       "      <td>0.99964</td>\n",
       "    </tr>\n",
       "    <tr>\n",
       "      <th>202</th>\n",
       "      <td>32</td>\n",
       "      <td>256</td>\n",
       "      <td>512</td>\n",
       "      <td>64.023827</td>\n",
       "      <td>26.080808</td>\n",
       "      <td>0.050254</td>\n",
       "      <td>0.011970</td>\n",
       "      <td>0.059863</td>\n",
       "      <td>0.016852</td>\n",
       "      <td>156.191850</td>\n",
       "      <td>383.423702</td>\n",
       "      <td>0.99977</td>\n",
       "      <td>0.99973</td>\n",
       "    </tr>\n",
       "    <tr>\n",
       "      <th>256</th>\n",
       "      <td>32</td>\n",
       "      <td>512</td>\n",
       "      <td>128</td>\n",
       "      <td>33.229307</td>\n",
       "      <td>39.802102</td>\n",
       "      <td>0.014398</td>\n",
       "      <td>0.017884</td>\n",
       "      <td>0.025146</td>\n",
       "      <td>0.029074</td>\n",
       "      <td>300.939169</td>\n",
       "      <td>251.243012</td>\n",
       "      <td>0.99979</td>\n",
       "      <td>0.99967</td>\n",
       "    </tr>\n",
       "    <tr>\n",
       "      <th>265</th>\n",
       "      <td>32</td>\n",
       "      <td>512</td>\n",
       "      <td>256</td>\n",
       "      <td>47.082675</td>\n",
       "      <td>43.084696</td>\n",
       "      <td>0.036351</td>\n",
       "      <td>0.027069</td>\n",
       "      <td>0.043268</td>\n",
       "      <td>0.045432</td>\n",
       "      <td>212.392352</td>\n",
       "      <td>232.100977</td>\n",
       "      <td>0.99982</td>\n",
       "      <td>0.99975</td>\n",
       "    </tr>\n",
       "    <tr>\n",
       "      <th>274</th>\n",
       "      <td>32</td>\n",
       "      <td>512</td>\n",
       "      <td>512</td>\n",
       "      <td>69.926114</td>\n",
       "      <td>31.635731</td>\n",
       "      <td>0.055094</td>\n",
       "      <td>0.016582</td>\n",
       "      <td>0.065318</td>\n",
       "      <td>0.030936</td>\n",
       "      <td>143.008091</td>\n",
       "      <td>316.098277</td>\n",
       "      <td>0.99982</td>\n",
       "      <td>0.99979</td>\n",
       "    </tr>\n",
       "    <tr>\n",
       "      <th>328</th>\n",
       "      <td>64</td>\n",
       "      <td>256</td>\n",
       "      <td>128</td>\n",
       "      <td>30.685976</td>\n",
       "      <td>20.214760</td>\n",
       "      <td>0.011415</td>\n",
       "      <td>0.006007</td>\n",
       "      <td>0.021883</td>\n",
       "      <td>0.007558</td>\n",
       "      <td>325.881769</td>\n",
       "      <td>494.688035</td>\n",
       "      <td>0.99969</td>\n",
       "      <td>0.99946</td>\n",
       "    </tr>\n",
       "    <tr>\n",
       "      <th>337</th>\n",
       "      <td>64</td>\n",
       "      <td>256</td>\n",
       "      <td>256</td>\n",
       "      <td>42.260736</td>\n",
       "      <td>22.479072</td>\n",
       "      <td>0.031944</td>\n",
       "      <td>0.007896</td>\n",
       "      <td>0.038663</td>\n",
       "      <td>0.010518</td>\n",
       "      <td>236.626264</td>\n",
       "      <td>444.858216</td>\n",
       "      <td>0.99980</td>\n",
       "      <td>0.99959</td>\n",
       "    </tr>\n",
       "    <tr>\n",
       "      <th>346</th>\n",
       "      <td>64</td>\n",
       "      <td>256</td>\n",
       "      <td>512</td>\n",
       "      <td>61.850634</td>\n",
       "      <td>26.513444</td>\n",
       "      <td>0.048559</td>\n",
       "      <td>0.012425</td>\n",
       "      <td>0.058062</td>\n",
       "      <td>0.017725</td>\n",
       "      <td>161.679830</td>\n",
       "      <td>377.167142</td>\n",
       "      <td>0.99980</td>\n",
       "      <td>0.99967</td>\n",
       "    </tr>\n",
       "    <tr>\n",
       "      <th>400</th>\n",
       "      <td>64</td>\n",
       "      <td>512</td>\n",
       "      <td>128</td>\n",
       "      <td>36.830119</td>\n",
       "      <td>20.809401</td>\n",
       "      <td>0.013411</td>\n",
       "      <td>0.006292</td>\n",
       "      <td>0.026240</td>\n",
       "      <td>0.008044</td>\n",
       "      <td>271.516911</td>\n",
       "      <td>480.552030</td>\n",
       "      <td>0.99977</td>\n",
       "      <td>0.99946</td>\n",
       "    </tr>\n",
       "    <tr>\n",
       "      <th>409</th>\n",
       "      <td>64</td>\n",
       "      <td>512</td>\n",
       "      <td>256</td>\n",
       "      <td>49.810604</td>\n",
       "      <td>23.299772</td>\n",
       "      <td>0.037541</td>\n",
       "      <td>0.008544</td>\n",
       "      <td>0.046779</td>\n",
       "      <td>0.011599</td>\n",
       "      <td>200.760465</td>\n",
       "      <td>429.188744</td>\n",
       "      <td>0.99980</td>\n",
       "      <td>0.99968</td>\n",
       "    </tr>\n",
       "    <tr>\n",
       "      <th>418</th>\n",
       "      <td>64</td>\n",
       "      <td>512</td>\n",
       "      <td>512</td>\n",
       "      <td>74.408881</td>\n",
       "      <td>27.811078</td>\n",
       "      <td>0.058357</td>\n",
       "      <td>0.014050</td>\n",
       "      <td>0.071165</td>\n",
       "      <td>0.020491</td>\n",
       "      <td>134.392559</td>\n",
       "      <td>359.568950</td>\n",
       "      <td>0.99982</td>\n",
       "      <td>0.99973</td>\n",
       "    </tr>\n",
       "  </tbody>\n",
       "</table>\n",
       "</div>"
      ],
      "text/plain": [
       "      m  ef_construct  ef_search  qdrant_total_time  milvus_total_time  \\\n",
       "40   16           128        128          26.737228          19.423637   \n",
       "49   16           128        256          36.675307          21.551324   \n",
       "58   16           128        512          54.897648          24.656901   \n",
       "112  32           128        128          29.654456          19.780167   \n",
       "121  32           128        256          39.760404          21.544593   \n",
       "130  32           128        512          59.483923          24.725372   \n",
       "184  32           256        128          31.279131          20.485482   \n",
       "193  32           256        256          43.440900          22.331264   \n",
       "202  32           256        512          64.023827          26.080808   \n",
       "256  32           512        128          33.229307          39.802102   \n",
       "265  32           512        256          47.082675          43.084696   \n",
       "274  32           512        512          69.926114          31.635731   \n",
       "328  64           256        128          30.685976          20.214760   \n",
       "337  64           256        256          42.260736          22.479072   \n",
       "346  64           256        512          61.850634          26.513444   \n",
       "400  64           512        128          36.830119          20.809401   \n",
       "409  64           512        256          49.810604          23.299772   \n",
       "418  64           512        512          74.408881          27.811078   \n",
       "\n",
       "     qdrant_mean_time  milvus_mean_time  qdrant_p95_time  milvus_p95_time  \\\n",
       "40           0.009824          0.005269         0.019172         0.006586   \n",
       "49           0.024495          0.006770         0.032406         0.008870   \n",
       "58           0.042869          0.009824         0.050627         0.013628   \n",
       "112          0.009491          0.005422         0.015691         0.006755   \n",
       "121          0.028637          0.006886         0.036057         0.008899   \n",
       "130          0.046536          0.010392         0.056753         0.014325   \n",
       "184          0.011849          0.005861         0.022224         0.007346   \n",
       "193          0.032963          0.007726         0.039847         0.010163   \n",
       "202          0.050254          0.011970         0.059863         0.016852   \n",
       "256          0.014398          0.017884         0.025146         0.029074   \n",
       "265          0.036351          0.027069         0.043268         0.045432   \n",
       "274          0.055094          0.016582         0.065318         0.030936   \n",
       "328          0.011415          0.006007         0.021883         0.007558   \n",
       "337          0.031944          0.007896         0.038663         0.010518   \n",
       "346          0.048559          0.012425         0.058062         0.017725   \n",
       "400          0.013411          0.006292         0.026240         0.008044   \n",
       "409          0.037541          0.008544         0.046779         0.011599   \n",
       "418          0.058357          0.014050         0.071165         0.020491   \n",
       "\n",
       "     qdrant_rps  milvus_rps  qdrant_mean_precisions  milvus_mean_precisions  \n",
       "40   374.010356  514.836642                 0.99941                 0.99819  \n",
       "49   272.663022  464.008615                 0.99971                 0.99914  \n",
       "58   182.157167  405.565976                 0.99976                 0.99937  \n",
       "112  337.217455  505.556907                 0.99940                 0.99883  \n",
       "121  251.506497  464.153588                 0.99962                 0.99930  \n",
       "130  168.112653  404.442848                 0.99971                 0.99958  \n",
       "184  319.701975  488.150577                 0.99973                 0.99945  \n",
       "193  230.197810  447.802680                 0.99976                 0.99964  \n",
       "202  156.191850  383.423702                 0.99977                 0.99973  \n",
       "256  300.939169  251.243012                 0.99979                 0.99967  \n",
       "265  212.392352  232.100977                 0.99982                 0.99975  \n",
       "274  143.008091  316.098277                 0.99982                 0.99979  \n",
       "328  325.881769  494.688035                 0.99969                 0.99946  \n",
       "337  236.626264  444.858216                 0.99980                 0.99959  \n",
       "346  161.679830  377.167142                 0.99980                 0.99967  \n",
       "400  271.516911  480.552030                 0.99977                 0.99946  \n",
       "409  200.760465  429.188744                 0.99980                 0.99968  \n",
       "418  134.392559  359.568950                 0.99982                 0.99973  "
      ]
     },
     "metadata": {},
     "output_type": "display_data"
    },
    {
     "name": "stdout",
     "output_type": "stream",
     "text": [
      "\n",
      "\n",
      "**************************************** Search Statistics ****************************************\n",
      "\n"
     ]
    },
    {
     "data": {
      "text/html": [
       "<div>\n",
       "<style scoped>\n",
       "    .dataframe tbody tr th:only-of-type {\n",
       "        vertical-align: middle;\n",
       "    }\n",
       "\n",
       "    .dataframe tbody tr th {\n",
       "        vertical-align: top;\n",
       "    }\n",
       "\n",
       "    .dataframe thead th {\n",
       "        text-align: right;\n",
       "    }\n",
       "</style>\n",
       "<table border=\"1\" class=\"dataframe\">\n",
       "  <thead>\n",
       "    <tr style=\"text-align: right;\">\n",
       "      <th></th>\n",
       "      <th>m</th>\n",
       "      <th>ef_construct</th>\n",
       "      <th>ef_search</th>\n",
       "      <th>qdrant_total_time</th>\n",
       "      <th>milvus_total_time</th>\n",
       "      <th>qdrant_mean_time</th>\n",
       "      <th>milvus_mean_time</th>\n",
       "      <th>qdrant_p95_time</th>\n",
       "      <th>milvus_p95_time</th>\n",
       "      <th>qdrant_rps</th>\n",
       "      <th>milvus_rps</th>\n",
       "      <th>qdrant_mean_precisions</th>\n",
       "      <th>milvus_mean_precisions</th>\n",
       "    </tr>\n",
       "  </thead>\n",
       "  <tbody>\n",
       "    <tr>\n",
       "      <th>count</th>\n",
       "      <td>18.00000</td>\n",
       "      <td>18.000000</td>\n",
       "      <td>18.000000</td>\n",
       "      <td>18.000000</td>\n",
       "      <td>18.000000</td>\n",
       "      <td>18.000000</td>\n",
       "      <td>18.000000</td>\n",
       "      <td>18.000000</td>\n",
       "      <td>18.000000</td>\n",
       "      <td>18.000000</td>\n",
       "      <td>18.000000</td>\n",
       "      <td>18.000000</td>\n",
       "      <td>18.000000</td>\n",
       "    </tr>\n",
       "    <tr>\n",
       "      <th>mean</th>\n",
       "      <td>40.00000</td>\n",
       "      <td>298.666667</td>\n",
       "      <td>298.666667</td>\n",
       "      <td>46.224326</td>\n",
       "      <td>25.346089</td>\n",
       "      <td>0.031333</td>\n",
       "      <td>0.010382</td>\n",
       "      <td>0.040509</td>\n",
       "      <td>0.015267</td>\n",
       "      <td>237.719788</td>\n",
       "      <td>414.633718</td>\n",
       "      <td>0.999721</td>\n",
       "      <td>0.999446</td>\n",
       "    </tr>\n",
       "    <tr>\n",
       "      <th>std</th>\n",
       "      <td>18.40716</td>\n",
       "      <td>164.272371</td>\n",
       "      <td>164.272371</td>\n",
       "      <td>14.781629</td>\n",
       "      <td>6.681729</td>\n",
       "      <td>0.016731</td>\n",
       "      <td>0.005649</td>\n",
       "      <td>0.017034</td>\n",
       "      <td>0.010435</td>\n",
       "      <td>73.401340</td>\n",
       "      <td>82.925168</td>\n",
       "      <td>0.000126</td>\n",
       "      <td>0.000397</td>\n",
       "    </tr>\n",
       "    <tr>\n",
       "      <th>min</th>\n",
       "      <td>16.00000</td>\n",
       "      <td>128.000000</td>\n",
       "      <td>128.000000</td>\n",
       "      <td>26.737228</td>\n",
       "      <td>19.423637</td>\n",
       "      <td>0.009491</td>\n",
       "      <td>0.005269</td>\n",
       "      <td>0.015691</td>\n",
       "      <td>0.006586</td>\n",
       "      <td>134.392559</td>\n",
       "      <td>232.100977</td>\n",
       "      <td>0.999400</td>\n",
       "      <td>0.998190</td>\n",
       "    </tr>\n",
       "    <tr>\n",
       "      <th>25%</th>\n",
       "      <td>32.00000</td>\n",
       "      <td>128.000000</td>\n",
       "      <td>128.000000</td>\n",
       "      <td>34.090807</td>\n",
       "      <td>20.993199</td>\n",
       "      <td>0.013658</td>\n",
       "      <td>0.006412</td>\n",
       "      <td>0.025419</td>\n",
       "      <td>0.008251</td>\n",
       "      <td>171.623781</td>\n",
       "      <td>378.731282</td>\n",
       "      <td>0.999710</td>\n",
       "      <td>0.999390</td>\n",
       "    </tr>\n",
       "    <tr>\n",
       "      <th>50%</th>\n",
       "      <td>32.00000</td>\n",
       "      <td>256.000000</td>\n",
       "      <td>256.000000</td>\n",
       "      <td>42.850818</td>\n",
       "      <td>22.889422</td>\n",
       "      <td>0.032454</td>\n",
       "      <td>0.008220</td>\n",
       "      <td>0.039255</td>\n",
       "      <td>0.011059</td>\n",
       "      <td>233.412037</td>\n",
       "      <td>437.023480</td>\n",
       "      <td>0.999765</td>\n",
       "      <td>0.999585</td>\n",
       "    </tr>\n",
       "    <tr>\n",
       "      <th>75%</th>\n",
       "      <td>64.00000</td>\n",
       "      <td>512.000000</td>\n",
       "      <td>512.000000</td>\n",
       "      <td>58.337354</td>\n",
       "      <td>26.405285</td>\n",
       "      <td>0.045619</td>\n",
       "      <td>0.012312</td>\n",
       "      <td>0.055222</td>\n",
       "      <td>0.017507</td>\n",
       "      <td>293.870132</td>\n",
       "      <td>476.452420</td>\n",
       "      <td>0.999800</td>\n",
       "      <td>0.999677</td>\n",
       "    </tr>\n",
       "    <tr>\n",
       "      <th>max</th>\n",
       "      <td>64.00000</td>\n",
       "      <td>512.000000</td>\n",
       "      <td>512.000000</td>\n",
       "      <td>74.408881</td>\n",
       "      <td>43.084696</td>\n",
       "      <td>0.058357</td>\n",
       "      <td>0.027069</td>\n",
       "      <td>0.071165</td>\n",
       "      <td>0.045432</td>\n",
       "      <td>374.010356</td>\n",
       "      <td>514.836642</td>\n",
       "      <td>0.999820</td>\n",
       "      <td>0.999790</td>\n",
       "    </tr>\n",
       "  </tbody>\n",
       "</table>\n",
       "</div>"
      ],
      "text/plain": [
       "              m  ef_construct   ef_search  qdrant_total_time  \\\n",
       "count  18.00000     18.000000   18.000000          18.000000   \n",
       "mean   40.00000    298.666667  298.666667          46.224326   \n",
       "std    18.40716    164.272371  164.272371          14.781629   \n",
       "min    16.00000    128.000000  128.000000          26.737228   \n",
       "25%    32.00000    128.000000  128.000000          34.090807   \n",
       "50%    32.00000    256.000000  256.000000          42.850818   \n",
       "75%    64.00000    512.000000  512.000000          58.337354   \n",
       "max    64.00000    512.000000  512.000000          74.408881   \n",
       "\n",
       "       milvus_total_time  qdrant_mean_time  milvus_mean_time  qdrant_p95_time  \\\n",
       "count          18.000000         18.000000         18.000000        18.000000   \n",
       "mean           25.346089          0.031333          0.010382         0.040509   \n",
       "std             6.681729          0.016731          0.005649         0.017034   \n",
       "min            19.423637          0.009491          0.005269         0.015691   \n",
       "25%            20.993199          0.013658          0.006412         0.025419   \n",
       "50%            22.889422          0.032454          0.008220         0.039255   \n",
       "75%            26.405285          0.045619          0.012312         0.055222   \n",
       "max            43.084696          0.058357          0.027069         0.071165   \n",
       "\n",
       "       milvus_p95_time  qdrant_rps  milvus_rps  qdrant_mean_precisions  \\\n",
       "count        18.000000   18.000000   18.000000               18.000000   \n",
       "mean          0.015267  237.719788  414.633718                0.999721   \n",
       "std           0.010435   73.401340   82.925168                0.000126   \n",
       "min           0.006586  134.392559  232.100977                0.999400   \n",
       "25%           0.008251  171.623781  378.731282                0.999710   \n",
       "50%           0.011059  233.412037  437.023480                0.999765   \n",
       "75%           0.017507  293.870132  476.452420                0.999800   \n",
       "max           0.045432  374.010356  514.836642                0.999820   \n",
       "\n",
       "       milvus_mean_precisions  \n",
       "count               18.000000  \n",
       "mean                 0.999446  \n",
       "std                  0.000397  \n",
       "min                  0.998190  \n",
       "25%                  0.999390  \n",
       "50%                  0.999585  \n",
       "75%                  0.999677  \n",
       "max                  0.999790  "
      ]
     },
     "metadata": {},
     "output_type": "display_data"
    },
    {
     "name": "stdout",
     "output_type": "stream",
     "text": [
      "\n",
      "\n",
      "****************************************************************************************************\n",
      "*********************************** Dataset: gist-960-euclidean ***********************************\n",
      "****************************************************************************************************\n",
      "\n",
      "\n",
      "*************************************** search parallel 100 ***************************************\n",
      "\n"
     ]
    },
    {
     "data": {
      "text/html": [
       "<div>\n",
       "<style scoped>\n",
       "    .dataframe tbody tr th:only-of-type {\n",
       "        vertical-align: middle;\n",
       "    }\n",
       "\n",
       "    .dataframe tbody tr th {\n",
       "        vertical-align: top;\n",
       "    }\n",
       "\n",
       "    .dataframe thead th {\n",
       "        text-align: right;\n",
       "    }\n",
       "</style>\n",
       "<table border=\"1\" class=\"dataframe\">\n",
       "  <thead>\n",
       "    <tr style=\"text-align: right;\">\n",
       "      <th></th>\n",
       "      <th>m</th>\n",
       "      <th>ef_construct</th>\n",
       "      <th>ef_search</th>\n",
       "      <th>qdrant_total_time</th>\n",
       "      <th>milvus_total_time</th>\n",
       "      <th>qdrant_mean_time</th>\n",
       "      <th>milvus_mean_time</th>\n",
       "      <th>qdrant_p95_time</th>\n",
       "      <th>milvus_p95_time</th>\n",
       "      <th>qdrant_rps</th>\n",
       "      <th>milvus_rps</th>\n",
       "      <th>qdrant_mean_precisions</th>\n",
       "      <th>milvus_mean_precisions</th>\n",
       "    </tr>\n",
       "  </thead>\n",
       "  <tbody>\n",
       "    <tr>\n",
       "      <th>36</th>\n",
       "      <td>16</td>\n",
       "      <td>128</td>\n",
       "      <td>128</td>\n",
       "      <td>2.813109</td>\n",
       "      <td>3.505069</td>\n",
       "      <td>0.021563</td>\n",
       "      <td>0.026337</td>\n",
       "      <td>0.024530</td>\n",
       "      <td>0.040433</td>\n",
       "      <td>355.478633</td>\n",
       "      <td>285.301088</td>\n",
       "      <td>0.92829</td>\n",
       "      <td>0.89576</td>\n",
       "    </tr>\n",
       "    <tr>\n",
       "      <th>45</th>\n",
       "      <td>16</td>\n",
       "      <td>128</td>\n",
       "      <td>256</td>\n",
       "      <td>4.494933</td>\n",
       "      <td>5.449892</td>\n",
       "      <td>0.035038</td>\n",
       "      <td>0.042107</td>\n",
       "      <td>0.041553</td>\n",
       "      <td>0.064979</td>\n",
       "      <td>222.472702</td>\n",
       "      <td>183.489861</td>\n",
       "      <td>0.96790</td>\n",
       "      <td>0.94910</td>\n",
       "    </tr>\n",
       "    <tr>\n",
       "      <th>54</th>\n",
       "      <td>16</td>\n",
       "      <td>128</td>\n",
       "      <td>512</td>\n",
       "      <td>7.416244</td>\n",
       "      <td>7.994969</td>\n",
       "      <td>0.058092</td>\n",
       "      <td>0.062380</td>\n",
       "      <td>0.068353</td>\n",
       "      <td>0.097632</td>\n",
       "      <td>134.839149</td>\n",
       "      <td>125.078660</td>\n",
       "      <td>0.98574</td>\n",
       "      <td>0.97756</td>\n",
       "    </tr>\n",
       "    <tr>\n",
       "      <th>108</th>\n",
       "      <td>32</td>\n",
       "      <td>128</td>\n",
       "      <td>128</td>\n",
       "      <td>3.462955</td>\n",
       "      <td>4.628667</td>\n",
       "      <td>0.026756</td>\n",
       "      <td>0.035189</td>\n",
       "      <td>0.031440</td>\n",
       "      <td>0.055408</td>\n",
       "      <td>288.770743</td>\n",
       "      <td>216.044908</td>\n",
       "      <td>0.95611</td>\n",
       "      <td>0.93580</td>\n",
       "    </tr>\n",
       "    <tr>\n",
       "      <th>117</th>\n",
       "      <td>32</td>\n",
       "      <td>128</td>\n",
       "      <td>256</td>\n",
       "      <td>5.560345</td>\n",
       "      <td>6.901620</td>\n",
       "      <td>0.043538</td>\n",
       "      <td>0.053554</td>\n",
       "      <td>0.052728</td>\n",
       "      <td>0.082476</td>\n",
       "      <td>179.844962</td>\n",
       "      <td>144.893524</td>\n",
       "      <td>0.98299</td>\n",
       "      <td>0.97379</td>\n",
       "    </tr>\n",
       "    <tr>\n",
       "      <th>126</th>\n",
       "      <td>32</td>\n",
       "      <td>128</td>\n",
       "      <td>512</td>\n",
       "      <td>9.095007</td>\n",
       "      <td>10.736340</td>\n",
       "      <td>0.071494</td>\n",
       "      <td>0.084112</td>\n",
       "      <td>0.088051</td>\n",
       "      <td>0.129889</td>\n",
       "      <td>109.950440</td>\n",
       "      <td>93.141607</td>\n",
       "      <td>0.99354</td>\n",
       "      <td>0.98989</td>\n",
       "    </tr>\n",
       "    <tr>\n",
       "      <th>180</th>\n",
       "      <td>32</td>\n",
       "      <td>256</td>\n",
       "      <td>128</td>\n",
       "      <td>83.385490</td>\n",
       "      <td>4.431649</td>\n",
       "      <td>0.664041</td>\n",
       "      <td>0.033804</td>\n",
       "      <td>0.733157</td>\n",
       "      <td>0.051154</td>\n",
       "      <td>11.992494</td>\n",
       "      <td>225.649655</td>\n",
       "      <td>0.98875</td>\n",
       "      <td>0.95267</td>\n",
       "    </tr>\n",
       "    <tr>\n",
       "      <th>189</th>\n",
       "      <td>32</td>\n",
       "      <td>256</td>\n",
       "      <td>256</td>\n",
       "      <td>83.083143</td>\n",
       "      <td>7.289379</td>\n",
       "      <td>0.661361</td>\n",
       "      <td>0.056690</td>\n",
       "      <td>0.706193</td>\n",
       "      <td>0.096269</td>\n",
       "      <td>12.036136</td>\n",
       "      <td>137.185894</td>\n",
       "      <td>0.99577</td>\n",
       "      <td>0.98342</td>\n",
       "    </tr>\n",
       "    <tr>\n",
       "      <th>198</th>\n",
       "      <td>32</td>\n",
       "      <td>256</td>\n",
       "      <td>512</td>\n",
       "      <td>83.905027</td>\n",
       "      <td>10.277726</td>\n",
       "      <td>0.668211</td>\n",
       "      <td>0.080588</td>\n",
       "      <td>0.715590</td>\n",
       "      <td>0.119980</td>\n",
       "      <td>11.918237</td>\n",
       "      <td>97.297789</td>\n",
       "      <td>0.99827</td>\n",
       "      <td>0.99420</td>\n",
       "    </tr>\n",
       "    <tr>\n",
       "      <th>252</th>\n",
       "      <td>32</td>\n",
       "      <td>512</td>\n",
       "      <td>128</td>\n",
       "      <td>4.817638</td>\n",
       "      <td>4.956987</td>\n",
       "      <td>0.037320</td>\n",
       "      <td>0.037503</td>\n",
       "      <td>0.046639</td>\n",
       "      <td>0.062431</td>\n",
       "      <td>207.570598</td>\n",
       "      <td>201.735466</td>\n",
       "      <td>0.98076</td>\n",
       "      <td>0.96562</td>\n",
       "    </tr>\n",
       "    <tr>\n",
       "      <th>261</th>\n",
       "      <td>32</td>\n",
       "      <td>512</td>\n",
       "      <td>256</td>\n",
       "      <td>7.594702</td>\n",
       "      <td>7.413355</td>\n",
       "      <td>0.059433</td>\n",
       "      <td>0.057496</td>\n",
       "      <td>0.075078</td>\n",
       "      <td>0.089697</td>\n",
       "      <td>131.670727</td>\n",
       "      <td>134.891688</td>\n",
       "      <td>0.99422</td>\n",
       "      <td>0.98967</td>\n",
       "    </tr>\n",
       "    <tr>\n",
       "      <th>270</th>\n",
       "      <td>32</td>\n",
       "      <td>512</td>\n",
       "      <td>512</td>\n",
       "      <td>11.990057</td>\n",
       "      <td>13.111441</td>\n",
       "      <td>0.094552</td>\n",
       "      <td>0.103281</td>\n",
       "      <td>0.113236</td>\n",
       "      <td>0.161444</td>\n",
       "      <td>83.402441</td>\n",
       "      <td>76.269267</td>\n",
       "      <td>0.99816</td>\n",
       "      <td>0.99698</td>\n",
       "    </tr>\n",
       "    <tr>\n",
       "      <th>324</th>\n",
       "      <td>64</td>\n",
       "      <td>256</td>\n",
       "      <td>128</td>\n",
       "      <td>78.425999</td>\n",
       "      <td>6.105227</td>\n",
       "      <td>0.624538</td>\n",
       "      <td>0.046980</td>\n",
       "      <td>0.675959</td>\n",
       "      <td>0.076734</td>\n",
       "      <td>12.750874</td>\n",
       "      <td>163.794071</td>\n",
       "      <td>0.99120</td>\n",
       "      <td>0.96714</td>\n",
       "    </tr>\n",
       "    <tr>\n",
       "      <th>333</th>\n",
       "      <td>64</td>\n",
       "      <td>256</td>\n",
       "      <td>256</td>\n",
       "      <td>79.367943</td>\n",
       "      <td>9.003764</td>\n",
       "      <td>0.632110</td>\n",
       "      <td>0.070349</td>\n",
       "      <td>0.704469</td>\n",
       "      <td>0.114857</td>\n",
       "      <td>12.599545</td>\n",
       "      <td>111.064660</td>\n",
       "      <td>0.99696</td>\n",
       "      <td>0.98934</td>\n",
       "    </tr>\n",
       "    <tr>\n",
       "      <th>342</th>\n",
       "      <td>64</td>\n",
       "      <td>256</td>\n",
       "      <td>512</td>\n",
       "      <td>79.694217</td>\n",
       "      <td>13.619137</td>\n",
       "      <td>0.634484</td>\n",
       "      <td>0.107288</td>\n",
       "      <td>0.690186</td>\n",
       "      <td>0.163962</td>\n",
       "      <td>12.547962</td>\n",
       "      <td>73.426093</td>\n",
       "      <td>0.99909</td>\n",
       "      <td>0.99664</td>\n",
       "    </tr>\n",
       "    <tr>\n",
       "      <th>396</th>\n",
       "      <td>64</td>\n",
       "      <td>512</td>\n",
       "      <td>128</td>\n",
       "      <td>5.578980</td>\n",
       "      <td>6.380816</td>\n",
       "      <td>0.043457</td>\n",
       "      <td>0.049289</td>\n",
       "      <td>0.057081</td>\n",
       "      <td>0.075417</td>\n",
       "      <td>179.244247</td>\n",
       "      <td>156.719780</td>\n",
       "      <td>0.98587</td>\n",
       "      <td>0.98021</td>\n",
       "    </tr>\n",
       "    <tr>\n",
       "      <th>405</th>\n",
       "      <td>64</td>\n",
       "      <td>512</td>\n",
       "      <td>256</td>\n",
       "      <td>8.318999</td>\n",
       "      <td>9.507221</td>\n",
       "      <td>0.065380</td>\n",
       "      <td>0.074453</td>\n",
       "      <td>0.079234</td>\n",
       "      <td>0.116758</td>\n",
       "      <td>120.206777</td>\n",
       "      <td>105.183212</td>\n",
       "      <td>0.99585</td>\n",
       "      <td>0.99441</td>\n",
       "    </tr>\n",
       "    <tr>\n",
       "      <th>414</th>\n",
       "      <td>64</td>\n",
       "      <td>512</td>\n",
       "      <td>512</td>\n",
       "      <td>12.802223</td>\n",
       "      <td>16.451944</td>\n",
       "      <td>0.101180</td>\n",
       "      <td>0.129807</td>\n",
       "      <td>0.122501</td>\n",
       "      <td>0.206499</td>\n",
       "      <td>78.111435</td>\n",
       "      <td>60.783090</td>\n",
       "      <td>0.99877</td>\n",
       "      <td>0.99839</td>\n",
       "    </tr>\n",
       "  </tbody>\n",
       "</table>\n",
       "</div>"
      ],
      "text/plain": [
       "      m  ef_construct  ef_search  qdrant_total_time  milvus_total_time  \\\n",
       "36   16           128        128           2.813109           3.505069   \n",
       "45   16           128        256           4.494933           5.449892   \n",
       "54   16           128        512           7.416244           7.994969   \n",
       "108  32           128        128           3.462955           4.628667   \n",
       "117  32           128        256           5.560345           6.901620   \n",
       "126  32           128        512           9.095007          10.736340   \n",
       "180  32           256        128          83.385490           4.431649   \n",
       "189  32           256        256          83.083143           7.289379   \n",
       "198  32           256        512          83.905027          10.277726   \n",
       "252  32           512        128           4.817638           4.956987   \n",
       "261  32           512        256           7.594702           7.413355   \n",
       "270  32           512        512          11.990057          13.111441   \n",
       "324  64           256        128          78.425999           6.105227   \n",
       "333  64           256        256          79.367943           9.003764   \n",
       "342  64           256        512          79.694217          13.619137   \n",
       "396  64           512        128           5.578980           6.380816   \n",
       "405  64           512        256           8.318999           9.507221   \n",
       "414  64           512        512          12.802223          16.451944   \n",
       "\n",
       "     qdrant_mean_time  milvus_mean_time  qdrant_p95_time  milvus_p95_time  \\\n",
       "36           0.021563          0.026337         0.024530         0.040433   \n",
       "45           0.035038          0.042107         0.041553         0.064979   \n",
       "54           0.058092          0.062380         0.068353         0.097632   \n",
       "108          0.026756          0.035189         0.031440         0.055408   \n",
       "117          0.043538          0.053554         0.052728         0.082476   \n",
       "126          0.071494          0.084112         0.088051         0.129889   \n",
       "180          0.664041          0.033804         0.733157         0.051154   \n",
       "189          0.661361          0.056690         0.706193         0.096269   \n",
       "198          0.668211          0.080588         0.715590         0.119980   \n",
       "252          0.037320          0.037503         0.046639         0.062431   \n",
       "261          0.059433          0.057496         0.075078         0.089697   \n",
       "270          0.094552          0.103281         0.113236         0.161444   \n",
       "324          0.624538          0.046980         0.675959         0.076734   \n",
       "333          0.632110          0.070349         0.704469         0.114857   \n",
       "342          0.634484          0.107288         0.690186         0.163962   \n",
       "396          0.043457          0.049289         0.057081         0.075417   \n",
       "405          0.065380          0.074453         0.079234         0.116758   \n",
       "414          0.101180          0.129807         0.122501         0.206499   \n",
       "\n",
       "     qdrant_rps  milvus_rps  qdrant_mean_precisions  milvus_mean_precisions  \n",
       "36   355.478633  285.301088                 0.92829                 0.89576  \n",
       "45   222.472702  183.489861                 0.96790                 0.94910  \n",
       "54   134.839149  125.078660                 0.98574                 0.97756  \n",
       "108  288.770743  216.044908                 0.95611                 0.93580  \n",
       "117  179.844962  144.893524                 0.98299                 0.97379  \n",
       "126  109.950440   93.141607                 0.99354                 0.98989  \n",
       "180   11.992494  225.649655                 0.98875                 0.95267  \n",
       "189   12.036136  137.185894                 0.99577                 0.98342  \n",
       "198   11.918237   97.297789                 0.99827                 0.99420  \n",
       "252  207.570598  201.735466                 0.98076                 0.96562  \n",
       "261  131.670727  134.891688                 0.99422                 0.98967  \n",
       "270   83.402441   76.269267                 0.99816                 0.99698  \n",
       "324   12.750874  163.794071                 0.99120                 0.96714  \n",
       "333   12.599545  111.064660                 0.99696                 0.98934  \n",
       "342   12.547962   73.426093                 0.99909                 0.99664  \n",
       "396  179.244247  156.719780                 0.98587                 0.98021  \n",
       "405  120.206777  105.183212                 0.99585                 0.99441  \n",
       "414   78.111435   60.783090                 0.99877                 0.99839  "
      ]
     },
     "metadata": {},
     "output_type": "display_data"
    },
    {
     "name": "stdout",
     "output_type": "stream",
     "text": [
      "\n",
      "\n",
      "**************************************** Search Statistics ****************************************\n",
      "\n"
     ]
    },
    {
     "data": {
      "text/html": [
       "<div>\n",
       "<style scoped>\n",
       "    .dataframe tbody tr th:only-of-type {\n",
       "        vertical-align: middle;\n",
       "    }\n",
       "\n",
       "    .dataframe tbody tr th {\n",
       "        vertical-align: top;\n",
       "    }\n",
       "\n",
       "    .dataframe thead th {\n",
       "        text-align: right;\n",
       "    }\n",
       "</style>\n",
       "<table border=\"1\" class=\"dataframe\">\n",
       "  <thead>\n",
       "    <tr style=\"text-align: right;\">\n",
       "      <th></th>\n",
       "      <th>m</th>\n",
       "      <th>ef_construct</th>\n",
       "      <th>ef_search</th>\n",
       "      <th>qdrant_total_time</th>\n",
       "      <th>milvus_total_time</th>\n",
       "      <th>qdrant_mean_time</th>\n",
       "      <th>milvus_mean_time</th>\n",
       "      <th>qdrant_p95_time</th>\n",
       "      <th>milvus_p95_time</th>\n",
       "      <th>qdrant_rps</th>\n",
       "      <th>milvus_rps</th>\n",
       "      <th>qdrant_mean_precisions</th>\n",
       "      <th>milvus_mean_precisions</th>\n",
       "    </tr>\n",
       "  </thead>\n",
       "  <tbody>\n",
       "    <tr>\n",
       "      <th>count</th>\n",
       "      <td>18.00000</td>\n",
       "      <td>18.000000</td>\n",
       "      <td>18.000000</td>\n",
       "      <td>18.000000</td>\n",
       "      <td>18.000000</td>\n",
       "      <td>18.000000</td>\n",
       "      <td>18.000000</td>\n",
       "      <td>18.000000</td>\n",
       "      <td>18.000000</td>\n",
       "      <td>18.000000</td>\n",
       "      <td>18.000000</td>\n",
       "      <td>18.000000</td>\n",
       "      <td>18.000000</td>\n",
       "    </tr>\n",
       "    <tr>\n",
       "      <th>mean</th>\n",
       "      <td>40.00000</td>\n",
       "      <td>298.666667</td>\n",
       "      <td>298.666667</td>\n",
       "      <td>31.767056</td>\n",
       "      <td>8.209178</td>\n",
       "      <td>0.252364</td>\n",
       "      <td>0.063956</td>\n",
       "      <td>0.279221</td>\n",
       "      <td>0.100334</td>\n",
       "      <td>120.300450</td>\n",
       "      <td>143.997240</td>\n",
       "      <td>0.985458</td>\n",
       "      <td>0.973922</td>\n",
       "    </tr>\n",
       "    <tr>\n",
       "      <th>std</th>\n",
       "      <td>18.40716</td>\n",
       "      <td>164.272371</td>\n",
       "      <td>164.272371</td>\n",
       "      <td>36.161467</td>\n",
       "      <td>3.536682</td>\n",
       "      <td>0.288374</td>\n",
       "      <td>0.028317</td>\n",
       "      <td>0.310426</td>\n",
       "      <td>0.044152</td>\n",
       "      <td>103.563230</td>\n",
       "      <td>60.200697</td>\n",
       "      <td>0.018291</td>\n",
       "      <td>0.026686</td>\n",
       "    </tr>\n",
       "    <tr>\n",
       "      <th>min</th>\n",
       "      <td>16.00000</td>\n",
       "      <td>128.000000</td>\n",
       "      <td>128.000000</td>\n",
       "      <td>2.813109</td>\n",
       "      <td>3.505069</td>\n",
       "      <td>0.021563</td>\n",
       "      <td>0.026337</td>\n",
       "      <td>0.024530</td>\n",
       "      <td>0.040433</td>\n",
       "      <td>11.918237</td>\n",
       "      <td>60.783090</td>\n",
       "      <td>0.928290</td>\n",
       "      <td>0.895760</td>\n",
       "    </tr>\n",
       "    <tr>\n",
       "      <th>25%</th>\n",
       "      <td>32.00000</td>\n",
       "      <td>128.000000</td>\n",
       "      <td>128.000000</td>\n",
       "      <td>5.565003</td>\n",
       "      <td>5.613726</td>\n",
       "      <td>0.043477</td>\n",
       "      <td>0.043325</td>\n",
       "      <td>0.053816</td>\n",
       "      <td>0.067589</td>\n",
       "      <td>12.637377</td>\n",
       "      <td>99.269145</td>\n",
       "      <td>0.983677</td>\n",
       "      <td>0.966000</td>\n",
       "    </tr>\n",
       "    <tr>\n",
       "      <th>50%</th>\n",
       "      <td>32.00000</td>\n",
       "      <td>256.000000</td>\n",
       "      <td>256.000000</td>\n",
       "      <td>8.707003</td>\n",
       "      <td>7.351367</td>\n",
       "      <td>0.068437</td>\n",
       "      <td>0.057093</td>\n",
       "      <td>0.083642</td>\n",
       "      <td>0.092983</td>\n",
       "      <td>115.078609</td>\n",
       "      <td>136.038791</td>\n",
       "      <td>0.992370</td>\n",
       "      <td>0.981815</td>\n",
       "    </tr>\n",
       "    <tr>\n",
       "      <th>75%</th>\n",
       "      <td>64.00000</td>\n",
       "      <td>512.000000</td>\n",
       "      <td>512.000000</td>\n",
       "      <td>79.132457</td>\n",
       "      <td>10.085100</td>\n",
       "      <td>0.630217</td>\n",
       "      <td>0.079054</td>\n",
       "      <td>0.686629</td>\n",
       "      <td>0.119174</td>\n",
       "      <td>179.694783</td>\n",
       "      <td>178.565914</td>\n",
       "      <td>0.996682</td>\n",
       "      <td>0.993123</td>\n",
       "    </tr>\n",
       "    <tr>\n",
       "      <th>max</th>\n",
       "      <td>64.00000</td>\n",
       "      <td>512.000000</td>\n",
       "      <td>512.000000</td>\n",
       "      <td>83.905027</td>\n",
       "      <td>16.451944</td>\n",
       "      <td>0.668211</td>\n",
       "      <td>0.129807</td>\n",
       "      <td>0.733157</td>\n",
       "      <td>0.206499</td>\n",
       "      <td>355.478633</td>\n",
       "      <td>285.301088</td>\n",
       "      <td>0.999090</td>\n",
       "      <td>0.998390</td>\n",
       "    </tr>\n",
       "  </tbody>\n",
       "</table>\n",
       "</div>"
      ],
      "text/plain": [
       "              m  ef_construct   ef_search  qdrant_total_time  \\\n",
       "count  18.00000     18.000000   18.000000          18.000000   \n",
       "mean   40.00000    298.666667  298.666667          31.767056   \n",
       "std    18.40716    164.272371  164.272371          36.161467   \n",
       "min    16.00000    128.000000  128.000000           2.813109   \n",
       "25%    32.00000    128.000000  128.000000           5.565003   \n",
       "50%    32.00000    256.000000  256.000000           8.707003   \n",
       "75%    64.00000    512.000000  512.000000          79.132457   \n",
       "max    64.00000    512.000000  512.000000          83.905027   \n",
       "\n",
       "       milvus_total_time  qdrant_mean_time  milvus_mean_time  qdrant_p95_time  \\\n",
       "count          18.000000         18.000000         18.000000        18.000000   \n",
       "mean            8.209178          0.252364          0.063956         0.279221   \n",
       "std             3.536682          0.288374          0.028317         0.310426   \n",
       "min             3.505069          0.021563          0.026337         0.024530   \n",
       "25%             5.613726          0.043477          0.043325         0.053816   \n",
       "50%             7.351367          0.068437          0.057093         0.083642   \n",
       "75%            10.085100          0.630217          0.079054         0.686629   \n",
       "max            16.451944          0.668211          0.129807         0.733157   \n",
       "\n",
       "       milvus_p95_time  qdrant_rps  milvus_rps  qdrant_mean_precisions  \\\n",
       "count        18.000000   18.000000   18.000000               18.000000   \n",
       "mean          0.100334  120.300450  143.997240                0.985458   \n",
       "std           0.044152  103.563230   60.200697                0.018291   \n",
       "min           0.040433   11.918237   60.783090                0.928290   \n",
       "25%           0.067589   12.637377   99.269145                0.983677   \n",
       "50%           0.092983  115.078609  136.038791                0.992370   \n",
       "75%           0.119174  179.694783  178.565914                0.996682   \n",
       "max           0.206499  355.478633  285.301088                0.999090   \n",
       "\n",
       "       milvus_mean_precisions  \n",
       "count               18.000000  \n",
       "mean                 0.973922  \n",
       "std                  0.026686  \n",
       "min                  0.895760  \n",
       "25%                  0.966000  \n",
       "50%                  0.981815  \n",
       "75%                  0.993123  \n",
       "max                  0.998390  "
      ]
     },
     "metadata": {},
     "output_type": "display_data"
    }
   ],
   "source": [
    "show_results(tested_datasets, upload_info = False, search_info = True)"
   ]
  },
  {
   "cell_type": "markdown",
   "id": "f0bdf334-a043-4db4-90bd-8cbda3b796a7",
   "metadata": {},
   "source": [
    "### Observations\n",
    "- **glove-100-angular**: For small `ef_search` (e.g. 128) Qdrant needs 50-80% (30-50% if we exclude outliers - extreme latencies) more search time and performs less rps comparing to Milvus. For bigger `ef_search` values (e.g. 512), Qdrant requires double (or 60-80% more time if we exclude outliers) search time and performs the half rps than Milvus. Mean precisions percentage is 5-10% bigger for Qdrant. We can also observe that while `ef_search` and `m` and `ef_construct` values get bigger, then the mean precisions percentage for the two DataBases is closer. Milvus is more sensitive to changes in ef_search, and with each increase, it shows a significant improvement in mean precisions percentage.\n",
    "- **random-match-keyword-100-angular-no-filters**:  We observe again that Qdrant requires 40% up to 80% or more search time than Milvus, depending on `ef_search` primirily and performs less rps. Mean precisions percentage is 5-10% bigger for Qdrant. For small `m`, `ef_construct`, `ef_search` precisions are low (60%-80%) for both databases in this dataset test.\n",
    "- **h-and-m-2048-angular-no-filters**: As in last experiments, Qdrant is slower than Milvus in search by a factor 1.5 and respondingly Milvus serves more rps. For this dataset, mean precisions percentage is high for both databases for every `m`, `ef_construct`, `ef_search` combination. It seems that this observations is dataset-specific.\n",
    "- **gist-960-euclidean**: For most configurations, the two DataBases have similar search time and rps. We can even observe that in some cases Qdrant performs more rps and is bit faster. However, in configurations `m-32-ef-256` and `m-64-ef-256`, Qdrant shows unexpectedly high latency (80 sec total time when Milvus needs 10 sec). Mean precisions percentage for this dataset is high (95-99%) and similar for both databases with a slight advantage for Qdrant.\n",
    "\n",
    "Taking into consideration the above observations we can summarize:\n",
    "- Qdrant needs more search time (40-80% comparing to Mivlus)\n",
    "- Search time differences show up when search time increases due to bigger values of `m`, `ef_construct`, `ef_search`\n",
    "- Milvus performs more rps (up to 50% or more than Qdrant)\n",
    "- Qdrant more accurate - for the same configurations, Qdrant achieves 5-10% higher mean precisions percentage (for low `m`, `ef_construct`, `ef_search`)\n",
    "- For big `m`, `ef_construct`, `ef_search`, mean precisions percentage is bigger (95-99%) and similar for the two databases\n",
    "- Milvus is more sensitive to changes of `ef_search` and has much lower precisions for low `m`, `ef_construct`, `ef_search`"
   ]
  },
  {
   "cell_type": "markdown",
   "id": "99404a39-1e6a-46d1-8085-93135c39c41e",
   "metadata": {},
   "source": [
    "## Comparison based on precisions\n",
    "Each database may choose a different strategy despite the same configuration of `m`, `ef_construct` and `ef_search` parameters. It depends on preferring less latency even with less precision or high latency with high precision. The comparison on latency and rps metrics should be based on the precision required for the particular type of application we want to compare the two databases. Consequently, in this section, we compare engine configurations achieving the same `mean_precisions_rounded` concerning latency and rps metrics. Additionally, we examine upload and index time for the corresponding engines that achieved the same precision. Some of the available metrics are listed below:\n",
    "- `total_time`: total time for all queries\n",
    "- `mean_time`: mean query time\n",
    "- `p95_time`: 95% percentile of query times\n",
    "- `rps`: requests per second\n",
    "- `upload_time`: the upload time for the corresponding engine that performed the query\n",
    "- `index_time`: the index time for the corresponding engine\n",
    "- `import_time`: `upload_time + index_time` for the corresponding engine"
   ]
  },
  {
   "cell_type": "code",
   "execution_count": 17,
   "id": "d1df99c1-4cc0-431d-a4ea-d83b4dad2081",
   "metadata": {},
   "outputs": [],
   "source": [
    "import plotly.express as px\n",
    "import plotly.graph_objects as go\n",
    "\n",
    "def plot_results_of_similar_precision(selected_datasets: list = None, selected_parallel: int = 100, metric: str = \"total_time\") -> None:\n",
    "    base_metric = 'mean_precisions_rounded'\n",
    "\n",
    "    for dataset in selected_datasets:\n",
    "        print_h1(dataset)\n",
    "        print_h2(f\"search parallel {selected_parallel}\")\n",
    "\n",
    "        # Plot for Qdrant with a name for the legend\n",
    "        fig = go.Figure()\n",
    "        \n",
    "        for db_name, df, db_color in [('qdrant', qdrant_search_df, 'purple'), ('milvus', milvus_search_df, 'skyblue')]:\n",
    "            db_df = df[\n",
    "            (df['dataset'] == dataset) & \n",
    "            (df['parallel_search'] == selected_parallel)  \n",
    "            ]\n",
    "            fig.add_trace(go.Scatter(\n",
    "                x=db_df[base_metric],\n",
    "                y=db_df[metric],\n",
    "                mode='markers',\n",
    "                marker=dict(color=db_color),\n",
    "                name=db_name,  # Legend name\n",
    "                hovertext=db_df['config'],\n",
    "                hoverinfo='text'\n",
    "            ))\n",
    "    \n",
    "        # Customize axis labels\n",
    "        fig.update_layout(\n",
    "            xaxis_title=base_metric,\n",
    "            yaxis_title=metric,\n",
    "            legend_title=\"Database\"\n",
    "        )\n",
    "        \n",
    "        # Show the interactive plot\n",
    "        fig.show()"
   ]
  },
  {
   "cell_type": "code",
   "execution_count": 26,
   "id": "c7ef464a-29aa-4898-a690-accf95c530a3",
   "metadata": {},
   "outputs": [
    {
     "name": "stdout",
     "output_type": "stream",
     "text": [
      "\n",
      "\n",
      "****************************************************************************************************\n",
      "************************************** metric: : import_time **************************************\n",
      "****************************************************************************************************\n",
      "\n",
      "\n",
      "****************************************************************************************************\n",
      "************************************ Dataset: glove-100-angular ************************************\n",
      "****************************************************************************************************\n",
      "\n",
      "\n",
      "*************************************** search parallel 100 ***************************************\n",
      "\n"
     ]
    },
    {
     "data": {
      "application/vnd.plotly.v1+json": {
       "config": {
        "plotlyServerURL": "https://plot.ly"
       },
       "data": [
        {
         "hoverinfo": "text",
         "hovertext": [
          "qdrant-m-16-ef-128-parallel-100-ef-search-128",
          "qdrant-m-16-ef-128-parallel-100-ef-search-256",
          "qdrant-m-16-ef-128-parallel-100-ef-search-512",
          "qdrant-m-32-ef-128-parallel-100-ef-search-128",
          "qdrant-m-32-ef-128-parallel-100-ef-search-256",
          "qdrant-m-32-ef-128-parallel-100-ef-search-512",
          "qdrant-m-32-ef-256-parallel-100-ef-search-128",
          "qdrant-m-32-ef-256-parallel-100-ef-search-256",
          "qdrant-m-32-ef-256-parallel-100-ef-search-512",
          "qdrant-m-32-ef-512-parallel-100-ef-search-128",
          "qdrant-m-32-ef-512-parallel-100-ef-search-256",
          "qdrant-m-32-ef-512-parallel-100-ef-search-512",
          "qdrant-m-64-ef-256-parallel-100-ef-search-128",
          "qdrant-m-64-ef-256-parallel-100-ef-search-256",
          "qdrant-m-64-ef-256-parallel-100-ef-search-512",
          "qdrant-m-64-ef-512-parallel-100-ef-search-128",
          "qdrant-m-64-ef-512-parallel-100-ef-search-256",
          "qdrant-m-64-ef-512-parallel-100-ef-search-512"
         ],
         "marker": {
          "color": "purple"
         },
         "mode": "markers",
         "name": "qdrant",
         "type": "scatter",
         "x": [
          0.88,
          0.93,
          0.96,
          0.92,
          0.96,
          0.98,
          0.93,
          0.97,
          0.99,
          0.94,
          0.98,
          0.99,
          0.96,
          0.98,
          1,
          0.97,
          0.99,
          1
         ],
         "y": [
          277.2230961000005,
          277.2230961000005,
          277.2230961000005,
          309.2383155000007,
          309.2383155000007,
          309.2383155000007,
          485.1028563,
          485.1028563,
          485.1028563,
          835.5290791999996,
          835.5290791999996,
          835.5290791999996,
          530.0756259999998,
          530.0756259999998,
          530.0756259999998,
          910.7132561,
          910.7132561,
          910.7132561
         ]
        },
        {
         "hoverinfo": "text",
         "hovertext": [
          "milvus-m-16-ef-128-parallel-100-ef-search-128",
          "milvus-m-16-ef-128-parallel-100-ef-search-256",
          "milvus-m-16-ef-128-parallel-100-ef-search-512",
          "milvus-m-32-ef-128-parallel-100-ef-search-128",
          "milvus-m-32-ef-128-parallel-100-ef-search-256",
          "milvus-m-32-ef-128-parallel-100-ef-search-512",
          "milvus-m-32-ef-256-parallel-100-ef-search-128",
          "milvus-m-32-ef-256-parallel-100-ef-search-256",
          "milvus-m-32-ef-256-parallel-100-ef-search-512",
          "milvus-m-32-ef-512-parallel-100-ef-search-128",
          "milvus-m-32-ef-512-parallel-100-ef-search-256",
          "milvus-m-32-ef-512-parallel-100-ef-search-512",
          "milvus-m-64-ef-256-parallel-100-ef-search-128",
          "milvus-m-64-ef-256-parallel-100-ef-search-256",
          "milvus-m-64-ef-256-parallel-100-ef-search-512",
          "milvus-m-64-ef-512-parallel-100-ef-search-128",
          "milvus-m-64-ef-512-parallel-100-ef-search-256",
          "milvus-m-64-ef-512-parallel-100-ef-search-512"
         ],
         "marker": {
          "color": "skyblue"
         },
         "mode": "markers",
         "name": "milvus",
         "type": "scatter",
         "x": [
          0.76,
          0.83,
          0.88,
          0.82,
          0.89,
          0.93,
          0.84,
          0.91,
          0.95,
          0.84,
          0.91,
          0.95,
          0.88,
          0.94,
          0.97,
          0.9,
          0.95,
          0.98
         ],
         "y": [
          402.6121439000001,
          402.6121439000001,
          402.6121439000001,
          534.1761228,
          534.1761228,
          534.1761228,
          834.4537572999998,
          834.4537572999998,
          834.4537572999998,
          1386.1064562,
          1386.1064562,
          1386.1064562,
          1056.2336212,
          1056.2336212,
          1056.2336212,
          1932.7685028999997,
          1932.7685028999997,
          1932.7685028999997
         ]
        }
       ],
       "layout": {
        "autosize": true,
        "legend": {
         "title": {
          "text": "Database"
         }
        },
        "template": {
         "data": {
          "bar": [
           {
            "error_x": {
             "color": "#2a3f5f"
            },
            "error_y": {
             "color": "#2a3f5f"
            },
            "marker": {
             "line": {
              "color": "#E5ECF6",
              "width": 0.5
             },
             "pattern": {
              "fillmode": "overlay",
              "size": 10,
              "solidity": 0.2
             }
            },
            "type": "bar"
           }
          ],
          "barpolar": [
           {
            "marker": {
             "line": {
              "color": "#E5ECF6",
              "width": 0.5
             },
             "pattern": {
              "fillmode": "overlay",
              "size": 10,
              "solidity": 0.2
             }
            },
            "type": "barpolar"
           }
          ],
          "carpet": [
           {
            "aaxis": {
             "endlinecolor": "#2a3f5f",
             "gridcolor": "white",
             "linecolor": "white",
             "minorgridcolor": "white",
             "startlinecolor": "#2a3f5f"
            },
            "baxis": {
             "endlinecolor": "#2a3f5f",
             "gridcolor": "white",
             "linecolor": "white",
             "minorgridcolor": "white",
             "startlinecolor": "#2a3f5f"
            },
            "type": "carpet"
           }
          ],
          "choropleth": [
           {
            "colorbar": {
             "outlinewidth": 0,
             "ticks": ""
            },
            "type": "choropleth"
           }
          ],
          "contour": [
           {
            "colorbar": {
             "outlinewidth": 0,
             "ticks": ""
            },
            "colorscale": [
             [
              0,
              "#0d0887"
             ],
             [
              0.1111111111111111,
              "#46039f"
             ],
             [
              0.2222222222222222,
              "#7201a8"
             ],
             [
              0.3333333333333333,
              "#9c179e"
             ],
             [
              0.4444444444444444,
              "#bd3786"
             ],
             [
              0.5555555555555556,
              "#d8576b"
             ],
             [
              0.6666666666666666,
              "#ed7953"
             ],
             [
              0.7777777777777778,
              "#fb9f3a"
             ],
             [
              0.8888888888888888,
              "#fdca26"
             ],
             [
              1,
              "#f0f921"
             ]
            ],
            "type": "contour"
           }
          ],
          "contourcarpet": [
           {
            "colorbar": {
             "outlinewidth": 0,
             "ticks": ""
            },
            "type": "contourcarpet"
           }
          ],
          "heatmap": [
           {
            "colorbar": {
             "outlinewidth": 0,
             "ticks": ""
            },
            "colorscale": [
             [
              0,
              "#0d0887"
             ],
             [
              0.1111111111111111,
              "#46039f"
             ],
             [
              0.2222222222222222,
              "#7201a8"
             ],
             [
              0.3333333333333333,
              "#9c179e"
             ],
             [
              0.4444444444444444,
              "#bd3786"
             ],
             [
              0.5555555555555556,
              "#d8576b"
             ],
             [
              0.6666666666666666,
              "#ed7953"
             ],
             [
              0.7777777777777778,
              "#fb9f3a"
             ],
             [
              0.8888888888888888,
              "#fdca26"
             ],
             [
              1,
              "#f0f921"
             ]
            ],
            "type": "heatmap"
           }
          ],
          "heatmapgl": [
           {
            "colorbar": {
             "outlinewidth": 0,
             "ticks": ""
            },
            "colorscale": [
             [
              0,
              "#0d0887"
             ],
             [
              0.1111111111111111,
              "#46039f"
             ],
             [
              0.2222222222222222,
              "#7201a8"
             ],
             [
              0.3333333333333333,
              "#9c179e"
             ],
             [
              0.4444444444444444,
              "#bd3786"
             ],
             [
              0.5555555555555556,
              "#d8576b"
             ],
             [
              0.6666666666666666,
              "#ed7953"
             ],
             [
              0.7777777777777778,
              "#fb9f3a"
             ],
             [
              0.8888888888888888,
              "#fdca26"
             ],
             [
              1,
              "#f0f921"
             ]
            ],
            "type": "heatmapgl"
           }
          ],
          "histogram": [
           {
            "marker": {
             "pattern": {
              "fillmode": "overlay",
              "size": 10,
              "solidity": 0.2
             }
            },
            "type": "histogram"
           }
          ],
          "histogram2d": [
           {
            "colorbar": {
             "outlinewidth": 0,
             "ticks": ""
            },
            "colorscale": [
             [
              0,
              "#0d0887"
             ],
             [
              0.1111111111111111,
              "#46039f"
             ],
             [
              0.2222222222222222,
              "#7201a8"
             ],
             [
              0.3333333333333333,
              "#9c179e"
             ],
             [
              0.4444444444444444,
              "#bd3786"
             ],
             [
              0.5555555555555556,
              "#d8576b"
             ],
             [
              0.6666666666666666,
              "#ed7953"
             ],
             [
              0.7777777777777778,
              "#fb9f3a"
             ],
             [
              0.8888888888888888,
              "#fdca26"
             ],
             [
              1,
              "#f0f921"
             ]
            ],
            "type": "histogram2d"
           }
          ],
          "histogram2dcontour": [
           {
            "colorbar": {
             "outlinewidth": 0,
             "ticks": ""
            },
            "colorscale": [
             [
              0,
              "#0d0887"
             ],
             [
              0.1111111111111111,
              "#46039f"
             ],
             [
              0.2222222222222222,
              "#7201a8"
             ],
             [
              0.3333333333333333,
              "#9c179e"
             ],
             [
              0.4444444444444444,
              "#bd3786"
             ],
             [
              0.5555555555555556,
              "#d8576b"
             ],
             [
              0.6666666666666666,
              "#ed7953"
             ],
             [
              0.7777777777777778,
              "#fb9f3a"
             ],
             [
              0.8888888888888888,
              "#fdca26"
             ],
             [
              1,
              "#f0f921"
             ]
            ],
            "type": "histogram2dcontour"
           }
          ],
          "mesh3d": [
           {
            "colorbar": {
             "outlinewidth": 0,
             "ticks": ""
            },
            "type": "mesh3d"
           }
          ],
          "parcoords": [
           {
            "line": {
             "colorbar": {
              "outlinewidth": 0,
              "ticks": ""
             }
            },
            "type": "parcoords"
           }
          ],
          "pie": [
           {
            "automargin": true,
            "type": "pie"
           }
          ],
          "scatter": [
           {
            "fillpattern": {
             "fillmode": "overlay",
             "size": 10,
             "solidity": 0.2
            },
            "type": "scatter"
           }
          ],
          "scatter3d": [
           {
            "line": {
             "colorbar": {
              "outlinewidth": 0,
              "ticks": ""
             }
            },
            "marker": {
             "colorbar": {
              "outlinewidth": 0,
              "ticks": ""
             }
            },
            "type": "scatter3d"
           }
          ],
          "scattercarpet": [
           {
            "marker": {
             "colorbar": {
              "outlinewidth": 0,
              "ticks": ""
             }
            },
            "type": "scattercarpet"
           }
          ],
          "scattergeo": [
           {
            "marker": {
             "colorbar": {
              "outlinewidth": 0,
              "ticks": ""
             }
            },
            "type": "scattergeo"
           }
          ],
          "scattergl": [
           {
            "marker": {
             "colorbar": {
              "outlinewidth": 0,
              "ticks": ""
             }
            },
            "type": "scattergl"
           }
          ],
          "scattermapbox": [
           {
            "marker": {
             "colorbar": {
              "outlinewidth": 0,
              "ticks": ""
             }
            },
            "type": "scattermapbox"
           }
          ],
          "scatterpolar": [
           {
            "marker": {
             "colorbar": {
              "outlinewidth": 0,
              "ticks": ""
             }
            },
            "type": "scatterpolar"
           }
          ],
          "scatterpolargl": [
           {
            "marker": {
             "colorbar": {
              "outlinewidth": 0,
              "ticks": ""
             }
            },
            "type": "scatterpolargl"
           }
          ],
          "scatterternary": [
           {
            "marker": {
             "colorbar": {
              "outlinewidth": 0,
              "ticks": ""
             }
            },
            "type": "scatterternary"
           }
          ],
          "surface": [
           {
            "colorbar": {
             "outlinewidth": 0,
             "ticks": ""
            },
            "colorscale": [
             [
              0,
              "#0d0887"
             ],
             [
              0.1111111111111111,
              "#46039f"
             ],
             [
              0.2222222222222222,
              "#7201a8"
             ],
             [
              0.3333333333333333,
              "#9c179e"
             ],
             [
              0.4444444444444444,
              "#bd3786"
             ],
             [
              0.5555555555555556,
              "#d8576b"
             ],
             [
              0.6666666666666666,
              "#ed7953"
             ],
             [
              0.7777777777777778,
              "#fb9f3a"
             ],
             [
              0.8888888888888888,
              "#fdca26"
             ],
             [
              1,
              "#f0f921"
             ]
            ],
            "type": "surface"
           }
          ],
          "table": [
           {
            "cells": {
             "fill": {
              "color": "#EBF0F8"
             },
             "line": {
              "color": "white"
             }
            },
            "header": {
             "fill": {
              "color": "#C8D4E3"
             },
             "line": {
              "color": "white"
             }
            },
            "type": "table"
           }
          ]
         },
         "layout": {
          "annotationdefaults": {
           "arrowcolor": "#2a3f5f",
           "arrowhead": 0,
           "arrowwidth": 1
          },
          "autotypenumbers": "strict",
          "coloraxis": {
           "colorbar": {
            "outlinewidth": 0,
            "ticks": ""
           }
          },
          "colorscale": {
           "diverging": [
            [
             0,
             "#8e0152"
            ],
            [
             0.1,
             "#c51b7d"
            ],
            [
             0.2,
             "#de77ae"
            ],
            [
             0.3,
             "#f1b6da"
            ],
            [
             0.4,
             "#fde0ef"
            ],
            [
             0.5,
             "#f7f7f7"
            ],
            [
             0.6,
             "#e6f5d0"
            ],
            [
             0.7,
             "#b8e186"
            ],
            [
             0.8,
             "#7fbc41"
            ],
            [
             0.9,
             "#4d9221"
            ],
            [
             1,
             "#276419"
            ]
           ],
           "sequential": [
            [
             0,
             "#0d0887"
            ],
            [
             0.1111111111111111,
             "#46039f"
            ],
            [
             0.2222222222222222,
             "#7201a8"
            ],
            [
             0.3333333333333333,
             "#9c179e"
            ],
            [
             0.4444444444444444,
             "#bd3786"
            ],
            [
             0.5555555555555556,
             "#d8576b"
            ],
            [
             0.6666666666666666,
             "#ed7953"
            ],
            [
             0.7777777777777778,
             "#fb9f3a"
            ],
            [
             0.8888888888888888,
             "#fdca26"
            ],
            [
             1,
             "#f0f921"
            ]
           ],
           "sequentialminus": [
            [
             0,
             "#0d0887"
            ],
            [
             0.1111111111111111,
             "#46039f"
            ],
            [
             0.2222222222222222,
             "#7201a8"
            ],
            [
             0.3333333333333333,
             "#9c179e"
            ],
            [
             0.4444444444444444,
             "#bd3786"
            ],
            [
             0.5555555555555556,
             "#d8576b"
            ],
            [
             0.6666666666666666,
             "#ed7953"
            ],
            [
             0.7777777777777778,
             "#fb9f3a"
            ],
            [
             0.8888888888888888,
             "#fdca26"
            ],
            [
             1,
             "#f0f921"
            ]
           ]
          },
          "colorway": [
           "#636efa",
           "#EF553B",
           "#00cc96",
           "#ab63fa",
           "#FFA15A",
           "#19d3f3",
           "#FF6692",
           "#B6E880",
           "#FF97FF",
           "#FECB52"
          ],
          "font": {
           "color": "#2a3f5f"
          },
          "geo": {
           "bgcolor": "white",
           "lakecolor": "white",
           "landcolor": "#E5ECF6",
           "showlakes": true,
           "showland": true,
           "subunitcolor": "white"
          },
          "hoverlabel": {
           "align": "left"
          },
          "hovermode": "closest",
          "mapbox": {
           "style": "light"
          },
          "paper_bgcolor": "white",
          "plot_bgcolor": "#E5ECF6",
          "polar": {
           "angularaxis": {
            "gridcolor": "white",
            "linecolor": "white",
            "ticks": ""
           },
           "bgcolor": "#E5ECF6",
           "radialaxis": {
            "gridcolor": "white",
            "linecolor": "white",
            "ticks": ""
           }
          },
          "scene": {
           "xaxis": {
            "backgroundcolor": "#E5ECF6",
            "gridcolor": "white",
            "gridwidth": 2,
            "linecolor": "white",
            "showbackground": true,
            "ticks": "",
            "zerolinecolor": "white"
           },
           "yaxis": {
            "backgroundcolor": "#E5ECF6",
            "gridcolor": "white",
            "gridwidth": 2,
            "linecolor": "white",
            "showbackground": true,
            "ticks": "",
            "zerolinecolor": "white"
           },
           "zaxis": {
            "backgroundcolor": "#E5ECF6",
            "gridcolor": "white",
            "gridwidth": 2,
            "linecolor": "white",
            "showbackground": true,
            "ticks": "",
            "zerolinecolor": "white"
           }
          },
          "shapedefaults": {
           "line": {
            "color": "#2a3f5f"
           }
          },
          "ternary": {
           "aaxis": {
            "gridcolor": "white",
            "linecolor": "white",
            "ticks": ""
           },
           "baxis": {
            "gridcolor": "white",
            "linecolor": "white",
            "ticks": ""
           },
           "bgcolor": "#E5ECF6",
           "caxis": {
            "gridcolor": "white",
            "linecolor": "white",
            "ticks": ""
           }
          },
          "title": {
           "x": 0.05
          },
          "xaxis": {
           "automargin": true,
           "gridcolor": "white",
           "linecolor": "white",
           "ticks": "",
           "title": {
            "standoff": 15
           },
           "zerolinecolor": "white",
           "zerolinewidth": 2
          },
          "yaxis": {
           "automargin": true,
           "gridcolor": "white",
           "linecolor": "white",
           "ticks": "",
           "title": {
            "standoff": 15
           },
           "zerolinecolor": "white",
           "zerolinewidth": 2
          }
         }
        },
        "xaxis": {
         "autorange": true,
         "range": [
          0.7452173913043478,
          1.0147826086956522
         ],
         "title": {
          "text": "mean_precisions_rounded"
         },
         "type": "linear"
        },
        "yaxis": {
         "autorange": true,
         "range": [
          140.60041689805877,
          2069.3911821019415
         ],
         "title": {
          "text": "import_time"
         },
         "type": "linear"
        }
       }
      },
      "image/png": "[encoded data removed]",
      "text/html": [
       "<div>                            <div id=\"dada7814-5f58-4870-aa87-7e447a2c8db0\" class=\"plotly-graph-div\" style=\"height:525px; width:100%;\"></div>            <script type=\"text/javascript\">                require([\"plotly\"], function(Plotly) {                    window.PLOTLYENV=window.PLOTLYENV || {};                                    if (document.getElementById(\"dada7814-5f58-4870-aa87-7e447a2c8db0\")) {                    Plotly.newPlot(                        \"dada7814-5f58-4870-aa87-7e447a2c8db0\",                        [{\"hoverinfo\":\"text\",\"hovertext\":[\"qdrant-m-16-ef-128-parallel-100-ef-search-128\",\"qdrant-m-16-ef-128-parallel-100-ef-search-256\",\"qdrant-m-16-ef-128-parallel-100-ef-search-512\",\"qdrant-m-32-ef-128-parallel-100-ef-search-128\",\"qdrant-m-32-ef-128-parallel-100-ef-search-256\",\"qdrant-m-32-ef-128-parallel-100-ef-search-512\",\"qdrant-m-32-ef-256-parallel-100-ef-search-128\",\"qdrant-m-32-ef-256-parallel-100-ef-search-256\",\"qdrant-m-32-ef-256-parallel-100-ef-search-512\",\"qdrant-m-32-ef-512-parallel-100-ef-search-128\",\"qdrant-m-32-ef-512-parallel-100-ef-search-256\",\"qdrant-m-32-ef-512-parallel-100-ef-search-512\",\"qdrant-m-64-ef-256-parallel-100-ef-search-128\",\"qdrant-m-64-ef-256-parallel-100-ef-search-256\",\"qdrant-m-64-ef-256-parallel-100-ef-search-512\",\"qdrant-m-64-ef-512-parallel-100-ef-search-128\",\"qdrant-m-64-ef-512-parallel-100-ef-search-256\",\"qdrant-m-64-ef-512-parallel-100-ef-search-512\"],\"marker\":{\"color\":\"purple\"},\"mode\":\"markers\",\"name\":\"qdrant\",\"x\":[0.88,0.93,0.96,0.92,0.96,0.98,0.93,0.97,0.99,0.94,0.98,0.99,0.96,0.98,1.0,0.97,0.99,1.0],\"y\":[277.2230961000005,277.2230961000005,277.2230961000005,309.2383155000007,309.2383155000007,309.2383155000007,485.1028563,485.1028563,485.1028563,835.5290791999996,835.5290791999996,835.5290791999996,530.0756259999998,530.0756259999998,530.0756259999998,910.7132561,910.7132561,910.7132561],\"type\":\"scatter\"},{\"hoverinfo\":\"text\",\"hovertext\":[\"milvus-m-16-ef-128-parallel-100-ef-search-128\",\"milvus-m-16-ef-128-parallel-100-ef-search-256\",\"milvus-m-16-ef-128-parallel-100-ef-search-512\",\"milvus-m-32-ef-128-parallel-100-ef-search-128\",\"milvus-m-32-ef-128-parallel-100-ef-search-256\",\"milvus-m-32-ef-128-parallel-100-ef-search-512\",\"milvus-m-32-ef-256-parallel-100-ef-search-128\",\"milvus-m-32-ef-256-parallel-100-ef-search-256\",\"milvus-m-32-ef-256-parallel-100-ef-search-512\",\"milvus-m-32-ef-512-parallel-100-ef-search-128\",\"milvus-m-32-ef-512-parallel-100-ef-search-256\",\"milvus-m-32-ef-512-parallel-100-ef-search-512\",\"milvus-m-64-ef-256-parallel-100-ef-search-128\",\"milvus-m-64-ef-256-parallel-100-ef-search-256\",\"milvus-m-64-ef-256-parallel-100-ef-search-512\",\"milvus-m-64-ef-512-parallel-100-ef-search-128\",\"milvus-m-64-ef-512-parallel-100-ef-search-256\",\"milvus-m-64-ef-512-parallel-100-ef-search-512\"],\"marker\":{\"color\":\"skyblue\"},\"mode\":\"markers\",\"name\":\"milvus\",\"x\":[0.76,0.83,0.88,0.82,0.89,0.93,0.84,0.91,0.95,0.84,0.91,0.95,0.88,0.94,0.97,0.9,0.95,0.98],\"y\":[402.6121439000001,402.6121439000001,402.6121439000001,534.1761228,534.1761228,534.1761228,834.4537572999998,834.4537572999998,834.4537572999998,1386.1064562,1386.1064562,1386.1064562,1056.2336212,1056.2336212,1056.2336212,1932.7685028999997,1932.7685028999997,1932.7685028999997],\"type\":\"scatter\"}],                        {\"template\":{\"data\":{\"histogram2dcontour\":[{\"type\":\"histogram2dcontour\",\"colorbar\":{\"outlinewidth\":0,\"ticks\":\"\"},\"colorscale\":[[0.0,\"#0d0887\"],[0.1111111111111111,\"#46039f\"],[0.2222222222222222,\"#7201a8\"],[0.3333333333333333,\"#9c179e\"],[0.4444444444444444,\"#bd3786\"],[0.5555555555555556,\"#d8576b\"],[0.6666666666666666,\"#ed7953\"],[0.7777777777777778,\"#fb9f3a\"],[0.8888888888888888,\"#fdca26\"],[1.0,\"#f0f921\"]]}],\"choropleth\":[{\"type\":\"choropleth\",\"colorbar\":{\"outlinewidth\":0,\"ticks\":\"\"}}],\"histogram2d\":[{\"type\":\"histogram2d\",\"colorbar\":{\"outlinewidth\":0,\"ticks\":\"\"},\"colorscale\":[[0.0,\"#0d0887\"],[0.1111111111111111,\"#46039f\"],[0.2222222222222222,\"#7201a8\"],[0.3333333333333333,\"#9c179e\"],[0.4444444444444444,\"#bd3786\"],[0.5555555555555556,\"#d8576b\"],[0.6666666666666666,\"#ed7953\"],[0.7777777777777778,\"#fb9f3a\"],[0.8888888888888888,\"#fdca26\"],[1.0,\"#f0f921\"]]}],\"heatmap\":[{\"type\":\"heatmap\",\"colorbar\":{\"outlinewidth\":0,\"ticks\":\"\"},\"colorscale\":[[0.0,\"#0d0887\"],[0.1111111111111111,\"#46039f\"],[0.2222222222222222,\"#7201a8\"],[0.3333333333333333,\"#9c179e\"],[0.4444444444444444,\"#bd3786\"],[0.5555555555555556,\"#d8576b\"],[0.6666666666666666,\"#ed7953\"],[0.7777777777777778,\"#fb9f3a\"],[0.8888888888888888,\"#fdca26\"],[1.0,\"#f0f921\"]]}],\"heatmapgl\":[{\"type\":\"heatmapgl\",\"colorbar\":{\"outlinewidth\":0,\"ticks\":\"\"},\"colorscale\":[[0.0,\"#0d0887\"],[0.1111111111111111,\"#46039f\"],[0.2222222222222222,\"#7201a8\"],[0.3333333333333333,\"#9c179e\"],[0.4444444444444444,\"#bd3786\"],[0.5555555555555556,\"#d8576b\"],[0.6666666666666666,\"#ed7953\"],[0.7777777777777778,\"#fb9f3a\"],[0.8888888888888888,\"#fdca26\"],[1.0,\"#f0f921\"]]}],\"contourcarpet\":[{\"type\":\"contourcarpet\",\"colorbar\":{\"outlinewidth\":0,\"ticks\":\"\"}}],\"contour\":[{\"type\":\"contour\",\"colorbar\":{\"outlinewidth\":0,\"ticks\":\"\"},\"colorscale\":[[0.0,\"#0d0887\"],[0.1111111111111111,\"#46039f\"],[0.2222222222222222,\"#7201a8\"],[0.3333333333333333,\"#9c179e\"],[0.4444444444444444,\"#bd3786\"],[0.5555555555555556,\"#d8576b\"],[0.6666666666666666,\"#ed7953\"],[0.7777777777777778,\"#fb9f3a\"],[0.8888888888888888,\"#fdca26\"],[1.0,\"#f0f921\"]]}],\"surface\":[{\"type\":\"surface\",\"colorbar\":{\"outlinewidth\":0,\"ticks\":\"\"},\"colorscale\":[[0.0,\"#0d0887\"],[0.1111111111111111,\"#46039f\"],[0.2222222222222222,\"#7201a8\"],[0.3333333333333333,\"#9c179e\"],[0.4444444444444444,\"#bd3786\"],[0.5555555555555556,\"#d8576b\"],[0.6666666666666666,\"#ed7953\"],[0.7777777777777778,\"#fb9f3a\"],[0.8888888888888888,\"#fdca26\"],[1.0,\"#f0f921\"]]}],\"mesh3d\":[{\"type\":\"mesh3d\",\"colorbar\":{\"outlinewidth\":0,\"ticks\":\"\"}}],\"scatter\":[{\"fillpattern\":{\"fillmode\":\"overlay\",\"size\":10,\"solidity\":0.2},\"type\":\"scatter\"}],\"parcoords\":[{\"type\":\"parcoords\",\"line\":{\"colorbar\":{\"outlinewidth\":0,\"ticks\":\"\"}}}],\"scatterpolargl\":[{\"type\":\"scatterpolargl\",\"marker\":{\"colorbar\":{\"outlinewidth\":0,\"ticks\":\"\"}}}],\"bar\":[{\"error_x\":{\"color\":\"#2a3f5f\"},\"error_y\":{\"color\":\"#2a3f5f\"},\"marker\":{\"line\":{\"color\":\"#E5ECF6\",\"width\":0.5},\"pattern\":{\"fillmode\":\"overlay\",\"size\":10,\"solidity\":0.2}},\"type\":\"bar\"}],\"scattergeo\":[{\"type\":\"scattergeo\",\"marker\":{\"colorbar\":{\"outlinewidth\":0,\"ticks\":\"\"}}}],\"scatterpolar\":[{\"type\":\"scatterpolar\",\"marker\":{\"colorbar\":{\"outlinewidth\":0,\"ticks\":\"\"}}}],\"histogram\":[{\"marker\":{\"pattern\":{\"fillmode\":\"overlay\",\"size\":10,\"solidity\":0.2}},\"type\":\"histogram\"}],\"scattergl\":[{\"type\":\"scattergl\",\"marker\":{\"colorbar\":{\"outlinewidth\":0,\"ticks\":\"\"}}}],\"scatter3d\":[{\"type\":\"scatter3d\",\"line\":{\"colorbar\":{\"outlinewidth\":0,\"ticks\":\"\"}},\"marker\":{\"colorbar\":{\"outlinewidth\":0,\"ticks\":\"\"}}}],\"scattermapbox\":[{\"type\":\"scattermapbox\",\"marker\":{\"colorbar\":{\"outlinewidth\":0,\"ticks\":\"\"}}}],\"scatterternary\":[{\"type\":\"scatterternary\",\"marker\":{\"colorbar\":{\"outlinewidth\":0,\"ticks\":\"\"}}}],\"scattercarpet\":[{\"type\":\"scattercarpet\",\"marker\":{\"colorbar\":{\"outlinewidth\":0,\"ticks\":\"\"}}}],\"carpet\":[{\"aaxis\":{\"endlinecolor\":\"#2a3f5f\",\"gridcolor\":\"white\",\"linecolor\":\"white\",\"minorgridcolor\":\"white\",\"startlinecolor\":\"#2a3f5f\"},\"baxis\":{\"endlinecolor\":\"#2a3f5f\",\"gridcolor\":\"white\",\"linecolor\":\"white\",\"minorgridcolor\":\"white\",\"startlinecolor\":\"#2a3f5f\"},\"type\":\"carpet\"}],\"table\":[{\"cells\":{\"fill\":{\"color\":\"#EBF0F8\"},\"line\":{\"color\":\"white\"}},\"header\":{\"fill\":{\"color\":\"#C8D4E3\"},\"line\":{\"color\":\"white\"}},\"type\":\"table\"}],\"barpolar\":[{\"marker\":{\"line\":{\"color\":\"#E5ECF6\",\"width\":0.5},\"pattern\":{\"fillmode\":\"overlay\",\"size\":10,\"solidity\":0.2}},\"type\":\"barpolar\"}],\"pie\":[{\"automargin\":true,\"type\":\"pie\"}]},\"layout\":{\"autotypenumbers\":\"strict\",\"colorway\":[\"#636efa\",\"#EF553B\",\"#00cc96\",\"#ab63fa\",\"#FFA15A\",\"#19d3f3\",\"#FF6692\",\"#B6E880\",\"#FF97FF\",\"#FECB52\"],\"font\":{\"color\":\"#2a3f5f\"},\"hovermode\":\"closest\",\"hoverlabel\":{\"align\":\"left\"},\"paper_bgcolor\":\"white\",\"plot_bgcolor\":\"#E5ECF6\",\"polar\":{\"bgcolor\":\"#E5ECF6\",\"angularaxis\":{\"gridcolor\":\"white\",\"linecolor\":\"white\",\"ticks\":\"\"},\"radialaxis\":{\"gridcolor\":\"white\",\"linecolor\":\"white\",\"ticks\":\"\"}},\"ternary\":{\"bgcolor\":\"#E5ECF6\",\"aaxis\":{\"gridcolor\":\"white\",\"linecolor\":\"white\",\"ticks\":\"\"},\"baxis\":{\"gridcolor\":\"white\",\"linecolor\":\"white\",\"ticks\":\"\"},\"caxis\":{\"gridcolor\":\"white\",\"linecolor\":\"white\",\"ticks\":\"\"}},\"coloraxis\":{\"colorbar\":{\"outlinewidth\":0,\"ticks\":\"\"}},\"colorscale\":{\"sequential\":[[0.0,\"#0d0887\"],[0.1111111111111111,\"#46039f\"],[0.2222222222222222,\"#7201a8\"],[0.3333333333333333,\"#9c179e\"],[0.4444444444444444,\"#bd3786\"],[0.5555555555555556,\"#d8576b\"],[0.6666666666666666,\"#ed7953\"],[0.7777777777777778,\"#fb9f3a\"],[0.8888888888888888,\"#fdca26\"],[1.0,\"#f0f921\"]],\"sequentialminus\":[[0.0,\"#0d0887\"],[0.1111111111111111,\"#46039f\"],[0.2222222222222222,\"#7201a8\"],[0.3333333333333333,\"#9c179e\"],[0.4444444444444444,\"#bd3786\"],[0.5555555555555556,\"#d8576b\"],[0.6666666666666666,\"#ed7953\"],[0.7777777777777778,\"#fb9f3a\"],[0.8888888888888888,\"#fdca26\"],[1.0,\"#f0f921\"]],\"diverging\":[[0,\"#8e0152\"],[0.1,\"#c51b7d\"],[0.2,\"#de77ae\"],[0.3,\"#f1b6da\"],[0.4,\"#fde0ef\"],[0.5,\"#f7f7f7\"],[0.6,\"#e6f5d0\"],[0.7,\"#b8e186\"],[0.8,\"#7fbc41\"],[0.9,\"#4d9221\"],[1,\"#276419\"]]},\"xaxis\":{\"gridcolor\":\"white\",\"linecolor\":\"white\",\"ticks\":\"\",\"title\":{\"standoff\":15},\"zerolinecolor\":\"white\",\"automargin\":true,\"zerolinewidth\":2},\"yaxis\":{\"gridcolor\":\"white\",\"linecolor\":\"white\",\"ticks\":\"\",\"title\":{\"standoff\":15},\"zerolinecolor\":\"white\",\"automargin\":true,\"zerolinewidth\":2},\"scene\":{\"xaxis\":{\"backgroundcolor\":\"#E5ECF6\",\"gridcolor\":\"white\",\"linecolor\":\"white\",\"showbackground\":true,\"ticks\":\"\",\"zerolinecolor\":\"white\",\"gridwidth\":2},\"yaxis\":{\"backgroundcolor\":\"#E5ECF6\",\"gridcolor\":\"white\",\"linecolor\":\"white\",\"showbackground\":true,\"ticks\":\"\",\"zerolinecolor\":\"white\",\"gridwidth\":2},\"zaxis\":{\"backgroundcolor\":\"#E5ECF6\",\"gridcolor\":\"white\",\"linecolor\":\"white\",\"showbackground\":true,\"ticks\":\"\",\"zerolinecolor\":\"white\",\"gridwidth\":2}},\"shapedefaults\":{\"line\":{\"color\":\"#2a3f5f\"}},\"annotationdefaults\":{\"arrowcolor\":\"#2a3f5f\",\"arrowhead\":0,\"arrowwidth\":1},\"geo\":{\"bgcolor\":\"white\",\"landcolor\":\"#E5ECF6\",\"subunitcolor\":\"white\",\"showland\":true,\"showlakes\":true,\"lakecolor\":\"white\"},\"title\":{\"x\":0.05},\"mapbox\":{\"style\":\"light\"}}},\"xaxis\":{\"title\":{\"text\":\"mean_precisions_rounded\"}},\"yaxis\":{\"title\":{\"text\":\"import_time\"}},\"legend\":{\"title\":{\"text\":\"Database\"}}},                        {\"responsive\": true}                    ).then(function(){\n",
       "                            \n",
       "var gd = document.getElementById('dada7814-5f58-4870-aa87-7e447a2c8db0');\n",
       "var x = new MutationObserver(function (mutations, observer) {{\n",
       "        var display = window.getComputedStyle(gd).display;\n",
       "        if (!display || display === 'none') {{\n",
       "            console.log([gd, 'removed!']);\n",
       "            Plotly.purge(gd);\n",
       "            observer.disconnect();\n",
       "        }}\n",
       "}});\n",
       "\n",
       "// Listen for the removal of the full notebook cells\n",
       "var notebookContainer = gd.closest('#notebook-container');\n",
       "if (notebookContainer) {{\n",
       "    x.observe(notebookContainer, {childList: true});\n",
       "}}\n",
       "\n",
       "// Listen for the clearing of the current output cell\n",
       "var outputEl = gd.closest('.output');\n",
       "if (outputEl) {{\n",
       "    x.observe(outputEl, {childList: true});\n",
       "}}\n",
       "\n",
       "                        })                };                });            </script>        </div>"
      ]
     },
     "metadata": {},
     "output_type": "display_data"
    },
    {
     "name": "stdout",
     "output_type": "stream",
     "text": [
      "\n",
      "\n",
      "****************************************************************************************************\n",
      "*********************** Dataset: random-match-keyword-100-angular-no-filters ***********************\n",
      "****************************************************************************************************\n",
      "\n",
      "\n",
      "*************************************** search parallel 100 ***************************************\n",
      "\n"
     ]
    },
    {
     "data": {
      "application/vnd.plotly.v1+json": {
       "config": {
        "plotlyServerURL": "https://plot.ly"
       },
       "data": [
        {
         "hoverinfo": "text",
         "hovertext": [
          "qdrant-m-16-ef-128-parallel-100-ef-search-128",
          "qdrant-m-16-ef-128-parallel-100-ef-search-256",
          "qdrant-m-16-ef-128-parallel-100-ef-search-512",
          "qdrant-m-32-ef-128-parallel-100-ef-search-128",
          "qdrant-m-32-ef-128-parallel-100-ef-search-256",
          "qdrant-m-32-ef-128-parallel-100-ef-search-512",
          "qdrant-m-32-ef-256-parallel-100-ef-search-128",
          "qdrant-m-32-ef-256-parallel-100-ef-search-256",
          "qdrant-m-32-ef-256-parallel-100-ef-search-512",
          "qdrant-m-32-ef-512-parallel-100-ef-search-128",
          "qdrant-m-32-ef-512-parallel-100-ef-search-256",
          "qdrant-m-32-ef-512-parallel-100-ef-search-512",
          "qdrant-m-64-ef-256-parallel-100-ef-search-128",
          "qdrant-m-64-ef-256-parallel-100-ef-search-256",
          "qdrant-m-64-ef-256-parallel-100-ef-search-512",
          "qdrant-m-64-ef-512-parallel-100-ef-search-128",
          "qdrant-m-64-ef-512-parallel-100-ef-search-256",
          "qdrant-m-64-ef-512-parallel-100-ef-search-512"
         ],
         "marker": {
          "color": "purple"
         },
         "mode": "markers",
         "name": "qdrant",
         "type": "scatter",
         "x": [
          0.7,
          0.82,
          0.9,
          0.87,
          0.94,
          0.98,
          0.9,
          0.96,
          0.99,
          0.91,
          0.97,
          0.99,
          0.96,
          0.99,
          1,
          0.97,
          1,
          1
         ],
         "y": [
          263.3330320000023,
          263.3330320000023,
          263.3330320000023,
          370.8384505999966,
          370.8384505999966,
          370.8384505999966,
          580.9446205999993,
          580.9446205999993,
          580.9446205999993,
          897.4908006000005,
          897.4908006000005,
          897.4908006000005,
          692.2395522000006,
          692.2395522000006,
          692.2395522000006,
          1107.2093948000002,
          1107.2093948000002,
          1107.2093948000002
         ]
        },
        {
         "hoverinfo": "text",
         "hovertext": [
          "milvus-m-16-ef-128-parallel-100-ef-search-128",
          "milvus-m-16-ef-128-parallel-100-ef-search-256",
          "milvus-m-16-ef-128-parallel-100-ef-search-512",
          "milvus-m-32-ef-128-parallel-100-ef-search-128",
          "milvus-m-32-ef-128-parallel-100-ef-search-256",
          "milvus-m-32-ef-128-parallel-100-ef-search-512",
          "milvus-m-32-ef-256-parallel-100-ef-search-128",
          "milvus-m-32-ef-256-parallel-100-ef-search-256",
          "milvus-m-32-ef-256-parallel-100-ef-search-512",
          "milvus-m-32-ef-512-parallel-100-ef-search-128",
          "milvus-m-32-ef-512-parallel-100-ef-search-256",
          "milvus-m-32-ef-512-parallel-100-ef-search-512",
          "milvus-m-64-ef-256-parallel-100-ef-search-128",
          "milvus-m-64-ef-256-parallel-100-ef-search-256",
          "milvus-m-64-ef-256-parallel-100-ef-search-512",
          "milvus-m-64-ef-512-parallel-100-ef-search-128",
          "milvus-m-64-ef-512-parallel-100-ef-search-256",
          "milvus-m-64-ef-512-parallel-100-ef-search-512"
         ],
         "marker": {
          "color": "skyblue"
         },
         "mode": "markers",
         "name": "milvus",
         "type": "scatter",
         "x": [
          0.51,
          0.6,
          0.7,
          0.81,
          0.89,
          0.95,
          0.85,
          0.92,
          0.96,
          0.85,
          0.9,
          0.94,
          0.86,
          0.94,
          0.98,
          0.95,
          0.98,
          0.99
         ],
         "y": [
          389.3290471,
          389.3290471,
          389.3290471,
          471.3394108000002,
          471.3394108000002,
          471.3394108000002,
          691.4830617999996,
          691.4830617999996,
          691.4830617999996,
          1839.4753583,
          1839.4753583,
          1839.4753583,
          1779.1359849,
          1779.1359849,
          1779.1359849,
          2742.0237481999998,
          2742.0237481999998,
          2742.0237481999998
         ]
        }
       ],
       "layout": {
        "autosize": true,
        "legend": {
         "title": {
          "text": "Database"
         }
        },
        "template": {
         "data": {
          "bar": [
           {
            "error_x": {
             "color": "#2a3f5f"
            },
            "error_y": {
             "color": "#2a3f5f"
            },
            "marker": {
             "line": {
              "color": "#E5ECF6",
              "width": 0.5
             },
             "pattern": {
              "fillmode": "overlay",
              "size": 10,
              "solidity": 0.2
             }
            },
            "type": "bar"
           }
          ],
          "barpolar": [
           {
            "marker": {
             "line": {
              "color": "#E5ECF6",
              "width": 0.5
             },
             "pattern": {
              "fillmode": "overlay",
              "size": 10,
              "solidity": 0.2
             }
            },
            "type": "barpolar"
           }
          ],
          "carpet": [
           {
            "aaxis": {
             "endlinecolor": "#2a3f5f",
             "gridcolor": "white",
             "linecolor": "white",
             "minorgridcolor": "white",
             "startlinecolor": "#2a3f5f"
            },
            "baxis": {
             "endlinecolor": "#2a3f5f",
             "gridcolor": "white",
             "linecolor": "white",
             "minorgridcolor": "white",
             "startlinecolor": "#2a3f5f"
            },
            "type": "carpet"
           }
          ],
          "choropleth": [
           {
            "colorbar": {
             "outlinewidth": 0,
             "ticks": ""
            },
            "type": "choropleth"
           }
          ],
          "contour": [
           {
            "colorbar": {
             "outlinewidth": 0,
             "ticks": ""
            },
            "colorscale": [
             [
              0,
              "#0d0887"
             ],
             [
              0.1111111111111111,
              "#46039f"
             ],
             [
              0.2222222222222222,
              "#7201a8"
             ],
             [
              0.3333333333333333,
              "#9c179e"
             ],
             [
              0.4444444444444444,
              "#bd3786"
             ],
             [
              0.5555555555555556,
              "#d8576b"
             ],
             [
              0.6666666666666666,
              "#ed7953"
             ],
             [
              0.7777777777777778,
              "#fb9f3a"
             ],
             [
              0.8888888888888888,
              "#fdca26"
             ],
             [
              1,
              "#f0f921"
             ]
            ],
            "type": "contour"
           }
          ],
          "contourcarpet": [
           {
            "colorbar": {
             "outlinewidth": 0,
             "ticks": ""
            },
            "type": "contourcarpet"
           }
          ],
          "heatmap": [
           {
            "colorbar": {
             "outlinewidth": 0,
             "ticks": ""
            },
            "colorscale": [
             [
              0,
              "#0d0887"
             ],
             [
              0.1111111111111111,
              "#46039f"
             ],
             [
              0.2222222222222222,
              "#7201a8"
             ],
             [
              0.3333333333333333,
              "#9c179e"
             ],
             [
              0.4444444444444444,
              "#bd3786"
             ],
             [
              0.5555555555555556,
              "#d8576b"
             ],
             [
              0.6666666666666666,
              "#ed7953"
             ],
             [
              0.7777777777777778,
              "#fb9f3a"
             ],
             [
              0.8888888888888888,
              "#fdca26"
             ],
             [
              1,
              "#f0f921"
             ]
            ],
            "type": "heatmap"
           }
          ],
          "heatmapgl": [
           {
            "colorbar": {
             "outlinewidth": 0,
             "ticks": ""
            },
            "colorscale": [
             [
              0,
              "#0d0887"
             ],
             [
              0.1111111111111111,
              "#46039f"
             ],
             [
              0.2222222222222222,
              "#7201a8"
             ],
             [
              0.3333333333333333,
              "#9c179e"
             ],
             [
              0.4444444444444444,
              "#bd3786"
             ],
             [
              0.5555555555555556,
              "#d8576b"
             ],
             [
              0.6666666666666666,
              "#ed7953"
             ],
             [
              0.7777777777777778,
              "#fb9f3a"
             ],
             [
              0.8888888888888888,
              "#fdca26"
             ],
             [
              1,
              "#f0f921"
             ]
            ],
            "type": "heatmapgl"
           }
          ],
          "histogram": [
           {
            "marker": {
             "pattern": {
              "fillmode": "overlay",
              "size": 10,
              "solidity": 0.2
             }
            },
            "type": "histogram"
           }
          ],
          "histogram2d": [
           {
            "colorbar": {
             "outlinewidth": 0,
             "ticks": ""
            },
            "colorscale": [
             [
              0,
              "#0d0887"
             ],
             [
              0.1111111111111111,
              "#46039f"
             ],
             [
              0.2222222222222222,
              "#7201a8"
             ],
             [
              0.3333333333333333,
              "#9c179e"
             ],
             [
              0.4444444444444444,
              "#bd3786"
             ],
             [
              0.5555555555555556,
              "#d8576b"
             ],
             [
              0.6666666666666666,
              "#ed7953"
             ],
             [
              0.7777777777777778,
              "#fb9f3a"
             ],
             [
              0.8888888888888888,
              "#fdca26"
             ],
             [
              1,
              "#f0f921"
             ]
            ],
            "type": "histogram2d"
           }
          ],
          "histogram2dcontour": [
           {
            "colorbar": {
             "outlinewidth": 0,
             "ticks": ""
            },
            "colorscale": [
             [
              0,
              "#0d0887"
             ],
             [
              0.1111111111111111,
              "#46039f"
             ],
             [
              0.2222222222222222,
              "#7201a8"
             ],
             [
              0.3333333333333333,
              "#9c179e"
             ],
             [
              0.4444444444444444,
              "#bd3786"
             ],
             [
              0.5555555555555556,
              "#d8576b"
             ],
             [
              0.6666666666666666,
              "#ed7953"
             ],
             [
              0.7777777777777778,
              "#fb9f3a"
             ],
             [
              0.8888888888888888,
              "#fdca26"
             ],
             [
              1,
              "#f0f921"
             ]
            ],
            "type": "histogram2dcontour"
           }
          ],
          "mesh3d": [
           {
            "colorbar": {
             "outlinewidth": 0,
             "ticks": ""
            },
            "type": "mesh3d"
           }
          ],
          "parcoords": [
           {
            "line": {
             "colorbar": {
              "outlinewidth": 0,
              "ticks": ""
             }
            },
            "type": "parcoords"
           }
          ],
          "pie": [
           {
            "automargin": true,
            "type": "pie"
           }
          ],
          "scatter": [
           {
            "fillpattern": {
             "fillmode": "overlay",
             "size": 10,
             "solidity": 0.2
            },
            "type": "scatter"
           }
          ],
          "scatter3d": [
           {
            "line": {
             "colorbar": {
              "outlinewidth": 0,
              "ticks": ""
             }
            },
            "marker": {
             "colorbar": {
              "outlinewidth": 0,
              "ticks": ""
             }
            },
            "type": "scatter3d"
           }
          ],
          "scattercarpet": [
           {
            "marker": {
             "colorbar": {
              "outlinewidth": 0,
              "ticks": ""
             }
            },
            "type": "scattercarpet"
           }
          ],
          "scattergeo": [
           {
            "marker": {
             "colorbar": {
              "outlinewidth": 0,
              "ticks": ""
             }
            },
            "type": "scattergeo"
           }
          ],
          "scattergl": [
           {
            "marker": {
             "colorbar": {
              "outlinewidth": 0,
              "ticks": ""
             }
            },
            "type": "scattergl"
           }
          ],
          "scattermapbox": [
           {
            "marker": {
             "colorbar": {
              "outlinewidth": 0,
              "ticks": ""
             }
            },
            "type": "scattermapbox"
           }
          ],
          "scatterpolar": [
           {
            "marker": {
             "colorbar": {
              "outlinewidth": 0,
              "ticks": ""
             }
            },
            "type": "scatterpolar"
           }
          ],
          "scatterpolargl": [
           {
            "marker": {
             "colorbar": {
              "outlinewidth": 0,
              "ticks": ""
             }
            },
            "type": "scatterpolargl"
           }
          ],
          "scatterternary": [
           {
            "marker": {
             "colorbar": {
              "outlinewidth": 0,
              "ticks": ""
             }
            },
            "type": "scatterternary"
           }
          ],
          "surface": [
           {
            "colorbar": {
             "outlinewidth": 0,
             "ticks": ""
            },
            "colorscale": [
             [
              0,
              "#0d0887"
             ],
             [
              0.1111111111111111,
              "#46039f"
             ],
             [
              0.2222222222222222,
              "#7201a8"
             ],
             [
              0.3333333333333333,
              "#9c179e"
             ],
             [
              0.4444444444444444,
              "#bd3786"
             ],
             [
              0.5555555555555556,
              "#d8576b"
             ],
             [
              0.6666666666666666,
              "#ed7953"
             ],
             [
              0.7777777777777778,
              "#fb9f3a"
             ],
             [
              0.8888888888888888,
              "#fdca26"
             ],
             [
              1,
              "#f0f921"
             ]
            ],
            "type": "surface"
           }
          ],
          "table": [
           {
            "cells": {
             "fill": {
              "color": "#EBF0F8"
             },
             "line": {
              "color": "white"
             }
            },
            "header": {
             "fill": {
              "color": "#C8D4E3"
             },
             "line": {
              "color": "white"
             }
            },
            "type": "table"
           }
          ]
         },
         "layout": {
          "annotationdefaults": {
           "arrowcolor": "#2a3f5f",
           "arrowhead": 0,
           "arrowwidth": 1
          },
          "autotypenumbers": "strict",
          "coloraxis": {
           "colorbar": {
            "outlinewidth": 0,
            "ticks": ""
           }
          },
          "colorscale": {
           "diverging": [
            [
             0,
             "#8e0152"
            ],
            [
             0.1,
             "#c51b7d"
            ],
            [
             0.2,
             "#de77ae"
            ],
            [
             0.3,
             "#f1b6da"
            ],
            [
             0.4,
             "#fde0ef"
            ],
            [
             0.5,
             "#f7f7f7"
            ],
            [
             0.6,
             "#e6f5d0"
            ],
            [
             0.7,
             "#b8e186"
            ],
            [
             0.8,
             "#7fbc41"
            ],
            [
             0.9,
             "#4d9221"
            ],
            [
             1,
             "#276419"
            ]
           ],
           "sequential": [
            [
             0,
             "#0d0887"
            ],
            [
             0.1111111111111111,
             "#46039f"
            ],
            [
             0.2222222222222222,
             "#7201a8"
            ],
            [
             0.3333333333333333,
             "#9c179e"
            ],
            [
             0.4444444444444444,
             "#bd3786"
            ],
            [
             0.5555555555555556,
             "#d8576b"
            ],
            [
             0.6666666666666666,
             "#ed7953"
            ],
            [
             0.7777777777777778,
             "#fb9f3a"
            ],
            [
             0.8888888888888888,
             "#fdca26"
            ],
            [
             1,
             "#f0f921"
            ]
           ],
           "sequentialminus": [
            [
             0,
             "#0d0887"
            ],
            [
             0.1111111111111111,
             "#46039f"
            ],
            [
             0.2222222222222222,
             "#7201a8"
            ],
            [
             0.3333333333333333,
             "#9c179e"
            ],
            [
             0.4444444444444444,
             "#bd3786"
            ],
            [
             0.5555555555555556,
             "#d8576b"
            ],
            [
             0.6666666666666666,
             "#ed7953"
            ],
            [
             0.7777777777777778,
             "#fb9f3a"
            ],
            [
             0.8888888888888888,
             "#fdca26"
            ],
            [
             1,
             "#f0f921"
            ]
           ]
          },
          "colorway": [
           "#636efa",
           "#EF553B",
           "#00cc96",
           "#ab63fa",
           "#FFA15A",
           "#19d3f3",
           "#FF6692",
           "#B6E880",
           "#FF97FF",
           "#FECB52"
          ],
          "font": {
           "color": "#2a3f5f"
          },
          "geo": {
           "bgcolor": "white",
           "lakecolor": "white",
           "landcolor": "#E5ECF6",
           "showlakes": true,
           "showland": true,
           "subunitcolor": "white"
          },
          "hoverlabel": {
           "align": "left"
          },
          "hovermode": "closest",
          "mapbox": {
           "style": "light"
          },
          "paper_bgcolor": "white",
          "plot_bgcolor": "#E5ECF6",
          "polar": {
           "angularaxis": {
            "gridcolor": "white",
            "linecolor": "white",
            "ticks": ""
           },
           "bgcolor": "#E5ECF6",
           "radialaxis": {
            "gridcolor": "white",
            "linecolor": "white",
            "ticks": ""
           }
          },
          "scene": {
           "xaxis": {
            "backgroundcolor": "#E5ECF6",
            "gridcolor": "white",
            "gridwidth": 2,
            "linecolor": "white",
            "showbackground": true,
            "ticks": "",
            "zerolinecolor": "white"
           },
           "yaxis": {
            "backgroundcolor": "#E5ECF6",
            "gridcolor": "white",
            "gridwidth": 2,
            "linecolor": "white",
            "showbackground": true,
            "ticks": "",
            "zerolinecolor": "white"
           },
           "zaxis": {
            "backgroundcolor": "#E5ECF6",
            "gridcolor": "white",
            "gridwidth": 2,
            "linecolor": "white",
            "showbackground": true,
            "ticks": "",
            "zerolinecolor": "white"
           }
          },
          "shapedefaults": {
           "line": {
            "color": "#2a3f5f"
           }
          },
          "ternary": {
           "aaxis": {
            "gridcolor": "white",
            "linecolor": "white",
            "ticks": ""
           },
           "baxis": {
            "gridcolor": "white",
            "linecolor": "white",
            "ticks": ""
           },
           "bgcolor": "#E5ECF6",
           "caxis": {
            "gridcolor": "white",
            "linecolor": "white",
            "ticks": ""
           }
          },
          "title": {
           "x": 0.05
          },
          "xaxis": {
           "automargin": true,
           "gridcolor": "white",
           "linecolor": "white",
           "ticks": "",
           "title": {
            "standoff": 15
           },
           "zerolinecolor": "white",
           "zerolinewidth": 2
          },
          "yaxis": {
           "automargin": true,
           "gridcolor": "white",
           "linecolor": "white",
           "ticks": "",
           "title": {
            "standoff": 15
           },
           "zerolinecolor": "white",
           "zerolinewidth": 2
          }
         }
        },
        "xaxis": {
         "autorange": true,
         "range": [
          0.47981884057971014,
          1.0301811594202899
         ],
         "title": {
          "text": "mean_precisions_rounded"
         },
         "type": "linear"
        },
        "yaxis": {
         "autorange": true,
         "range": [
          58.7808855174782,
          2946.575894682524
         ],
         "title": {
          "text": "import_time"
         },
         "type": "linear"
        }
       }
      },
      "image/png": "[encoded data removed]",
      "text/html": [
       "<div>                            <div id=\"ac993447-6dcb-46d2-9a5e-014ce7e82d6a\" class=\"plotly-graph-div\" style=\"height:525px; width:100%;\"></div>            <script type=\"text/javascript\">                require([\"plotly\"], function(Plotly) {                    window.PLOTLYENV=window.PLOTLYENV || {};                                    if (document.getElementById(\"ac993447-6dcb-46d2-9a5e-014ce7e82d6a\")) {                    Plotly.newPlot(                        \"ac993447-6dcb-46d2-9a5e-014ce7e82d6a\",                        [{\"hoverinfo\":\"text\",\"hovertext\":[\"qdrant-m-16-ef-128-parallel-100-ef-search-128\",\"qdrant-m-16-ef-128-parallel-100-ef-search-256\",\"qdrant-m-16-ef-128-parallel-100-ef-search-512\",\"qdrant-m-32-ef-128-parallel-100-ef-search-128\",\"qdrant-m-32-ef-128-parallel-100-ef-search-256\",\"qdrant-m-32-ef-128-parallel-100-ef-search-512\",\"qdrant-m-32-ef-256-parallel-100-ef-search-128\",\"qdrant-m-32-ef-256-parallel-100-ef-search-256\",\"qdrant-m-32-ef-256-parallel-100-ef-search-512\",\"qdrant-m-32-ef-512-parallel-100-ef-search-128\",\"qdrant-m-32-ef-512-parallel-100-ef-search-256\",\"qdrant-m-32-ef-512-parallel-100-ef-search-512\",\"qdrant-m-64-ef-256-parallel-100-ef-search-128\",\"qdrant-m-64-ef-256-parallel-100-ef-search-256\",\"qdrant-m-64-ef-256-parallel-100-ef-search-512\",\"qdrant-m-64-ef-512-parallel-100-ef-search-128\",\"qdrant-m-64-ef-512-parallel-100-ef-search-256\",\"qdrant-m-64-ef-512-parallel-100-ef-search-512\"],\"marker\":{\"color\":\"purple\"},\"mode\":\"markers\",\"name\":\"qdrant\",\"x\":[0.7,0.82,0.9,0.87,0.94,0.98,0.9,0.96,0.99,0.91,0.97,0.99,0.96,0.99,1.0,0.97,1.0,1.0],\"y\":[263.3330320000023,263.3330320000023,263.3330320000023,370.8384505999966,370.8384505999966,370.8384505999966,580.9446205999993,580.9446205999993,580.9446205999993,897.4908006000005,897.4908006000005,897.4908006000005,692.2395522000006,692.2395522000006,692.2395522000006,1107.2093948000002,1107.2093948000002,1107.2093948000002],\"type\":\"scatter\"},{\"hoverinfo\":\"text\",\"hovertext\":[\"milvus-m-16-ef-128-parallel-100-ef-search-128\",\"milvus-m-16-ef-128-parallel-100-ef-search-256\",\"milvus-m-16-ef-128-parallel-100-ef-search-512\",\"milvus-m-32-ef-128-parallel-100-ef-search-128\",\"milvus-m-32-ef-128-parallel-100-ef-search-256\",\"milvus-m-32-ef-128-parallel-100-ef-search-512\",\"milvus-m-32-ef-256-parallel-100-ef-search-128\",\"milvus-m-32-ef-256-parallel-100-ef-search-256\",\"milvus-m-32-ef-256-parallel-100-ef-search-512\",\"milvus-m-32-ef-512-parallel-100-ef-search-128\",\"milvus-m-32-ef-512-parallel-100-ef-search-256\",\"milvus-m-32-ef-512-parallel-100-ef-search-512\",\"milvus-m-64-ef-256-parallel-100-ef-search-128\",\"milvus-m-64-ef-256-parallel-100-ef-search-256\",\"milvus-m-64-ef-256-parallel-100-ef-search-512\",\"milvus-m-64-ef-512-parallel-100-ef-search-128\",\"milvus-m-64-ef-512-parallel-100-ef-search-256\",\"milvus-m-64-ef-512-parallel-100-ef-search-512\"],\"marker\":{\"color\":\"skyblue\"},\"mode\":\"markers\",\"name\":\"milvus\",\"x\":[0.51,0.6,0.7,0.81,0.89,0.95,0.85,0.92,0.96,0.85,0.9,0.94,0.86,0.94,0.98,0.95,0.98,0.99],\"y\":[389.3290471,389.3290471,389.3290471,471.3394108000002,471.3394108000002,471.3394108000002,691.4830617999996,691.4830617999996,691.4830617999996,1839.4753583,1839.4753583,1839.4753583,1779.1359849,1779.1359849,1779.1359849,2742.0237481999998,2742.0237481999998,2742.0237481999998],\"type\":\"scatter\"}],                        {\"template\":{\"data\":{\"histogram2dcontour\":[{\"type\":\"histogram2dcontour\",\"colorbar\":{\"outlinewidth\":0,\"ticks\":\"\"},\"colorscale\":[[0.0,\"#0d0887\"],[0.1111111111111111,\"#46039f\"],[0.2222222222222222,\"#7201a8\"],[0.3333333333333333,\"#9c179e\"],[0.4444444444444444,\"#bd3786\"],[0.5555555555555556,\"#d8576b\"],[0.6666666666666666,\"#ed7953\"],[0.7777777777777778,\"#fb9f3a\"],[0.8888888888888888,\"#fdca26\"],[1.0,\"#f0f921\"]]}],\"choropleth\":[{\"type\":\"choropleth\",\"colorbar\":{\"outlinewidth\":0,\"ticks\":\"\"}}],\"histogram2d\":[{\"type\":\"histogram2d\",\"colorbar\":{\"outlinewidth\":0,\"ticks\":\"\"},\"colorscale\":[[0.0,\"#0d0887\"],[0.1111111111111111,\"#46039f\"],[0.2222222222222222,\"#7201a8\"],[0.3333333333333333,\"#9c179e\"],[0.4444444444444444,\"#bd3786\"],[0.5555555555555556,\"#d8576b\"],[0.6666666666666666,\"#ed7953\"],[0.7777777777777778,\"#fb9f3a\"],[0.8888888888888888,\"#fdca26\"],[1.0,\"#f0f921\"]]}],\"heatmap\":[{\"type\":\"heatmap\",\"colorbar\":{\"outlinewidth\":0,\"ticks\":\"\"},\"colorscale\":[[0.0,\"#0d0887\"],[0.1111111111111111,\"#46039f\"],[0.2222222222222222,\"#7201a8\"],[0.3333333333333333,\"#9c179e\"],[0.4444444444444444,\"#bd3786\"],[0.5555555555555556,\"#d8576b\"],[0.6666666666666666,\"#ed7953\"],[0.7777777777777778,\"#fb9f3a\"],[0.8888888888888888,\"#fdca26\"],[1.0,\"#f0f921\"]]}],\"heatmapgl\":[{\"type\":\"heatmapgl\",\"colorbar\":{\"outlinewidth\":0,\"ticks\":\"\"},\"colorscale\":[[0.0,\"#0d0887\"],[0.1111111111111111,\"#46039f\"],[0.2222222222222222,\"#7201a8\"],[0.3333333333333333,\"#9c179e\"],[0.4444444444444444,\"#bd3786\"],[0.5555555555555556,\"#d8576b\"],[0.6666666666666666,\"#ed7953\"],[0.7777777777777778,\"#fb9f3a\"],[0.8888888888888888,\"#fdca26\"],[1.0,\"#f0f921\"]]}],\"contourcarpet\":[{\"type\":\"contourcarpet\",\"colorbar\":{\"outlinewidth\":0,\"ticks\":\"\"}}],\"contour\":[{\"type\":\"contour\",\"colorbar\":{\"outlinewidth\":0,\"ticks\":\"\"},\"colorscale\":[[0.0,\"#0d0887\"],[0.1111111111111111,\"#46039f\"],[0.2222222222222222,\"#7201a8\"],[0.3333333333333333,\"#9c179e\"],[0.4444444444444444,\"#bd3786\"],[0.5555555555555556,\"#d8576b\"],[0.6666666666666666,\"#ed7953\"],[0.7777777777777778,\"#fb9f3a\"],[0.8888888888888888,\"#fdca26\"],[1.0,\"#f0f921\"]]}],\"surface\":[{\"type\":\"surface\",\"colorbar\":{\"outlinewidth\":0,\"ticks\":\"\"},\"colorscale\":[[0.0,\"#0d0887\"],[0.1111111111111111,\"#46039f\"],[0.2222222222222222,\"#7201a8\"],[0.3333333333333333,\"#9c179e\"],[0.4444444444444444,\"#bd3786\"],[0.5555555555555556,\"#d8576b\"],[0.6666666666666666,\"#ed7953\"],[0.7777777777777778,\"#fb9f3a\"],[0.8888888888888888,\"#fdca26\"],[1.0,\"#f0f921\"]]}],\"mesh3d\":[{\"type\":\"mesh3d\",\"colorbar\":{\"outlinewidth\":0,\"ticks\":\"\"}}],\"scatter\":[{\"fillpattern\":{\"fillmode\":\"overlay\",\"size\":10,\"solidity\":0.2},\"type\":\"scatter\"}],\"parcoords\":[{\"type\":\"parcoords\",\"line\":{\"colorbar\":{\"outlinewidth\":0,\"ticks\":\"\"}}}],\"scatterpolargl\":[{\"type\":\"scatterpolargl\",\"marker\":{\"colorbar\":{\"outlinewidth\":0,\"ticks\":\"\"}}}],\"bar\":[{\"error_x\":{\"color\":\"#2a3f5f\"},\"error_y\":{\"color\":\"#2a3f5f\"},\"marker\":{\"line\":{\"color\":\"#E5ECF6\",\"width\":0.5},\"pattern\":{\"fillmode\":\"overlay\",\"size\":10,\"solidity\":0.2}},\"type\":\"bar\"}],\"scattergeo\":[{\"type\":\"scattergeo\",\"marker\":{\"colorbar\":{\"outlinewidth\":0,\"ticks\":\"\"}}}],\"scatterpolar\":[{\"type\":\"scatterpolar\",\"marker\":{\"colorbar\":{\"outlinewidth\":0,\"ticks\":\"\"}}}],\"histogram\":[{\"marker\":{\"pattern\":{\"fillmode\":\"overlay\",\"size\":10,\"solidity\":0.2}},\"type\":\"histogram\"}],\"scattergl\":[{\"type\":\"scattergl\",\"marker\":{\"colorbar\":{\"outlinewidth\":0,\"ticks\":\"\"}}}],\"scatter3d\":[{\"type\":\"scatter3d\",\"line\":{\"colorbar\":{\"outlinewidth\":0,\"ticks\":\"\"}},\"marker\":{\"colorbar\":{\"outlinewidth\":0,\"ticks\":\"\"}}}],\"scattermapbox\":[{\"type\":\"scattermapbox\",\"marker\":{\"colorbar\":{\"outlinewidth\":0,\"ticks\":\"\"}}}],\"scatterternary\":[{\"type\":\"scatterternary\",\"marker\":{\"colorbar\":{\"outlinewidth\":0,\"ticks\":\"\"}}}],\"scattercarpet\":[{\"type\":\"scattercarpet\",\"marker\":{\"colorbar\":{\"outlinewidth\":0,\"ticks\":\"\"}}}],\"carpet\":[{\"aaxis\":{\"endlinecolor\":\"#2a3f5f\",\"gridcolor\":\"white\",\"linecolor\":\"white\",\"minorgridcolor\":\"white\",\"startlinecolor\":\"#2a3f5f\"},\"baxis\":{\"endlinecolor\":\"#2a3f5f\",\"gridcolor\":\"white\",\"linecolor\":\"white\",\"minorgridcolor\":\"white\",\"startlinecolor\":\"#2a3f5f\"},\"type\":\"carpet\"}],\"table\":[{\"cells\":{\"fill\":{\"color\":\"#EBF0F8\"},\"line\":{\"color\":\"white\"}},\"header\":{\"fill\":{\"color\":\"#C8D4E3\"},\"line\":{\"color\":\"white\"}},\"type\":\"table\"}],\"barpolar\":[{\"marker\":{\"line\":{\"color\":\"#E5ECF6\",\"width\":0.5},\"pattern\":{\"fillmode\":\"overlay\",\"size\":10,\"solidity\":0.2}},\"type\":\"barpolar\"}],\"pie\":[{\"automargin\":true,\"type\":\"pie\"}]},\"layout\":{\"autotypenumbers\":\"strict\",\"colorway\":[\"#636efa\",\"#EF553B\",\"#00cc96\",\"#ab63fa\",\"#FFA15A\",\"#19d3f3\",\"#FF6692\",\"#B6E880\",\"#FF97FF\",\"#FECB52\"],\"font\":{\"color\":\"#2a3f5f\"},\"hovermode\":\"closest\",\"hoverlabel\":{\"align\":\"left\"},\"paper_bgcolor\":\"white\",\"plot_bgcolor\":\"#E5ECF6\",\"polar\":{\"bgcolor\":\"#E5ECF6\",\"angularaxis\":{\"gridcolor\":\"white\",\"linecolor\":\"white\",\"ticks\":\"\"},\"radialaxis\":{\"gridcolor\":\"white\",\"linecolor\":\"white\",\"ticks\":\"\"}},\"ternary\":{\"bgcolor\":\"#E5ECF6\",\"aaxis\":{\"gridcolor\":\"white\",\"linecolor\":\"white\",\"ticks\":\"\"},\"baxis\":{\"gridcolor\":\"white\",\"linecolor\":\"white\",\"ticks\":\"\"},\"caxis\":{\"gridcolor\":\"white\",\"linecolor\":\"white\",\"ticks\":\"\"}},\"coloraxis\":{\"colorbar\":{\"outlinewidth\":0,\"ticks\":\"\"}},\"colorscale\":{\"sequential\":[[0.0,\"#0d0887\"],[0.1111111111111111,\"#46039f\"],[0.2222222222222222,\"#7201a8\"],[0.3333333333333333,\"#9c179e\"],[0.4444444444444444,\"#bd3786\"],[0.5555555555555556,\"#d8576b\"],[0.6666666666666666,\"#ed7953\"],[0.7777777777777778,\"#fb9f3a\"],[0.8888888888888888,\"#fdca26\"],[1.0,\"#f0f921\"]],\"sequentialminus\":[[0.0,\"#0d0887\"],[0.1111111111111111,\"#46039f\"],[0.2222222222222222,\"#7201a8\"],[0.3333333333333333,\"#9c179e\"],[0.4444444444444444,\"#bd3786\"],[0.5555555555555556,\"#d8576b\"],[0.6666666666666666,\"#ed7953\"],[0.7777777777777778,\"#fb9f3a\"],[0.8888888888888888,\"#fdca26\"],[1.0,\"#f0f921\"]],\"diverging\":[[0,\"#8e0152\"],[0.1,\"#c51b7d\"],[0.2,\"#de77ae\"],[0.3,\"#f1b6da\"],[0.4,\"#fde0ef\"],[0.5,\"#f7f7f7\"],[0.6,\"#e6f5d0\"],[0.7,\"#b8e186\"],[0.8,\"#7fbc41\"],[0.9,\"#4d9221\"],[1,\"#276419\"]]},\"xaxis\":{\"gridcolor\":\"white\",\"linecolor\":\"white\",\"ticks\":\"\",\"title\":{\"standoff\":15},\"zerolinecolor\":\"white\",\"automargin\":true,\"zerolinewidth\":2},\"yaxis\":{\"gridcolor\":\"white\",\"linecolor\":\"white\",\"ticks\":\"\",\"title\":{\"standoff\":15},\"zerolinecolor\":\"white\",\"automargin\":true,\"zerolinewidth\":2},\"scene\":{\"xaxis\":{\"backgroundcolor\":\"#E5ECF6\",\"gridcolor\":\"white\",\"linecolor\":\"white\",\"showbackground\":true,\"ticks\":\"\",\"zerolinecolor\":\"white\",\"gridwidth\":2},\"yaxis\":{\"backgroundcolor\":\"#E5ECF6\",\"gridcolor\":\"white\",\"linecolor\":\"white\",\"showbackground\":true,\"ticks\":\"\",\"zerolinecolor\":\"white\",\"gridwidth\":2},\"zaxis\":{\"backgroundcolor\":\"#E5ECF6\",\"gridcolor\":\"white\",\"linecolor\":\"white\",\"showbackground\":true,\"ticks\":\"\",\"zerolinecolor\":\"white\",\"gridwidth\":2}},\"shapedefaults\":{\"line\":{\"color\":\"#2a3f5f\"}},\"annotationdefaults\":{\"arrowcolor\":\"#2a3f5f\",\"arrowhead\":0,\"arrowwidth\":1},\"geo\":{\"bgcolor\":\"white\",\"landcolor\":\"#E5ECF6\",\"subunitcolor\":\"white\",\"showland\":true,\"showlakes\":true,\"lakecolor\":\"white\"},\"title\":{\"x\":0.05},\"mapbox\":{\"style\":\"light\"}}},\"xaxis\":{\"title\":{\"text\":\"mean_precisions_rounded\"}},\"yaxis\":{\"title\":{\"text\":\"import_time\"}},\"legend\":{\"title\":{\"text\":\"Database\"}}},                        {\"responsive\": true}                    ).then(function(){\n",
       "                            \n",
       "var gd = document.getElementById('ac993447-6dcb-46d2-9a5e-014ce7e82d6a');\n",
       "var x = new MutationObserver(function (mutations, observer) {{\n",
       "        var display = window.getComputedStyle(gd).display;\n",
       "        if (!display || display === 'none') {{\n",
       "            console.log([gd, 'removed!']);\n",
       "            Plotly.purge(gd);\n",
       "            observer.disconnect();\n",
       "        }}\n",
       "}});\n",
       "\n",
       "// Listen for the removal of the full notebook cells\n",
       "var notebookContainer = gd.closest('#notebook-container');\n",
       "if (notebookContainer) {{\n",
       "    x.observe(notebookContainer, {childList: true});\n",
       "}}\n",
       "\n",
       "// Listen for the clearing of the current output cell\n",
       "var outputEl = gd.closest('.output');\n",
       "if (outputEl) {{\n",
       "    x.observe(outputEl, {childList: true});\n",
       "}}\n",
       "\n",
       "                        })                };                });            </script>        </div>"
      ]
     },
     "metadata": {},
     "output_type": "display_data"
    },
    {
     "name": "stdout",
     "output_type": "stream",
     "text": [
      "\n",
      "\n",
      "****************************************************************************************************\n",
      "***************************** Dataset: h-and-m-2048-angular-no-filters *****************************\n",
      "****************************************************************************************************\n",
      "\n",
      "\n",
      "*************************************** search parallel 100 ***************************************\n",
      "\n"
     ]
    },
    {
     "data": {
      "application/vnd.plotly.v1+json": {
       "config": {
        "plotlyServerURL": "https://plot.ly"
       },
       "data": [
        {
         "hoverinfo": "text",
         "hovertext": [
          "qdrant-m-16-ef-128-parallel-100-ef-search-128",
          "qdrant-m-16-ef-128-parallel-100-ef-search-256",
          "qdrant-m-16-ef-128-parallel-100-ef-search-512",
          "qdrant-m-32-ef-128-parallel-100-ef-search-128",
          "qdrant-m-32-ef-128-parallel-100-ef-search-256",
          "qdrant-m-32-ef-128-parallel-100-ef-search-512",
          "qdrant-m-32-ef-256-parallel-100-ef-search-128",
          "qdrant-m-32-ef-256-parallel-100-ef-search-256",
          "qdrant-m-32-ef-256-parallel-100-ef-search-512",
          "qdrant-m-32-ef-512-parallel-100-ef-search-128",
          "qdrant-m-32-ef-512-parallel-100-ef-search-256",
          "qdrant-m-32-ef-512-parallel-100-ef-search-512",
          "qdrant-m-64-ef-256-parallel-100-ef-search-128",
          "qdrant-m-64-ef-256-parallel-100-ef-search-256",
          "qdrant-m-64-ef-256-parallel-100-ef-search-512",
          "qdrant-m-64-ef-512-parallel-100-ef-search-128",
          "qdrant-m-64-ef-512-parallel-100-ef-search-256",
          "qdrant-m-64-ef-512-parallel-100-ef-search-512"
         ],
         "marker": {
          "color": "purple"
         },
         "mode": "markers",
         "name": "qdrant",
         "type": "scatter",
         "x": [
          1,
          1,
          1,
          1,
          1,
          1,
          1,
          1,
          1,
          1,
          1,
          1,
          1,
          1,
          1,
          1,
          1,
          1
         ],
         "y": [
          58.38691299999482,
          58.38691299999482,
          58.38691299999482,
          73.38663269999961,
          73.38663269999961,
          73.38663269999961,
          88.39466760000505,
          88.39466760000505,
          88.39466760000505,
          124.71325780000188,
          124.71325780000188,
          124.71325780000188,
          88.79180029999407,
          88.79180029999407,
          88.79180029999407,
          119.89438630000222,
          119.89438630000222,
          119.89438630000222
         ]
        },
        {
         "hoverinfo": "text",
         "hovertext": [
          "milvus-m-16-ef-128-parallel-100-ef-search-128",
          "milvus-m-16-ef-128-parallel-100-ef-search-256",
          "milvus-m-16-ef-128-parallel-100-ef-search-512",
          "milvus-m-32-ef-128-parallel-100-ef-search-128",
          "milvus-m-32-ef-128-parallel-100-ef-search-256",
          "milvus-m-32-ef-128-parallel-100-ef-search-512",
          "milvus-m-32-ef-256-parallel-100-ef-search-128",
          "milvus-m-32-ef-256-parallel-100-ef-search-256",
          "milvus-m-32-ef-256-parallel-100-ef-search-512",
          "milvus-m-32-ef-512-parallel-100-ef-search-128",
          "milvus-m-32-ef-512-parallel-100-ef-search-256",
          "milvus-m-32-ef-512-parallel-100-ef-search-512",
          "milvus-m-64-ef-256-parallel-100-ef-search-128",
          "milvus-m-64-ef-256-parallel-100-ef-search-256",
          "milvus-m-64-ef-256-parallel-100-ef-search-512",
          "milvus-m-64-ef-512-parallel-100-ef-search-128",
          "milvus-m-64-ef-512-parallel-100-ef-search-256",
          "milvus-m-64-ef-512-parallel-100-ef-search-512"
         ],
         "marker": {
          "color": "skyblue"
         },
         "mode": "markers",
         "name": "milvus",
         "type": "scatter",
         "x": [
          1,
          1,
          1,
          1,
          1,
          1,
          1,
          1,
          1,
          1,
          1,
          1,
          1,
          1,
          1,
          1,
          1,
          1
         ],
         "y": [
          77.015230099998,
          77.015230099998,
          77.015230099998,
          83.18705000000045,
          83.18705000000045,
          83.18705000000045,
          108.81630600000062,
          108.81630600000062,
          108.81630600000062,
          148.82683449999604,
          148.82683449999604,
          148.82683449999604,
          114.75091149999936,
          114.75091149999936,
          114.75091149999936,
          293.6211362000031,
          293.6211362000031,
          293.6211362000031
         ]
        }
       ],
       "layout": {
        "autosize": true,
        "legend": {
         "title": {
          "text": "Database"
         }
        },
        "template": {
         "data": {
          "bar": [
           {
            "error_x": {
             "color": "#2a3f5f"
            },
            "error_y": {
             "color": "#2a3f5f"
            },
            "marker": {
             "line": {
              "color": "#E5ECF6",
              "width": 0.5
             },
             "pattern": {
              "fillmode": "overlay",
              "size": 10,
              "solidity": 0.2
             }
            },
            "type": "bar"
           }
          ],
          "barpolar": [
           {
            "marker": {
             "line": {
              "color": "#E5ECF6",
              "width": 0.5
             },
             "pattern": {
              "fillmode": "overlay",
              "size": 10,
              "solidity": 0.2
             }
            },
            "type": "barpolar"
           }
          ],
          "carpet": [
           {
            "aaxis": {
             "endlinecolor": "#2a3f5f",
             "gridcolor": "white",
             "linecolor": "white",
             "minorgridcolor": "white",
             "startlinecolor": "#2a3f5f"
            },
            "baxis": {
             "endlinecolor": "#2a3f5f",
             "gridcolor": "white",
             "linecolor": "white",
             "minorgridcolor": "white",
             "startlinecolor": "#2a3f5f"
            },
            "type": "carpet"
           }
          ],
          "choropleth": [
           {
            "colorbar": {
             "outlinewidth": 0,
             "ticks": ""
            },
            "type": "choropleth"
           }
          ],
          "contour": [
           {
            "colorbar": {
             "outlinewidth": 0,
             "ticks": ""
            },
            "colorscale": [
             [
              0,
              "#0d0887"
             ],
             [
              0.1111111111111111,
              "#46039f"
             ],
             [
              0.2222222222222222,
              "#7201a8"
             ],
             [
              0.3333333333333333,
              "#9c179e"
             ],
             [
              0.4444444444444444,
              "#bd3786"
             ],
             [
              0.5555555555555556,
              "#d8576b"
             ],
             [
              0.6666666666666666,
              "#ed7953"
             ],
             [
              0.7777777777777778,
              "#fb9f3a"
             ],
             [
              0.8888888888888888,
              "#fdca26"
             ],
             [
              1,
              "#f0f921"
             ]
            ],
            "type": "contour"
           }
          ],
          "contourcarpet": [
           {
            "colorbar": {
             "outlinewidth": 0,
             "ticks": ""
            },
            "type": "contourcarpet"
           }
          ],
          "heatmap": [
           {
            "colorbar": {
             "outlinewidth": 0,
             "ticks": ""
            },
            "colorscale": [
             [
              0,
              "#0d0887"
             ],
             [
              0.1111111111111111,
              "#46039f"
             ],
             [
              0.2222222222222222,
              "#7201a8"
             ],
             [
              0.3333333333333333,
              "#9c179e"
             ],
             [
              0.4444444444444444,
              "#bd3786"
             ],
             [
              0.5555555555555556,
              "#d8576b"
             ],
             [
              0.6666666666666666,
              "#ed7953"
             ],
             [
              0.7777777777777778,
              "#fb9f3a"
             ],
             [
              0.8888888888888888,
              "#fdca26"
             ],
             [
              1,
              "#f0f921"
             ]
            ],
            "type": "heatmap"
           }
          ],
          "heatmapgl": [
           {
            "colorbar": {
             "outlinewidth": 0,
             "ticks": ""
            },
            "colorscale": [
             [
              0,
              "#0d0887"
             ],
             [
              0.1111111111111111,
              "#46039f"
             ],
             [
              0.2222222222222222,
              "#7201a8"
             ],
             [
              0.3333333333333333,
              "#9c179e"
             ],
             [
              0.4444444444444444,
              "#bd3786"
             ],
             [
              0.5555555555555556,
              "#d8576b"
             ],
             [
              0.6666666666666666,
              "#ed7953"
             ],
             [
              0.7777777777777778,
              "#fb9f3a"
             ],
             [
              0.8888888888888888,
              "#fdca26"
             ],
             [
              1,
              "#f0f921"
             ]
            ],
            "type": "heatmapgl"
           }
          ],
          "histogram": [
           {
            "marker": {
             "pattern": {
              "fillmode": "overlay",
              "size": 10,
              "solidity": 0.2
             }
            },
            "type": "histogram"
           }
          ],
          "histogram2d": [
           {
            "colorbar": {
             "outlinewidth": 0,
             "ticks": ""
            },
            "colorscale": [
             [
              0,
              "#0d0887"
             ],
             [
              0.1111111111111111,
              "#46039f"
             ],
             [
              0.2222222222222222,
              "#7201a8"
             ],
             [
              0.3333333333333333,
              "#9c179e"
             ],
             [
              0.4444444444444444,
              "#bd3786"
             ],
             [
              0.5555555555555556,
              "#d8576b"
             ],
             [
              0.6666666666666666,
              "#ed7953"
             ],
             [
              0.7777777777777778,
              "#fb9f3a"
             ],
             [
              0.8888888888888888,
              "#fdca26"
             ],
             [
              1,
              "#f0f921"
             ]
            ],
            "type": "histogram2d"
           }
          ],
          "histogram2dcontour": [
           {
            "colorbar": {
             "outlinewidth": 0,
             "ticks": ""
            },
            "colorscale": [
             [
              0,
              "#0d0887"
             ],
             [
              0.1111111111111111,
              "#46039f"
             ],
             [
              0.2222222222222222,
              "#7201a8"
             ],
             [
              0.3333333333333333,
              "#9c179e"
             ],
             [
              0.4444444444444444,
              "#bd3786"
             ],
             [
              0.5555555555555556,
              "#d8576b"
             ],
             [
              0.6666666666666666,
              "#ed7953"
             ],
             [
              0.7777777777777778,
              "#fb9f3a"
             ],
             [
              0.8888888888888888,
              "#fdca26"
             ],
             [
              1,
              "#f0f921"
             ]
            ],
            "type": "histogram2dcontour"
           }
          ],
          "mesh3d": [
           {
            "colorbar": {
             "outlinewidth": 0,
             "ticks": ""
            },
            "type": "mesh3d"
           }
          ],
          "parcoords": [
           {
            "line": {
             "colorbar": {
              "outlinewidth": 0,
              "ticks": ""
             }
            },
            "type": "parcoords"
           }
          ],
          "pie": [
           {
            "automargin": true,
            "type": "pie"
           }
          ],
          "scatter": [
           {
            "fillpattern": {
             "fillmode": "overlay",
             "size": 10,
             "solidity": 0.2
            },
            "type": "scatter"
           }
          ],
          "scatter3d": [
           {
            "line": {
             "colorbar": {
              "outlinewidth": 0,
              "ticks": ""
             }
            },
            "marker": {
             "colorbar": {
              "outlinewidth": 0,
              "ticks": ""
             }
            },
            "type": "scatter3d"
           }
          ],
          "scattercarpet": [
           {
            "marker": {
             "colorbar": {
              "outlinewidth": 0,
              "ticks": ""
             }
            },
            "type": "scattercarpet"
           }
          ],
          "scattergeo": [
           {
            "marker": {
             "colorbar": {
              "outlinewidth": 0,
              "ticks": ""
             }
            },
            "type": "scattergeo"
           }
          ],
          "scattergl": [
           {
            "marker": {
             "colorbar": {
              "outlinewidth": 0,
              "ticks": ""
             }
            },
            "type": "scattergl"
           }
          ],
          "scattermapbox": [
           {
            "marker": {
             "colorbar": {
              "outlinewidth": 0,
              "ticks": ""
             }
            },
            "type": "scattermapbox"
           }
          ],
          "scatterpolar": [
           {
            "marker": {
             "colorbar": {
              "outlinewidth": 0,
              "ticks": ""
             }
            },
            "type": "scatterpolar"
           }
          ],
          "scatterpolargl": [
           {
            "marker": {
             "colorbar": {
              "outlinewidth": 0,
              "ticks": ""
             }
            },
            "type": "scatterpolargl"
           }
          ],
          "scatterternary": [
           {
            "marker": {
             "colorbar": {
              "outlinewidth": 0,
              "ticks": ""
             }
            },
            "type": "scatterternary"
           }
          ],
          "surface": [
           {
            "colorbar": {
             "outlinewidth": 0,
             "ticks": ""
            },
            "colorscale": [
             [
              0,
              "#0d0887"
             ],
             [
              0.1111111111111111,
              "#46039f"
             ],
             [
              0.2222222222222222,
              "#7201a8"
             ],
             [
              0.3333333333333333,
              "#9c179e"
             ],
             [
              0.4444444444444444,
              "#bd3786"
             ],
             [
              0.5555555555555556,
              "#d8576b"
             ],
             [
              0.6666666666666666,
              "#ed7953"
             ],
             [
              0.7777777777777778,
              "#fb9f3a"
             ],
             [
              0.8888888888888888,
              "#fdca26"
             ],
             [
              1,
              "#f0f921"
             ]
            ],
            "type": "surface"
           }
          ],
          "table": [
           {
            "cells": {
             "fill": {
              "color": "#EBF0F8"
             },
             "line": {
              "color": "white"
             }
            },
            "header": {
             "fill": {
              "color": "#C8D4E3"
             },
             "line": {
              "color": "white"
             }
            },
            "type": "table"
           }
          ]
         },
         "layout": {
          "annotationdefaults": {
           "arrowcolor": "#2a3f5f",
           "arrowhead": 0,
           "arrowwidth": 1
          },
          "autotypenumbers": "strict",
          "coloraxis": {
           "colorbar": {
            "outlinewidth": 0,
            "ticks": ""
           }
          },
          "colorscale": {
           "diverging": [
            [
             0,
             "#8e0152"
            ],
            [
             0.1,
             "#c51b7d"
            ],
            [
             0.2,
             "#de77ae"
            ],
            [
             0.3,
             "#f1b6da"
            ],
            [
             0.4,
             "#fde0ef"
            ],
            [
             0.5,
             "#f7f7f7"
            ],
            [
             0.6,
             "#e6f5d0"
            ],
            [
             0.7,
             "#b8e186"
            ],
            [
             0.8,
             "#7fbc41"
            ],
            [
             0.9,
             "#4d9221"
            ],
            [
             1,
             "#276419"
            ]
           ],
           "sequential": [
            [
             0,
             "#0d0887"
            ],
            [
             0.1111111111111111,
             "#46039f"
            ],
            [
             0.2222222222222222,
             "#7201a8"
            ],
            [
             0.3333333333333333,
             "#9c179e"
            ],
            [
             0.4444444444444444,
             "#bd3786"
            ],
            [
             0.5555555555555556,
             "#d8576b"
            ],
            [
             0.6666666666666666,
             "#ed7953"
            ],
            [
             0.7777777777777778,
             "#fb9f3a"
            ],
            [
             0.8888888888888888,
             "#fdca26"
            ],
            [
             1,
             "#f0f921"
            ]
           ],
           "sequentialminus": [
            [
             0,
             "#0d0887"
            ],
            [
             0.1111111111111111,
             "#46039f"
            ],
            [
             0.2222222222222222,
             "#7201a8"
            ],
            [
             0.3333333333333333,
             "#9c179e"
            ],
            [
             0.4444444444444444,
             "#bd3786"
            ],
            [
             0.5555555555555556,
             "#d8576b"
            ],
            [
             0.6666666666666666,
             "#ed7953"
            ],
            [
             0.7777777777777778,
             "#fb9f3a"
            ],
            [
             0.8888888888888888,
             "#fdca26"
            ],
            [
             1,
             "#f0f921"
            ]
           ]
          },
          "colorway": [
           "#636efa",
           "#EF553B",
           "#00cc96",
           "#ab63fa",
           "#FFA15A",
           "#19d3f3",
           "#FF6692",
           "#B6E880",
           "#FF97FF",
           "#FECB52"
          ],
          "font": {
           "color": "#2a3f5f"
          },
          "geo": {
           "bgcolor": "white",
           "lakecolor": "white",
           "landcolor": "#E5ECF6",
           "showlakes": true,
           "showland": true,
           "subunitcolor": "white"
          },
          "hoverlabel": {
           "align": "left"
          },
          "hovermode": "closest",
          "mapbox": {
           "style": "light"
          },
          "paper_bgcolor": "white",
          "plot_bgcolor": "#E5ECF6",
          "polar": {
           "angularaxis": {
            "gridcolor": "white",
            "linecolor": "white",
            "ticks": ""
           },
           "bgcolor": "#E5ECF6",
           "radialaxis": {
            "gridcolor": "white",
            "linecolor": "white",
            "ticks": ""
           }
          },
          "scene": {
           "xaxis": {
            "backgroundcolor": "#E5ECF6",
            "gridcolor": "white",
            "gridwidth": 2,
            "linecolor": "white",
            "showbackground": true,
            "ticks": "",
            "zerolinecolor": "white"
           },
           "yaxis": {
            "backgroundcolor": "#E5ECF6",
            "gridcolor": "white",
            "gridwidth": 2,
            "linecolor": "white",
            "showbackground": true,
            "ticks": "",
            "zerolinecolor": "white"
           },
           "zaxis": {
            "backgroundcolor": "#E5ECF6",
            "gridcolor": "white",
            "gridwidth": 2,
            "linecolor": "white",
            "showbackground": true,
            "ticks": "",
            "zerolinecolor": "white"
           }
          },
          "shapedefaults": {
           "line": {
            "color": "#2a3f5f"
           }
          },
          "ternary": {
           "aaxis": {
            "gridcolor": "white",
            "linecolor": "white",
            "ticks": ""
           },
           "baxis": {
            "gridcolor": "white",
            "linecolor": "white",
            "ticks": ""
           },
           "bgcolor": "#E5ECF6",
           "caxis": {
            "gridcolor": "white",
            "linecolor": "white",
            "ticks": ""
           }
          },
          "title": {
           "x": 0.05
          },
          "xaxis": {
           "automargin": true,
           "gridcolor": "white",
           "linecolor": "white",
           "ticks": "",
           "title": {
            "standoff": 15
           },
           "zerolinecolor": "white",
           "zerolinewidth": 2
          },
          "yaxis": {
           "automargin": true,
           "gridcolor": "white",
           "linecolor": "white",
           "ticks": "",
           "title": {
            "standoff": 15
           },
           "zerolinecolor": "white",
           "zerolinewidth": 2
          }
         }
        },
        "xaxis": {
         "autorange": true,
         "range": [
          0,
          2
         ],
         "title": {
          "text": "mean_precisions_rounded"
         },
         "type": "linear"
        },
        "yaxis": {
         "autorange": true,
         "range": [
          38.97438001746987,
          313.03366918252806
         ],
         "title": {
          "text": "import_time"
         },
         "type": "linear"
        }
       }
      },
      "image/png": "[encoded data removed]",
      "text/html": [
       "<div>                            <div id=\"a6e6d0e6-d71c-43c9-b701-58e2dd84a0ea\" class=\"plotly-graph-div\" style=\"height:525px; width:100%;\"></div>            <script type=\"text/javascript\">                require([\"plotly\"], function(Plotly) {                    window.PLOTLYENV=window.PLOTLYENV || {};                                    if (document.getElementById(\"a6e6d0e6-d71c-43c9-b701-58e2dd84a0ea\")) {                    Plotly.newPlot(                        \"a6e6d0e6-d71c-43c9-b701-58e2dd84a0ea\",                        [{\"hoverinfo\":\"text\",\"hovertext\":[\"qdrant-m-16-ef-128-parallel-100-ef-search-128\",\"qdrant-m-16-ef-128-parallel-100-ef-search-256\",\"qdrant-m-16-ef-128-parallel-100-ef-search-512\",\"qdrant-m-32-ef-128-parallel-100-ef-search-128\",\"qdrant-m-32-ef-128-parallel-100-ef-search-256\",\"qdrant-m-32-ef-128-parallel-100-ef-search-512\",\"qdrant-m-32-ef-256-parallel-100-ef-search-128\",\"qdrant-m-32-ef-256-parallel-100-ef-search-256\",\"qdrant-m-32-ef-256-parallel-100-ef-search-512\",\"qdrant-m-32-ef-512-parallel-100-ef-search-128\",\"qdrant-m-32-ef-512-parallel-100-ef-search-256\",\"qdrant-m-32-ef-512-parallel-100-ef-search-512\",\"qdrant-m-64-ef-256-parallel-100-ef-search-128\",\"qdrant-m-64-ef-256-parallel-100-ef-search-256\",\"qdrant-m-64-ef-256-parallel-100-ef-search-512\",\"qdrant-m-64-ef-512-parallel-100-ef-search-128\",\"qdrant-m-64-ef-512-parallel-100-ef-search-256\",\"qdrant-m-64-ef-512-parallel-100-ef-search-512\"],\"marker\":{\"color\":\"purple\"},\"mode\":\"markers\",\"name\":\"qdrant\",\"x\":[1.0,1.0,1.0,1.0,1.0,1.0,1.0,1.0,1.0,1.0,1.0,1.0,1.0,1.0,1.0,1.0,1.0,1.0],\"y\":[58.38691299999482,58.38691299999482,58.38691299999482,73.38663269999961,73.38663269999961,73.38663269999961,88.39466760000505,88.39466760000505,88.39466760000505,124.71325780000188,124.71325780000188,124.71325780000188,88.79180029999407,88.79180029999407,88.79180029999407,119.89438630000222,119.89438630000222,119.89438630000222],\"type\":\"scatter\"},{\"hoverinfo\":\"text\",\"hovertext\":[\"milvus-m-16-ef-128-parallel-100-ef-search-128\",\"milvus-m-16-ef-128-parallel-100-ef-search-256\",\"milvus-m-16-ef-128-parallel-100-ef-search-512\",\"milvus-m-32-ef-128-parallel-100-ef-search-128\",\"milvus-m-32-ef-128-parallel-100-ef-search-256\",\"milvus-m-32-ef-128-parallel-100-ef-search-512\",\"milvus-m-32-ef-256-parallel-100-ef-search-128\",\"milvus-m-32-ef-256-parallel-100-ef-search-256\",\"milvus-m-32-ef-256-parallel-100-ef-search-512\",\"milvus-m-32-ef-512-parallel-100-ef-search-128\",\"milvus-m-32-ef-512-parallel-100-ef-search-256\",\"milvus-m-32-ef-512-parallel-100-ef-search-512\",\"milvus-m-64-ef-256-parallel-100-ef-search-128\",\"milvus-m-64-ef-256-parallel-100-ef-search-256\",\"milvus-m-64-ef-256-parallel-100-ef-search-512\",\"milvus-m-64-ef-512-parallel-100-ef-search-128\",\"milvus-m-64-ef-512-parallel-100-ef-search-256\",\"milvus-m-64-ef-512-parallel-100-ef-search-512\"],\"marker\":{\"color\":\"skyblue\"},\"mode\":\"markers\",\"name\":\"milvus\",\"x\":[1.0,1.0,1.0,1.0,1.0,1.0,1.0,1.0,1.0,1.0,1.0,1.0,1.0,1.0,1.0,1.0,1.0,1.0],\"y\":[77.015230099998,77.015230099998,77.015230099998,83.18705000000045,83.18705000000045,83.18705000000045,108.81630600000062,108.81630600000062,108.81630600000062,148.82683449999604,148.82683449999604,148.82683449999604,114.75091149999936,114.75091149999936,114.75091149999936,293.6211362000031,293.6211362000031,293.6211362000031],\"type\":\"scatter\"}],                        {\"template\":{\"data\":{\"histogram2dcontour\":[{\"type\":\"histogram2dcontour\",\"colorbar\":{\"outlinewidth\":0,\"ticks\":\"\"},\"colorscale\":[[0.0,\"#0d0887\"],[0.1111111111111111,\"#46039f\"],[0.2222222222222222,\"#7201a8\"],[0.3333333333333333,\"#9c179e\"],[0.4444444444444444,\"#bd3786\"],[0.5555555555555556,\"#d8576b\"],[0.6666666666666666,\"#ed7953\"],[0.7777777777777778,\"#fb9f3a\"],[0.8888888888888888,\"#fdca26\"],[1.0,\"#f0f921\"]]}],\"choropleth\":[{\"type\":\"choropleth\",\"colorbar\":{\"outlinewidth\":0,\"ticks\":\"\"}}],\"histogram2d\":[{\"type\":\"histogram2d\",\"colorbar\":{\"outlinewidth\":0,\"ticks\":\"\"},\"colorscale\":[[0.0,\"#0d0887\"],[0.1111111111111111,\"#46039f\"],[0.2222222222222222,\"#7201a8\"],[0.3333333333333333,\"#9c179e\"],[0.4444444444444444,\"#bd3786\"],[0.5555555555555556,\"#d8576b\"],[0.6666666666666666,\"#ed7953\"],[0.7777777777777778,\"#fb9f3a\"],[0.8888888888888888,\"#fdca26\"],[1.0,\"#f0f921\"]]}],\"heatmap\":[{\"type\":\"heatmap\",\"colorbar\":{\"outlinewidth\":0,\"ticks\":\"\"},\"colorscale\":[[0.0,\"#0d0887\"],[0.1111111111111111,\"#46039f\"],[0.2222222222222222,\"#7201a8\"],[0.3333333333333333,\"#9c179e\"],[0.4444444444444444,\"#bd3786\"],[0.5555555555555556,\"#d8576b\"],[0.6666666666666666,\"#ed7953\"],[0.7777777777777778,\"#fb9f3a\"],[0.8888888888888888,\"#fdca26\"],[1.0,\"#f0f921\"]]}],\"heatmapgl\":[{\"type\":\"heatmapgl\",\"colorbar\":{\"outlinewidth\":0,\"ticks\":\"\"},\"colorscale\":[[0.0,\"#0d0887\"],[0.1111111111111111,\"#46039f\"],[0.2222222222222222,\"#7201a8\"],[0.3333333333333333,\"#9c179e\"],[0.4444444444444444,\"#bd3786\"],[0.5555555555555556,\"#d8576b\"],[0.6666666666666666,\"#ed7953\"],[0.7777777777777778,\"#fb9f3a\"],[0.8888888888888888,\"#fdca26\"],[1.0,\"#f0f921\"]]}],\"contourcarpet\":[{\"type\":\"contourcarpet\",\"colorbar\":{\"outlinewidth\":0,\"ticks\":\"\"}}],\"contour\":[{\"type\":\"contour\",\"colorbar\":{\"outlinewidth\":0,\"ticks\":\"\"},\"colorscale\":[[0.0,\"#0d0887\"],[0.1111111111111111,\"#46039f\"],[0.2222222222222222,\"#7201a8\"],[0.3333333333333333,\"#9c179e\"],[0.4444444444444444,\"#bd3786\"],[0.5555555555555556,\"#d8576b\"],[0.6666666666666666,\"#ed7953\"],[0.7777777777777778,\"#fb9f3a\"],[0.8888888888888888,\"#fdca26\"],[1.0,\"#f0f921\"]]}],\"surface\":[{\"type\":\"surface\",\"colorbar\":{\"outlinewidth\":0,\"ticks\":\"\"},\"colorscale\":[[0.0,\"#0d0887\"],[0.1111111111111111,\"#46039f\"],[0.2222222222222222,\"#7201a8\"],[0.3333333333333333,\"#9c179e\"],[0.4444444444444444,\"#bd3786\"],[0.5555555555555556,\"#d8576b\"],[0.6666666666666666,\"#ed7953\"],[0.7777777777777778,\"#fb9f3a\"],[0.8888888888888888,\"#fdca26\"],[1.0,\"#f0f921\"]]}],\"mesh3d\":[{\"type\":\"mesh3d\",\"colorbar\":{\"outlinewidth\":0,\"ticks\":\"\"}}],\"scatter\":[{\"fillpattern\":{\"fillmode\":\"overlay\",\"size\":10,\"solidity\":0.2},\"type\":\"scatter\"}],\"parcoords\":[{\"type\":\"parcoords\",\"line\":{\"colorbar\":{\"outlinewidth\":0,\"ticks\":\"\"}}}],\"scatterpolargl\":[{\"type\":\"scatterpolargl\",\"marker\":{\"colorbar\":{\"outlinewidth\":0,\"ticks\":\"\"}}}],\"bar\":[{\"error_x\":{\"color\":\"#2a3f5f\"},\"error_y\":{\"color\":\"#2a3f5f\"},\"marker\":{\"line\":{\"color\":\"#E5ECF6\",\"width\":0.5},\"pattern\":{\"fillmode\":\"overlay\",\"size\":10,\"solidity\":0.2}},\"type\":\"bar\"}],\"scattergeo\":[{\"type\":\"scattergeo\",\"marker\":{\"colorbar\":{\"outlinewidth\":0,\"ticks\":\"\"}}}],\"scatterpolar\":[{\"type\":\"scatterpolar\",\"marker\":{\"colorbar\":{\"outlinewidth\":0,\"ticks\":\"\"}}}],\"histogram\":[{\"marker\":{\"pattern\":{\"fillmode\":\"overlay\",\"size\":10,\"solidity\":0.2}},\"type\":\"histogram\"}],\"scattergl\":[{\"type\":\"scattergl\",\"marker\":{\"colorbar\":{\"outlinewidth\":0,\"ticks\":\"\"}}}],\"scatter3d\":[{\"type\":\"scatter3d\",\"line\":{\"colorbar\":{\"outlinewidth\":0,\"ticks\":\"\"}},\"marker\":{\"colorbar\":{\"outlinewidth\":0,\"ticks\":\"\"}}}],\"scattermapbox\":[{\"type\":\"scattermapbox\",\"marker\":{\"colorbar\":{\"outlinewidth\":0,\"ticks\":\"\"}}}],\"scatterternary\":[{\"type\":\"scatterternary\",\"marker\":{\"colorbar\":{\"outlinewidth\":0,\"ticks\":\"\"}}}],\"scattercarpet\":[{\"type\":\"scattercarpet\",\"marker\":{\"colorbar\":{\"outlinewidth\":0,\"ticks\":\"\"}}}],\"carpet\":[{\"aaxis\":{\"endlinecolor\":\"#2a3f5f\",\"gridcolor\":\"white\",\"linecolor\":\"white\",\"minorgridcolor\":\"white\",\"startlinecolor\":\"#2a3f5f\"},\"baxis\":{\"endlinecolor\":\"#2a3f5f\",\"gridcolor\":\"white\",\"linecolor\":\"white\",\"minorgridcolor\":\"white\",\"startlinecolor\":\"#2a3f5f\"},\"type\":\"carpet\"}],\"table\":[{\"cells\":{\"fill\":{\"color\":\"#EBF0F8\"},\"line\":{\"color\":\"white\"}},\"header\":{\"fill\":{\"color\":\"#C8D4E3\"},\"line\":{\"color\":\"white\"}},\"type\":\"table\"}],\"barpolar\":[{\"marker\":{\"line\":{\"color\":\"#E5ECF6\",\"width\":0.5},\"pattern\":{\"fillmode\":\"overlay\",\"size\":10,\"solidity\":0.2}},\"type\":\"barpolar\"}],\"pie\":[{\"automargin\":true,\"type\":\"pie\"}]},\"layout\":{\"autotypenumbers\":\"strict\",\"colorway\":[\"#636efa\",\"#EF553B\",\"#00cc96\",\"#ab63fa\",\"#FFA15A\",\"#19d3f3\",\"#FF6692\",\"#B6E880\",\"#FF97FF\",\"#FECB52\"],\"font\":{\"color\":\"#2a3f5f\"},\"hovermode\":\"closest\",\"hoverlabel\":{\"align\":\"left\"},\"paper_bgcolor\":\"white\",\"plot_bgcolor\":\"#E5ECF6\",\"polar\":{\"bgcolor\":\"#E5ECF6\",\"angularaxis\":{\"gridcolor\":\"white\",\"linecolor\":\"white\",\"ticks\":\"\"},\"radialaxis\":{\"gridcolor\":\"white\",\"linecolor\":\"white\",\"ticks\":\"\"}},\"ternary\":{\"bgcolor\":\"#E5ECF6\",\"aaxis\":{\"gridcolor\":\"white\",\"linecolor\":\"white\",\"ticks\":\"\"},\"baxis\":{\"gridcolor\":\"white\",\"linecolor\":\"white\",\"ticks\":\"\"},\"caxis\":{\"gridcolor\":\"white\",\"linecolor\":\"white\",\"ticks\":\"\"}},\"coloraxis\":{\"colorbar\":{\"outlinewidth\":0,\"ticks\":\"\"}},\"colorscale\":{\"sequential\":[[0.0,\"#0d0887\"],[0.1111111111111111,\"#46039f\"],[0.2222222222222222,\"#7201a8\"],[0.3333333333333333,\"#9c179e\"],[0.4444444444444444,\"#bd3786\"],[0.5555555555555556,\"#d8576b\"],[0.6666666666666666,\"#ed7953\"],[0.7777777777777778,\"#fb9f3a\"],[0.8888888888888888,\"#fdca26\"],[1.0,\"#f0f921\"]],\"sequentialminus\":[[0.0,\"#0d0887\"],[0.1111111111111111,\"#46039f\"],[0.2222222222222222,\"#7201a8\"],[0.3333333333333333,\"#9c179e\"],[0.4444444444444444,\"#bd3786\"],[0.5555555555555556,\"#d8576b\"],[0.6666666666666666,\"#ed7953\"],[0.7777777777777778,\"#fb9f3a\"],[0.8888888888888888,\"#fdca26\"],[1.0,\"#f0f921\"]],\"diverging\":[[0,\"#8e0152\"],[0.1,\"#c51b7d\"],[0.2,\"#de77ae\"],[0.3,\"#f1b6da\"],[0.4,\"#fde0ef\"],[0.5,\"#f7f7f7\"],[0.6,\"#e6f5d0\"],[0.7,\"#b8e186\"],[0.8,\"#7fbc41\"],[0.9,\"#4d9221\"],[1,\"#276419\"]]},\"xaxis\":{\"gridcolor\":\"white\",\"linecolor\":\"white\",\"ticks\":\"\",\"title\":{\"standoff\":15},\"zerolinecolor\":\"white\",\"automargin\":true,\"zerolinewidth\":2},\"yaxis\":{\"gridcolor\":\"white\",\"linecolor\":\"white\",\"ticks\":\"\",\"title\":{\"standoff\":15},\"zerolinecolor\":\"white\",\"automargin\":true,\"zerolinewidth\":2},\"scene\":{\"xaxis\":{\"backgroundcolor\":\"#E5ECF6\",\"gridcolor\":\"white\",\"linecolor\":\"white\",\"showbackground\":true,\"ticks\":\"\",\"zerolinecolor\":\"white\",\"gridwidth\":2},\"yaxis\":{\"backgroundcolor\":\"#E5ECF6\",\"gridcolor\":\"white\",\"linecolor\":\"white\",\"showbackground\":true,\"ticks\":\"\",\"zerolinecolor\":\"white\",\"gridwidth\":2},\"zaxis\":{\"backgroundcolor\":\"#E5ECF6\",\"gridcolor\":\"white\",\"linecolor\":\"white\",\"showbackground\":true,\"ticks\":\"\",\"zerolinecolor\":\"white\",\"gridwidth\":2}},\"shapedefaults\":{\"line\":{\"color\":\"#2a3f5f\"}},\"annotationdefaults\":{\"arrowcolor\":\"#2a3f5f\",\"arrowhead\":0,\"arrowwidth\":1},\"geo\":{\"bgcolor\":\"white\",\"landcolor\":\"#E5ECF6\",\"subunitcolor\":\"white\",\"showland\":true,\"showlakes\":true,\"lakecolor\":\"white\"},\"title\":{\"x\":0.05},\"mapbox\":{\"style\":\"light\"}}},\"xaxis\":{\"title\":{\"text\":\"mean_precisions_rounded\"}},\"yaxis\":{\"title\":{\"text\":\"import_time\"}},\"legend\":{\"title\":{\"text\":\"Database\"}}},                        {\"responsive\": true}                    ).then(function(){\n",
       "                            \n",
       "var gd = document.getElementById('a6e6d0e6-d71c-43c9-b701-58e2dd84a0ea');\n",
       "var x = new MutationObserver(function (mutations, observer) {{\n",
       "        var display = window.getComputedStyle(gd).display;\n",
       "        if (!display || display === 'none') {{\n",
       "            console.log([gd, 'removed!']);\n",
       "            Plotly.purge(gd);\n",
       "            observer.disconnect();\n",
       "        }}\n",
       "}});\n",
       "\n",
       "// Listen for the removal of the full notebook cells\n",
       "var notebookContainer = gd.closest('#notebook-container');\n",
       "if (notebookContainer) {{\n",
       "    x.observe(notebookContainer, {childList: true});\n",
       "}}\n",
       "\n",
       "// Listen for the clearing of the current output cell\n",
       "var outputEl = gd.closest('.output');\n",
       "if (outputEl) {{\n",
       "    x.observe(outputEl, {childList: true});\n",
       "}}\n",
       "\n",
       "                        })                };                });            </script>        </div>"
      ]
     },
     "metadata": {},
     "output_type": "display_data"
    },
    {
     "name": "stdout",
     "output_type": "stream",
     "text": [
      "\n",
      "\n",
      "****************************************************************************************************\n",
      "*********************************** Dataset: gist-960-euclidean ***********************************\n",
      "****************************************************************************************************\n",
      "\n",
      "\n",
      "*************************************** search parallel 100 ***************************************\n",
      "\n"
     ]
    },
    {
     "data": {
      "application/vnd.plotly.v1+json": {
       "config": {
        "plotlyServerURL": "https://plot.ly"
       },
       "data": [
        {
         "hoverinfo": "text",
         "hovertext": [
          "qdrant-m-16-ef-128-parallel-100-ef-search-128",
          "qdrant-m-16-ef-128-parallel-100-ef-search-256",
          "qdrant-m-16-ef-128-parallel-100-ef-search-512",
          "qdrant-m-32-ef-128-parallel-100-ef-search-128",
          "qdrant-m-32-ef-128-parallel-100-ef-search-256",
          "qdrant-m-32-ef-128-parallel-100-ef-search-512",
          "qdrant-m-32-ef-256-parallel-100-ef-search-128",
          "qdrant-m-32-ef-256-parallel-100-ef-search-256",
          "qdrant-m-32-ef-256-parallel-100-ef-search-512",
          "qdrant-m-32-ef-512-parallel-100-ef-search-128",
          "qdrant-m-32-ef-512-parallel-100-ef-search-256",
          "qdrant-m-32-ef-512-parallel-100-ef-search-512",
          "qdrant-m-64-ef-256-parallel-100-ef-search-128",
          "qdrant-m-64-ef-256-parallel-100-ef-search-256",
          "qdrant-m-64-ef-256-parallel-100-ef-search-512",
          "qdrant-m-64-ef-512-parallel-100-ef-search-128",
          "qdrant-m-64-ef-512-parallel-100-ef-search-256",
          "qdrant-m-64-ef-512-parallel-100-ef-search-512"
         ],
         "marker": {
          "color": "purple"
         },
         "mode": "markers",
         "name": "qdrant",
         "type": "scatter",
         "x": [
          0.93,
          0.97,
          0.99,
          0.96,
          0.98,
          0.99,
          0.99,
          1,
          1,
          0.98,
          0.99,
          1,
          0.99,
          1,
          1,
          0.99,
          1,
          1
         ],
         "y": [
          590.8850894000002,
          590.8850894000002,
          590.8850894000002,
          660.4474501999998,
          660.4474501999998,
          660.4474501999998,
          437.8764949000001,
          437.8764949000001,
          437.8764949000001,
          1602.6885819,
          1602.6885819,
          1602.6885819,
          494.70003110000016,
          494.70003110000016,
          494.70003110000016,
          1690.252603100001,
          1690.252603100001,
          1690.252603100001
         ]
        },
        {
         "hoverinfo": "text",
         "hovertext": [
          "milvus-m-16-ef-128-parallel-100-ef-search-128",
          "milvus-m-16-ef-128-parallel-100-ef-search-256",
          "milvus-m-16-ef-128-parallel-100-ef-search-512",
          "milvus-m-32-ef-128-parallel-100-ef-search-128",
          "milvus-m-32-ef-128-parallel-100-ef-search-256",
          "milvus-m-32-ef-128-parallel-100-ef-search-512",
          "milvus-m-32-ef-256-parallel-100-ef-search-128",
          "milvus-m-32-ef-256-parallel-100-ef-search-256",
          "milvus-m-32-ef-256-parallel-100-ef-search-512",
          "milvus-m-32-ef-512-parallel-100-ef-search-128",
          "milvus-m-32-ef-512-parallel-100-ef-search-256",
          "milvus-m-32-ef-512-parallel-100-ef-search-512",
          "milvus-m-64-ef-256-parallel-100-ef-search-128",
          "milvus-m-64-ef-256-parallel-100-ef-search-256",
          "milvus-m-64-ef-256-parallel-100-ef-search-512",
          "milvus-m-64-ef-512-parallel-100-ef-search-128",
          "milvus-m-64-ef-512-parallel-100-ef-search-256",
          "milvus-m-64-ef-512-parallel-100-ef-search-512"
         ],
         "marker": {
          "color": "skyblue"
         },
         "mode": "markers",
         "name": "milvus",
         "type": "scatter",
         "x": [
          0.9,
          0.95,
          0.98,
          0.94,
          0.97,
          0.99,
          0.95,
          0.98,
          0.99,
          0.97,
          0.99,
          1,
          0.97,
          0.99,
          1,
          0.98,
          0.99,
          1
         ],
         "y": [
          1148.7853982,
          1148.7853982,
          1148.7853982,
          1131.7421934000004,
          1131.7421934000004,
          1131.7421934000004,
          1993.7127987000003,
          1993.7127987000003,
          1993.7127987000003,
          3357.715449800001,
          3357.715449800001,
          3357.715449800001,
          1736.4474831000002,
          1736.4474831000002,
          1736.4474831000002,
          3639.3535414,
          3639.3535414,
          3639.3535414
         ]
        }
       ],
       "layout": {
        "autosize": true,
        "legend": {
         "title": {
          "text": "Database"
         }
        },
        "template": {
         "data": {
          "bar": [
           {
            "error_x": {
             "color": "#2a3f5f"
            },
            "error_y": {
             "color": "#2a3f5f"
            },
            "marker": {
             "line": {
              "color": "#E5ECF6",
              "width": 0.5
             },
             "pattern": {
              "fillmode": "overlay",
              "size": 10,
              "solidity": 0.2
             }
            },
            "type": "bar"
           }
          ],
          "barpolar": [
           {
            "marker": {
             "line": {
              "color": "#E5ECF6",
              "width": 0.5
             },
             "pattern": {
              "fillmode": "overlay",
              "size": 10,
              "solidity": 0.2
             }
            },
            "type": "barpolar"
           }
          ],
          "carpet": [
           {
            "aaxis": {
             "endlinecolor": "#2a3f5f",
             "gridcolor": "white",
             "linecolor": "white",
             "minorgridcolor": "white",
             "startlinecolor": "#2a3f5f"
            },
            "baxis": {
             "endlinecolor": "#2a3f5f",
             "gridcolor": "white",
             "linecolor": "white",
             "minorgridcolor": "white",
             "startlinecolor": "#2a3f5f"
            },
            "type": "carpet"
           }
          ],
          "choropleth": [
           {
            "colorbar": {
             "outlinewidth": 0,
             "ticks": ""
            },
            "type": "choropleth"
           }
          ],
          "contour": [
           {
            "colorbar": {
             "outlinewidth": 0,
             "ticks": ""
            },
            "colorscale": [
             [
              0,
              "#0d0887"
             ],
             [
              0.1111111111111111,
              "#46039f"
             ],
             [
              0.2222222222222222,
              "#7201a8"
             ],
             [
              0.3333333333333333,
              "#9c179e"
             ],
             [
              0.4444444444444444,
              "#bd3786"
             ],
             [
              0.5555555555555556,
              "#d8576b"
             ],
             [
              0.6666666666666666,
              "#ed7953"
             ],
             [
              0.7777777777777778,
              "#fb9f3a"
             ],
             [
              0.8888888888888888,
              "#fdca26"
             ],
             [
              1,
              "#f0f921"
             ]
            ],
            "type": "contour"
           }
          ],
          "contourcarpet": [
           {
            "colorbar": {
             "outlinewidth": 0,
             "ticks": ""
            },
            "type": "contourcarpet"
           }
          ],
          "heatmap": [
           {
            "colorbar": {
             "outlinewidth": 0,
             "ticks": ""
            },
            "colorscale": [
             [
              0,
              "#0d0887"
             ],
             [
              0.1111111111111111,
              "#46039f"
             ],
             [
              0.2222222222222222,
              "#7201a8"
             ],
             [
              0.3333333333333333,
              "#9c179e"
             ],
             [
              0.4444444444444444,
              "#bd3786"
             ],
             [
              0.5555555555555556,
              "#d8576b"
             ],
             [
              0.6666666666666666,
              "#ed7953"
             ],
             [
              0.7777777777777778,
              "#fb9f3a"
             ],
             [
              0.8888888888888888,
              "#fdca26"
             ],
             [
              1,
              "#f0f921"
             ]
            ],
            "type": "heatmap"
           }
          ],
          "heatmapgl": [
           {
            "colorbar": {
             "outlinewidth": 0,
             "ticks": ""
            },
            "colorscale": [
             [
              0,
              "#0d0887"
             ],
             [
              0.1111111111111111,
              "#46039f"
             ],
             [
              0.2222222222222222,
              "#7201a8"
             ],
             [
              0.3333333333333333,
              "#9c179e"
             ],
             [
              0.4444444444444444,
              "#bd3786"
             ],
             [
              0.5555555555555556,
              "#d8576b"
             ],
             [
              0.6666666666666666,
              "#ed7953"
             ],
             [
              0.7777777777777778,
              "#fb9f3a"
             ],
             [
              0.8888888888888888,
              "#fdca26"
             ],
             [
              1,
              "#f0f921"
             ]
            ],
            "type": "heatmapgl"
           }
          ],
          "histogram": [
           {
            "marker": {
             "pattern": {
              "fillmode": "overlay",
              "size": 10,
              "solidity": 0.2
             }
            },
            "type": "histogram"
           }
          ],
          "histogram2d": [
           {
            "colorbar": {
             "outlinewidth": 0,
             "ticks": ""
            },
            "colorscale": [
             [
              0,
              "#0d0887"
             ],
             [
              0.1111111111111111,
              "#46039f"
             ],
             [
              0.2222222222222222,
              "#7201a8"
             ],
             [
              0.3333333333333333,
              "#9c179e"
             ],
             [
              0.4444444444444444,
              "#bd3786"
             ],
             [
              0.5555555555555556,
              "#d8576b"
             ],
             [
              0.6666666666666666,
              "#ed7953"
             ],
             [
              0.7777777777777778,
              "#fb9f3a"
             ],
             [
              0.8888888888888888,
              "#fdca26"
             ],
             [
              1,
              "#f0f921"
             ]
            ],
            "type": "histogram2d"
           }
          ],
          "histogram2dcontour": [
           {
            "colorbar": {
             "outlinewidth": 0,
             "ticks": ""
            },
            "colorscale": [
             [
              0,
              "#0d0887"
             ],
             [
              0.1111111111111111,
              "#46039f"
             ],
             [
              0.2222222222222222,
              "#7201a8"
             ],
             [
              0.3333333333333333,
              "#9c179e"
             ],
             [
              0.4444444444444444,
              "#bd3786"
             ],
             [
              0.5555555555555556,
              "#d8576b"
             ],
             [
              0.6666666666666666,
              "#ed7953"
             ],
             [
              0.7777777777777778,
              "#fb9f3a"
             ],
             [
              0.8888888888888888,
              "#fdca26"
             ],
             [
              1,
              "#f0f921"
             ]
            ],
            "type": "histogram2dcontour"
           }
          ],
          "mesh3d": [
           {
            "colorbar": {
             "outlinewidth": 0,
             "ticks": ""
            },
            "type": "mesh3d"
           }
          ],
          "parcoords": [
           {
            "line": {
             "colorbar": {
              "outlinewidth": 0,
              "ticks": ""
             }
            },
            "type": "parcoords"
           }
          ],
          "pie": [
           {
            "automargin": true,
            "type": "pie"
           }
          ],
          "scatter": [
           {
            "fillpattern": {
             "fillmode": "overlay",
             "size": 10,
             "solidity": 0.2
            },
            "type": "scatter"
           }
          ],
          "scatter3d": [
           {
            "line": {
             "colorbar": {
              "outlinewidth": 0,
              "ticks": ""
             }
            },
            "marker": {
             "colorbar": {
              "outlinewidth": 0,
              "ticks": ""
             }
            },
            "type": "scatter3d"
           }
          ],
          "scattercarpet": [
           {
            "marker": {
             "colorbar": {
              "outlinewidth": 0,
              "ticks": ""
             }
            },
            "type": "scattercarpet"
           }
          ],
          "scattergeo": [
           {
            "marker": {
             "colorbar": {
              "outlinewidth": 0,
              "ticks": ""
             }
            },
            "type": "scattergeo"
           }
          ],
          "scattergl": [
           {
            "marker": {
             "colorbar": {
              "outlinewidth": 0,
              "ticks": ""
             }
            },
            "type": "scattergl"
           }
          ],
          "scattermapbox": [
           {
            "marker": {
             "colorbar": {
              "outlinewidth": 0,
              "ticks": ""
             }
            },
            "type": "scattermapbox"
           }
          ],
          "scatterpolar": [
           {
            "marker": {
             "colorbar": {
              "outlinewidth": 0,
              "ticks": ""
             }
            },
            "type": "scatterpolar"
           }
          ],
          "scatterpolargl": [
           {
            "marker": {
             "colorbar": {
              "outlinewidth": 0,
              "ticks": ""
             }
            },
            "type": "scatterpolargl"
           }
          ],
          "scatterternary": [
           {
            "marker": {
             "colorbar": {
              "outlinewidth": 0,
              "ticks": ""
             }
            },
            "type": "scatterternary"
           }
          ],
          "surface": [
           {
            "colorbar": {
             "outlinewidth": 0,
             "ticks": ""
            },
            "colorscale": [
             [
              0,
              "#0d0887"
             ],
             [
              0.1111111111111111,
              "#46039f"
             ],
             [
              0.2222222222222222,
              "#7201a8"
             ],
             [
              0.3333333333333333,
              "#9c179e"
             ],
             [
              0.4444444444444444,
              "#bd3786"
             ],
             [
              0.5555555555555556,
              "#d8576b"
             ],
             [
              0.6666666666666666,
              "#ed7953"
             ],
             [
              0.7777777777777778,
              "#fb9f3a"
             ],
             [
              0.8888888888888888,
              "#fdca26"
             ],
             [
              1,
              "#f0f921"
             ]
            ],
            "type": "surface"
           }
          ],
          "table": [
           {
            "cells": {
             "fill": {
              "color": "#EBF0F8"
             },
             "line": {
              "color": "white"
             }
            },
            "header": {
             "fill": {
              "color": "#C8D4E3"
             },
             "line": {
              "color": "white"
             }
            },
            "type": "table"
           }
          ]
         },
         "layout": {
          "annotationdefaults": {
           "arrowcolor": "#2a3f5f",
           "arrowhead": 0,
           "arrowwidth": 1
          },
          "autotypenumbers": "strict",
          "coloraxis": {
           "colorbar": {
            "outlinewidth": 0,
            "ticks": ""
           }
          },
          "colorscale": {
           "diverging": [
            [
             0,
             "#8e0152"
            ],
            [
             0.1,
             "#c51b7d"
            ],
            [
             0.2,
             "#de77ae"
            ],
            [
             0.3,
             "#f1b6da"
            ],
            [
             0.4,
             "#fde0ef"
            ],
            [
             0.5,
             "#f7f7f7"
            ],
            [
             0.6,
             "#e6f5d0"
            ],
            [
             0.7,
             "#b8e186"
            ],
            [
             0.8,
             "#7fbc41"
            ],
            [
             0.9,
             "#4d9221"
            ],
            [
             1,
             "#276419"
            ]
           ],
           "sequential": [
            [
             0,
             "#0d0887"
            ],
            [
             0.1111111111111111,
             "#46039f"
            ],
            [
             0.2222222222222222,
             "#7201a8"
            ],
            [
             0.3333333333333333,
             "#9c179e"
            ],
            [
             0.4444444444444444,
             "#bd3786"
            ],
            [
             0.5555555555555556,
             "#d8576b"
            ],
            [
             0.6666666666666666,
             "#ed7953"
            ],
            [
             0.7777777777777778,
             "#fb9f3a"
            ],
            [
             0.8888888888888888,
             "#fdca26"
            ],
            [
             1,
             "#f0f921"
            ]
           ],
           "sequentialminus": [
            [
             0,
             "#0d0887"
            ],
            [
             0.1111111111111111,
             "#46039f"
            ],
            [
             0.2222222222222222,
             "#7201a8"
            ],
            [
             0.3333333333333333,
             "#9c179e"
            ],
            [
             0.4444444444444444,
             "#bd3786"
            ],
            [
             0.5555555555555556,
             "#d8576b"
            ],
            [
             0.6666666666666666,
             "#ed7953"
            ],
            [
             0.7777777777777778,
             "#fb9f3a"
            ],
            [
             0.8888888888888888,
             "#fdca26"
            ],
            [
             1,
             "#f0f921"
            ]
           ]
          },
          "colorway": [
           "#636efa",
           "#EF553B",
           "#00cc96",
           "#ab63fa",
           "#FFA15A",
           "#19d3f3",
           "#FF6692",
           "#B6E880",
           "#FF97FF",
           "#FECB52"
          ],
          "font": {
           "color": "#2a3f5f"
          },
          "geo": {
           "bgcolor": "white",
           "lakecolor": "white",
           "landcolor": "#E5ECF6",
           "showlakes": true,
           "showland": true,
           "subunitcolor": "white"
          },
          "hoverlabel": {
           "align": "left"
          },
          "hovermode": "closest",
          "mapbox": {
           "style": "light"
          },
          "paper_bgcolor": "white",
          "plot_bgcolor": "#E5ECF6",
          "polar": {
           "angularaxis": {
            "gridcolor": "white",
            "linecolor": "white",
            "ticks": ""
           },
           "bgcolor": "#E5ECF6",
           "radialaxis": {
            "gridcolor": "white",
            "linecolor": "white",
            "ticks": ""
           }
          },
          "scene": {
           "xaxis": {
            "backgroundcolor": "#E5ECF6",
            "gridcolor": "white",
            "gridwidth": 2,
            "linecolor": "white",
            "showbackground": true,
            "ticks": "",
            "zerolinecolor": "white"
           },
           "yaxis": {
            "backgroundcolor": "#E5ECF6",
            "gridcolor": "white",
            "gridwidth": 2,
            "linecolor": "white",
            "showbackground": true,
            "ticks": "",
            "zerolinecolor": "white"
           },
           "zaxis": {
            "backgroundcolor": "#E5ECF6",
            "gridcolor": "white",
            "gridwidth": 2,
            "linecolor": "white",
            "showbackground": true,
            "ticks": "",
            "zerolinecolor": "white"
           }
          },
          "shapedefaults": {
           "line": {
            "color": "#2a3f5f"
           }
          },
          "ternary": {
           "aaxis": {
            "gridcolor": "white",
            "linecolor": "white",
            "ticks": ""
           },
           "baxis": {
            "gridcolor": "white",
            "linecolor": "white",
            "ticks": ""
           },
           "bgcolor": "#E5ECF6",
           "caxis": {
            "gridcolor": "white",
            "linecolor": "white",
            "ticks": ""
           }
          },
          "title": {
           "x": 0.05
          },
          "xaxis": {
           "automargin": true,
           "gridcolor": "white",
           "linecolor": "white",
           "ticks": "",
           "title": {
            "standoff": 15
           },
           "zerolinecolor": "white",
           "zerolinewidth": 2
          },
          "yaxis": {
           "automargin": true,
           "gridcolor": "white",
           "linecolor": "white",
           "ticks": "",
           "title": {
            "standoff": 15
           },
           "zerolinecolor": "white",
           "zerolinewidth": 2
          }
         }
        },
        "xaxis": {
         "autorange": true,
         "range": [
          0.893840579710145,
          1.0061594202898552
         ],
         "title": {
          "text": "mean_precisions_rounded"
         },
         "type": "linear"
        },
        "yaxis": {
         "autorange": true,
         "range": [
          173.67693281019433,
          3903.553103489806
         ],
         "title": {
          "text": "import_time"
         },
         "type": "linear"
        }
       }
      },
      "image/png": "[encoded data removed]",
      "text/html": [
       "<div>                            <div id=\"8b69a560-e16a-4bd8-bcc8-8eaeff2880a2\" class=\"plotly-graph-div\" style=\"height:525px; width:100%;\"></div>            <script type=\"text/javascript\">                require([\"plotly\"], function(Plotly) {                    window.PLOTLYENV=window.PLOTLYENV || {};                                    if (document.getElementById(\"8b69a560-e16a-4bd8-bcc8-8eaeff2880a2\")) {                    Plotly.newPlot(                        \"8b69a560-e16a-4bd8-bcc8-8eaeff2880a2\",                        [{\"hoverinfo\":\"text\",\"hovertext\":[\"qdrant-m-16-ef-128-parallel-100-ef-search-128\",\"qdrant-m-16-ef-128-parallel-100-ef-search-256\",\"qdrant-m-16-ef-128-parallel-100-ef-search-512\",\"qdrant-m-32-ef-128-parallel-100-ef-search-128\",\"qdrant-m-32-ef-128-parallel-100-ef-search-256\",\"qdrant-m-32-ef-128-parallel-100-ef-search-512\",\"qdrant-m-32-ef-256-parallel-100-ef-search-128\",\"qdrant-m-32-ef-256-parallel-100-ef-search-256\",\"qdrant-m-32-ef-256-parallel-100-ef-search-512\",\"qdrant-m-32-ef-512-parallel-100-ef-search-128\",\"qdrant-m-32-ef-512-parallel-100-ef-search-256\",\"qdrant-m-32-ef-512-parallel-100-ef-search-512\",\"qdrant-m-64-ef-256-parallel-100-ef-search-128\",\"qdrant-m-64-ef-256-parallel-100-ef-search-256\",\"qdrant-m-64-ef-256-parallel-100-ef-search-512\",\"qdrant-m-64-ef-512-parallel-100-ef-search-128\",\"qdrant-m-64-ef-512-parallel-100-ef-search-256\",\"qdrant-m-64-ef-512-parallel-100-ef-search-512\"],\"marker\":{\"color\":\"purple\"},\"mode\":\"markers\",\"name\":\"qdrant\",\"x\":[0.93,0.97,0.99,0.96,0.98,0.99,0.99,1.0,1.0,0.98,0.99,1.0,0.99,1.0,1.0,0.99,1.0,1.0],\"y\":[590.8850894000002,590.8850894000002,590.8850894000002,660.4474501999998,660.4474501999998,660.4474501999998,437.8764949000001,437.8764949000001,437.8764949000001,1602.6885819,1602.6885819,1602.6885819,494.70003110000016,494.70003110000016,494.70003110000016,1690.252603100001,1690.252603100001,1690.252603100001],\"type\":\"scatter\"},{\"hoverinfo\":\"text\",\"hovertext\":[\"milvus-m-16-ef-128-parallel-100-ef-search-128\",\"milvus-m-16-ef-128-parallel-100-ef-search-256\",\"milvus-m-16-ef-128-parallel-100-ef-search-512\",\"milvus-m-32-ef-128-parallel-100-ef-search-128\",\"milvus-m-32-ef-128-parallel-100-ef-search-256\",\"milvus-m-32-ef-128-parallel-100-ef-search-512\",\"milvus-m-32-ef-256-parallel-100-ef-search-128\",\"milvus-m-32-ef-256-parallel-100-ef-search-256\",\"milvus-m-32-ef-256-parallel-100-ef-search-512\",\"milvus-m-32-ef-512-parallel-100-ef-search-128\",\"milvus-m-32-ef-512-parallel-100-ef-search-256\",\"milvus-m-32-ef-512-parallel-100-ef-search-512\",\"milvus-m-64-ef-256-parallel-100-ef-search-128\",\"milvus-m-64-ef-256-parallel-100-ef-search-256\",\"milvus-m-64-ef-256-parallel-100-ef-search-512\",\"milvus-m-64-ef-512-parallel-100-ef-search-128\",\"milvus-m-64-ef-512-parallel-100-ef-search-256\",\"milvus-m-64-ef-512-parallel-100-ef-search-512\"],\"marker\":{\"color\":\"skyblue\"},\"mode\":\"markers\",\"name\":\"milvus\",\"x\":[0.9,0.95,0.98,0.94,0.97,0.99,0.95,0.98,0.99,0.97,0.99,1.0,0.97,0.99,1.0,0.98,0.99,1.0],\"y\":[1148.7853982,1148.7853982,1148.7853982,1131.7421934000004,1131.7421934000004,1131.7421934000004,1993.7127987000003,1993.7127987000003,1993.7127987000003,3357.715449800001,3357.715449800001,3357.715449800001,1736.4474831000002,1736.4474831000002,1736.4474831000002,3639.3535414,3639.3535414,3639.3535414],\"type\":\"scatter\"}],                        {\"template\":{\"data\":{\"histogram2dcontour\":[{\"type\":\"histogram2dcontour\",\"colorbar\":{\"outlinewidth\":0,\"ticks\":\"\"},\"colorscale\":[[0.0,\"#0d0887\"],[0.1111111111111111,\"#46039f\"],[0.2222222222222222,\"#7201a8\"],[0.3333333333333333,\"#9c179e\"],[0.4444444444444444,\"#bd3786\"],[0.5555555555555556,\"#d8576b\"],[0.6666666666666666,\"#ed7953\"],[0.7777777777777778,\"#fb9f3a\"],[0.8888888888888888,\"#fdca26\"],[1.0,\"#f0f921\"]]}],\"choropleth\":[{\"type\":\"choropleth\",\"colorbar\":{\"outlinewidth\":0,\"ticks\":\"\"}}],\"histogram2d\":[{\"type\":\"histogram2d\",\"colorbar\":{\"outlinewidth\":0,\"ticks\":\"\"},\"colorscale\":[[0.0,\"#0d0887\"],[0.1111111111111111,\"#46039f\"],[0.2222222222222222,\"#7201a8\"],[0.3333333333333333,\"#9c179e\"],[0.4444444444444444,\"#bd3786\"],[0.5555555555555556,\"#d8576b\"],[0.6666666666666666,\"#ed7953\"],[0.7777777777777778,\"#fb9f3a\"],[0.8888888888888888,\"#fdca26\"],[1.0,\"#f0f921\"]]}],\"heatmap\":[{\"type\":\"heatmap\",\"colorbar\":{\"outlinewidth\":0,\"ticks\":\"\"},\"colorscale\":[[0.0,\"#0d0887\"],[0.1111111111111111,\"#46039f\"],[0.2222222222222222,\"#7201a8\"],[0.3333333333333333,\"#9c179e\"],[0.4444444444444444,\"#bd3786\"],[0.5555555555555556,\"#d8576b\"],[0.6666666666666666,\"#ed7953\"],[0.7777777777777778,\"#fb9f3a\"],[0.8888888888888888,\"#fdca26\"],[1.0,\"#f0f921\"]]}],\"heatmapgl\":[{\"type\":\"heatmapgl\",\"colorbar\":{\"outlinewidth\":0,\"ticks\":\"\"},\"colorscale\":[[0.0,\"#0d0887\"],[0.1111111111111111,\"#46039f\"],[0.2222222222222222,\"#7201a8\"],[0.3333333333333333,\"#9c179e\"],[0.4444444444444444,\"#bd3786\"],[0.5555555555555556,\"#d8576b\"],[0.6666666666666666,\"#ed7953\"],[0.7777777777777778,\"#fb9f3a\"],[0.8888888888888888,\"#fdca26\"],[1.0,\"#f0f921\"]]}],\"contourcarpet\":[{\"type\":\"contourcarpet\",\"colorbar\":{\"outlinewidth\":0,\"ticks\":\"\"}}],\"contour\":[{\"type\":\"contour\",\"colorbar\":{\"outlinewidth\":0,\"ticks\":\"\"},\"colorscale\":[[0.0,\"#0d0887\"],[0.1111111111111111,\"#46039f\"],[0.2222222222222222,\"#7201a8\"],[0.3333333333333333,\"#9c179e\"],[0.4444444444444444,\"#bd3786\"],[0.5555555555555556,\"#d8576b\"],[0.6666666666666666,\"#ed7953\"],[0.7777777777777778,\"#fb9f3a\"],[0.8888888888888888,\"#fdca26\"],[1.0,\"#f0f921\"]]}],\"surface\":[{\"type\":\"surface\",\"colorbar\":{\"outlinewidth\":0,\"ticks\":\"\"},\"colorscale\":[[0.0,\"#0d0887\"],[0.1111111111111111,\"#46039f\"],[0.2222222222222222,\"#7201a8\"],[0.3333333333333333,\"#9c179e\"],[0.4444444444444444,\"#bd3786\"],[0.5555555555555556,\"#d8576b\"],[0.6666666666666666,\"#ed7953\"],[0.7777777777777778,\"#fb9f3a\"],[0.8888888888888888,\"#fdca26\"],[1.0,\"#f0f921\"]]}],\"mesh3d\":[{\"type\":\"mesh3d\",\"colorbar\":{\"outlinewidth\":0,\"ticks\":\"\"}}],\"scatter\":[{\"fillpattern\":{\"fillmode\":\"overlay\",\"size\":10,\"solidity\":0.2},\"type\":\"scatter\"}],\"parcoords\":[{\"type\":\"parcoords\",\"line\":{\"colorbar\":{\"outlinewidth\":0,\"ticks\":\"\"}}}],\"scatterpolargl\":[{\"type\":\"scatterpolargl\",\"marker\":{\"colorbar\":{\"outlinewidth\":0,\"ticks\":\"\"}}}],\"bar\":[{\"error_x\":{\"color\":\"#2a3f5f\"},\"error_y\":{\"color\":\"#2a3f5f\"},\"marker\":{\"line\":{\"color\":\"#E5ECF6\",\"width\":0.5},\"pattern\":{\"fillmode\":\"overlay\",\"size\":10,\"solidity\":0.2}},\"type\":\"bar\"}],\"scattergeo\":[{\"type\":\"scattergeo\",\"marker\":{\"colorbar\":{\"outlinewidth\":0,\"ticks\":\"\"}}}],\"scatterpolar\":[{\"type\":\"scatterpolar\",\"marker\":{\"colorbar\":{\"outlinewidth\":0,\"ticks\":\"\"}}}],\"histogram\":[{\"marker\":{\"pattern\":{\"fillmode\":\"overlay\",\"size\":10,\"solidity\":0.2}},\"type\":\"histogram\"}],\"scattergl\":[{\"type\":\"scattergl\",\"marker\":{\"colorbar\":{\"outlinewidth\":0,\"ticks\":\"\"}}}],\"scatter3d\":[{\"type\":\"scatter3d\",\"line\":{\"colorbar\":{\"outlinewidth\":0,\"ticks\":\"\"}},\"marker\":{\"colorbar\":{\"outlinewidth\":0,\"ticks\":\"\"}}}],\"scattermapbox\":[{\"type\":\"scattermapbox\",\"marker\":{\"colorbar\":{\"outlinewidth\":0,\"ticks\":\"\"}}}],\"scatterternary\":[{\"type\":\"scatterternary\",\"marker\":{\"colorbar\":{\"outlinewidth\":0,\"ticks\":\"\"}}}],\"scattercarpet\":[{\"type\":\"scattercarpet\",\"marker\":{\"colorbar\":{\"outlinewidth\":0,\"ticks\":\"\"}}}],\"carpet\":[{\"aaxis\":{\"endlinecolor\":\"#2a3f5f\",\"gridcolor\":\"white\",\"linecolor\":\"white\",\"minorgridcolor\":\"white\",\"startlinecolor\":\"#2a3f5f\"},\"baxis\":{\"endlinecolor\":\"#2a3f5f\",\"gridcolor\":\"white\",\"linecolor\":\"white\",\"minorgridcolor\":\"white\",\"startlinecolor\":\"#2a3f5f\"},\"type\":\"carpet\"}],\"table\":[{\"cells\":{\"fill\":{\"color\":\"#EBF0F8\"},\"line\":{\"color\":\"white\"}},\"header\":{\"fill\":{\"color\":\"#C8D4E3\"},\"line\":{\"color\":\"white\"}},\"type\":\"table\"}],\"barpolar\":[{\"marker\":{\"line\":{\"color\":\"#E5ECF6\",\"width\":0.5},\"pattern\":{\"fillmode\":\"overlay\",\"size\":10,\"solidity\":0.2}},\"type\":\"barpolar\"}],\"pie\":[{\"automargin\":true,\"type\":\"pie\"}]},\"layout\":{\"autotypenumbers\":\"strict\",\"colorway\":[\"#636efa\",\"#EF553B\",\"#00cc96\",\"#ab63fa\",\"#FFA15A\",\"#19d3f3\",\"#FF6692\",\"#B6E880\",\"#FF97FF\",\"#FECB52\"],\"font\":{\"color\":\"#2a3f5f\"},\"hovermode\":\"closest\",\"hoverlabel\":{\"align\":\"left\"},\"paper_bgcolor\":\"white\",\"plot_bgcolor\":\"#E5ECF6\",\"polar\":{\"bgcolor\":\"#E5ECF6\",\"angularaxis\":{\"gridcolor\":\"white\",\"linecolor\":\"white\",\"ticks\":\"\"},\"radialaxis\":{\"gridcolor\":\"white\",\"linecolor\":\"white\",\"ticks\":\"\"}},\"ternary\":{\"bgcolor\":\"#E5ECF6\",\"aaxis\":{\"gridcolor\":\"white\",\"linecolor\":\"white\",\"ticks\":\"\"},\"baxis\":{\"gridcolor\":\"white\",\"linecolor\":\"white\",\"ticks\":\"\"},\"caxis\":{\"gridcolor\":\"white\",\"linecolor\":\"white\",\"ticks\":\"\"}},\"coloraxis\":{\"colorbar\":{\"outlinewidth\":0,\"ticks\":\"\"}},\"colorscale\":{\"sequential\":[[0.0,\"#0d0887\"],[0.1111111111111111,\"#46039f\"],[0.2222222222222222,\"#7201a8\"],[0.3333333333333333,\"#9c179e\"],[0.4444444444444444,\"#bd3786\"],[0.5555555555555556,\"#d8576b\"],[0.6666666666666666,\"#ed7953\"],[0.7777777777777778,\"#fb9f3a\"],[0.8888888888888888,\"#fdca26\"],[1.0,\"#f0f921\"]],\"sequentialminus\":[[0.0,\"#0d0887\"],[0.1111111111111111,\"#46039f\"],[0.2222222222222222,\"#7201a8\"],[0.3333333333333333,\"#9c179e\"],[0.4444444444444444,\"#bd3786\"],[0.5555555555555556,\"#d8576b\"],[0.6666666666666666,\"#ed7953\"],[0.7777777777777778,\"#fb9f3a\"],[0.8888888888888888,\"#fdca26\"],[1.0,\"#f0f921\"]],\"diverging\":[[0,\"#8e0152\"],[0.1,\"#c51b7d\"],[0.2,\"#de77ae\"],[0.3,\"#f1b6da\"],[0.4,\"#fde0ef\"],[0.5,\"#f7f7f7\"],[0.6,\"#e6f5d0\"],[0.7,\"#b8e186\"],[0.8,\"#7fbc41\"],[0.9,\"#4d9221\"],[1,\"#276419\"]]},\"xaxis\":{\"gridcolor\":\"white\",\"linecolor\":\"white\",\"ticks\":\"\",\"title\":{\"standoff\":15},\"zerolinecolor\":\"white\",\"automargin\":true,\"zerolinewidth\":2},\"yaxis\":{\"gridcolor\":\"white\",\"linecolor\":\"white\",\"ticks\":\"\",\"title\":{\"standoff\":15},\"zerolinecolor\":\"white\",\"automargin\":true,\"zerolinewidth\":2},\"scene\":{\"xaxis\":{\"backgroundcolor\":\"#E5ECF6\",\"gridcolor\":\"white\",\"linecolor\":\"white\",\"showbackground\":true,\"ticks\":\"\",\"zerolinecolor\":\"white\",\"gridwidth\":2},\"yaxis\":{\"backgroundcolor\":\"#E5ECF6\",\"gridcolor\":\"white\",\"linecolor\":\"white\",\"showbackground\":true,\"ticks\":\"\",\"zerolinecolor\":\"white\",\"gridwidth\":2},\"zaxis\":{\"backgroundcolor\":\"#E5ECF6\",\"gridcolor\":\"white\",\"linecolor\":\"white\",\"showbackground\":true,\"ticks\":\"\",\"zerolinecolor\":\"white\",\"gridwidth\":2}},\"shapedefaults\":{\"line\":{\"color\":\"#2a3f5f\"}},\"annotationdefaults\":{\"arrowcolor\":\"#2a3f5f\",\"arrowhead\":0,\"arrowwidth\":1},\"geo\":{\"bgcolor\":\"white\",\"landcolor\":\"#E5ECF6\",\"subunitcolor\":\"white\",\"showland\":true,\"showlakes\":true,\"lakecolor\":\"white\"},\"title\":{\"x\":0.05},\"mapbox\":{\"style\":\"light\"}}},\"xaxis\":{\"title\":{\"text\":\"mean_precisions_rounded\"}},\"yaxis\":{\"title\":{\"text\":\"import_time\"}},\"legend\":{\"title\":{\"text\":\"Database\"}}},                        {\"responsive\": true}                    ).then(function(){\n",
       "                            \n",
       "var gd = document.getElementById('8b69a560-e16a-4bd8-bcc8-8eaeff2880a2');\n",
       "var x = new MutationObserver(function (mutations, observer) {{\n",
       "        var display = window.getComputedStyle(gd).display;\n",
       "        if (!display || display === 'none') {{\n",
       "            console.log([gd, 'removed!']);\n",
       "            Plotly.purge(gd);\n",
       "            observer.disconnect();\n",
       "        }}\n",
       "}});\n",
       "\n",
       "// Listen for the removal of the full notebook cells\n",
       "var notebookContainer = gd.closest('#notebook-container');\n",
       "if (notebookContainer) {{\n",
       "    x.observe(notebookContainer, {childList: true});\n",
       "}}\n",
       "\n",
       "// Listen for the clearing of the current output cell\n",
       "var outputEl = gd.closest('.output');\n",
       "if (outputEl) {{\n",
       "    x.observe(outputEl, {childList: true});\n",
       "}}\n",
       "\n",
       "                        })                };                });            </script>        </div>"
      ]
     },
     "metadata": {},
     "output_type": "display_data"
    }
   ],
   "source": [
    "all_metrics = ['total_time', 'mean_time', 'p95_time', 'rps', 'upload_time', 'index_time', 'import_time']\n",
    "selected_metrics = ['import_time']\n",
    "for met in selected_metrics:\n",
    "    print_h1(met, 'metric: ')\n",
    "    plot_results_of_similar_precision(tested_datasets, selected_parallel = 100, metric=met)"
   ]
  },
  {
   "cell_type": "markdown",
   "id": "551e9895-7e04-402d-a195-6c6adb09292b",
   "metadata": {},
   "source": [
    "### Observations\n",
    "In this section, we examine engine configurations in groups of the same precision and then compare the following metrics for each dataset.\n",
    "1. `total_time`:\n",
    "    As expected, high precision requires more total query time for both databases.\n",
    "    - **glove-100-angular**: For the same precision, Milvus requires total query time similar to the fastest configuration of Qdrant of this group. However, Qdrant has more models that achieve a high precision.\n",
    "    - **random-match-keyword-100-angular-no-filters**:  In most precisions, Milvus requires less query time than the corresponding Qdrant configurations.\n",
    "    - **h-and-m-2048-angular-no-filters**: Milvus is faster in query time for this dataset. Both DataBases achieve 100% precision in this dataset for the most configurations.\n",
    "    - **gist-960-euclidean**: Milvus and Qdrant best configurations achieve similar total query time in this dataset.\n",
    "2. `rps`:\n",
    "    - **glove-100-angular**: Milvus achieves a bit higher rps than Qdrant\n",
    "    - **random-match-keyword-100-angular-no-filters**:  Here again, Milvus achieves a higher rps than best configurations of Qdrant\n",
    "    - **h-and-m-2048-angular-no-filters**:  Milvus achieves a clearly higher rps due to the fact that all configurations of the two databases perform the queries of this dataset with 1.0 precision\n",
    "    - **gist-960-euclidean**: Here, Qdrant achieves a higher rps. This dataset uses euclidean distance metric, so, this should be also taken into account when comparing to the other datasets using cosine distance.\n",
    "3. `import_time`:\n",
    "    - **glove-100-angular**: The fastest Milvus model (concerning import time in a precision level) requires a little more import time than the slowest Qdrant Model but at least the double time than the fastest Qdrant Model\n",
    "    - **random-match-keyword-100-angular-no-filters**:  Milvus is slower in this dataset concerning import time excluding some special occasions\n",
    "    - **h-and-m-2048-angular-no-filters**: Milvus is slower again in this dataset\n",
    "    - **gist-960-euclidean**: Here, Milvus has some fast configurations but they are still slower than fast Qdrant configurations.\n",
    "\n",
    "Generally,\n",
    "1. `total_time`: In most cases and precision levels, the best configuration of Qdrant requires similar or up to 20-40% more for query time.\n",
    "2. `rps`: In most precision levels and cosine-distance datasets, Milvus performs more rps whereas in `gist-960-euclidean` (euclidean-distance) Qdrant performs more rps\n",
    "3. `import_time`: Comparing the fastest Qdrant and Milvus configurations concerning import time for the same precision level, Milvus requires approximately the double time than Qdrant."
   ]
  },
  {
   "cell_type": "markdown",
   "id": "e9d1e6a8-a785-4beb-9e96-2b5502766bbc",
   "metadata": {
    "jp-MarkdownHeadingCollapsed": true
   },
   "source": [
    "### Join similar precision results"
   ]
  },
  {
   "cell_type": "code",
   "execution_count": 19,
   "id": "a5645e6e-00aa-4c6b-8c84-7d874129662c",
   "metadata": {},
   "outputs": [
    {
     "name": "stdout",
     "output_type": "stream",
     "text": [
      "<class 'pandas.core.frame.DataFrame'>\n",
      "Int64Index: 4940 entries, 4824 to 4759\n",
      "Data columns (total 36 columns):\n",
      " #   Column                   Non-Null Count  Dtype  \n",
      "---  ------                   --------------  -----  \n",
      " 0   m_qdrant                 4940 non-null   int64  \n",
      " 1   ef_construct_qdrant      4940 non-null   int64  \n",
      " 2   parallel_search_qdrant   4940 non-null   int64  \n",
      " 3   ef_search_qdrant         4940 non-null   int64  \n",
      " 4   dataset                  4940 non-null   object \n",
      " 5   total_time_qdrant        4940 non-null   float64\n",
      " 6   mean_time_qdrant         4940 non-null   float64\n",
      " 7   mean_precisions_qdrant   4940 non-null   float64\n",
      " 8   std_time_qdrant          4940 non-null   float64\n",
      " 9   min_time_qdrant          4940 non-null   float64\n",
      " 10  max_time_qdrant          4940 non-null   float64\n",
      " 11  rps_qdrant               4940 non-null   float64\n",
      " 12  p95_time_qdrant          4940 non-null   float64\n",
      " 13  p99_time_qdrant          4940 non-null   float64\n",
      " 14  config_qdrant            4940 non-null   object \n",
      " 15  mean_precisions_rounded  4940 non-null   float64\n",
      " 16  upload_time_qdrant       4940 non-null   float64\n",
      " 17  import_time_qdrant       4940 non-null   float64\n",
      " 18  index_time_qdrant        4940 non-null   float64\n",
      " 19  m_milvus                 4940 non-null   int64  \n",
      " 20  ef_construct_milvus      4940 non-null   int64  \n",
      " 21  parallel_search_milvus   4940 non-null   int64  \n",
      " 22  ef_search_milvus         4940 non-null   int64  \n",
      " 23  total_time_milvus        4940 non-null   float64\n",
      " 24  mean_time_milvus         4940 non-null   float64\n",
      " 25  mean_precisions_milvus   4940 non-null   float64\n",
      " 26  std_time_milvus          4940 non-null   float64\n",
      " 27  min_time_milvus          4940 non-null   float64\n",
      " 28  max_time_milvus          4940 non-null   float64\n",
      " 29  rps_milvus               4940 non-null   float64\n",
      " 30  p95_time_milvus          4940 non-null   float64\n",
      " 31  p99_time_milvus          4940 non-null   float64\n",
      " 32  config_milvus            4940 non-null   object \n",
      " 33  upload_time_milvus       4940 non-null   float64\n",
      " 34  import_time_milvus       4940 non-null   float64\n",
      " 35  index_time_milvus        4940 non-null   float64\n",
      "dtypes: float64(25), int64(8), object(3)\n",
      "memory usage: 1.4+ MB\n"
     ]
    }
   ],
   "source": [
    "# # merged_df is a join of a dataframes for Qdrant and Milvus data based on\n",
    "# (Qdrant and Milvus have equal rounded mean_precisions in the same dataset)\n",
    "merged_df = pd.merge(\n",
    "    qdrant_search_df,                  # Left DataFrame\n",
    "    milvus_search_df,                  # Right DataFrame\n",
    "    left_on=['mean_precisions_rounded', 'dataset'],  # Keys in left DataFrame\n",
    "    right_on=['mean_precisions_rounded', 'dataset'], # Keys in right DataFrame\n",
    "    how='inner',                       # Type of join\n",
    "    suffixes=('_qdrant', '_milvus')    # Custom suffixes for overlapping columns\n",
    ")\n",
    "\n",
    "# Sorting by 'dataset_name' (ascending) and 'metric_milvus' (descending)\n",
    "merged_df = merged_df.sort_values(\n",
    "    by=['dataset', 'mean_precisions_rounded'], \n",
    "    ascending=[True, False]  # Ascending for dataset_name, Descending for metric_milvus\n",
    ")\n",
    "\n",
    "merged_df.info()"
   ]
  },
  {
   "cell_type": "code",
   "execution_count": 20,
   "id": "51e93705-85c9-4f20-a79e-6e27fa56ae24",
   "metadata": {},
   "outputs": [],
   "source": [
    "def show_joined_results_of_similar_precision(selected_datasets: list = None, selected_parallel: int = 100, metric: str = \"total_time\", precision: float = None) -> None:\n",
    "    # selected_m = [16, 32, 64]                    # m: possible values [16, 32, 64]\n",
    "    # selected_ef_construct = [128, 256, 512]      # ef_construct: possible values [128, 256, 512]\n",
    "    # selected_ef_search = [64, 128, 256, 512]     # ef_search: possible values [64, 128, 256, 512] - 64 only for Qdrant\n",
    "    \n",
    "    global merged_df\n",
    "    base_metric = 'mean_precisions_rounded'\n",
    "    \n",
    "    for dataset in selected_datasets:\n",
    "        print_h1(dataset)\n",
    "        print_h2(f\"search parallel {selected_parallel}\")\n",
    "        \n",
    "        filtered_df = merged_df[\n",
    "            (merged_df['dataset'] == dataset) & \n",
    "            (merged_df['parallel_search_qdrant'] == selected_parallel) &\n",
    "            (merged_df['parallel_search_milvus'] == selected_parallel) \n",
    "        ]\n",
    "        # filter by precision if provided\n",
    "        if precision: filtered_df = filtered_df[ (filtered_df['mean_precisions_rounded'] == precision) ]\n",
    "\n",
    "        selected_columns = filtered_df[['dataset', base_metric, 'config_qdrant', f'{metric}_qdrant', 'config_milvus', f'{metric}_milvus']]\n",
    "        display(selected_columns)"
   ]
  },
  {
   "cell_type": "code",
   "execution_count": 26,
   "id": "09831d1d-c2ad-4d14-bf0c-a277752a5b84",
   "metadata": {},
   "outputs": [
    {
     "name": "stdout",
     "output_type": "stream",
     "text": [
      "\n",
      "\n",
      "****************************************************************************************************\n",
      "************************************ Dataset: glove-100-angular ************************************\n",
      "****************************************************************************************************\n",
      "\n",
      "\n",
      "*************************************** search parallel 100 ***************************************\n",
      "\n"
     ]
    },
    {
     "data": {
      "text/html": [
       "<div>\n",
       "<style scoped>\n",
       "    .dataframe tbody tr th:only-of-type {\n",
       "        vertical-align: middle;\n",
       "    }\n",
       "\n",
       "    .dataframe tbody tr th {\n",
       "        vertical-align: top;\n",
       "    }\n",
       "\n",
       "    .dataframe thead th {\n",
       "        text-align: right;\n",
       "    }\n",
       "</style>\n",
       "<table border=\"1\" class=\"dataframe\">\n",
       "  <thead>\n",
       "    <tr style=\"text-align: right;\">\n",
       "      <th></th>\n",
       "      <th>dataset</th>\n",
       "      <th>mean_precisions_rounded</th>\n",
       "      <th>config_qdrant</th>\n",
       "      <th>total_time_qdrant</th>\n",
       "      <th>config_milvus</th>\n",
       "      <th>total_time_milvus</th>\n",
       "    </tr>\n",
       "  </thead>\n",
       "  <tbody>\n",
       "  </tbody>\n",
       "</table>\n",
       "</div>"
      ],
      "text/plain": [
       "Empty DataFrame\n",
       "Columns: [dataset, mean_precisions_rounded, config_qdrant, total_time_qdrant, config_milvus, total_time_milvus]\n",
       "Index: []"
      ]
     },
     "metadata": {},
     "output_type": "display_data"
    },
    {
     "name": "stdout",
     "output_type": "stream",
     "text": [
      "\n",
      "\n",
      "****************************************************************************************************\n",
      "*********************** Dataset: random-match-keyword-100-angular-no-filters ***********************\n",
      "****************************************************************************************************\n",
      "\n",
      "\n",
      "*************************************** search parallel 100 ***************************************\n",
      "\n"
     ]
    },
    {
     "data": {
      "text/html": [
       "<div>\n",
       "<style scoped>\n",
       "    .dataframe tbody tr th:only-of-type {\n",
       "        vertical-align: middle;\n",
       "    }\n",
       "\n",
       "    .dataframe tbody tr th {\n",
       "        vertical-align: top;\n",
       "    }\n",
       "\n",
       "    .dataframe thead th {\n",
       "        text-align: right;\n",
       "    }\n",
       "</style>\n",
       "<table border=\"1\" class=\"dataframe\">\n",
       "  <thead>\n",
       "    <tr style=\"text-align: right;\">\n",
       "      <th></th>\n",
       "      <th>dataset</th>\n",
       "      <th>mean_precisions_rounded</th>\n",
       "      <th>config_qdrant</th>\n",
       "      <th>total_time_qdrant</th>\n",
       "      <th>config_milvus</th>\n",
       "      <th>total_time_milvus</th>\n",
       "    </tr>\n",
       "  </thead>\n",
       "  <tbody>\n",
       "    <tr>\n",
       "      <th>4927</th>\n",
       "      <td>random-match-keyword-100-angular-no-filters</td>\n",
       "      <td>0.99</td>\n",
       "      <td>qdrant-m-32-ef-256-parallel-100-ef-search-512</td>\n",
       "      <td>60.004322</td>\n",
       "      <td>milvus-m-64-ef-512-parallel-100-ef-search-512</td>\n",
       "      <td>42.804713</td>\n",
       "    </tr>\n",
       "    <tr>\n",
       "      <th>4931</th>\n",
       "      <td>random-match-keyword-100-angular-no-filters</td>\n",
       "      <td>0.99</td>\n",
       "      <td>qdrant-m-32-ef-512-parallel-100-ef-search-512</td>\n",
       "      <td>63.540944</td>\n",
       "      <td>milvus-m-64-ef-512-parallel-100-ef-search-512</td>\n",
       "      <td>42.804713</td>\n",
       "    </tr>\n",
       "    <tr>\n",
       "      <th>4935</th>\n",
       "      <td>random-match-keyword-100-angular-no-filters</td>\n",
       "      <td>0.99</td>\n",
       "      <td>qdrant-m-64-ef-256-parallel-100-ef-search-256</td>\n",
       "      <td>56.089397</td>\n",
       "      <td>milvus-m-64-ef-512-parallel-100-ef-search-512</td>\n",
       "      <td>42.804713</td>\n",
       "    </tr>\n",
       "  </tbody>\n",
       "</table>\n",
       "</div>"
      ],
      "text/plain": [
       "                                          dataset  mean_precisions_rounded  \\\n",
       "4927  random-match-keyword-100-angular-no-filters                     0.99   \n",
       "4931  random-match-keyword-100-angular-no-filters                     0.99   \n",
       "4935  random-match-keyword-100-angular-no-filters                     0.99   \n",
       "\n",
       "                                      config_qdrant  total_time_qdrant  \\\n",
       "4927  qdrant-m-32-ef-256-parallel-100-ef-search-512          60.004322   \n",
       "4931  qdrant-m-32-ef-512-parallel-100-ef-search-512          63.540944   \n",
       "4935  qdrant-m-64-ef-256-parallel-100-ef-search-256          56.089397   \n",
       "\n",
       "                                      config_milvus  total_time_milvus  \n",
       "4927  milvus-m-64-ef-512-parallel-100-ef-search-512          42.804713  \n",
       "4931  milvus-m-64-ef-512-parallel-100-ef-search-512          42.804713  \n",
       "4935  milvus-m-64-ef-512-parallel-100-ef-search-512          42.804713  "
      ]
     },
     "metadata": {},
     "output_type": "display_data"
    },
    {
     "name": "stdout",
     "output_type": "stream",
     "text": [
      "\n",
      "\n",
      "****************************************************************************************************\n",
      "***************************** Dataset: h-and-m-2048-angular-no-filters *****************************\n",
      "****************************************************************************************************\n",
      "\n",
      "\n",
      "*************************************** search parallel 100 ***************************************\n",
      "\n"
     ]
    },
    {
     "data": {
      "text/html": [
       "<div>\n",
       "<style scoped>\n",
       "    .dataframe tbody tr th:only-of-type {\n",
       "        vertical-align: middle;\n",
       "    }\n",
       "\n",
       "    .dataframe tbody tr th {\n",
       "        vertical-align: top;\n",
       "    }\n",
       "\n",
       "    .dataframe thead th {\n",
       "        text-align: right;\n",
       "    }\n",
       "</style>\n",
       "<table border=\"1\" class=\"dataframe\">\n",
       "  <thead>\n",
       "    <tr style=\"text-align: right;\">\n",
       "      <th></th>\n",
       "      <th>dataset</th>\n",
       "      <th>mean_precisions_rounded</th>\n",
       "      <th>config_qdrant</th>\n",
       "      <th>total_time_qdrant</th>\n",
       "      <th>config_milvus</th>\n",
       "      <th>total_time_milvus</th>\n",
       "    </tr>\n",
       "  </thead>\n",
       "  <tbody>\n",
       "  </tbody>\n",
       "</table>\n",
       "</div>"
      ],
      "text/plain": [
       "Empty DataFrame\n",
       "Columns: [dataset, mean_precisions_rounded, config_qdrant, total_time_qdrant, config_milvus, total_time_milvus]\n",
       "Index: []"
      ]
     },
     "metadata": {},
     "output_type": "display_data"
    },
    {
     "name": "stdout",
     "output_type": "stream",
     "text": [
      "\n",
      "\n",
      "****************************************************************************************************\n",
      "*********************************** Dataset: gist-960-euclidean ***********************************\n",
      "****************************************************************************************************\n",
      "\n",
      "\n",
      "*************************************** search parallel 100 ***************************************\n",
      "\n"
     ]
    },
    {
     "data": {
      "text/html": [
       "<div>\n",
       "<style scoped>\n",
       "    .dataframe tbody tr th:only-of-type {\n",
       "        vertical-align: middle;\n",
       "    }\n",
       "\n",
       "    .dataframe tbody tr th {\n",
       "        vertical-align: top;\n",
       "    }\n",
       "\n",
       "    .dataframe thead th {\n",
       "        text-align: right;\n",
       "    }\n",
       "</style>\n",
       "<table border=\"1\" class=\"dataframe\">\n",
       "  <thead>\n",
       "    <tr style=\"text-align: right;\">\n",
       "      <th></th>\n",
       "      <th>dataset</th>\n",
       "      <th>mean_precisions_rounded</th>\n",
       "      <th>config_qdrant</th>\n",
       "      <th>total_time_qdrant</th>\n",
       "      <th>config_milvus</th>\n",
       "      <th>total_time_milvus</th>\n",
       "    </tr>\n",
       "  </thead>\n",
       "  <tbody>\n",
       "    <tr>\n",
       "      <th>4651</th>\n",
       "      <td>gist-960-euclidean</td>\n",
       "      <td>0.99</td>\n",
       "      <td>qdrant-m-16-ef-128-parallel-100-ef-search-512</td>\n",
       "      <td>7.416244</td>\n",
       "      <td>milvus-m-32-ef-128-parallel-100-ef-search-512</td>\n",
       "      <td>10.736340</td>\n",
       "    </tr>\n",
       "    <tr>\n",
       "      <th>4653</th>\n",
       "      <td>gist-960-euclidean</td>\n",
       "      <td>0.99</td>\n",
       "      <td>qdrant-m-16-ef-128-parallel-100-ef-search-512</td>\n",
       "      <td>7.416244</td>\n",
       "      <td>milvus-m-32-ef-256-parallel-100-ef-search-512</td>\n",
       "      <td>10.277726</td>\n",
       "    </tr>\n",
       "    <tr>\n",
       "      <th>4655</th>\n",
       "      <td>gist-960-euclidean</td>\n",
       "      <td>0.99</td>\n",
       "      <td>qdrant-m-16-ef-128-parallel-100-ef-search-512</td>\n",
       "      <td>7.416244</td>\n",
       "      <td>milvus-m-32-ef-512-parallel-100-ef-search-256</td>\n",
       "      <td>7.413355</td>\n",
       "    </tr>\n",
       "    <tr>\n",
       "      <th>4657</th>\n",
       "      <td>gist-960-euclidean</td>\n",
       "      <td>0.99</td>\n",
       "      <td>qdrant-m-16-ef-128-parallel-100-ef-search-512</td>\n",
       "      <td>7.416244</td>\n",
       "      <td>milvus-m-64-ef-256-parallel-100-ef-search-256</td>\n",
       "      <td>9.003764</td>\n",
       "    </tr>\n",
       "    <tr>\n",
       "      <th>4659</th>\n",
       "      <td>gist-960-euclidean</td>\n",
       "      <td>0.99</td>\n",
       "      <td>qdrant-m-16-ef-128-parallel-100-ef-search-512</td>\n",
       "      <td>7.416244</td>\n",
       "      <td>milvus-m-64-ef-512-parallel-100-ef-search-256</td>\n",
       "      <td>9.507221</td>\n",
       "    </tr>\n",
       "    <tr>\n",
       "      <th>4671</th>\n",
       "      <td>gist-960-euclidean</td>\n",
       "      <td>0.99</td>\n",
       "      <td>qdrant-m-32-ef-128-parallel-100-ef-search-512</td>\n",
       "      <td>9.095007</td>\n",
       "      <td>milvus-m-32-ef-128-parallel-100-ef-search-512</td>\n",
       "      <td>10.736340</td>\n",
       "    </tr>\n",
       "    <tr>\n",
       "      <th>4673</th>\n",
       "      <td>gist-960-euclidean</td>\n",
       "      <td>0.99</td>\n",
       "      <td>qdrant-m-32-ef-128-parallel-100-ef-search-512</td>\n",
       "      <td>9.095007</td>\n",
       "      <td>milvus-m-32-ef-256-parallel-100-ef-search-512</td>\n",
       "      <td>10.277726</td>\n",
       "    </tr>\n",
       "    <tr>\n",
       "      <th>4675</th>\n",
       "      <td>gist-960-euclidean</td>\n",
       "      <td>0.99</td>\n",
       "      <td>qdrant-m-32-ef-128-parallel-100-ef-search-512</td>\n",
       "      <td>9.095007</td>\n",
       "      <td>milvus-m-32-ef-512-parallel-100-ef-search-256</td>\n",
       "      <td>7.413355</td>\n",
       "    </tr>\n",
       "    <tr>\n",
       "      <th>4677</th>\n",
       "      <td>gist-960-euclidean</td>\n",
       "      <td>0.99</td>\n",
       "      <td>qdrant-m-32-ef-128-parallel-100-ef-search-512</td>\n",
       "      <td>9.095007</td>\n",
       "      <td>milvus-m-64-ef-256-parallel-100-ef-search-256</td>\n",
       "      <td>9.003764</td>\n",
       "    </tr>\n",
       "    <tr>\n",
       "      <th>4679</th>\n",
       "      <td>gist-960-euclidean</td>\n",
       "      <td>0.99</td>\n",
       "      <td>qdrant-m-32-ef-128-parallel-100-ef-search-512</td>\n",
       "      <td>9.095007</td>\n",
       "      <td>milvus-m-64-ef-512-parallel-100-ef-search-256</td>\n",
       "      <td>9.507221</td>\n",
       "    </tr>\n",
       "    <tr>\n",
       "      <th>4691</th>\n",
       "      <td>gist-960-euclidean</td>\n",
       "      <td>0.99</td>\n",
       "      <td>qdrant-m-32-ef-256-parallel-100-ef-search-128</td>\n",
       "      <td>83.385490</td>\n",
       "      <td>milvus-m-32-ef-128-parallel-100-ef-search-512</td>\n",
       "      <td>10.736340</td>\n",
       "    </tr>\n",
       "    <tr>\n",
       "      <th>4693</th>\n",
       "      <td>gist-960-euclidean</td>\n",
       "      <td>0.99</td>\n",
       "      <td>qdrant-m-32-ef-256-parallel-100-ef-search-128</td>\n",
       "      <td>83.385490</td>\n",
       "      <td>milvus-m-32-ef-256-parallel-100-ef-search-512</td>\n",
       "      <td>10.277726</td>\n",
       "    </tr>\n",
       "    <tr>\n",
       "      <th>4695</th>\n",
       "      <td>gist-960-euclidean</td>\n",
       "      <td>0.99</td>\n",
       "      <td>qdrant-m-32-ef-256-parallel-100-ef-search-128</td>\n",
       "      <td>83.385490</td>\n",
       "      <td>milvus-m-32-ef-512-parallel-100-ef-search-256</td>\n",
       "      <td>7.413355</td>\n",
       "    </tr>\n",
       "    <tr>\n",
       "      <th>4697</th>\n",
       "      <td>gist-960-euclidean</td>\n",
       "      <td>0.99</td>\n",
       "      <td>qdrant-m-32-ef-256-parallel-100-ef-search-128</td>\n",
       "      <td>83.385490</td>\n",
       "      <td>milvus-m-64-ef-256-parallel-100-ef-search-256</td>\n",
       "      <td>9.003764</td>\n",
       "    </tr>\n",
       "    <tr>\n",
       "      <th>4699</th>\n",
       "      <td>gist-960-euclidean</td>\n",
       "      <td>0.99</td>\n",
       "      <td>qdrant-m-32-ef-256-parallel-100-ef-search-128</td>\n",
       "      <td>83.385490</td>\n",
       "      <td>milvus-m-64-ef-512-parallel-100-ef-search-256</td>\n",
       "      <td>9.507221</td>\n",
       "    </tr>\n",
       "    <tr>\n",
       "      <th>4711</th>\n",
       "      <td>gist-960-euclidean</td>\n",
       "      <td>0.99</td>\n",
       "      <td>qdrant-m-32-ef-512-parallel-100-ef-search-256</td>\n",
       "      <td>7.594702</td>\n",
       "      <td>milvus-m-32-ef-128-parallel-100-ef-search-512</td>\n",
       "      <td>10.736340</td>\n",
       "    </tr>\n",
       "    <tr>\n",
       "      <th>4713</th>\n",
       "      <td>gist-960-euclidean</td>\n",
       "      <td>0.99</td>\n",
       "      <td>qdrant-m-32-ef-512-parallel-100-ef-search-256</td>\n",
       "      <td>7.594702</td>\n",
       "      <td>milvus-m-32-ef-256-parallel-100-ef-search-512</td>\n",
       "      <td>10.277726</td>\n",
       "    </tr>\n",
       "    <tr>\n",
       "      <th>4715</th>\n",
       "      <td>gist-960-euclidean</td>\n",
       "      <td>0.99</td>\n",
       "      <td>qdrant-m-32-ef-512-parallel-100-ef-search-256</td>\n",
       "      <td>7.594702</td>\n",
       "      <td>milvus-m-32-ef-512-parallel-100-ef-search-256</td>\n",
       "      <td>7.413355</td>\n",
       "    </tr>\n",
       "    <tr>\n",
       "      <th>4717</th>\n",
       "      <td>gist-960-euclidean</td>\n",
       "      <td>0.99</td>\n",
       "      <td>qdrant-m-32-ef-512-parallel-100-ef-search-256</td>\n",
       "      <td>7.594702</td>\n",
       "      <td>milvus-m-64-ef-256-parallel-100-ef-search-256</td>\n",
       "      <td>9.003764</td>\n",
       "    </tr>\n",
       "    <tr>\n",
       "      <th>4719</th>\n",
       "      <td>gist-960-euclidean</td>\n",
       "      <td>0.99</td>\n",
       "      <td>qdrant-m-32-ef-512-parallel-100-ef-search-256</td>\n",
       "      <td>7.594702</td>\n",
       "      <td>milvus-m-64-ef-512-parallel-100-ef-search-256</td>\n",
       "      <td>9.507221</td>\n",
       "    </tr>\n",
       "    <tr>\n",
       "      <th>4731</th>\n",
       "      <td>gist-960-euclidean</td>\n",
       "      <td>0.99</td>\n",
       "      <td>qdrant-m-64-ef-256-parallel-100-ef-search-128</td>\n",
       "      <td>78.425999</td>\n",
       "      <td>milvus-m-32-ef-128-parallel-100-ef-search-512</td>\n",
       "      <td>10.736340</td>\n",
       "    </tr>\n",
       "    <tr>\n",
       "      <th>4733</th>\n",
       "      <td>gist-960-euclidean</td>\n",
       "      <td>0.99</td>\n",
       "      <td>qdrant-m-64-ef-256-parallel-100-ef-search-128</td>\n",
       "      <td>78.425999</td>\n",
       "      <td>milvus-m-32-ef-256-parallel-100-ef-search-512</td>\n",
       "      <td>10.277726</td>\n",
       "    </tr>\n",
       "    <tr>\n",
       "      <th>4735</th>\n",
       "      <td>gist-960-euclidean</td>\n",
       "      <td>0.99</td>\n",
       "      <td>qdrant-m-64-ef-256-parallel-100-ef-search-128</td>\n",
       "      <td>78.425999</td>\n",
       "      <td>milvus-m-32-ef-512-parallel-100-ef-search-256</td>\n",
       "      <td>7.413355</td>\n",
       "    </tr>\n",
       "    <tr>\n",
       "      <th>4737</th>\n",
       "      <td>gist-960-euclidean</td>\n",
       "      <td>0.99</td>\n",
       "      <td>qdrant-m-64-ef-256-parallel-100-ef-search-128</td>\n",
       "      <td>78.425999</td>\n",
       "      <td>milvus-m-64-ef-256-parallel-100-ef-search-256</td>\n",
       "      <td>9.003764</td>\n",
       "    </tr>\n",
       "    <tr>\n",
       "      <th>4739</th>\n",
       "      <td>gist-960-euclidean</td>\n",
       "      <td>0.99</td>\n",
       "      <td>qdrant-m-64-ef-256-parallel-100-ef-search-128</td>\n",
       "      <td>78.425999</td>\n",
       "      <td>milvus-m-64-ef-512-parallel-100-ef-search-256</td>\n",
       "      <td>9.507221</td>\n",
       "    </tr>\n",
       "    <tr>\n",
       "      <th>4751</th>\n",
       "      <td>gist-960-euclidean</td>\n",
       "      <td>0.99</td>\n",
       "      <td>qdrant-m-64-ef-512-parallel-100-ef-search-128</td>\n",
       "      <td>5.578980</td>\n",
       "      <td>milvus-m-32-ef-128-parallel-100-ef-search-512</td>\n",
       "      <td>10.736340</td>\n",
       "    </tr>\n",
       "    <tr>\n",
       "      <th>4753</th>\n",
       "      <td>gist-960-euclidean</td>\n",
       "      <td>0.99</td>\n",
       "      <td>qdrant-m-64-ef-512-parallel-100-ef-search-128</td>\n",
       "      <td>5.578980</td>\n",
       "      <td>milvus-m-32-ef-256-parallel-100-ef-search-512</td>\n",
       "      <td>10.277726</td>\n",
       "    </tr>\n",
       "    <tr>\n",
       "      <th>4755</th>\n",
       "      <td>gist-960-euclidean</td>\n",
       "      <td>0.99</td>\n",
       "      <td>qdrant-m-64-ef-512-parallel-100-ef-search-128</td>\n",
       "      <td>5.578980</td>\n",
       "      <td>milvus-m-32-ef-512-parallel-100-ef-search-256</td>\n",
       "      <td>7.413355</td>\n",
       "    </tr>\n",
       "    <tr>\n",
       "      <th>4757</th>\n",
       "      <td>gist-960-euclidean</td>\n",
       "      <td>0.99</td>\n",
       "      <td>qdrant-m-64-ef-512-parallel-100-ef-search-128</td>\n",
       "      <td>5.578980</td>\n",
       "      <td>milvus-m-64-ef-256-parallel-100-ef-search-256</td>\n",
       "      <td>9.003764</td>\n",
       "    </tr>\n",
       "    <tr>\n",
       "      <th>4759</th>\n",
       "      <td>gist-960-euclidean</td>\n",
       "      <td>0.99</td>\n",
       "      <td>qdrant-m-64-ef-512-parallel-100-ef-search-128</td>\n",
       "      <td>5.578980</td>\n",
       "      <td>milvus-m-64-ef-512-parallel-100-ef-search-256</td>\n",
       "      <td>9.507221</td>\n",
       "    </tr>\n",
       "  </tbody>\n",
       "</table>\n",
       "</div>"
      ],
      "text/plain": [
       "                 dataset  mean_precisions_rounded  \\\n",
       "4651  gist-960-euclidean                     0.99   \n",
       "4653  gist-960-euclidean                     0.99   \n",
       "4655  gist-960-euclidean                     0.99   \n",
       "4657  gist-960-euclidean                     0.99   \n",
       "4659  gist-960-euclidean                     0.99   \n",
       "4671  gist-960-euclidean                     0.99   \n",
       "4673  gist-960-euclidean                     0.99   \n",
       "4675  gist-960-euclidean                     0.99   \n",
       "4677  gist-960-euclidean                     0.99   \n",
       "4679  gist-960-euclidean                     0.99   \n",
       "4691  gist-960-euclidean                     0.99   \n",
       "4693  gist-960-euclidean                     0.99   \n",
       "4695  gist-960-euclidean                     0.99   \n",
       "4697  gist-960-euclidean                     0.99   \n",
       "4699  gist-960-euclidean                     0.99   \n",
       "4711  gist-960-euclidean                     0.99   \n",
       "4713  gist-960-euclidean                     0.99   \n",
       "4715  gist-960-euclidean                     0.99   \n",
       "4717  gist-960-euclidean                     0.99   \n",
       "4719  gist-960-euclidean                     0.99   \n",
       "4731  gist-960-euclidean                     0.99   \n",
       "4733  gist-960-euclidean                     0.99   \n",
       "4735  gist-960-euclidean                     0.99   \n",
       "4737  gist-960-euclidean                     0.99   \n",
       "4739  gist-960-euclidean                     0.99   \n",
       "4751  gist-960-euclidean                     0.99   \n",
       "4753  gist-960-euclidean                     0.99   \n",
       "4755  gist-960-euclidean                     0.99   \n",
       "4757  gist-960-euclidean                     0.99   \n",
       "4759  gist-960-euclidean                     0.99   \n",
       "\n",
       "                                      config_qdrant  total_time_qdrant  \\\n",
       "4651  qdrant-m-16-ef-128-parallel-100-ef-search-512           7.416244   \n",
       "4653  qdrant-m-16-ef-128-parallel-100-ef-search-512           7.416244   \n",
       "4655  qdrant-m-16-ef-128-parallel-100-ef-search-512           7.416244   \n",
       "4657  qdrant-m-16-ef-128-parallel-100-ef-search-512           7.416244   \n",
       "4659  qdrant-m-16-ef-128-parallel-100-ef-search-512           7.416244   \n",
       "4671  qdrant-m-32-ef-128-parallel-100-ef-search-512           9.095007   \n",
       "4673  qdrant-m-32-ef-128-parallel-100-ef-search-512           9.095007   \n",
       "4675  qdrant-m-32-ef-128-parallel-100-ef-search-512           9.095007   \n",
       "4677  qdrant-m-32-ef-128-parallel-100-ef-search-512           9.095007   \n",
       "4679  qdrant-m-32-ef-128-parallel-100-ef-search-512           9.095007   \n",
       "4691  qdrant-m-32-ef-256-parallel-100-ef-search-128          83.385490   \n",
       "4693  qdrant-m-32-ef-256-parallel-100-ef-search-128          83.385490   \n",
       "4695  qdrant-m-32-ef-256-parallel-100-ef-search-128          83.385490   \n",
       "4697  qdrant-m-32-ef-256-parallel-100-ef-search-128          83.385490   \n",
       "4699  qdrant-m-32-ef-256-parallel-100-ef-search-128          83.385490   \n",
       "4711  qdrant-m-32-ef-512-parallel-100-ef-search-256           7.594702   \n",
       "4713  qdrant-m-32-ef-512-parallel-100-ef-search-256           7.594702   \n",
       "4715  qdrant-m-32-ef-512-parallel-100-ef-search-256           7.594702   \n",
       "4717  qdrant-m-32-ef-512-parallel-100-ef-search-256           7.594702   \n",
       "4719  qdrant-m-32-ef-512-parallel-100-ef-search-256           7.594702   \n",
       "4731  qdrant-m-64-ef-256-parallel-100-ef-search-128          78.425999   \n",
       "4733  qdrant-m-64-ef-256-parallel-100-ef-search-128          78.425999   \n",
       "4735  qdrant-m-64-ef-256-parallel-100-ef-search-128          78.425999   \n",
       "4737  qdrant-m-64-ef-256-parallel-100-ef-search-128          78.425999   \n",
       "4739  qdrant-m-64-ef-256-parallel-100-ef-search-128          78.425999   \n",
       "4751  qdrant-m-64-ef-512-parallel-100-ef-search-128           5.578980   \n",
       "4753  qdrant-m-64-ef-512-parallel-100-ef-search-128           5.578980   \n",
       "4755  qdrant-m-64-ef-512-parallel-100-ef-search-128           5.578980   \n",
       "4757  qdrant-m-64-ef-512-parallel-100-ef-search-128           5.578980   \n",
       "4759  qdrant-m-64-ef-512-parallel-100-ef-search-128           5.578980   \n",
       "\n",
       "                                      config_milvus  total_time_milvus  \n",
       "4651  milvus-m-32-ef-128-parallel-100-ef-search-512          10.736340  \n",
       "4653  milvus-m-32-ef-256-parallel-100-ef-search-512          10.277726  \n",
       "4655  milvus-m-32-ef-512-parallel-100-ef-search-256           7.413355  \n",
       "4657  milvus-m-64-ef-256-parallel-100-ef-search-256           9.003764  \n",
       "4659  milvus-m-64-ef-512-parallel-100-ef-search-256           9.507221  \n",
       "4671  milvus-m-32-ef-128-parallel-100-ef-search-512          10.736340  \n",
       "4673  milvus-m-32-ef-256-parallel-100-ef-search-512          10.277726  \n",
       "4675  milvus-m-32-ef-512-parallel-100-ef-search-256           7.413355  \n",
       "4677  milvus-m-64-ef-256-parallel-100-ef-search-256           9.003764  \n",
       "4679  milvus-m-64-ef-512-parallel-100-ef-search-256           9.507221  \n",
       "4691  milvus-m-32-ef-128-parallel-100-ef-search-512          10.736340  \n",
       "4693  milvus-m-32-ef-256-parallel-100-ef-search-512          10.277726  \n",
       "4695  milvus-m-32-ef-512-parallel-100-ef-search-256           7.413355  \n",
       "4697  milvus-m-64-ef-256-parallel-100-ef-search-256           9.003764  \n",
       "4699  milvus-m-64-ef-512-parallel-100-ef-search-256           9.507221  \n",
       "4711  milvus-m-32-ef-128-parallel-100-ef-search-512          10.736340  \n",
       "4713  milvus-m-32-ef-256-parallel-100-ef-search-512          10.277726  \n",
       "4715  milvus-m-32-ef-512-parallel-100-ef-search-256           7.413355  \n",
       "4717  milvus-m-64-ef-256-parallel-100-ef-search-256           9.003764  \n",
       "4719  milvus-m-64-ef-512-parallel-100-ef-search-256           9.507221  \n",
       "4731  milvus-m-32-ef-128-parallel-100-ef-search-512          10.736340  \n",
       "4733  milvus-m-32-ef-256-parallel-100-ef-search-512          10.277726  \n",
       "4735  milvus-m-32-ef-512-parallel-100-ef-search-256           7.413355  \n",
       "4737  milvus-m-64-ef-256-parallel-100-ef-search-256           9.003764  \n",
       "4739  milvus-m-64-ef-512-parallel-100-ef-search-256           9.507221  \n",
       "4751  milvus-m-32-ef-128-parallel-100-ef-search-512          10.736340  \n",
       "4753  milvus-m-32-ef-256-parallel-100-ef-search-512          10.277726  \n",
       "4755  milvus-m-32-ef-512-parallel-100-ef-search-256           7.413355  \n",
       "4757  milvus-m-64-ef-256-parallel-100-ef-search-256           9.003764  \n",
       "4759  milvus-m-64-ef-512-parallel-100-ef-search-256           9.507221  "
      ]
     },
     "metadata": {},
     "output_type": "display_data"
    }
   ],
   "source": [
    "show_joined_results_of_similar_precision(tested_datasets, precision=0.99)"
   ]
  },
  {
   "cell_type": "markdown",
   "id": "bf1e67cd-0f41-4609-98fc-95e8c15b3aa6",
   "metadata": {
    "jp-MarkdownHeadingCollapsed": true
   },
   "source": [
    "### Union of similar precision results"
   ]
  },
  {
   "cell_type": "code",
   "execution_count": 29,
   "id": "38dc696a-db22-4fb8-a6bd-241f0f50e3f4",
   "metadata": {},
   "outputs": [],
   "source": [
    "def show_union_results_of_similar_precision(selected_datasets: list = None, selected_parallel: int = 100, metric: str = \"total_time\", precision: float = None) -> None:\n",
    "    base_metric = 'mean_precisions_rounded'\n",
    "    union_df = pd.concat([qdrant_search_df, milvus_search_df], axis=0)\n",
    "    union_df = union_df.sort_values(\n",
    "        by=['dataset', 'mean_precisions_rounded'], \n",
    "        ascending=[True, False]  # Ascending for dataset_name, Descending for metric_milvus\n",
    "    )\n",
    "    for dataset in selected_datasets:\n",
    "        print_h1(dataset)\n",
    "        print_h2(f\"search parallel {selected_parallel}\")\n",
    "        filtered_df = union_df[\n",
    "            (union_df['dataset'] == dataset) & \n",
    "            (union_df['parallel_search'] == selected_parallel) \n",
    "        ]\n",
    "        # filter by precision if provided\n",
    "        if precision: filtered_df = filtered_df[ (filtered_df['mean_precisions_rounded'] == precision) ]\n",
    "\n",
    "        selected_columns = ['dataset', 'mean_precisions_rounded', 'config']\n",
    "        display(filtered_df[selected_columns])"
   ]
  },
  {
   "cell_type": "code",
   "execution_count": 30,
   "id": "cc24682f-1700-49ce-aca5-ef134290187d",
   "metadata": {},
   "outputs": [
    {
     "name": "stdout",
     "output_type": "stream",
     "text": [
      "\n",
      "\n",
      "****************************************************************************************************\n",
      "************************************ Dataset: glove-100-angular ************************************\n",
      "****************************************************************************************************\n",
      "\n",
      "\n",
      "*************************************** search parallel 100 ***************************************\n",
      "\n"
     ]
    },
    {
     "data": {
      "text/html": [
       "<div>\n",
       "<style scoped>\n",
       "    .dataframe tbody tr th:only-of-type {\n",
       "        vertical-align: middle;\n",
       "    }\n",
       "\n",
       "    .dataframe tbody tr th {\n",
       "        vertical-align: top;\n",
       "    }\n",
       "\n",
       "    .dataframe thead th {\n",
       "        text-align: right;\n",
       "    }\n",
       "</style>\n",
       "<table border=\"1\" class=\"dataframe\">\n",
       "  <thead>\n",
       "    <tr style=\"text-align: right;\">\n",
       "      <th></th>\n",
       "      <th>dataset</th>\n",
       "      <th>mean_precisions_rounded</th>\n",
       "      <th>config</th>\n",
       "    </tr>\n",
       "  </thead>\n",
       "  <tbody>\n",
       "    <tr>\n",
       "      <th>199</th>\n",
       "      <td>glove-100-angular</td>\n",
       "      <td>0.99</td>\n",
       "      <td>qdrant-m-32-ef-256-parallel-100-ef-search-512</td>\n",
       "    </tr>\n",
       "    <tr>\n",
       "      <th>271</th>\n",
       "      <td>glove-100-angular</td>\n",
       "      <td>0.99</td>\n",
       "      <td>qdrant-m-32-ef-512-parallel-100-ef-search-512</td>\n",
       "    </tr>\n",
       "    <tr>\n",
       "      <th>406</th>\n",
       "      <td>glove-100-angular</td>\n",
       "      <td>0.99</td>\n",
       "      <td>qdrant-m-64-ef-512-parallel-100-ef-search-256</td>\n",
       "    </tr>\n",
       "  </tbody>\n",
       "</table>\n",
       "</div>"
      ],
      "text/plain": [
       "               dataset  mean_precisions_rounded  \\\n",
       "199  glove-100-angular                     0.99   \n",
       "271  glove-100-angular                     0.99   \n",
       "406  glove-100-angular                     0.99   \n",
       "\n",
       "                                            config  \n",
       "199  qdrant-m-32-ef-256-parallel-100-ef-search-512  \n",
       "271  qdrant-m-32-ef-512-parallel-100-ef-search-512  \n",
       "406  qdrant-m-64-ef-512-parallel-100-ef-search-256  "
      ]
     },
     "metadata": {},
     "output_type": "display_data"
    },
    {
     "name": "stdout",
     "output_type": "stream",
     "text": [
      "\n",
      "\n",
      "****************************************************************************************************\n",
      "*********************** Dataset: random-match-keyword-100-angular-no-filters ***********************\n",
      "****************************************************************************************************\n",
      "\n",
      "\n",
      "*************************************** search parallel 100 ***************************************\n",
      "\n"
     ]
    },
    {
     "data": {
      "text/html": [
       "<div>\n",
       "<style scoped>\n",
       "    .dataframe tbody tr th:only-of-type {\n",
       "        vertical-align: middle;\n",
       "    }\n",
       "\n",
       "    .dataframe tbody tr th {\n",
       "        vertical-align: top;\n",
       "    }\n",
       "\n",
       "    .dataframe thead th {\n",
       "        text-align: right;\n",
       "    }\n",
       "</style>\n",
       "<table border=\"1\" class=\"dataframe\">\n",
       "  <thead>\n",
       "    <tr style=\"text-align: right;\">\n",
       "      <th></th>\n",
       "      <th>dataset</th>\n",
       "      <th>mean_precisions_rounded</th>\n",
       "      <th>config</th>\n",
       "    </tr>\n",
       "  </thead>\n",
       "  <tbody>\n",
       "    <tr>\n",
       "      <th>206</th>\n",
       "      <td>random-match-keyword-100-angular-no-filters</td>\n",
       "      <td>0.99</td>\n",
       "      <td>qdrant-m-32-ef-256-parallel-100-ef-search-512</td>\n",
       "    </tr>\n",
       "    <tr>\n",
       "      <th>278</th>\n",
       "      <td>random-match-keyword-100-angular-no-filters</td>\n",
       "      <td>0.99</td>\n",
       "      <td>qdrant-m-32-ef-512-parallel-100-ef-search-512</td>\n",
       "    </tr>\n",
       "    <tr>\n",
       "      <th>341</th>\n",
       "      <td>random-match-keyword-100-angular-no-filters</td>\n",
       "      <td>0.99</td>\n",
       "      <td>qdrant-m-64-ef-256-parallel-100-ef-search-256</td>\n",
       "    </tr>\n",
       "    <tr>\n",
       "      <th>422</th>\n",
       "      <td>random-match-keyword-100-angular-no-filters</td>\n",
       "      <td>0.99</td>\n",
       "      <td>milvus-m-64-ef-512-parallel-100-ef-search-512</td>\n",
       "    </tr>\n",
       "  </tbody>\n",
       "</table>\n",
       "</div>"
      ],
      "text/plain": [
       "                                         dataset  mean_precisions_rounded  \\\n",
       "206  random-match-keyword-100-angular-no-filters                     0.99   \n",
       "278  random-match-keyword-100-angular-no-filters                     0.99   \n",
       "341  random-match-keyword-100-angular-no-filters                     0.99   \n",
       "422  random-match-keyword-100-angular-no-filters                     0.99   \n",
       "\n",
       "                                            config  \n",
       "206  qdrant-m-32-ef-256-parallel-100-ef-search-512  \n",
       "278  qdrant-m-32-ef-512-parallel-100-ef-search-512  \n",
       "341  qdrant-m-64-ef-256-parallel-100-ef-search-256  \n",
       "422  milvus-m-64-ef-512-parallel-100-ef-search-512  "
      ]
     },
     "metadata": {},
     "output_type": "display_data"
    },
    {
     "name": "stdout",
     "output_type": "stream",
     "text": [
      "\n",
      "\n",
      "****************************************************************************************************\n",
      "***************************** Dataset: h-and-m-2048-angular-no-filters *****************************\n",
      "****************************************************************************************************\n",
      "\n",
      "\n",
      "*************************************** search parallel 100 ***************************************\n",
      "\n"
     ]
    },
    {
     "data": {
      "text/html": [
       "<div>\n",
       "<style scoped>\n",
       "    .dataframe tbody tr th:only-of-type {\n",
       "        vertical-align: middle;\n",
       "    }\n",
       "\n",
       "    .dataframe tbody tr th {\n",
       "        vertical-align: top;\n",
       "    }\n",
       "\n",
       "    .dataframe thead th {\n",
       "        text-align: right;\n",
       "    }\n",
       "</style>\n",
       "<table border=\"1\" class=\"dataframe\">\n",
       "  <thead>\n",
       "    <tr style=\"text-align: right;\">\n",
       "      <th></th>\n",
       "      <th>dataset</th>\n",
       "      <th>mean_precisions_rounded</th>\n",
       "      <th>config</th>\n",
       "    </tr>\n",
       "  </thead>\n",
       "  <tbody>\n",
       "  </tbody>\n",
       "</table>\n",
       "</div>"
      ],
      "text/plain": [
       "Empty DataFrame\n",
       "Columns: [dataset, mean_precisions_rounded, config]\n",
       "Index: []"
      ]
     },
     "metadata": {},
     "output_type": "display_data"
    },
    {
     "name": "stdout",
     "output_type": "stream",
     "text": [
      "\n",
      "\n",
      "****************************************************************************************************\n",
      "*********************************** Dataset: gist-960-euclidean ***********************************\n",
      "****************************************************************************************************\n",
      "\n",
      "\n",
      "*************************************** search parallel 100 ***************************************\n",
      "\n"
     ]
    },
    {
     "data": {
      "text/html": [
       "<div>\n",
       "<style scoped>\n",
       "    .dataframe tbody tr th:only-of-type {\n",
       "        vertical-align: middle;\n",
       "    }\n",
       "\n",
       "    .dataframe tbody tr th {\n",
       "        vertical-align: top;\n",
       "    }\n",
       "\n",
       "    .dataframe thead th {\n",
       "        text-align: right;\n",
       "    }\n",
       "</style>\n",
       "<table border=\"1\" class=\"dataframe\">\n",
       "  <thead>\n",
       "    <tr style=\"text-align: right;\">\n",
       "      <th></th>\n",
       "      <th>dataset</th>\n",
       "      <th>mean_precisions_rounded</th>\n",
       "      <th>config</th>\n",
       "    </tr>\n",
       "  </thead>\n",
       "  <tbody>\n",
       "    <tr>\n",
       "      <th>54</th>\n",
       "      <td>gist-960-euclidean</td>\n",
       "      <td>0.99</td>\n",
       "      <td>qdrant-m-16-ef-128-parallel-100-ef-search-512</td>\n",
       "    </tr>\n",
       "    <tr>\n",
       "      <th>126</th>\n",
       "      <td>gist-960-euclidean</td>\n",
       "      <td>0.99</td>\n",
       "      <td>qdrant-m-32-ef-128-parallel-100-ef-search-512</td>\n",
       "    </tr>\n",
       "    <tr>\n",
       "      <th>180</th>\n",
       "      <td>gist-960-euclidean</td>\n",
       "      <td>0.99</td>\n",
       "      <td>qdrant-m-32-ef-256-parallel-100-ef-search-128</td>\n",
       "    </tr>\n",
       "    <tr>\n",
       "      <th>261</th>\n",
       "      <td>gist-960-euclidean</td>\n",
       "      <td>0.99</td>\n",
       "      <td>qdrant-m-32-ef-512-parallel-100-ef-search-256</td>\n",
       "    </tr>\n",
       "    <tr>\n",
       "      <th>324</th>\n",
       "      <td>gist-960-euclidean</td>\n",
       "      <td>0.99</td>\n",
       "      <td>qdrant-m-64-ef-256-parallel-100-ef-search-128</td>\n",
       "    </tr>\n",
       "    <tr>\n",
       "      <th>396</th>\n",
       "      <td>gist-960-euclidean</td>\n",
       "      <td>0.99</td>\n",
       "      <td>qdrant-m-64-ef-512-parallel-100-ef-search-128</td>\n",
       "    </tr>\n",
       "    <tr>\n",
       "      <th>126</th>\n",
       "      <td>gist-960-euclidean</td>\n",
       "      <td>0.99</td>\n",
       "      <td>milvus-m-32-ef-128-parallel-100-ef-search-512</td>\n",
       "    </tr>\n",
       "    <tr>\n",
       "      <th>198</th>\n",
       "      <td>gist-960-euclidean</td>\n",
       "      <td>0.99</td>\n",
       "      <td>milvus-m-32-ef-256-parallel-100-ef-search-512</td>\n",
       "    </tr>\n",
       "    <tr>\n",
       "      <th>261</th>\n",
       "      <td>gist-960-euclidean</td>\n",
       "      <td>0.99</td>\n",
       "      <td>milvus-m-32-ef-512-parallel-100-ef-search-256</td>\n",
       "    </tr>\n",
       "    <tr>\n",
       "      <th>333</th>\n",
       "      <td>gist-960-euclidean</td>\n",
       "      <td>0.99</td>\n",
       "      <td>milvus-m-64-ef-256-parallel-100-ef-search-256</td>\n",
       "    </tr>\n",
       "    <tr>\n",
       "      <th>405</th>\n",
       "      <td>gist-960-euclidean</td>\n",
       "      <td>0.99</td>\n",
       "      <td>milvus-m-64-ef-512-parallel-100-ef-search-256</td>\n",
       "    </tr>\n",
       "  </tbody>\n",
       "</table>\n",
       "</div>"
      ],
      "text/plain": [
       "                dataset  mean_precisions_rounded  \\\n",
       "54   gist-960-euclidean                     0.99   \n",
       "126  gist-960-euclidean                     0.99   \n",
       "180  gist-960-euclidean                     0.99   \n",
       "261  gist-960-euclidean                     0.99   \n",
       "324  gist-960-euclidean                     0.99   \n",
       "396  gist-960-euclidean                     0.99   \n",
       "126  gist-960-euclidean                     0.99   \n",
       "198  gist-960-euclidean                     0.99   \n",
       "261  gist-960-euclidean                     0.99   \n",
       "333  gist-960-euclidean                     0.99   \n",
       "405  gist-960-euclidean                     0.99   \n",
       "\n",
       "                                            config  \n",
       "54   qdrant-m-16-ef-128-parallel-100-ef-search-512  \n",
       "126  qdrant-m-32-ef-128-parallel-100-ef-search-512  \n",
       "180  qdrant-m-32-ef-256-parallel-100-ef-search-128  \n",
       "261  qdrant-m-32-ef-512-parallel-100-ef-search-256  \n",
       "324  qdrant-m-64-ef-256-parallel-100-ef-search-128  \n",
       "396  qdrant-m-64-ef-512-parallel-100-ef-search-128  \n",
       "126  milvus-m-32-ef-128-parallel-100-ef-search-512  \n",
       "198  milvus-m-32-ef-256-parallel-100-ef-search-512  \n",
       "261  milvus-m-32-ef-512-parallel-100-ef-search-256  \n",
       "333  milvus-m-64-ef-256-parallel-100-ef-search-256  \n",
       "405  milvus-m-64-ef-512-parallel-100-ef-search-256  "
      ]
     },
     "metadata": {},
     "output_type": "display_data"
    }
   ],
   "source": [
    "show_union_results_of_similar_precision(tested_datasets, precision = 0.99)"
   ]
  },
  {
   "cell_type": "markdown",
   "id": "9aa3b764-e69b-4fdf-99ef-b736454fd28d",
   "metadata": {},
   "source": [
    "# Filtered search benchmark"
   ]
  },
  {
   "cell_type": "code",
   "execution_count": 23,
   "id": "1e4437c2-63d9-4583-9195-59cc8ac9437b",
   "metadata": {},
   "outputs": [],
   "source": [
    "selected_datasets = [\"h-and-m-2048-angular-no-filters\", \"h-and-m-2048-angular-filters\"]\n",
    "parallel_search = 100"
   ]
  },
  {
   "cell_type": "markdown",
   "id": "528e20f1-dc4f-4fdd-bb6b-7fa0c7500a2a",
   "metadata": {},
   "source": [
    "## Regular Search"
   ]
  },
  {
   "cell_type": "code",
   "execution_count": null,
   "id": "eadb9118-48bf-4a97-bf1b-d86a761f30a6",
   "metadata": {},
   "outputs": [],
   "source": []
  },
  {
   "cell_type": "markdown",
   "id": "86536814-5dc9-42ff-8bbc-0f10e378ecbb",
   "metadata": {},
   "source": [
    "## Filter Search"
   ]
  },
  {
   "cell_type": "code",
   "execution_count": null,
   "id": "fb7e41dc-29f7-4e0c-958e-2063d240b2de",
   "metadata": {},
   "outputs": [],
   "source": []
  }
 ],
 "metadata": {
  "kernelspec": {
   "display_name": "Python 3 (ipykernel)",
   "language": "python",
   "name": "python3"
  },
  "language_info": {
   "codemirror_mode": {
    "name": "ipython",
    "version": 3
   },
   "file_extension": ".py",
   "mimetype": "text/x-python",
   "name": "python",
   "nbconvert_exporter": "python",
   "pygments_lexer": "ipython3",
   "version": "3.10.12"
  }
 },
 "nbformat": 4,
 "nbformat_minor": 5
}
